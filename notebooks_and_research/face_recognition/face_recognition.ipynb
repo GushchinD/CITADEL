{
 "cells": [
  {
   "cell_type": "code",
   "execution_count": 1,
   "metadata": {},
   "outputs": [],
   "source": [
    "import face_recognition\n",
    "import PIL\n",
    "import vk_api\n",
    "\n",
    "import requests\n",
    "from io import BytesIO\n",
    "\n",
    "import numpy as np"
   ]
  },
  {
   "cell_type": "code",
   "execution_count": 2,
   "metadata": {},
   "outputs": [],
   "source": [
    "known_image = face_recognition.load_image_file(\"Saltsev.jpg\")\n",
    "known_wrong_image = face_recognition.load_image_file(\"Volostnikov.jpg\")\n",
    "unknown_image = face_recognition.load_image_file(\"Saltsev2.jpg\")\n",
    "\n",
    "known_wrong_encoding = face_recognition.face_encodings(known_wrong_image)[0]\n",
    "known_encoding = face_recognition.face_encodings(known_image)[0]\n",
    "unknown_encoding = face_recognition.face_encodings(unknown_image)[0]"
   ]
  },
  {
   "cell_type": "code",
   "execution_count": 3,
   "metadata": {},
   "outputs": [
    {
     "data": {
      "text/plain": [
       "[True, False]"
      ]
     },
     "execution_count": 3,
     "metadata": {},
     "output_type": "execute_result"
    }
   ],
   "source": [
    "face_recognition.compare_faces([known_encoding, known_wrong_encoding], unknown_encoding)"
   ]
  },
  {
   "cell_type": "code",
   "execution_count": null,
   "metadata": {},
   "outputs": [],
   "source": []
  },
  {
   "cell_type": "code",
   "execution_count": 19,
   "metadata": {},
   "outputs": [],
   "source": [
    "class AccountFinder:\n",
    "    def __init__(self, recognizer, vk_login, vk_password, recognized_image: PIL.Image, \n",
    "                 potential_links, mode=\"RGB\", n_photo_download=5):\n",
    "        \n",
    "        self.recognizer = recognizer\n",
    "        self.recognized_image = recognized_image.convert(mode)\n",
    "        self.potential_links = potential_links\n",
    "        \n",
    "        self.vk_session = vk_api.VkApi(vk_login, vk_password)\n",
    "        self.vk_session.auth()\n",
    "        self.n_photo_download = n_photo_download\n",
    "        \n",
    "    def get_recognized_profile(self):\n",
    "        # 3: для каждого face_encodings \n",
    "        # 4: compare faces\n",
    "        # 5: вернуть моду для face_encodings, где compare faces == True\n",
    "        self.ids = self._ids_from_links(self.potential_links)\n",
    "        user_photos_dict = self._download_photos(self.ids)\n",
    "        #print(user_photos_dict)\n",
    "        \n",
    "        best_match_id = self.recognizer.match_id(self.recognized_image, user_photos_dict)\n",
    "        #best_match_url = \"https://vk.com/id\" + str(best_match_id)\n",
    "        #return best_match_url\n",
    "        return best_match_id\n",
    "        \n",
    "        \n",
    "    def _ids_from_links(self, links):\n",
    "        ids = []\n",
    "        for link in links:\n",
    "            id_of_link = self._get_id(link)\n",
    "            ids.append(id_of_link)\n",
    "        return ids\n",
    "            \n",
    "    def _get_id(self, link):\n",
    "        if \"id\" in link:\n",
    "            next2ids_idx = link.index(\"id\") + 2\n",
    "            string_id = link[next2ids_idx:]\n",
    "            id_of_link = int(string_id)\n",
    "        else:\n",
    "            screen_name = link.split(\"/\")[-1]\n",
    "#             print(\"screen_name\", screen_name)\n",
    "#             print(\"id\", self.vk_session.method(\"utils.resolveScreenName\", values={\"screen_name\": screen_name}))\n",
    "            id_of_link = self.vk_session.method(\"utils.resolveScreenName\", values={\"screen_name\": screen_name})[\"object_id\"]\n",
    "        return id_of_link\n",
    "    \n",
    "    def _download_photos(self, ids):\n",
    "        users_photos_dict = {}\n",
    "        for user_id in ids:\n",
    "            user_photos = self._user_images(user_id)\n",
    "            users_photos_dict[user_id] = user_photos\n",
    "        return users_photos_dict\n",
    "            \n",
    "    def _user_images(self, user_id):\n",
    "        photos_response = self.vk_session.method(\"photos.get\", values={\"owner_id\": user_id, \"album_id\": \"profile\"})\n",
    "        urls = []\n",
    "        for idx, photo_dict in enumerate(photos_response[\"items\"]):\n",
    "            if idx >= self.n_photo_download - 1:\n",
    "                break\n",
    "#             photo_dict = photos_response[\"items\"][photo_idx]\n",
    "            largest_size_dict = photo_dict[\"sizes\"][-1] # largest photo\n",
    "            photo_url = largest_size_dict[\"url\"]\n",
    "            urls.append(photo_url)\n",
    "            \n",
    "        photos = self._download_images(urls)\n",
    "        return photos\n",
    "    \n",
    "    def _download_images(self, urls):\n",
    "        images = []\n",
    "        for image_url in urls:\n",
    "            response = requests.get(image_url)\n",
    "            img = PIL.Image.open(BytesIO(response.content))\n",
    "            images.append(img)\n",
    "        return images"
   ]
  },
  {
   "cell_type": "code",
   "execution_count": 27,
   "metadata": {},
   "outputs": [],
   "source": [
    "class AccountRecognizer:\n",
    "    def match_id(self, unknown_img, user_image_dict):\n",
    "        max_comp_value = 0\n",
    "        best_user = None\n",
    "        \n",
    "        for user, images in user_image_dict.items():\n",
    "            #print(\"user, images\", user, images)\n",
    "            face_encodings = self.encode_images(images)\n",
    "            comp_value = self.mean_comparing_value(face_encodings, unknown_img)\n",
    "            print(\"comp_value\", comp_value)\n",
    "            if comp_value > max_comp_value:\n",
    "                max_comp_value = comp_value\n",
    "                best_user = user\n",
    "                \n",
    "        return best_user\n",
    "    \n",
    "    def encode_images(self, images):\n",
    "        face_encodings = []\n",
    "        for img in images:\n",
    "            img = np.array(img)\n",
    "            img_encoding = face_recognition.face_encodings(img)\n",
    "            if len(img_encoding):\n",
    "                face_encodings.append(img_encoding[0])\n",
    "            \n",
    "        return face_encodings\n",
    "    \n",
    "    def mean_comparing_value(self, face_encodings, unknown_img):\n",
    "        unknown_encoding = face_recognition.face_encodings(np.array(unknown_img))[0]\n",
    "        compare_results = face_recognition.compare_faces(face_encodings, unknown_encoding)\n",
    "        #print(\"compare_results\", compare_results)\n",
    "        if len(compare_results):    \n",
    "            return sum(compare_results) / len(compare_results) # mean for bool\n",
    "        else:\n",
    "            return 0"
   ]
  },
  {
   "cell_type": "code",
   "execution_count": 32,
   "metadata": {},
   "outputs": [],
   "source": [
    "unknown_photo = PIL.Image.open(\"Saltsev.jpg\")\n",
    "links = [\"https://vk.com/id211471710\", \"https://vk.com/gushchin_d\",\n",
    "         \"https://vk.com/viktor_smirnovv\", \"https://vk.com/k.rabtsevich\", \"https://vk.com/id161005748\",\n",
    "         \"https://vk.com/id13393386\"\n",
    "        ]"
   ]
  },
  {
   "cell_type": "code",
   "execution_count": 33,
   "metadata": {},
   "outputs": [],
   "source": [
    "recognizer = AccountRecognizer()\n",
    "acc_finder = AccountFinder(recognizer, \"+79221341105\", \"QeRas02&R\", unknown_photo, links)"
   ]
  },
  {
   "cell_type": "code",
   "execution_count": 34,
   "metadata": {},
   "outputs": [
    {
     "name": "stdout",
     "output_type": "stream",
     "text": [
      "comp_value 0.0\n",
      "comp_value 0\n",
      "comp_value 0.0\n",
      "comp_value 0\n",
      "comp_value 0.0\n",
      "comp_value 1.0\n"
     ]
    }
   ],
   "source": [
    "recognized_id = acc_finder.get_recognized_profile()"
   ]
  },
  {
   "cell_type": "code",
   "execution_count": 35,
   "metadata": {},
   "outputs": [
    {
     "data": {
      "text/plain": [
       "13393386"
      ]
     },
     "execution_count": 35,
     "metadata": {},
     "output_type": "execute_result"
    }
   ],
   "source": [
    "recognized_id"
   ]
  },
  {
   "cell_type": "code",
   "execution_count": null,
   "metadata": {},
   "outputs": [],
   "source": []
  }
 ],
 "metadata": {
  "kernelspec": {
   "display_name": "Python 3",
   "language": "python",
   "name": "python3"
  },
  "language_info": {
   "codemirror_mode": {
    "name": "ipython",
    "version": 3
   },
   "file_extension": ".py",
   "mimetype": "text/x-python",
   "name": "python",
   "nbconvert_exporter": "python",
   "pygments_lexer": "ipython3",
   "version": "3.8.5"
  }
 },
 "nbformat": 4,
 "nbformat_minor": 4
}
