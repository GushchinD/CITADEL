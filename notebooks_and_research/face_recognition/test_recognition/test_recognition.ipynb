{
 "cells": [
  {
   "cell_type": "code",
   "execution_count": 1,
   "metadata": {},
   "outputs": [],
   "source": [
    "import account_recognition # CORRECT THIS IMPORT IF MODULE IS NOT IN SYS.PATH\n",
    "import PIL"
   ]
  },
  {
   "cell_type": "code",
   "execution_count": 2,
   "metadata": {},
   "outputs": [],
   "source": [
    "unknown_photo = PIL.Image.open(\"Saltsev.jpg\")\n",
    "links = [\"https://vk.com/id211471710\", \"https://vk.com/gushchin_d\",\n",
    "         \"https://vk.com/viktor_smirnovv\", \"https://vk.com/k.rabtsevich\", \"https://vk.com/id161005748\",\n",
    "         \"https://vk.com/id13393386\"\n",
    "        ]"
   ]
  },
  {
   "cell_type": "code",
   "execution_count": 3,
   "metadata": {},
   "outputs": [
    {
     "name": "stdout",
     "output_type": "stream",
     "text": [
      "comp_value 0.0\n",
      "comp_value 0\n",
      "comp_value 0.0\n",
      "comp_value 0\n",
      "comp_value 0.0\n",
      "comp_value 1.0\n"
     ]
    },
    {
     "data": {
      "text/plain": [
       "13393386"
      ]
     },
     "execution_count": 3,
     "metadata": {},
     "output_type": "execute_result"
    }
   ],
   "source": [
    "account_recognition.recognize_profile(\"+79221341105\", \"QeRas02&R\", unknown_photo, links)"
   ]
  }
 ],
 "metadata": {
  "kernelspec": {
   "display_name": "Python 3",
   "language": "python",
   "name": "python3"
  },
  "language_info": {
   "codemirror_mode": {
    "name": "ipython",
    "version": 3
   },
   "file_extension": ".py",
   "mimetype": "text/x-python",
   "name": "python",
   "nbconvert_exporter": "python",
   "pygments_lexer": "ipython3",
   "version": "3.8.5"
  }
 },
 "nbformat": 4,
 "nbformat_minor": 4
}
