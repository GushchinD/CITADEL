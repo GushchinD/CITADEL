{
 "cells": [
  {
   "cell_type": "code",
   "execution_count": 6,
   "metadata": {},
   "outputs": [],
   "source": [
    "import embedding\n",
    "import vk_api\n",
    "\n",
    "import pickle"
   ]
  },
  {
   "cell_type": "code",
   "execution_count": 4,
   "metadata": {},
   "outputs": [],
   "source": [
    "vk_session = vk_api.VkApi('+79221341105', 'QeRas02&R')\n",
    "vk_session.auth()"
   ]
  },
  {
   "cell_type": "code",
   "execution_count": 5,
   "metadata": {},
   "outputs": [],
   "source": [
    "def get_group_members(session, group_name): \n",
    "    members = session.method(\"groups.getMembers\", values={\"group_id\": group_name})[\"items\"]\n",
    "    return members"
   ]
  },
  {
   "cell_type": "markdown",
   "metadata": {},
   "source": [
    "### bad members"
   ]
  },
  {
   "cell_type": "code",
   "execution_count": 4,
   "metadata": {},
   "outputs": [],
   "source": [
    "group_members = get_group_members(vk_session, \"invest_yur\")"
   ]
  },
  {
   "cell_type": "code",
   "execution_count": 5,
   "metadata": {
    "collapsed": true,
    "jupyter": {
     "outputs_hidden": true
    }
   },
   "outputs": [
    {
     "name": "stderr",
     "output_type": "stream",
     "text": [
      "2020-11-29 08:09:04,700 : INFO : Loading model from 196.zip...\n",
      "2020-11-29 08:09:04,701 : INFO : \n",
      "            Assuming the model is a ZIP archive downloaded from the NLPL vector repository.\n",
      "            Loading a model from a ZIP archive directly is slower than from the extracted files,\n",
      "            but does not require additional disk space\n",
      "            and allows to load from directories without write permissions.\n",
      "            \n",
      "2020-11-29 08:09:04,738 : INFO : We will cache the vocabulary of 100 tokens.\n"
     ]
    },
    {
     "name": "stdout",
     "output_type": "stream",
     "text": [
      "WARNING:tensorflow:From /home/gldsn/.local/share/virtualenvs/innohack-citadel-YNBG4hQA/lib/python3.8/site-packages/simple_elmo/model.py:529: LSTMCell.__init__ (from tensorflow.python.keras.layers.legacy_rnn.rnn_cell_impl) is deprecated and will be removed in a future version.\n",
      "Instructions for updating:\n",
      "This class is equivalent as tf.keras.layers.LSTMCell, and will be replaced by that in Tensorflow 2.0.\n"
     ]
    },
    {
     "name": "stderr",
     "output_type": "stream",
     "text": [
      "2020-11-29 08:10:43,745 : WARNING : From /home/gldsn/.local/share/virtualenvs/innohack-citadel-YNBG4hQA/lib/python3.8/site-packages/simple_elmo/model.py:529: LSTMCell.__init__ (from tensorflow.python.keras.layers.legacy_rnn.rnn_cell_impl) is deprecated and will be removed in a future version.\n",
      "Instructions for updating:\n",
      "This class is equivalent as tf.keras.layers.LSTMCell, and will be replaced by that in Tensorflow 2.0.\n"
     ]
    },
    {
     "name": "stdout",
     "output_type": "stream",
     "text": [
      "WARNING:tensorflow:From /home/gldsn/.local/share/virtualenvs/innohack-citadel-YNBG4hQA/lib/python3.8/site-packages/simple_elmo/model.py:570: dynamic_rnn (from tensorflow.python.ops.rnn) is deprecated and will be removed in a future version.\n",
      "Instructions for updating:\n",
      "Please use `keras.layers.RNN(cell)`, which is equivalent to this API\n"
     ]
    },
    {
     "name": "stderr",
     "output_type": "stream",
     "text": [
      "2020-11-29 08:10:43,779 : WARNING : From /home/gldsn/.local/share/virtualenvs/innohack-citadel-YNBG4hQA/lib/python3.8/site-packages/simple_elmo/model.py:570: dynamic_rnn (from tensorflow.python.ops.rnn) is deprecated and will be removed in a future version.\n",
      "Instructions for updating:\n",
      "Please use `keras.layers.RNN(cell)`, which is equivalent to this API\n"
     ]
    },
    {
     "name": "stdout",
     "output_type": "stream",
     "text": [
      "WARNING:tensorflow:From /home/gldsn/.local/share/virtualenvs/innohack-citadel-YNBG4hQA/lib/python3.8/site-packages/tensorflow/python/keras/layers/legacy_rnn/rnn_cell_impl.py:962: Layer.add_variable (from tensorflow.python.keras.engine.base_layer_v1) is deprecated and will be removed in a future version.\n",
      "Instructions for updating:\n",
      "Please use `layer.add_weight` method instead.\n"
     ]
    },
    {
     "name": "stderr",
     "output_type": "stream",
     "text": [
      "2020-11-29 08:10:43,841 : WARNING : From /home/gldsn/.local/share/virtualenvs/innohack-citadel-YNBG4hQA/lib/python3.8/site-packages/tensorflow/python/keras/layers/legacy_rnn/rnn_cell_impl.py:962: Layer.add_variable (from tensorflow.python.keras.engine.base_layer_v1) is deprecated and will be removed in a future version.\n",
      "Instructions for updating:\n",
      "Please use `layer.add_weight` method instead.\n"
     ]
    },
    {
     "name": "stdout",
     "output_type": "stream",
     "text": [
      "WARNING:tensorflow:From /home/gldsn/.local/share/virtualenvs/innohack-citadel-YNBG4hQA/lib/python3.8/site-packages/tensorflow/python/keras/layers/legacy_rnn/rnn_cell_impl.py:970: calling Zeros.__init__ (from tensorflow.python.ops.init_ops) with dtype is deprecated and will be removed in a future version.\n",
      "Instructions for updating:\n",
      "Call initializer instance with the dtype argument instead of passing it to the constructor\n"
     ]
    },
    {
     "name": "stderr",
     "output_type": "stream",
     "text": [
      "2020-11-29 08:10:51,960 : WARNING : From /home/gldsn/.local/share/virtualenvs/innohack-citadel-YNBG4hQA/lib/python3.8/site-packages/tensorflow/python/keras/layers/legacy_rnn/rnn_cell_impl.py:970: calling Zeros.__init__ (from tensorflow.python.ops.init_ops) with dtype is deprecated and will be removed in a future version.\n",
      "Instructions for updating:\n",
      "Call initializer instance with the dtype argument instead of passing it to the constructor\n"
     ]
    }
   ],
   "source": [
    "elmo_path = \"196.zip\"\n",
    "elmo_batch = 10\n",
    "USED_POSTS_NUM = 1\n",
    "used_groups_limit = 10\n",
    "model = embedding.create_elmo(elmo_path, elmo_batch)"
   ]
  },
  {
   "cell_type": "code",
   "execution_count": 6,
   "metadata": {
    "collapsed": true,
    "jupyter": {
     "outputs_hidden": true
    }
   },
   "outputs": [
    {
     "name": "stderr",
     "output_type": "stream",
     "text": [
      "2020-11-29 08:12:08,905 : INFO : Auth with login: +79221341105\n",
      "2020-11-29 08:12:08,906 : INFO : Checking remixsid...\n",
      "2020-11-29 08:12:09,080 : INFO : remixsid is valid\n",
      "2020-11-29 08:12:09,081 : INFO : Checking security check request\n"
     ]
    },
    {
     "name": "stdout",
     "output_type": "stream",
     "text": [
      "0\n"
     ]
    },
    {
     "name": "stderr",
     "output_type": "stream",
     "text": [
      "2020-11-29 08:12:09,402 : INFO : Security check is not required\n",
      "2020-11-29 08:12:09,595 : INFO : access_token from config is valid\n",
      "2020-11-29 08:12:10,001 : INFO : Auth with login: +79221341105\n",
      "2020-11-29 08:12:10,003 : INFO : Checking remixsid...\n",
      "2020-11-29 08:12:10,181 : INFO : remixsid is valid\n",
      "2020-11-29 08:12:10,183 : INFO : Checking security check request\n"
     ]
    },
    {
     "name": "stdout",
     "output_type": "stream",
     "text": [
      "1\n"
     ]
    },
    {
     "name": "stderr",
     "output_type": "stream",
     "text": [
      "2020-11-29 08:12:10,397 : INFO : Security check is not required\n",
      "2020-11-29 08:12:10,592 : INFO : access_token from config is valid\n"
     ]
    },
    {
     "name": "stdout",
     "output_type": "stream",
     "text": [
      "Приватный паблик\n"
     ]
    },
    {
     "name": "stderr",
     "output_type": "stream",
     "text": [
      "\n",
      "Loading the model...\n",
      "Processing input...\n"
     ]
    },
    {
     "name": "stdout",
     "output_type": "stream",
     "text": [
      "text \n"
     ]
    },
    {
     "name": "stderr",
     "output_type": "stream",
     "text": [
      "2020-11-29 08:12:24,636 : INFO : Warming up ELMo on 9 sentences...\n",
      "2020-11-29 08:12:52,791 : INFO : Warming up finished.\n",
      "2020-11-29 08:12:52,804 : INFO : Texts in the current batch: 9\n",
      "2020-11-29 08:13:20,337 : INFO : Auth with login: +79221341105\n",
      "2020-11-29 08:13:20,338 : INFO : Checking remixsid...\n",
      "2020-11-29 08:13:20,523 : INFO : remixsid is valid\n",
      "2020-11-29 08:13:20,525 : INFO : Checking security check request\n"
     ]
    },
    {
     "name": "stdout",
     "output_type": "stream",
     "text": [
      "2\n"
     ]
    },
    {
     "name": "stderr",
     "output_type": "stream",
     "text": [
      "2020-11-29 08:13:20,746 : INFO : Security check is not required\n",
      "2020-11-29 08:13:20,948 : INFO : access_token from config is valid\n"
     ]
    },
    {
     "name": "stdout",
     "output_type": "stream",
     "text": [
      "Приватный паблик\n"
     ]
    },
    {
     "name": "stderr",
     "output_type": "stream",
     "text": [
      "\n",
      "Loading the model...\n",
      "Processing input...\n"
     ]
    },
    {
     "name": "stdout",
     "output_type": "stream",
     "text": [
      "text \n"
     ]
    },
    {
     "name": "stderr",
     "output_type": "stream",
     "text": [
      "2020-11-29 08:13:33,327 : INFO : Warming up ELMo on 9 sentences...\n",
      "2020-11-29 08:14:19,992 : INFO : Warming up finished.\n",
      "2020-11-29 08:14:20,010 : INFO : Texts in the current batch: 9\n",
      "2020-11-29 08:15:07,229 : INFO : Auth with login: +79221341105\n",
      "2020-11-29 08:15:07,230 : INFO : Checking remixsid...\n",
      "2020-11-29 08:15:07,406 : INFO : remixsid is valid\n",
      "2020-11-29 08:15:07,408 : INFO : Checking security check request\n"
     ]
    },
    {
     "name": "stdout",
     "output_type": "stream",
     "text": [
      "3\n"
     ]
    },
    {
     "name": "stderr",
     "output_type": "stream",
     "text": [
      "2020-11-29 08:15:07,636 : INFO : Security check is not required\n",
      "2020-11-29 08:15:07,825 : INFO : access_token from config is valid\n",
      "2020-11-29 08:15:08,234 : INFO : Auth with login: +79221341105\n",
      "2020-11-29 08:15:08,236 : INFO : Checking remixsid...\n",
      "2020-11-29 08:15:08,420 : INFO : remixsid is valid\n",
      "2020-11-29 08:15:08,422 : INFO : Checking security check request\n"
     ]
    },
    {
     "name": "stdout",
     "output_type": "stream",
     "text": [
      "4\n"
     ]
    },
    {
     "name": "stderr",
     "output_type": "stream",
     "text": [
      "2020-11-29 08:15:08,670 : INFO : Security check is not required\n",
      "2020-11-29 08:15:08,840 : INFO : access_token from config is valid\n",
      "2020-11-29 08:15:09,251 : INFO : Auth with login: +79221341105\n",
      "2020-11-29 08:15:09,268 : INFO : Checking remixsid...\n"
     ]
    },
    {
     "name": "stdout",
     "output_type": "stream",
     "text": [
      "5\n"
     ]
    },
    {
     "name": "stderr",
     "output_type": "stream",
     "text": [
      "2020-11-29 08:15:09,453 : INFO : remixsid is valid\n",
      "2020-11-29 08:15:09,455 : INFO : Checking security check request\n",
      "2020-11-29 08:15:09,665 : INFO : Security check is not required\n",
      "2020-11-29 08:15:09,852 : INFO : access_token from config is valid\n",
      "2020-11-29 08:15:10,261 : INFO : Auth with login: +79221341105\n",
      "2020-11-29 08:15:10,263 : INFO : Checking remixsid...\n",
      "2020-11-29 08:15:10,453 : INFO : remixsid is valid\n",
      "2020-11-29 08:15:10,456 : INFO : Checking security check request\n"
     ]
    },
    {
     "name": "stdout",
     "output_type": "stream",
     "text": [
      "6\n"
     ]
    },
    {
     "name": "stderr",
     "output_type": "stream",
     "text": [
      "2020-11-29 08:15:10,684 : INFO : Security check is not required\n",
      "2020-11-29 08:15:10,875 : INFO : access_token from config is valid\n",
      "2020-11-29 08:15:11,291 : INFO : Auth with login: +79221341105\n",
      "2020-11-29 08:15:11,293 : INFO : Checking remixsid...\n",
      "2020-11-29 08:15:11,460 : INFO : remixsid is valid\n",
      "2020-11-29 08:15:11,463 : INFO : Checking security check request\n"
     ]
    },
    {
     "name": "stdout",
     "output_type": "stream",
     "text": [
      "7\n"
     ]
    },
    {
     "name": "stderr",
     "output_type": "stream",
     "text": [
      "2020-11-29 08:15:11,699 : INFO : Security check is not required\n",
      "2020-11-29 08:15:11,871 : INFO : access_token from config is valid\n",
      "2020-11-29 08:15:12,288 : INFO : Auth with login: +79221341105\n",
      "2020-11-29 08:15:12,290 : INFO : Checking remixsid...\n",
      "2020-11-29 08:15:12,465 : INFO : remixsid is valid\n",
      "2020-11-29 08:15:12,466 : INFO : Checking security check request\n"
     ]
    },
    {
     "name": "stdout",
     "output_type": "stream",
     "text": [
      "8\n"
     ]
    },
    {
     "name": "stderr",
     "output_type": "stream",
     "text": [
      "2020-11-29 08:15:12,678 : INFO : Security check is not required\n",
      "2020-11-29 08:15:12,878 : INFO : access_token from config is valid\n",
      "\n",
      "Loading the model...\n",
      "Processing input...\n"
     ]
    },
    {
     "name": "stdout",
     "output_type": "stream",
     "text": [
      "text уен_NOUN река_NOUN музыка_PROPN запись_NOUN сведение_NOUN дизайн_PROPN обложка_NOUN уен::трек_PROPN доступный_ADJ цифровой_ADJ площадка_NOUN благодарить_VERB поддержка_NOUN лайка_NOUN репост_NOUN алмазнигма_NOUN уать_VERB река_NOUN\n"
     ]
    },
    {
     "name": "stderr",
     "output_type": "stream",
     "text": [
      "2020-11-29 08:15:25,598 : INFO : Warming up ELMo on 10 sentences...\n",
      "2020-11-29 08:16:24,718 : INFO : Warming up finished.\n",
      "2020-11-29 08:16:24,744 : INFO : Texts in the current batch: 10\n",
      "2020-11-29 08:17:18,188 : INFO : Auth with login: +79221341105\n",
      "2020-11-29 08:17:18,189 : INFO : Checking remixsid...\n",
      "2020-11-29 08:17:18,384 : INFO : remixsid is valid\n",
      "2020-11-29 08:17:18,386 : INFO : Checking security check request\n"
     ]
    },
    {
     "name": "stdout",
     "output_type": "stream",
     "text": [
      "9\n"
     ]
    },
    {
     "name": "stderr",
     "output_type": "stream",
     "text": [
      "2020-11-29 08:17:18,602 : INFO : Security check is not required\n",
      "2020-11-29 08:17:18,790 : INFO : access_token from config is valid\n",
      "2020-11-29 08:17:19,201 : INFO : Auth with login: +79221341105\n",
      "2020-11-29 08:17:19,204 : INFO : Checking remixsid...\n",
      "2020-11-29 08:17:19,371 : INFO : remixsid is valid\n",
      "2020-11-29 08:17:19,372 : INFO : Checking security check request\n"
     ]
    },
    {
     "name": "stdout",
     "output_type": "stream",
     "text": [
      "10\n"
     ]
    },
    {
     "name": "stderr",
     "output_type": "stream",
     "text": [
      "2020-11-29 08:17:19,586 : INFO : Security check is not required\n",
      "2020-11-29 08:17:19,764 : INFO : access_token from config is valid\n"
     ]
    },
    {
     "name": "stdout",
     "output_type": "stream",
     "text": [
      "Приватный паблик\n"
     ]
    },
    {
     "name": "stderr",
     "output_type": "stream",
     "text": [
      "\n",
      "Loading the model...\n",
      "Processing input...\n"
     ]
    },
    {
     "name": "stdout",
     "output_type": "stream",
     "text": [
      "text биолюминесцентный_ADJ водоросль_NOUN джервисбя::австралия_PROPN\n"
     ]
    },
    {
     "name": "stderr",
     "output_type": "stream",
     "text": [
      "2020-11-29 08:17:33,115 : INFO : Warming up ELMo on 9 sentences...\n",
      "2020-11-29 08:17:51,844 : INFO : Warming up finished.\n",
      "2020-11-29 08:17:51,857 : INFO : Texts in the current batch: 9\n",
      "2020-11-29 08:18:11,942 : INFO : Auth with login: +79221341105\n",
      "2020-11-29 08:18:11,943 : INFO : Checking remixsid...\n",
      "2020-11-29 08:18:12,132 : INFO : remixsid is valid\n",
      "2020-11-29 08:18:12,138 : INFO : Checking security check request\n"
     ]
    },
    {
     "name": "stdout",
     "output_type": "stream",
     "text": [
      "11\n"
     ]
    },
    {
     "name": "stderr",
     "output_type": "stream",
     "text": [
      "2020-11-29 08:18:12,355 : INFO : Security check is not required\n",
      "2020-11-29 08:18:12,561 : INFO : access_token from config is valid\n"
     ]
    },
    {
     "name": "stdout",
     "output_type": "stream",
     "text": [
      "Приватный паблик\n"
     ]
    },
    {
     "name": "stderr",
     "output_type": "stream",
     "text": [
      "\n",
      "Loading the model...\n",
      "Processing input...\n"
     ]
    },
    {
     "name": "stdout",
     "output_type": "stream",
     "text": [
      "text грузовой_ADJ перевозка_NOUN город_NOUN межгород_NOUN переезд_NOUN вывоз_NOUN мусор_NOUN помощь_NOUN погрузка_NOUN разгрузка_NOUN\n"
     ]
    },
    {
     "name": "stderr",
     "output_type": "stream",
     "text": [
      "2020-11-29 08:18:23,800 : INFO : Warming up ELMo on 9 sentences...\n",
      "2020-11-29 08:18:51,043 : INFO : Warming up finished.\n",
      "2020-11-29 08:18:51,071 : INFO : Texts in the current batch: 9\n",
      "2020-11-29 08:19:18,027 : INFO : Auth with login: +79221341105\n",
      "2020-11-29 08:19:18,027 : INFO : Checking remixsid...\n",
      "2020-11-29 08:19:18,214 : INFO : remixsid is valid\n",
      "2020-11-29 08:19:18,216 : INFO : Checking security check request\n"
     ]
    },
    {
     "name": "stdout",
     "output_type": "stream",
     "text": [
      "12\n"
     ]
    },
    {
     "name": "stderr",
     "output_type": "stream",
     "text": [
      "2020-11-29 08:19:18,450 : INFO : Security check is not required\n",
      "2020-11-29 08:19:18,655 : INFO : access_token from config is valid\n",
      "2020-11-29 08:19:19,075 : INFO : Auth with login: +79221341105\n",
      "2020-11-29 08:19:19,077 : INFO : Checking remixsid...\n",
      "2020-11-29 08:19:19,272 : INFO : remixsid is valid\n"
     ]
    },
    {
     "name": "stdout",
     "output_type": "stream",
     "text": [
      "13\n"
     ]
    },
    {
     "name": "stderr",
     "output_type": "stream",
     "text": [
      "2020-11-29 08:19:19,274 : INFO : Checking security check request\n",
      "2020-11-29 08:19:19,486 : INFO : Security check is not required\n",
      "2020-11-29 08:19:19,676 : INFO : access_token from config is valid\n",
      "2020-11-29 08:19:20,095 : INFO : Auth with login: +79221341105\n",
      "2020-11-29 08:19:20,098 : INFO : Checking remixsid...\n",
      "2020-11-29 08:19:20,279 : INFO : remixsid is valid\n",
      "2020-11-29 08:19:20,280 : INFO : Checking security check request\n"
     ]
    },
    {
     "name": "stdout",
     "output_type": "stream",
     "text": [
      "14\n"
     ]
    },
    {
     "name": "stderr",
     "output_type": "stream",
     "text": [
      "2020-11-29 08:19:20,496 : INFO : Security check is not required\n",
      "2020-11-29 08:19:20,707 : INFO : access_token from config is valid\n",
      "\n",
      "Loading the model...\n",
      "Processing input...\n"
     ]
    },
    {
     "name": "stdout",
     "output_type": "stream",
     "text": [
      "text а_CCONJ слышать_VERB песня_NOUN\n"
     ]
    },
    {
     "name": "stderr",
     "output_type": "stream",
     "text": [
      "2020-11-29 08:19:34,941 : INFO : Warming up ELMo on 10 sentences...\n",
      "2020-11-29 08:20:00,420 : INFO : Warming up finished.\n",
      "2020-11-29 08:20:00,432 : INFO : Texts in the current batch: 10\n",
      "2020-11-29 08:20:26,943 : INFO : Auth with login: +79221341105\n",
      "2020-11-29 08:20:26,944 : INFO : Checking remixsid...\n",
      "2020-11-29 08:20:27,118 : INFO : remixsid is valid\n",
      "2020-11-29 08:20:27,120 : INFO : Checking security check request\n"
     ]
    },
    {
     "name": "stdout",
     "output_type": "stream",
     "text": [
      "15\n"
     ]
    },
    {
     "name": "stderr",
     "output_type": "stream",
     "text": [
      "2020-11-29 08:20:27,338 : INFO : Security check is not required\n",
      "2020-11-29 08:20:27,524 : INFO : access_token from config is valid\n",
      "\n",
      "Loading the model...\n",
      "Processing input...\n"
     ]
    },
    {
     "name": "stdout",
     "output_type": "stream",
     "text": [
      "text \n"
     ]
    },
    {
     "name": "stderr",
     "output_type": "stream",
     "text": [
      "2020-11-29 08:20:38,589 : INFO : Warming up ELMo on 10 sentences...\n",
      "2020-11-29 08:20:58,812 : INFO : Warming up finished.\n",
      "2020-11-29 08:20:58,824 : INFO : Texts in the current batch: 10\n",
      "2020-11-29 08:21:19,576 : INFO : Auth with login: +79221341105\n",
      "2020-11-29 08:21:19,576 : INFO : Checking remixsid...\n",
      "2020-11-29 08:21:19,748 : INFO : remixsid is valid\n",
      "2020-11-29 08:21:19,750 : INFO : Checking security check request\n"
     ]
    },
    {
     "name": "stdout",
     "output_type": "stream",
     "text": [
      "16\n"
     ]
    },
    {
     "name": "stderr",
     "output_type": "stream",
     "text": [
      "2020-11-29 08:21:19,997 : INFO : Security check is not required\n",
      "2020-11-29 08:21:20,196 : INFO : access_token from config is valid\n",
      "2020-11-29 08:21:20,606 : INFO : Auth with login: +79221341105\n",
      "2020-11-29 08:21:20,608 : INFO : Checking remixsid...\n",
      "2020-11-29 08:21:20,793 : INFO : remixsid is valid\n",
      "2020-11-29 08:21:20,795 : INFO : Checking security check request\n"
     ]
    },
    {
     "name": "stdout",
     "output_type": "stream",
     "text": [
      "17\n"
     ]
    },
    {
     "name": "stderr",
     "output_type": "stream",
     "text": [
      "2020-11-29 08:21:21,002 : INFO : Security check is not required\n",
      "2020-11-29 08:21:21,194 : INFO : access_token from config is valid\n",
      "2020-11-29 08:21:21,606 : INFO : Auth with login: +79221341105\n",
      "2020-11-29 08:21:21,657 : INFO : Checking remixsid...\n"
     ]
    },
    {
     "name": "stdout",
     "output_type": "stream",
     "text": [
      "18\n"
     ]
    },
    {
     "name": "stderr",
     "output_type": "stream",
     "text": [
      "2020-11-29 08:21:21,826 : INFO : remixsid is valid\n",
      "2020-11-29 08:21:21,828 : INFO : Checking security check request\n",
      "2020-11-29 08:21:22,057 : INFO : Security check is not required\n",
      "2020-11-29 08:21:22,246 : INFO : access_token from config is valid\n"
     ]
    },
    {
     "name": "stdout",
     "output_type": "stream",
     "text": [
      "Приватный паблик\n"
     ]
    },
    {
     "name": "stderr",
     "output_type": "stream",
     "text": [
      "\n",
      "Loading the model...\n",
      "Processing input...\n"
     ]
    },
    {
     "name": "stdout",
     "output_type": "stream",
     "text": [
      "text \n"
     ]
    },
    {
     "name": "stderr",
     "output_type": "stream",
     "text": [
      "2020-11-29 08:21:33,617 : INFO : Warming up ELMo on 9 sentences...\n",
      "2020-11-29 08:21:49,683 : INFO : Warming up finished.\n",
      "2020-11-29 08:21:49,695 : INFO : Texts in the current batch: 9\n",
      "2020-11-29 08:22:08,165 : INFO : Auth with login: +79221341105\n",
      "2020-11-29 08:22:08,167 : INFO : Checking remixsid...\n"
     ]
    },
    {
     "name": "stdout",
     "output_type": "stream",
     "text": [
      "19\n"
     ]
    },
    {
     "name": "stderr",
     "output_type": "stream",
     "text": [
      "2020-11-29 08:22:08,389 : INFO : remixsid is valid\n",
      "2020-11-29 08:22:08,390 : INFO : Checking security check request\n",
      "2020-11-29 08:22:08,656 : INFO : Security check is not required\n",
      "2020-11-29 08:22:08,857 : INFO : access_token from config is valid\n",
      "2020-11-29 08:22:09,264 : INFO : Auth with login: +79221341105\n",
      "2020-11-29 08:22:09,265 : INFO : Checking remixsid...\n",
      "2020-11-29 08:22:09,433 : INFO : remixsid is valid\n",
      "2020-11-29 08:22:09,434 : INFO : Checking security check request\n"
     ]
    },
    {
     "name": "stdout",
     "output_type": "stream",
     "text": [
      "20\n"
     ]
    },
    {
     "name": "stderr",
     "output_type": "stream",
     "text": [
      "2020-11-29 08:22:09,656 : INFO : Security check is not required\n",
      "2020-11-29 08:22:09,836 : INFO : access_token from config is valid\n",
      "2020-11-29 08:22:10,264 : INFO : Auth with login: +79221341105\n",
      "2020-11-29 08:22:10,265 : INFO : Checking remixsid...\n",
      "2020-11-29 08:22:10,458 : INFO : remixsid is valid\n",
      "2020-11-29 08:22:10,460 : INFO : Checking security check request\n"
     ]
    },
    {
     "name": "stdout",
     "output_type": "stream",
     "text": [
      "21\n"
     ]
    },
    {
     "name": "stderr",
     "output_type": "stream",
     "text": [
      "2020-11-29 08:22:10,713 : INFO : Security check is not required\n",
      "2020-11-29 08:22:10,922 : INFO : access_token from config is valid\n"
     ]
    },
    {
     "name": "stdout",
     "output_type": "stream",
     "text": [
      "Приватный паблик\n"
     ]
    },
    {
     "name": "stderr",
     "output_type": "stream",
     "text": [
      "\n",
      "Loading the model...\n",
      "Processing input...\n"
     ]
    },
    {
     "name": "stdout",
     "output_type": "stream",
     "text": [
      "text куриный_ADJ пирожное_ADJ с_ADP грибной::крем_PROPN очень_ADV мягкий_ADJ нежный_ADJ куриный_ADJ пирожное_NOUN вкусно_ADV сытно_ADV ингредиент_NOUN курица_NOUN младший_NOUN сливки_NOUN любой_ADJ жирности_NOUN небольшой_ADJ яйцо_NOUN средний_ADJ луковица_NOUN пучок_NOUN зелень_NOUN петрушка_NOUN мягкий_ADJ плавленый_ADJ сыр_NOUN шампиньон_NOUN сливочный_ADJ масло_NOUN зубчик_NOUN чеснок_NOUN соль_NOUN перец_NOUN специя_NOUN курица_NOUN\n"
     ]
    },
    {
     "name": "stderr",
     "output_type": "stream",
     "text": [
      "2020-11-29 08:22:22,311 : INFO : Warming up ELMo on 9 sentences...\n",
      "2020-11-29 08:22:38,496 : INFO : Warming up finished.\n",
      "2020-11-29 08:22:38,505 : INFO : Texts in the current batch: 9\n",
      "2020-11-29 08:22:54,681 : INFO : Auth with login: +79221341105\n",
      "2020-11-29 08:22:54,682 : INFO : Checking remixsid...\n",
      "2020-11-29 08:22:54,851 : INFO : remixsid is valid\n",
      "2020-11-29 08:22:54,853 : INFO : Checking security check request\n"
     ]
    },
    {
     "name": "stdout",
     "output_type": "stream",
     "text": [
      "22\n"
     ]
    },
    {
     "name": "stderr",
     "output_type": "stream",
     "text": [
      "2020-11-29 08:22:55,071 : INFO : Security check is not required\n",
      "2020-11-29 08:22:55,277 : INFO : access_token from config is valid\n",
      "2020-11-29 08:22:55,692 : INFO : Auth with login: +79221341105\n",
      "2020-11-29 08:22:55,694 : INFO : Checking remixsid...\n"
     ]
    },
    {
     "name": "stdout",
     "output_type": "stream",
     "text": [
      "23\n"
     ]
    },
    {
     "name": "stderr",
     "output_type": "stream",
     "text": [
      "2020-11-29 08:22:55,909 : INFO : remixsid is valid\n",
      "2020-11-29 08:22:55,910 : INFO : Checking security check request\n",
      "2020-11-29 08:22:56,132 : INFO : Security check is not required\n",
      "2020-11-29 08:22:56,319 : INFO : access_token from config is valid\n",
      "2020-11-29 08:22:56,733 : INFO : Auth with login: +79221341105\n",
      "2020-11-29 08:22:56,735 : INFO : Checking remixsid...\n"
     ]
    },
    {
     "name": "stdout",
     "output_type": "stream",
     "text": [
      "24\n"
     ]
    },
    {
     "name": "stderr",
     "output_type": "stream",
     "text": [
      "2020-11-29 08:22:56,933 : INFO : remixsid is valid\n",
      "2020-11-29 08:22:56,935 : INFO : Checking security check request\n",
      "2020-11-29 08:22:57,172 : INFO : Security check is not required\n",
      "2020-11-29 08:22:57,375 : INFO : access_token from config is valid\n",
      "2020-11-29 08:22:57,788 : INFO : Auth with login: +79221341105\n",
      "2020-11-29 08:22:57,791 : INFO : Checking remixsid...\n",
      "2020-11-29 08:22:57,978 : INFO : remixsid is valid\n",
      "2020-11-29 08:22:57,980 : INFO : Checking security check request\n"
     ]
    },
    {
     "name": "stdout",
     "output_type": "stream",
     "text": [
      "25\n"
     ]
    },
    {
     "name": "stderr",
     "output_type": "stream",
     "text": [
      "2020-11-29 08:22:58,198 : INFO : Security check is not required\n",
      "2020-11-29 08:22:58,393 : INFO : access_token from config is valid\n",
      "\n",
      "Loading the model...\n",
      "Processing input...\n"
     ]
    },
    {
     "name": "stdout",
     "output_type": "stream",
     "text": [
      "text \n"
     ]
    },
    {
     "name": "stderr",
     "output_type": "stream",
     "text": [
      "2020-11-29 08:23:09,276 : INFO : Warming up ELMo on 10 sentences...\n",
      "2020-11-29 08:23:58,203 : INFO : Warming up finished.\n",
      "2020-11-29 08:23:58,226 : INFO : Texts in the current batch: 10\n",
      "2020-11-29 08:24:48,256 : INFO : Auth with login: +79221341105\n",
      "2020-11-29 08:24:48,257 : INFO : Checking remixsid...\n",
      "2020-11-29 08:24:48,440 : INFO : remixsid is valid\n",
      "2020-11-29 08:24:48,442 : INFO : Checking security check request\n"
     ]
    },
    {
     "name": "stdout",
     "output_type": "stream",
     "text": [
      "26\n"
     ]
    },
    {
     "name": "stderr",
     "output_type": "stream",
     "text": [
      "2020-11-29 08:24:48,667 : INFO : Security check is not required\n",
      "2020-11-29 08:24:48,861 : INFO : access_token from config is valid\n"
     ]
    },
    {
     "name": "stdout",
     "output_type": "stream",
     "text": [
      "Приватный паблик\n"
     ]
    },
    {
     "name": "stderr",
     "output_type": "stream",
     "text": [
      "\n",
      "Loading the model...\n",
      "Processing input...\n"
     ]
    },
    {
     "name": "stdout",
     "output_type": "stream",
     "text": [
      "text \n"
     ]
    },
    {
     "name": "stderr",
     "output_type": "stream",
     "text": [
      "2020-11-29 08:24:59,761 : INFO : Warming up ELMo on 9 sentences...\n",
      "2020-11-29 08:25:26,696 : INFO : Warming up finished.\n",
      "2020-11-29 08:25:26,707 : INFO : Texts in the current batch: 9\n",
      "2020-11-29 08:25:54,189 : INFO : Auth with login: +79221341105\n",
      "2020-11-29 08:25:54,190 : INFO : Checking remixsid...\n",
      "2020-11-29 08:25:54,386 : INFO : remixsid is valid\n",
      "2020-11-29 08:25:54,387 : INFO : Checking security check request\n"
     ]
    },
    {
     "name": "stdout",
     "output_type": "stream",
     "text": [
      "27\n"
     ]
    },
    {
     "name": "stderr",
     "output_type": "stream",
     "text": [
      "2020-11-29 08:25:54,638 : INFO : Security check is not required\n",
      "2020-11-29 08:25:54,828 : INFO : access_token from config is valid\n"
     ]
    },
    {
     "name": "stdout",
     "output_type": "stream",
     "text": [
      "Приватный паблик\n"
     ]
    },
    {
     "name": "stderr",
     "output_type": "stream",
     "text": [
      "\n",
      "Loading the model...\n",
      "Processing input...\n"
     ]
    },
    {
     "name": "stdout",
     "output_type": "stream",
     "text": [
      "text куриный_ADJ пирожное_ADJ с_ADP грибной::крем_PROPN очень_ADV мягкий_ADJ нежный_ADJ куриный_ADJ пирожное_NOUN вкусно_ADV сытно_ADV ингредиент_NOUN курица_NOUN младший_NOUN сливки_NOUN любой_ADJ жирности_NOUN небольшой_ADJ яйцо_NOUN средний_ADJ луковица_NOUN пучок_NOUN зелень_NOUN петрушка_NOUN мягкий_ADJ плавленый_ADJ сыр_NOUN шампиньон_NOUN сливочный_ADJ масло_NOUN зубчик_NOUN чеснок_NOUN соль_NOUN перец_NOUN специя_NOUN курица_NOUN\n"
     ]
    },
    {
     "name": "stderr",
     "output_type": "stream",
     "text": [
      "2020-11-29 08:26:06,056 : INFO : Warming up ELMo on 9 sentences...\n",
      "2020-11-29 08:26:20,395 : INFO : Warming up finished.\n",
      "2020-11-29 08:26:20,403 : INFO : Texts in the current batch: 9\n",
      "2020-11-29 08:26:34,908 : INFO : Auth with login: +79221341105\n",
      "2020-11-29 08:26:34,909 : INFO : Checking remixsid...\n",
      "2020-11-29 08:26:35,084 : INFO : remixsid is valid\n",
      "2020-11-29 08:26:35,085 : INFO : Checking security check request\n"
     ]
    },
    {
     "name": "stdout",
     "output_type": "stream",
     "text": [
      "28\n"
     ]
    },
    {
     "name": "stderr",
     "output_type": "stream",
     "text": [
      "2020-11-29 08:26:35,298 : INFO : Security check is not required\n",
      "2020-11-29 08:26:35,491 : INFO : access_token from config is valid\n",
      "\n",
      "Loading the model...\n",
      "Processing input...\n"
     ]
    },
    {
     "name": "stdout",
     "output_type": "stream",
     "text": [
      "text \n"
     ]
    },
    {
     "name": "stderr",
     "output_type": "stream",
     "text": [
      "2020-11-29 08:26:47,297 : INFO : Warming up ELMo on 10 sentences...\n",
      "2020-11-29 08:27:32,793 : INFO : Warming up finished.\n",
      "2020-11-29 08:27:32,818 : INFO : Texts in the current batch: 10\n",
      "2020-11-29 08:28:26,719 : INFO : Auth with login: +79221341105\n",
      "2020-11-29 08:28:26,720 : INFO : Checking remixsid...\n",
      "2020-11-29 08:28:26,900 : INFO : remixsid is valid\n",
      "2020-11-29 08:28:26,902 : INFO : Checking security check request\n"
     ]
    },
    {
     "name": "stdout",
     "output_type": "stream",
     "text": [
      "29\n"
     ]
    },
    {
     "name": "stderr",
     "output_type": "stream",
     "text": [
      "2020-11-29 08:28:27,130 : INFO : Security check is not required\n",
      "2020-11-29 08:28:27,328 : INFO : access_token from config is valid\n",
      "2020-11-29 08:28:27,751 : INFO : Auth with login: +79221341105\n",
      "2020-11-29 08:28:27,752 : INFO : Checking remixsid...\n",
      "2020-11-29 08:28:27,919 : INFO : remixsid is valid\n",
      "2020-11-29 08:28:27,923 : INFO : Checking security check request\n"
     ]
    },
    {
     "name": "stdout",
     "output_type": "stream",
     "text": [
      "30\n"
     ]
    },
    {
     "name": "stderr",
     "output_type": "stream",
     "text": [
      "2020-11-29 08:28:28,131 : INFO : Security check is not required\n",
      "2020-11-29 08:28:28,343 : INFO : access_token from config is valid\n",
      "2020-11-29 08:28:28,760 : INFO : Auth with login: +79221341105\n",
      "2020-11-29 08:28:28,761 : INFO : Checking remixsid...\n",
      "2020-11-29 08:28:28,938 : INFO : remixsid is valid\n",
      "2020-11-29 08:28:28,944 : INFO : Checking security check request\n"
     ]
    },
    {
     "name": "stdout",
     "output_type": "stream",
     "text": [
      "31\n"
     ]
    },
    {
     "name": "stderr",
     "output_type": "stream",
     "text": [
      "2020-11-29 08:28:29,151 : INFO : Security check is not required\n",
      "2020-11-29 08:28:29,346 : INFO : access_token from config is valid\n"
     ]
    },
    {
     "name": "stdout",
     "output_type": "stream",
     "text": [
      "Приватный паблик\n"
     ]
    },
    {
     "name": "stderr",
     "output_type": "stream",
     "text": [
      "\n",
      "Loading the model...\n",
      "Processing input...\n"
     ]
    },
    {
     "name": "stdout",
     "output_type": "stream",
     "text": [
      "text с_ADP приход_NOUN пост_PROPN домашний_ADJ стол_NOUN видеть_VERB блюдо_NOUN гриб_NOUN и_CCONJ разнообразие_NOUN блюдо_NOUN завидовать_VERB грибной_ADJ суп_NOUN салат_NOUN закуска_NOUN жареный_ADJ картошка_NOUN запеченный_VERB духовка_NOUN больше_NUM идея_NOUN грибной_ADJ блюдо_NOUN искать_VERB наш_DET галерея_NOUN покупка_NOUN приходить_VERB магнит_PROPN здесь_ADV ждать_VERB целый_ADJ коллекция_NOUN свежий_ADJ шампиньон_NOUN шампиньон_NOUN гриль_VERB свежий_ADJ маринованный_ADJ вешенка_NOUN гриб_NOUN шиитака_NOUN а_CCONJ пробовать_VERB шиитака_NOUN обязательно_ADV пробовать_VERB этот_PRON японский_ADJ древесный_ADJ гриб_NOUN потрясающий_VERB аромат_NOUN помогать_VERB снижать_VERB уровень_NOUN холестерин_NOUN кровь_NOUN приводить_VERB давление_NOUN норма_NOUN шиитак_PROPN добавлять_VERB салат_NOUN делать_VERB кремсуп_NOUN пожарить_VERB подавать_VERB отдельный_ADJ блюдо_ADP а_PROPN какой_DET блюдо_NOUN гриб_NOUN любить_VERB ваш_DET семья_NOUN магнит_VERB семейныймагнять_NOUN семьямагазиновмагнять_VERB\n"
     ]
    },
    {
     "name": "stderr",
     "output_type": "stream",
     "text": [
      "2020-11-29 08:28:45,510 : INFO : Warming up ELMo on 9 sentences...\n",
      "2020-11-29 08:29:37,025 : INFO : Warming up finished.\n",
      "2020-11-29 08:29:37,040 : INFO : Texts in the current batch: 9\n",
      "2020-11-29 08:30:26,341 : INFO : Auth with login: +79221341105\n",
      "2020-11-29 08:30:26,342 : INFO : Checking remixsid...\n",
      "2020-11-29 08:30:26,516 : INFO : remixsid is valid\n",
      "2020-11-29 08:30:26,519 : INFO : Checking security check request\n"
     ]
    },
    {
     "name": "stdout",
     "output_type": "stream",
     "text": [
      "32\n"
     ]
    },
    {
     "name": "stderr",
     "output_type": "stream",
     "text": [
      "2020-11-29 08:30:26,730 : INFO : Security check is not required\n",
      "2020-11-29 08:30:26,908 : INFO : access_token from config is valid\n",
      "2020-11-29 08:30:27,321 : INFO : Auth with login: +79221341105\n",
      "2020-11-29 08:30:27,324 : INFO : Checking remixsid...\n",
      "2020-11-29 08:30:27,506 : INFO : remixsid is valid\n",
      "2020-11-29 08:30:27,508 : INFO : Checking security check request\n"
     ]
    },
    {
     "name": "stdout",
     "output_type": "stream",
     "text": [
      "33\n"
     ]
    },
    {
     "name": "stderr",
     "output_type": "stream",
     "text": [
      "2020-11-29 08:30:27,748 : INFO : Security check is not required\n",
      "2020-11-29 08:30:27,950 : INFO : access_token from config is valid\n"
     ]
    },
    {
     "name": "stdout",
     "output_type": "stream",
     "text": [
      "Приватный паблик\n"
     ]
    },
    {
     "name": "stderr",
     "output_type": "stream",
     "text": [
      "\n",
      "Loading the model...\n",
      "Processing input...\n"
     ]
    },
    {
     "name": "stdout",
     "output_type": "stream",
     "text": [
      "text клеверята_PROPN снабжать_VERB достаточный_ADJ количество_NOUN знание_NOUN готовый_ADJ вольный_ADJ плавание_NOUN с_ADP завтрашний_ADJ день_NOUN сообщество_NOUN прекращать_VERB вещание_NOUN прежний_ADJ формат_NOUN с_ADP январь_NOUN дарить_VERB стикер_NOUN передавать_VERB привет_NOUN город_NOUN успевать_VERB рассказывать_VERB сотня_NOUN интересный_ADJ факт_NOUN продолжать_VERB применять_VERB знание_NOUN бой_NOUN до_ADP завтрашний_ADJ день_NOUN мочь_VERB завершать_VERB суперигр_NOUN приз_NOUN выигрывать_VERB новый_ADJ подарок_NOUN понедельник_NOUN пропадать_VERB приложение_NOUN однако_ADV попрежнему_ADV мочь_VERB соревноваться_VERB друг_NOUN бросать_VERB вызов_NOUN случайный_ADJ противник_NOUN спасибо_PROPN поддерживать_VERB активность_NOUN оставлять_VERB клевер_PROPN ваш_DET надежный_ADJ рука_NOUN\n"
     ]
    },
    {
     "name": "stderr",
     "output_type": "stream",
     "text": [
      "2020-11-29 08:30:41,648 : INFO : Warming up ELMo on 9 sentences...\n",
      "2020-11-29 08:31:18,195 : INFO : Warming up finished.\n",
      "2020-11-29 08:31:18,208 : INFO : Texts in the current batch: 9\n",
      "2020-11-29 08:31:53,034 : INFO : Auth with login: +79221341105\n",
      "2020-11-29 08:31:53,035 : INFO : Checking remixsid...\n",
      "2020-11-29 08:31:53,216 : INFO : remixsid is valid\n",
      "2020-11-29 08:31:53,219 : INFO : Checking security check request\n"
     ]
    },
    {
     "name": "stdout",
     "output_type": "stream",
     "text": [
      "34\n"
     ]
    },
    {
     "name": "stderr",
     "output_type": "stream",
     "text": [
      "2020-11-29 08:31:53,449 : INFO : Security check is not required\n",
      "2020-11-29 08:31:53,660 : INFO : access_token from config is valid\n",
      "2020-11-29 08:31:54,085 : INFO : Auth with login: +79221341105\n",
      "2020-11-29 08:31:54,087 : INFO : Checking remixsid...\n"
     ]
    },
    {
     "name": "stdout",
     "output_type": "stream",
     "text": [
      "35\n"
     ]
    },
    {
     "name": "stderr",
     "output_type": "stream",
     "text": [
      "2020-11-29 08:31:54,287 : INFO : remixsid is valid\n",
      "2020-11-29 08:31:54,289 : INFO : Checking security check request\n",
      "2020-11-29 08:31:54,529 : INFO : Security check is not required\n",
      "2020-11-29 08:31:54,714 : INFO : access_token from config is valid\n",
      "2020-11-29 08:31:55,129 : INFO : Auth with login: +79221341105\n",
      "2020-11-29 08:31:55,135 : INFO : Checking remixsid...\n"
     ]
    },
    {
     "name": "stdout",
     "output_type": "stream",
     "text": [
      "36\n"
     ]
    },
    {
     "name": "stderr",
     "output_type": "stream",
     "text": [
      "2020-11-29 08:31:55,344 : INFO : remixsid is valid\n",
      "2020-11-29 08:31:55,345 : INFO : Checking security check request\n",
      "2020-11-29 08:31:55,565 : INFO : Security check is not required\n",
      "2020-11-29 08:31:55,768 : INFO : access_token from config is valid\n",
      "2020-11-29 08:31:56,178 : INFO : Auth with login: +79221341105\n",
      "2020-11-29 08:31:56,182 : INFO : Checking remixsid...\n"
     ]
    },
    {
     "name": "stdout",
     "output_type": "stream",
     "text": [
      "37\n"
     ]
    },
    {
     "name": "stderr",
     "output_type": "stream",
     "text": [
      "2020-11-29 08:31:56,390 : INFO : remixsid is valid\n",
      "2020-11-29 08:31:56,393 : INFO : Checking security check request\n",
      "2020-11-29 08:31:56,615 : INFO : Security check is not required\n",
      "2020-11-29 08:31:56,811 : INFO : access_token from config is valid\n",
      "2020-11-29 08:31:57,226 : INFO : Auth with login: +79221341105\n",
      "2020-11-29 08:31:57,228 : INFO : Checking remixsid...\n",
      "2020-11-29 08:31:57,416 : INFO : remixsid is valid\n",
      "2020-11-29 08:31:57,418 : INFO : Checking security check request\n"
     ]
    },
    {
     "name": "stdout",
     "output_type": "stream",
     "text": [
      "38\n"
     ]
    },
    {
     "name": "stderr",
     "output_type": "stream",
     "text": [
      "2020-11-29 08:31:57,644 : INFO : Security check is not required\n",
      "2020-11-29 08:31:57,843 : INFO : access_token from config is valid\n",
      "\n",
      "Loading the model...\n",
      "Processing input...\n"
     ]
    },
    {
     "name": "stdout",
     "output_type": "stream",
     "text": [
      "text новый_ADJ видео_NOUN канал_NOUN\n"
     ]
    },
    {
     "name": "stderr",
     "output_type": "stream",
     "text": [
      "2020-11-29 08:32:10,702 : INFO : Warming up ELMo on 10 sentences...\n",
      "2020-11-29 08:32:49,816 : INFO : Warming up finished.\n",
      "2020-11-29 08:32:49,837 : INFO : Texts in the current batch: 10\n",
      "2020-11-29 08:33:30,400 : INFO : Auth with login: +79221341105\n",
      "2020-11-29 08:33:30,401 : INFO : Checking remixsid...\n",
      "2020-11-29 08:33:30,596 : INFO : remixsid is valid\n"
     ]
    },
    {
     "name": "stdout",
     "output_type": "stream",
     "text": [
      "39\n"
     ]
    },
    {
     "name": "stderr",
     "output_type": "stream",
     "text": [
      "2020-11-29 08:33:30,602 : INFO : Checking security check request\n",
      "2020-11-29 08:33:30,843 : INFO : Security check is not required\n",
      "2020-11-29 08:33:31,047 : INFO : access_token from config is valid\n",
      "2020-11-29 08:33:31,458 : INFO : Auth with login: +79221341105\n",
      "2020-11-29 08:33:31,461 : INFO : Checking remixsid...\n",
      "2020-11-29 08:33:31,648 : INFO : remixsid is valid\n",
      "2020-11-29 08:33:31,650 : INFO : Checking security check request\n"
     ]
    },
    {
     "name": "stdout",
     "output_type": "stream",
     "text": [
      "40\n"
     ]
    },
    {
     "name": "stderr",
     "output_type": "stream",
     "text": [
      "2020-11-29 08:33:31,884 : INFO : Security check is not required\n",
      "2020-11-29 08:33:32,091 : INFO : access_token from config is valid\n",
      "\n",
      "Loading the model...\n",
      "Processing input...\n"
     ]
    },
    {
     "name": "stdout",
     "output_type": "stream",
     "text": [
      "text новый_ADJ видео_NOUN канал_NOUN\n"
     ]
    },
    {
     "name": "stderr",
     "output_type": "stream",
     "text": [
      "2020-11-29 08:33:45,129 : INFO : Warming up ELMo on 10 sentences...\n",
      "2020-11-29 08:34:20,057 : INFO : Warming up finished.\n",
      "2020-11-29 08:34:20,068 : INFO : Texts in the current batch: 10\n",
      "2020-11-29 08:34:55,851 : INFO : Auth with login: +79221341105\n",
      "2020-11-29 08:34:55,852 : INFO : Checking remixsid...\n",
      "2020-11-29 08:34:56,033 : INFO : remixsid is valid\n",
      "2020-11-29 08:34:56,034 : INFO : Checking security check request\n"
     ]
    },
    {
     "name": "stdout",
     "output_type": "stream",
     "text": [
      "41\n"
     ]
    },
    {
     "name": "stderr",
     "output_type": "stream",
     "text": [
      "2020-11-29 08:34:56,281 : INFO : Security check is not required\n",
      "2020-11-29 08:34:56,465 : INFO : access_token from config is valid\n",
      "\n",
      "Loading the model...\n",
      "Processing input...\n"
     ]
    },
    {
     "name": "stdout",
     "output_type": "stream",
     "text": [
      "text новый_ADJ видео_NOUN канал_NOUN\n"
     ]
    },
    {
     "name": "stderr",
     "output_type": "stream",
     "text": [
      "2020-11-29 08:35:08,430 : INFO : Warming up ELMo on 10 sentences...\n",
      "2020-11-29 08:36:05,458 : INFO : Warming up finished.\n",
      "2020-11-29 08:36:05,482 : INFO : Texts in the current batch: 10\n",
      "2020-11-29 08:37:04,953 : INFO : Auth with login: +79221341105\n",
      "2020-11-29 08:37:04,954 : INFO : Checking remixsid...\n"
     ]
    },
    {
     "name": "stdout",
     "output_type": "stream",
     "text": [
      "42\n"
     ]
    },
    {
     "name": "stderr",
     "output_type": "stream",
     "text": [
      "2020-11-29 08:37:05,161 : INFO : remixsid is valid\n",
      "2020-11-29 08:37:05,165 : INFO : Checking security check request\n",
      "2020-11-29 08:37:05,391 : INFO : Security check is not required\n",
      "2020-11-29 08:37:05,597 : INFO : access_token from config is valid\n",
      "2020-11-29 08:37:06,014 : INFO : Auth with login: +79221341105\n",
      "2020-11-29 08:37:06,017 : INFO : Checking remixsid...\n",
      "2020-11-29 08:37:06,201 : INFO : remixsid is valid\n",
      "2020-11-29 08:37:06,202 : INFO : Checking security check request\n"
     ]
    },
    {
     "name": "stdout",
     "output_type": "stream",
     "text": [
      "43\n"
     ]
    },
    {
     "name": "stderr",
     "output_type": "stream",
     "text": [
      "2020-11-29 08:37:06,435 : INFO : Security check is not required\n",
      "2020-11-29 08:37:06,629 : INFO : access_token from config is valid\n",
      "2020-11-29 08:37:07,040 : INFO : Auth with login: +79221341105\n",
      "2020-11-29 08:37:07,041 : INFO : Checking remixsid...\n",
      "2020-11-29 08:37:07,219 : INFO : remixsid is valid\n",
      "2020-11-29 08:37:07,222 : INFO : Checking security check request\n"
     ]
    },
    {
     "name": "stdout",
     "output_type": "stream",
     "text": [
      "44\n"
     ]
    },
    {
     "name": "stderr",
     "output_type": "stream",
     "text": [
      "2020-11-29 08:37:07,461 : INFO : Security check is not required\n",
      "2020-11-29 08:37:07,665 : INFO : access_token from config is valid\n",
      "2020-11-29 08:37:08,076 : INFO : Auth with login: +79221341105\n",
      "2020-11-29 08:37:08,078 : INFO : Checking remixsid...\n",
      "2020-11-29 08:37:08,265 : INFO : remixsid is valid\n",
      "2020-11-29 08:37:08,267 : INFO : Checking security check request\n"
     ]
    },
    {
     "name": "stdout",
     "output_type": "stream",
     "text": [
      "45\n"
     ]
    },
    {
     "name": "stderr",
     "output_type": "stream",
     "text": [
      "2020-11-29 08:37:08,497 : INFO : Security check is not required\n",
      "2020-11-29 08:37:08,702 : INFO : access_token from config is valid\n",
      "2020-11-29 08:37:09,116 : INFO : Auth with login: +79221341105\n",
      "2020-11-29 08:37:09,118 : INFO : Checking remixsid...\n",
      "2020-11-29 08:37:09,290 : INFO : remixsid is valid\n",
      "2020-11-29 08:37:09,295 : INFO : Checking security check request\n"
     ]
    },
    {
     "name": "stdout",
     "output_type": "stream",
     "text": [
      "46\n"
     ]
    },
    {
     "name": "stderr",
     "output_type": "stream",
     "text": [
      "2020-11-29 08:37:09,526 : INFO : Security check is not required\n",
      "2020-11-29 08:37:09,733 : INFO : access_token from config is valid\n",
      "\n",
      "Loading the model...\n",
      "Processing input...\n"
     ]
    },
    {
     "name": "stdout",
     "output_type": "stream",
     "text": [
      "text \n"
     ]
    },
    {
     "name": "stderr",
     "output_type": "stream",
     "text": [
      "2020-11-29 08:37:22,686 : INFO : Warming up ELMo on 10 sentences...\n",
      "2020-11-29 08:37:26,360 : INFO : Warming up finished.\n",
      "2020-11-29 08:37:26,365 : INFO : Texts in the current batch: 10\n",
      "2020-11-29 08:37:29,801 : INFO : Auth with login: +79221341105\n",
      "2020-11-29 08:37:29,802 : INFO : Checking remixsid...\n",
      "2020-11-29 08:37:29,985 : INFO : remixsid is valid\n",
      "2020-11-29 08:37:29,987 : INFO : Checking security check request\n"
     ]
    },
    {
     "name": "stdout",
     "output_type": "stream",
     "text": [
      "47\n"
     ]
    },
    {
     "name": "stderr",
     "output_type": "stream",
     "text": [
      "2020-11-29 08:37:30,222 : INFO : Security check is not required\n",
      "2020-11-29 08:37:30,414 : INFO : access_token from config is valid\n",
      "2020-11-29 08:37:30,826 : INFO : Auth with login: +79221341105\n",
      "2020-11-29 08:37:30,830 : INFO : Checking remixsid...\n",
      "2020-11-29 08:37:31,006 : INFO : remixsid is valid\n",
      "2020-11-29 08:37:31,008 : INFO : Checking security check request\n"
     ]
    },
    {
     "name": "stdout",
     "output_type": "stream",
     "text": [
      "48\n"
     ]
    },
    {
     "name": "stderr",
     "output_type": "stream",
     "text": [
      "2020-11-29 08:37:31,232 : INFO : Security check is not required\n",
      "2020-11-29 08:37:31,429 : INFO : access_token from config is valid\n",
      "2020-11-29 08:37:31,859 : INFO : Auth with login: +79221341105\n",
      "2020-11-29 08:37:31,863 : INFO : Checking remixsid...\n"
     ]
    },
    {
     "name": "stdout",
     "output_type": "stream",
     "text": [
      "49\n"
     ]
    },
    {
     "name": "stderr",
     "output_type": "stream",
     "text": [
      "2020-11-29 08:37:32,070 : INFO : remixsid is valid\n",
      "2020-11-29 08:37:32,072 : INFO : Checking security check request\n",
      "2020-11-29 08:37:32,300 : INFO : Security check is not required\n",
      "2020-11-29 08:37:32,536 : INFO : access_token from config is valid\n"
     ]
    },
    {
     "name": "stdout",
     "output_type": "stream",
     "text": [
      "Приватный паблик\n"
     ]
    },
    {
     "name": "stderr",
     "output_type": "stream",
     "text": [
      "\n",
      "Loading the model...\n",
      "Processing input...\n"
     ]
    },
    {
     "name": "stdout",
     "output_type": "stream",
     "text": [
      "text \n"
     ]
    },
    {
     "name": "stderr",
     "output_type": "stream",
     "text": [
      "2020-11-29 08:37:44,759 : INFO : Warming up ELMo on 9 sentences...\n",
      "2020-11-29 08:37:49,674 : INFO : Warming up finished.\n",
      "2020-11-29 08:37:49,680 : INFO : Texts in the current batch: 9\n",
      "2020-11-29 08:37:54,528 : INFO : Auth with login: +79221341105\n",
      "2020-11-29 08:37:54,529 : INFO : Checking remixsid...\n",
      "2020-11-29 08:37:54,696 : INFO : remixsid is valid\n",
      "2020-11-29 08:37:54,699 : INFO : Checking security check request\n"
     ]
    },
    {
     "name": "stdout",
     "output_type": "stream",
     "text": [
      "50\n"
     ]
    },
    {
     "name": "stderr",
     "output_type": "stream",
     "text": [
      "2020-11-29 08:37:54,925 : INFO : Security check is not required\n",
      "2020-11-29 08:37:55,123 : INFO : access_token from config is valid\n",
      "2020-11-29 08:37:55,538 : INFO : Auth with login: +79221341105\n",
      "2020-11-29 08:37:55,541 : INFO : Checking remixsid...\n",
      "2020-11-29 08:37:55,725 : INFO : remixsid is valid\n",
      "2020-11-29 08:37:55,728 : INFO : Checking security check request\n"
     ]
    },
    {
     "name": "stdout",
     "output_type": "stream",
     "text": [
      "51\n"
     ]
    },
    {
     "name": "stderr",
     "output_type": "stream",
     "text": [
      "2020-11-29 08:37:55,950 : INFO : Security check is not required\n",
      "2020-11-29 08:37:56,157 : INFO : access_token from config is valid\n",
      "\n",
      "Loading the model...\n",
      "Processing input...\n"
     ]
    },
    {
     "name": "stdout",
     "output_type": "stream",
     "text": [
      "text пора_NOUN переставать_VERB сомневаться_VERB покупать_VERB самый_ADJ ожидаемый_VERB распродажа_NOUN в_ADP черный_ADJ пятница_NOUN покупка_NOUN такой_DET учётный_ADJ скидка_NOUN удерживаться_VERB невозможный_ADJ\n"
     ]
    },
    {
     "name": "stderr",
     "output_type": "stream",
     "text": [
      "2020-11-29 08:38:12,388 : INFO : Warming up ELMo on 10 sentences...\n",
      "2020-11-29 08:38:33,448 : INFO : Warming up finished.\n",
      "2020-11-29 08:38:33,458 : INFO : Texts in the current batch: 10\n",
      "2020-11-29 08:38:56,414 : INFO : Auth with login: +79221341105\n",
      "2020-11-29 08:38:56,416 : INFO : Checking remixsid...\n"
     ]
    },
    {
     "name": "stdout",
     "output_type": "stream",
     "text": [
      "52\n"
     ]
    },
    {
     "name": "stderr",
     "output_type": "stream",
     "text": [
      "2020-11-29 08:38:56,623 : INFO : remixsid is valid\n",
      "2020-11-29 08:38:56,624 : INFO : Checking security check request\n",
      "2020-11-29 08:38:56,836 : INFO : Security check is not required\n",
      "2020-11-29 08:38:57,036 : INFO : access_token from config is valid\n",
      "\n",
      "Loading the model...\n",
      "Processing input...\n"
     ]
    },
    {
     "name": "stdout",
     "output_type": "stream",
     "text": [
      "text \n"
     ]
    },
    {
     "name": "stderr",
     "output_type": "stream",
     "text": [
      "2020-11-29 08:39:09,919 : INFO : Warming up ELMo on 10 sentences...\n",
      "2020-11-29 08:40:07,790 : INFO : Warming up finished.\n",
      "2020-11-29 08:40:07,848 : INFO : Texts in the current batch: 10\n",
      "2020-11-29 08:41:12,475 : INFO : Auth with login: +79221341105\n",
      "2020-11-29 08:41:12,480 : INFO : Checking remixsid...\n"
     ]
    },
    {
     "name": "stdout",
     "output_type": "stream",
     "text": [
      "53\n"
     ]
    },
    {
     "name": "stderr",
     "output_type": "stream",
     "text": [
      "2020-11-29 08:41:12,688 : INFO : remixsid is valid\n",
      "2020-11-29 08:41:12,689 : INFO : Checking security check request\n",
      "2020-11-29 08:41:12,926 : INFO : Security check is not required\n",
      "2020-11-29 08:41:13,126 : INFO : access_token from config is valid\n",
      "2020-11-29 08:41:13,534 : INFO : Auth with login: +79221341105\n",
      "2020-11-29 08:41:13,536 : INFO : Checking remixsid...\n"
     ]
    },
    {
     "name": "stdout",
     "output_type": "stream",
     "text": [
      "54\n"
     ]
    },
    {
     "name": "stderr",
     "output_type": "stream",
     "text": [
      "2020-11-29 08:41:13,760 : INFO : remixsid is valid\n",
      "2020-11-29 08:41:13,761 : INFO : Checking security check request\n",
      "2020-11-29 08:41:13,980 : INFO : Security check is not required\n",
      "2020-11-29 08:41:14,156 : INFO : access_token from config is valid\n",
      "\n",
      "Loading the model...\n",
      "Processing input...\n"
     ]
    },
    {
     "name": "stdout",
     "output_type": "stream",
     "text": [
      "text \n"
     ]
    },
    {
     "name": "stderr",
     "output_type": "stream",
     "text": [
      "2020-11-29 08:41:27,245 : INFO : Warming up ELMo on 10 sentences...\n",
      "2020-11-29 08:41:43,485 : INFO : Warming up finished.\n",
      "2020-11-29 08:41:43,492 : INFO : Texts in the current batch: 10\n",
      "2020-11-29 08:41:59,086 : INFO : Auth with login: +79221341105\n",
      "2020-11-29 08:41:59,087 : INFO : Checking remixsid...\n",
      "2020-11-29 08:41:59,251 : INFO : remixsid is valid\n",
      "2020-11-29 08:41:59,254 : INFO : Checking security check request\n"
     ]
    },
    {
     "name": "stdout",
     "output_type": "stream",
     "text": [
      "55\n"
     ]
    },
    {
     "name": "stderr",
     "output_type": "stream",
     "text": [
      "2020-11-29 08:41:59,475 : INFO : Security check is not required\n",
      "2020-11-29 08:41:59,675 : INFO : access_token from config is valid\n",
      "2020-11-29 08:42:00,086 : INFO : Auth with login: +79221341105\n",
      "2020-11-29 08:42:00,088 : INFO : Checking remixsid...\n",
      "2020-11-29 08:42:00,269 : INFO : remixsid is valid\n",
      "2020-11-29 08:42:00,271 : INFO : Checking security check request\n"
     ]
    },
    {
     "name": "stdout",
     "output_type": "stream",
     "text": [
      "56\n"
     ]
    },
    {
     "name": "stderr",
     "output_type": "stream",
     "text": [
      "2020-11-29 08:42:00,486 : INFO : Security check is not required\n",
      "2020-11-29 08:42:00,686 : INFO : access_token from config is valid\n",
      "2020-11-29 08:42:01,099 : INFO : Auth with login: +79221341105\n",
      "2020-11-29 08:42:01,100 : INFO : Checking remixsid...\n",
      "2020-11-29 08:42:01,272 : INFO : remixsid is valid\n",
      "2020-11-29 08:42:01,274 : INFO : Checking security check request\n"
     ]
    },
    {
     "name": "stdout",
     "output_type": "stream",
     "text": [
      "57\n"
     ]
    },
    {
     "name": "stderr",
     "output_type": "stream",
     "text": [
      "2020-11-29 08:42:01,495 : INFO : Security check is not required\n",
      "2020-11-29 08:42:01,670 : INFO : access_token from config is valid\n",
      "2020-11-29 08:42:02,101 : INFO : Auth with login: +79221341105\n",
      "2020-11-29 08:42:02,103 : INFO : Checking remixsid...\n",
      "2020-11-29 08:42:02,278 : INFO : remixsid is valid\n",
      "2020-11-29 08:42:02,280 : INFO : Checking security check request\n"
     ]
    },
    {
     "name": "stdout",
     "output_type": "stream",
     "text": [
      "58\n"
     ]
    },
    {
     "name": "stderr",
     "output_type": "stream",
     "text": [
      "2020-11-29 08:42:02,517 : INFO : Security check is not required\n",
      "2020-11-29 08:42:02,727 : INFO : access_token from config is valid\n",
      "2020-11-29 08:42:03,145 : INFO : Auth with login: +79221341105\n",
      "2020-11-29 08:42:03,148 : INFO : Checking remixsid...\n"
     ]
    },
    {
     "name": "stdout",
     "output_type": "stream",
     "text": [
      "59\n"
     ]
    },
    {
     "name": "stderr",
     "output_type": "stream",
     "text": [
      "2020-11-29 08:42:03,351 : INFO : remixsid is valid\n",
      "2020-11-29 08:42:03,352 : INFO : Checking security check request\n",
      "2020-11-29 08:42:03,566 : INFO : Security check is not required\n",
      "2020-11-29 08:42:03,747 : INFO : access_token from config is valid\n",
      "2020-11-29 08:42:04,162 : INFO : Auth with login: +79221341105\n",
      "2020-11-29 08:42:04,166 : INFO : Checking remixsid...\n"
     ]
    },
    {
     "name": "stdout",
     "output_type": "stream",
     "text": [
      "60\n"
     ]
    },
    {
     "name": "stderr",
     "output_type": "stream",
     "text": [
      "2020-11-29 08:42:04,367 : INFO : remixsid is valid\n",
      "2020-11-29 08:42:04,368 : INFO : Checking security check request\n",
      "2020-11-29 08:42:04,585 : INFO : Security check is not required\n",
      "2020-11-29 08:42:04,801 : INFO : access_token from config is valid\n",
      "2020-11-29 08:42:05,229 : INFO : Auth with login: +79221341105\n",
      "2020-11-29 08:42:05,232 : INFO : Checking remixsid...\n"
     ]
    },
    {
     "name": "stdout",
     "output_type": "stream",
     "text": [
      "61\n"
     ]
    },
    {
     "name": "stderr",
     "output_type": "stream",
     "text": [
      "2020-11-29 08:42:05,452 : INFO : remixsid is valid\n",
      "2020-11-29 08:42:05,455 : INFO : Checking security check request\n",
      "2020-11-29 08:42:05,782 : INFO : Security check is not required\n",
      "2020-11-29 08:42:05,965 : INFO : access_token from config is valid\n",
      "2020-11-29 08:42:06,386 : INFO : Auth with login: +79221341105\n",
      "2020-11-29 08:42:06,389 : INFO : Checking remixsid...\n",
      "2020-11-29 08:42:06,562 : INFO : remixsid is valid\n",
      "2020-11-29 08:42:06,572 : INFO : Checking security check request\n"
     ]
    },
    {
     "name": "stdout",
     "output_type": "stream",
     "text": [
      "62\n"
     ]
    },
    {
     "name": "stderr",
     "output_type": "stream",
     "text": [
      "2020-11-29 08:42:06,815 : INFO : Security check is not required\n",
      "2020-11-29 08:42:07,032 : INFO : access_token from config is valid\n",
      "\n",
      "Loading the model...\n",
      "Processing input...\n"
     ]
    },
    {
     "name": "stdout",
     "output_type": "stream",
     "text": [
      "text разбирать_VERB главный_ADJ событие_NOUN неделя_NOUN\n"
     ]
    },
    {
     "name": "stderr",
     "output_type": "stream",
     "text": [
      "2020-11-29 08:42:22,348 : INFO : Warming up ELMo on 10 sentences...\n",
      "2020-11-29 08:42:49,533 : INFO : Warming up finished.\n",
      "2020-11-29 08:42:49,557 : INFO : Texts in the current batch: 10\n",
      "2020-11-29 08:43:19,938 : INFO : Auth with login: +79221341105\n",
      "2020-11-29 08:43:19,939 : INFO : Checking remixsid...\n",
      "2020-11-29 08:43:20,128 : INFO : remixsid is valid\n",
      "2020-11-29 08:43:20,131 : INFO : Checking security check request\n"
     ]
    },
    {
     "name": "stdout",
     "output_type": "stream",
     "text": [
      "63\n"
     ]
    },
    {
     "name": "stderr",
     "output_type": "stream",
     "text": [
      "2020-11-29 08:43:20,364 : INFO : Security check is not required\n",
      "2020-11-29 08:43:20,580 : INFO : access_token from config is valid\n",
      "2020-11-29 08:43:20,990 : INFO : Auth with login: +79221341105\n",
      "2020-11-29 08:43:20,992 : INFO : Checking remixsid...\n"
     ]
    },
    {
     "name": "stdout",
     "output_type": "stream",
     "text": [
      "64\n"
     ]
    },
    {
     "name": "stderr",
     "output_type": "stream",
     "text": [
      "2020-11-29 08:43:21,203 : INFO : remixsid is valid\n",
      "2020-11-29 08:43:21,206 : INFO : Checking security check request\n",
      "2020-11-29 08:43:21,439 : INFO : Security check is not required\n",
      "2020-11-29 08:43:21,622 : INFO : access_token from config is valid\n",
      "\n",
      "Loading the model...\n",
      "Processing input...\n"
     ]
    },
    {
     "name": "stdout",
     "output_type": "stream",
     "text": [
      "text родить_VERB три_NUM ребенок_NOUN женщина_NOUN предлагать_VERB отпускать_VERB пенсия_NOUN после_ADP рождение_NOUN третий_ADJ ребенок_NOUN женщина_NOUN предлагать_VERB выплачивать_VERB пенсия_NOUN жительница_NOUN россия_PROPN предлагать_VERB отпускать_VERB пенсия_NOUN рождение_NOUN третий_ADJ ребенок_NOUN автор_PROPN инициатива_NOUN выступать_VERB координатор_NOUN общественный_ADJ движение_NOUN за_ADP сергей::чесноков_PROPN по_ADP сово_NOUN мера_NOUN позволять_VERB улучшать_VERB демографий_NOUN страна_NOUN пенсия_PROPN носить_VERB достаточно_ADV условный_ADJ характер_NOUN если_SCONJ женщина_NOUN начинать_VERB получать_VERB рождение_NOUN третий_ADJ ребенок_NOUN хороший_ADJ помощь_NOUN женщина_PROPN зарабатывать_VERB пенсия_NOUN делать_VERB свой_DET вклад_NOUN демографий_NOUN размер_VERB пенсия_NOUN составлять_VERB рубль_NOUN суть_NOUN платить_VERB деньги_NOUN женщина_NOUN выполнение_NOUN задача_NOUN чрезвычайный_ADJ важность_NOUN поскольку_SCONJ критический_ADJ ситуация_NOUN демография_NOUN пояснять_VERB общественник_NOUN беседа_NOUN издание_NOUN он_PRON добавлять_VERB важный_ADJ лишать_VERB женщина_NOUN возможность_NOUN работать_VERB случай_NOUN назначение_NOUN пенсия_NOUN при_ADP считать_VERB рождение_NOUN каждый_ADJ последующий_ADJ ребенок_NOUN должен_ADJ применяться_VERB повышать_ADJ коэффициент_NOUN если_SCONJ\n"
     ]
    },
    {
     "name": "stderr",
     "output_type": "stream",
     "text": [
      "2020-11-29 08:43:33,879 : INFO : Warming up ELMo on 10 sentences...\n",
      "2020-11-29 08:44:39,627 : INFO : Warming up finished.\n",
      "2020-11-29 08:44:39,653 : INFO : Texts in the current batch: 10\n",
      "2020-11-29 08:45:35,339 : INFO : Auth with login: +79221341105\n",
      "2020-11-29 08:45:35,340 : INFO : Checking remixsid...\n",
      "2020-11-29 08:45:35,517 : INFO : remixsid is valid\n",
      "2020-11-29 08:45:35,520 : INFO : Checking security check request\n"
     ]
    },
    {
     "name": "stdout",
     "output_type": "stream",
     "text": [
      "65\n"
     ]
    },
    {
     "name": "stderr",
     "output_type": "stream",
     "text": [
      "2020-11-29 08:45:35,782 : INFO : Security check is not required\n",
      "2020-11-29 08:45:35,971 : INFO : access_token from config is valid\n"
     ]
    },
    {
     "name": "stdout",
     "output_type": "stream",
     "text": [
      "Приватный паблик\n"
     ]
    },
    {
     "name": "stderr",
     "output_type": "stream",
     "text": [
      "\n",
      "Loading the model...\n",
      "Processing input...\n"
     ]
    },
    {
     "name": "stdout",
     "output_type": "stream",
     "text": [
      "text с_ADP приход_NOUN пост_PROPN домашний_ADJ стол_NOUN видеть_VERB блюдо_NOUN гриб_NOUN и_CCONJ разнообразие_NOUN блюдо_NOUN завидовать_VERB грибной_ADJ суп_NOUN салат_NOUN закуска_NOUN жареный_ADJ картошка_NOUN запеченный_VERB духовка_NOUN больше_NUM идея_NOUN грибной_ADJ блюдо_NOUN искать_VERB наш_DET галерея_NOUN покупка_NOUN приходить_VERB магнит_PROPN здесь_ADV ждать_VERB целый_ADJ коллекция_NOUN свежий_ADJ шампиньон_NOUN шампиньон_NOUN гриль_VERB свежий_ADJ маринованный_ADJ вешенка_NOUN гриб_NOUN шиитака_NOUN а_CCONJ пробовать_VERB шиитака_NOUN обязательно_ADV пробовать_VERB этот_PRON японский_ADJ древесный_ADJ гриб_NOUN потрясающий_VERB аромат_NOUN помогать_VERB снижать_VERB уровень_NOUN холестерин_NOUN кровь_NOUN приводить_VERB давление_NOUN норма_NOUN шиитак_PROPN добавлять_VERB салат_NOUN делать_VERB кремсуп_NOUN пожарить_VERB подавать_VERB отдельный_ADJ блюдо_ADP а_PROPN какой_DET блюдо_NOUN гриб_NOUN любить_VERB ваш_DET семья_NOUN магнит_VERB семейныймагнять_NOUN семьямагазиновмагнять_VERB\n"
     ]
    },
    {
     "name": "stderr",
     "output_type": "stream",
     "text": [
      "2020-11-29 08:45:51,373 : INFO : Warming up ELMo on 9 sentences...\n",
      "2020-11-29 08:46:22,696 : INFO : Warming up finished.\n",
      "2020-11-29 08:46:22,712 : INFO : Texts in the current batch: 9\n",
      "2020-11-29 08:46:55,679 : INFO : Auth with login: +79221341105\n",
      "2020-11-29 08:46:55,681 : INFO : Checking remixsid...\n",
      "2020-11-29 08:46:55,867 : INFO : remixsid is valid\n",
      "2020-11-29 08:46:55,869 : INFO : Checking security check request\n"
     ]
    },
    {
     "name": "stdout",
     "output_type": "stream",
     "text": [
      "66\n"
     ]
    },
    {
     "name": "stderr",
     "output_type": "stream",
     "text": [
      "2020-11-29 08:46:56,097 : INFO : Security check is not required\n",
      "2020-11-29 08:46:56,299 : INFO : access_token from config is valid\n",
      "2020-11-29 08:46:56,719 : INFO : Auth with login: +79221341105\n",
      "2020-11-29 08:46:56,722 : INFO : Checking remixsid...\n",
      "2020-11-29 08:46:56,904 : INFO : remixsid is valid\n",
      "2020-11-29 08:46:56,907 : INFO : Checking security check request\n"
     ]
    },
    {
     "name": "stdout",
     "output_type": "stream",
     "text": [
      "67\n"
     ]
    },
    {
     "name": "stderr",
     "output_type": "stream",
     "text": [
      "2020-11-29 08:46:57,112 : INFO : Security check is not required\n",
      "2020-11-29 08:46:57,297 : INFO : access_token from config is valid\n",
      "\n",
      "Loading the model...\n",
      "Processing input...\n"
     ]
    },
    {
     "name": "stdout",
     "output_type": "stream",
     "text": [
      "text черный_ADJ пятница_NOUN целый_ADJ неделя_NOUN скидка_NOUN с_ADP ноябрь_NOUN невероятно_ADV выгодный_ADJ тур_NOUN турция_PROPN сочи_PROPN красный_ADJ поляна_PROPN великий_PROPN устюг::шерегеш::мурманск::байкал::кипр_PROPN оаэ_PROPN страна_NOUN вы_PRON мочь_VERB экономить_VERB стоимость_NOUN поездка_NOUN мечта_NOUN отдых_NOUN должен_ADJ сбываться_VERB\n"
     ]
    },
    {
     "name": "stderr",
     "output_type": "stream",
     "text": [
      "2020-11-29 08:47:09,137 : INFO : Warming up ELMo on 10 sentences...\n",
      "2020-11-29 08:47:55,684 : INFO : Warming up finished.\n",
      "2020-11-29 08:47:55,746 : INFO : Texts in the current batch: 10\n",
      "2020-11-29 08:48:47,748 : INFO : Auth with login: +79221341105\n",
      "2020-11-29 08:48:47,749 : INFO : Checking remixsid...\n"
     ]
    },
    {
     "name": "stdout",
     "output_type": "stream",
     "text": [
      "68\n"
     ]
    },
    {
     "name": "stderr",
     "output_type": "stream",
     "text": [
      "2020-11-29 08:48:47,954 : INFO : remixsid is valid\n",
      "2020-11-29 08:48:47,956 : INFO : Checking security check request\n",
      "2020-11-29 08:48:48,166 : INFO : Security check is not required\n",
      "2020-11-29 08:48:48,338 : INFO : access_token from config is valid\n",
      "2020-11-29 08:48:48,745 : INFO : Auth with login: +79221341105\n",
      "2020-11-29 08:48:48,746 : INFO : Checking remixsid...\n",
      "2020-11-29 08:48:48,900 : INFO : remixsid is valid\n",
      "2020-11-29 08:48:48,902 : INFO : Checking security check request\n"
     ]
    },
    {
     "name": "stdout",
     "output_type": "stream",
     "text": [
      "69\n"
     ]
    },
    {
     "name": "stderr",
     "output_type": "stream",
     "text": [
      "2020-11-29 08:48:49,105 : INFO : Security check is not required\n",
      "2020-11-29 08:48:49,276 : INFO : access_token from config is valid\n",
      "\n",
      "Loading the model...\n",
      "Processing input...\n"
     ]
    },
    {
     "name": "stdout",
     "output_type": "stream",
     "text": [
      "text сохранять_VERB приготовить_VERB\n"
     ]
    },
    {
     "name": "stderr",
     "output_type": "stream",
     "text": [
      "2020-11-29 08:49:04,050 : INFO : Warming up ELMo on 10 sentences...\n",
      "2020-11-29 08:49:43,358 : INFO : Warming up finished.\n",
      "2020-11-29 08:49:43,372 : INFO : Texts in the current batch: 10\n",
      "2020-11-29 08:50:23,839 : INFO : Auth with login: +79221341105\n",
      "2020-11-29 08:50:23,841 : INFO : Checking remixsid...\n",
      "2020-11-29 08:50:24,018 : INFO : remixsid is valid\n",
      "2020-11-29 08:50:24,021 : INFO : Checking security check request\n"
     ]
    },
    {
     "name": "stdout",
     "output_type": "stream",
     "text": [
      "70\n"
     ]
    },
    {
     "name": "stderr",
     "output_type": "stream",
     "text": [
      "2020-11-29 08:50:24,245 : INFO : Security check is not required\n",
      "2020-11-29 08:50:24,442 : INFO : access_token from config is valid\n",
      "2020-11-29 08:50:24,851 : INFO : Auth with login: +79221341105\n",
      "2020-11-29 08:50:24,853 : INFO : Checking remixsid...\n",
      "2020-11-29 08:50:25,048 : INFO : remixsid is valid\n"
     ]
    },
    {
     "name": "stdout",
     "output_type": "stream",
     "text": [
      "71\n"
     ]
    },
    {
     "name": "stderr",
     "output_type": "stream",
     "text": [
      "2020-11-29 08:50:25,050 : INFO : Checking security check request\n",
      "2020-11-29 08:50:25,294 : INFO : Security check is not required\n",
      "2020-11-29 08:50:25,497 : INFO : access_token from config is valid\n",
      "2020-11-29 08:50:25,914 : INFO : Auth with login: +79221341105\n",
      "2020-11-29 08:50:25,915 : INFO : Checking remixsid...\n",
      "2020-11-29 08:50:26,101 : INFO : remixsid is valid\n",
      "2020-11-29 08:50:26,103 : INFO : Checking security check request\n"
     ]
    },
    {
     "name": "stdout",
     "output_type": "stream",
     "text": [
      "72\n"
     ]
    },
    {
     "name": "stderr",
     "output_type": "stream",
     "text": [
      "2020-11-29 08:50:26,323 : INFO : Security check is not required\n",
      "2020-11-29 08:50:26,537 : INFO : access_token from config is valid\n",
      "2020-11-29 08:50:26,956 : INFO : Auth with login: +79221341105\n",
      "2020-11-29 08:50:26,959 : INFO : Checking remixsid...\n"
     ]
    },
    {
     "name": "stdout",
     "output_type": "stream",
     "text": [
      "73\n"
     ]
    },
    {
     "name": "stderr",
     "output_type": "stream",
     "text": [
      "2020-11-29 08:50:27,191 : INFO : remixsid is valid\n",
      "2020-11-29 08:50:27,193 : INFO : Checking security check request\n",
      "2020-11-29 08:50:27,469 : INFO : Security check is not required\n",
      "2020-11-29 08:50:27,672 : INFO : access_token from config is valid\n",
      "2020-11-29 08:50:28,089 : INFO : Auth with login: +79221341105\n",
      "2020-11-29 08:50:28,093 : INFO : Checking remixsid...\n",
      "2020-11-29 08:50:28,271 : INFO : remixsid is valid\n",
      "2020-11-29 08:50:28,271 : INFO : Checking security check request\n"
     ]
    },
    {
     "name": "stdout",
     "output_type": "stream",
     "text": [
      "74\n"
     ]
    },
    {
     "name": "stderr",
     "output_type": "stream",
     "text": [
      "2020-11-29 08:50:28,480 : INFO : Security check is not required\n",
      "2020-11-29 08:50:28,698 : INFO : access_token from config is valid\n",
      "2020-11-29 08:50:29,105 : INFO : Auth with login: +79221341105\n",
      "2020-11-29 08:50:29,107 : INFO : Checking remixsid...\n",
      "2020-11-29 08:50:29,277 : INFO : remixsid is valid\n",
      "2020-11-29 08:50:29,279 : INFO : Checking security check request\n"
     ]
    },
    {
     "name": "stdout",
     "output_type": "stream",
     "text": [
      "75\n"
     ]
    },
    {
     "name": "stderr",
     "output_type": "stream",
     "text": [
      "2020-11-29 08:50:29,492 : INFO : Security check is not required\n",
      "2020-11-29 08:50:29,697 : INFO : access_token from config is valid\n",
      "2020-11-29 08:50:30,111 : INFO : Auth with login: +79221341105\n",
      "2020-11-29 08:50:30,113 : INFO : Checking remixsid...\n"
     ]
    },
    {
     "name": "stdout",
     "output_type": "stream",
     "text": [
      "76\n"
     ]
    },
    {
     "name": "stderr",
     "output_type": "stream",
     "text": [
      "2020-11-29 08:50:30,318 : INFO : remixsid is valid\n",
      "2020-11-29 08:50:30,320 : INFO : Checking security check request\n",
      "2020-11-29 08:50:30,560 : INFO : Security check is not required\n",
      "2020-11-29 08:50:30,749 : INFO : access_token from config is valid\n",
      "2020-11-29 08:50:31,162 : INFO : Auth with login: +79221341105\n",
      "2020-11-29 08:50:31,165 : INFO : Checking remixsid...\n",
      "2020-11-29 08:50:31,350 : INFO : remixsid is valid\n",
      "2020-11-29 08:50:31,352 : INFO : Checking security check request\n"
     ]
    },
    {
     "name": "stdout",
     "output_type": "stream",
     "text": [
      "77\n"
     ]
    },
    {
     "name": "stderr",
     "output_type": "stream",
     "text": [
      "2020-11-29 08:50:31,573 : INFO : Security check is not required\n",
      "2020-11-29 08:50:31,764 : INFO : access_token from config is valid\n",
      "2020-11-29 08:50:32,180 : INFO : Auth with login: +79221341105\n",
      "2020-11-29 08:50:32,183 : INFO : Checking remixsid...\n",
      "2020-11-29 08:50:32,373 : INFO : remixsid is valid\n",
      "2020-11-29 08:50:32,375 : INFO : Checking security check request\n"
     ]
    },
    {
     "name": "stdout",
     "output_type": "stream",
     "text": [
      "78\n"
     ]
    },
    {
     "name": "stderr",
     "output_type": "stream",
     "text": [
      "2020-11-29 08:50:32,666 : INFO : Security check is not required\n",
      "2020-11-29 08:50:32,858 : INFO : access_token from config is valid\n",
      "2020-11-29 08:50:33,268 : INFO : Auth with login: +79221341105\n",
      "2020-11-29 08:50:33,270 : INFO : Checking remixsid...\n",
      "2020-11-29 08:50:33,453 : INFO : remixsid is valid\n",
      "2020-11-29 08:50:33,455 : INFO : Checking security check request\n"
     ]
    },
    {
     "name": "stdout",
     "output_type": "stream",
     "text": [
      "79\n"
     ]
    },
    {
     "name": "stderr",
     "output_type": "stream",
     "text": [
      "2020-11-29 08:50:33,673 : INFO : Security check is not required\n",
      "2020-11-29 08:50:33,867 : INFO : access_token from config is valid\n",
      "2020-11-29 08:50:34,280 : INFO : Auth with login: +79221341105\n",
      "2020-11-29 08:50:34,290 : INFO : Checking remixsid...\n",
      "2020-11-29 08:50:34,475 : INFO : remixsid is valid\n",
      "2020-11-29 08:50:34,477 : INFO : Checking security check request\n"
     ]
    },
    {
     "name": "stdout",
     "output_type": "stream",
     "text": [
      "80\n"
     ]
    },
    {
     "name": "stderr",
     "output_type": "stream",
     "text": [
      "2020-11-29 08:50:34,714 : INFO : Security check is not required\n",
      "2020-11-29 08:50:34,900 : INFO : access_token from config is valid\n",
      "\n",
      "Loading the model...\n",
      "Processing input...\n"
     ]
    },
    {
     "name": "stdout",
     "output_type": "stream",
     "text": [
      "text максимальный_ADJ внимание_NOUN это_DET не_PART реклама_NOUN паблик_PROPN серьезно_ADV переезжать_VERB подписываться_VERB срочно_ADV что_SCONJ не_PART терять_NUM паблик_NOUN\n"
     ]
    },
    {
     "name": "stderr",
     "output_type": "stream",
     "text": [
      "2020-11-29 08:50:45,923 : INFO : Warming up ELMo on 10 sentences...\n",
      "2020-11-29 08:50:52,354 : INFO : Warming up finished.\n",
      "2020-11-29 08:50:52,359 : INFO : Texts in the current batch: 10\n",
      "2020-11-29 08:50:58,517 : INFO : Auth with login: +79221341105\n",
      "2020-11-29 08:50:58,518 : INFO : Checking remixsid...\n",
      "2020-11-29 08:50:58,675 : INFO : remixsid is valid\n",
      "2020-11-29 08:50:58,679 : INFO : Checking security check request\n"
     ]
    },
    {
     "name": "stdout",
     "output_type": "stream",
     "text": [
      "81\n"
     ]
    },
    {
     "name": "stderr",
     "output_type": "stream",
     "text": [
      "2020-11-29 08:50:58,889 : INFO : Security check is not required\n",
      "2020-11-29 08:50:59,108 : INFO : access_token from config is valid\n",
      "2020-11-29 08:50:59,526 : INFO : Auth with login: +79221341105\n",
      "2020-11-29 08:50:59,531 : INFO : Checking remixsid...\n"
     ]
    },
    {
     "name": "stdout",
     "output_type": "stream",
     "text": [
      "82\n"
     ]
    },
    {
     "name": "stderr",
     "output_type": "stream",
     "text": [
      "2020-11-29 08:50:59,726 : INFO : remixsid is valid\n",
      "2020-11-29 08:50:59,728 : INFO : Checking security check request\n",
      "2020-11-29 08:50:59,948 : INFO : Security check is not required\n",
      "2020-11-29 08:51:00,132 : INFO : access_token from config is valid\n",
      "2020-11-29 08:51:00,547 : INFO : Auth with login: +79221341105\n",
      "2020-11-29 08:51:00,550 : INFO : Checking remixsid...\n"
     ]
    },
    {
     "name": "stdout",
     "output_type": "stream",
     "text": [
      "83\n"
     ]
    },
    {
     "name": "stderr",
     "output_type": "stream",
     "text": [
      "2020-11-29 08:51:00,753 : INFO : remixsid is valid\n",
      "2020-11-29 08:51:00,755 : INFO : Checking security check request\n",
      "2020-11-29 08:51:00,968 : INFO : Security check is not required\n",
      "2020-11-29 08:51:01,157 : INFO : access_token from config is valid\n",
      "2020-11-29 08:51:01,567 : INFO : Auth with login: +79221341105\n",
      "2020-11-29 08:51:01,571 : INFO : Checking remixsid...\n",
      "2020-11-29 08:51:01,757 : INFO : remixsid is valid\n",
      "2020-11-29 08:51:01,759 : INFO : Checking security check request\n"
     ]
    },
    {
     "name": "stdout",
     "output_type": "stream",
     "text": [
      "84\n"
     ]
    },
    {
     "name": "stderr",
     "output_type": "stream",
     "text": [
      "2020-11-29 08:51:01,984 : INFO : Security check is not required\n",
      "2020-11-29 08:51:02,165 : INFO : access_token from config is valid\n",
      "\n",
      "Loading the model...\n",
      "Processing input...\n"
     ]
    },
    {
     "name": "stdout",
     "output_type": "stream",
     "text": [
      "text крутой_ADJ илв_NOUN затянуть_VERB первый_ADJ серия_NOUN подробный_ADJ описание_NOUN читать_VERB фотография_NOUN\n"
     ]
    },
    {
     "name": "stderr",
     "output_type": "stream",
     "text": [
      "2020-11-29 08:51:13,372 : INFO : Warming up ELMo on 10 sentences...\n",
      "2020-11-29 08:51:56,992 : INFO : Warming up finished.\n",
      "2020-11-29 08:51:57,011 : INFO : Texts in the current batch: 10\n",
      "2020-11-29 08:52:42,457 : INFO : Auth with login: +79221341105\n",
      "2020-11-29 08:52:42,458 : INFO : Checking remixsid...\n",
      "2020-11-29 08:52:42,629 : INFO : remixsid is valid\n",
      "2020-11-29 08:52:42,631 : INFO : Checking security check request\n"
     ]
    },
    {
     "name": "stdout",
     "output_type": "stream",
     "text": [
      "85\n"
     ]
    },
    {
     "name": "stderr",
     "output_type": "stream",
     "text": [
      "2020-11-29 08:52:42,885 : INFO : Security check is not required\n",
      "2020-11-29 08:52:43,072 : INFO : access_token from config is valid\n",
      "\n",
      "Loading the model...\n",
      "Processing input...\n"
     ]
    },
    {
     "name": "stdout",
     "output_type": "stream",
     "text": [
      "text я_PRON птица_NOUN золотой_ADJ клетка_NOUN жить_VERB роскошь_NOUN знать_VERB забота_NOUN хлопоты_NOUN обедать_VERB ужинать_VERB лучший_ADJ ресторан_NOUN путешествовать_VERB частный_ADJ джет_NOUN но_CCONJ любой_ADJ медаль_NOUN сторона_NOUN нелюбимый_ADJ мужчина_NOUN который_PRON распланировать_VERB я_PRON жить_VERB мир_NOUN власть_NOUN деньги_NOUN решать_VERB и_PART выбор_NOUN делать_VERB как_ADV стыдно_ADV поступок_NOUN когда_SCONJ дело_NOUN касаться_VERB жизнь_NOUN здоровье_NOUN родной_ADJ человек_NOUN стыд_NOUN иметь_VERB никакой_DET значение_NOUN я_PRON стыдно_ADV\n"
     ]
    },
    {
     "name": "stderr",
     "output_type": "stream",
     "text": [
      "2020-11-29 08:52:55,697 : INFO : Warming up ELMo on 10 sentences...\n",
      "2020-11-29 08:53:52,163 : INFO : Warming up finished.\n",
      "2020-11-29 08:53:52,190 : INFO : Texts in the current batch: 10\n",
      "2020-11-29 08:54:45,031 : INFO : Auth with login: +79221341105\n",
      "2020-11-29 08:54:45,032 : INFO : Checking remixsid...\n"
     ]
    },
    {
     "name": "stdout",
     "output_type": "stream",
     "text": [
      "86\n"
     ]
    },
    {
     "name": "stderr",
     "output_type": "stream",
     "text": [
      "2020-11-29 08:54:45,241 : INFO : remixsid is valid\n",
      "2020-11-29 08:54:45,242 : INFO : Checking security check request\n",
      "2020-11-29 08:54:45,462 : INFO : Security check is not required\n",
      "2020-11-29 08:54:45,654 : INFO : access_token from config is valid\n",
      "2020-11-29 08:54:46,066 : INFO : Auth with login: +79221341105\n",
      "2020-11-29 08:54:46,069 : INFO : Checking remixsid...\n",
      "2020-11-29 08:54:46,254 : INFO : remixsid is valid\n",
      "2020-11-29 08:54:46,256 : INFO : Checking security check request\n"
     ]
    },
    {
     "name": "stdout",
     "output_type": "stream",
     "text": [
      "87\n"
     ]
    },
    {
     "name": "stderr",
     "output_type": "stream",
     "text": [
      "2020-11-29 08:54:46,620 : INFO : Security check is not required\n",
      "2020-11-29 08:54:46,811 : INFO : access_token from config is valid\n",
      "2020-11-29 08:54:47,224 : INFO : Auth with login: +79221341105\n",
      "2020-11-29 08:54:47,226 : INFO : Checking remixsid...\n"
     ]
    },
    {
     "name": "stdout",
     "output_type": "stream",
     "text": [
      "88\n"
     ]
    },
    {
     "name": "stderr",
     "output_type": "stream",
     "text": [
      "2020-11-29 08:54:47,431 : INFO : remixsid is valid\n",
      "2020-11-29 08:54:47,432 : INFO : Checking security check request\n",
      "2020-11-29 08:54:47,649 : INFO : Security check is not required\n",
      "2020-11-29 08:54:47,850 : INFO : access_token from config is valid\n"
     ]
    },
    {
     "name": "stdout",
     "output_type": "stream",
     "text": [
      "Приватный паблик\n"
     ]
    },
    {
     "name": "stderr",
     "output_type": "stream",
     "text": [
      "\n",
      "Loading the model...\n",
      "Processing input...\n"
     ]
    },
    {
     "name": "stdout",
     "output_type": "stream",
     "text": [
      "text спешить_ADJ делиться_VERB долгожданный_ADJ новость_NOUN чай_NOUN смотреть_VERB покупать_VERB центр_NOUN москва_PROPN пятнадцать_NUM чаёвать_NOUN каталог_NOUN продавать_VERB бутик_NOUN адрес_NOUN богословский_PROPN переулок_VERB дом_NOUN заглядывать_VERB огонек_NOUN\n"
     ]
    },
    {
     "name": "stderr",
     "output_type": "stream",
     "text": [
      "2020-11-29 08:54:59,216 : INFO : Warming up ELMo on 9 sentences...\n",
      "2020-11-29 08:55:16,599 : INFO : Warming up finished.\n",
      "2020-11-29 08:55:16,610 : INFO : Texts in the current batch: 9\n",
      "2020-11-29 08:55:34,950 : INFO : Auth with login: +79221341105\n",
      "2020-11-29 08:55:34,951 : INFO : Checking remixsid...\n",
      "2020-11-29 08:55:35,113 : INFO : remixsid is valid\n",
      "2020-11-29 08:55:35,115 : INFO : Checking security check request\n"
     ]
    },
    {
     "name": "stdout",
     "output_type": "stream",
     "text": [
      "89\n"
     ]
    },
    {
     "name": "stderr",
     "output_type": "stream",
     "text": [
      "2020-11-29 08:55:35,329 : INFO : Security check is not required\n",
      "2020-11-29 08:55:35,523 : INFO : access_token from config is valid\n",
      "2020-11-29 08:55:35,938 : INFO : Auth with login: +79221341105\n",
      "2020-11-29 08:55:35,941 : INFO : Checking remixsid...\n",
      "2020-11-29 08:55:36,120 : INFO : remixsid is valid\n",
      "2020-11-29 08:55:36,122 : INFO : Checking security check request\n"
     ]
    },
    {
     "name": "stdout",
     "output_type": "stream",
     "text": [
      "90\n"
     ]
    },
    {
     "name": "stderr",
     "output_type": "stream",
     "text": [
      "2020-11-29 08:55:36,689 : INFO : Security check is not required\n",
      "2020-11-29 08:55:36,894 : INFO : access_token from config is valid\n",
      "2020-11-29 08:55:37,311 : INFO : Auth with login: +79221341105\n",
      "2020-11-29 08:55:37,314 : INFO : Checking remixsid...\n"
     ]
    },
    {
     "name": "stdout",
     "output_type": "stream",
     "text": [
      "91\n"
     ]
    },
    {
     "name": "stderr",
     "output_type": "stream",
     "text": [
      "2020-11-29 08:55:37,509 : INFO : remixsid is valid\n",
      "2020-11-29 08:55:37,512 : INFO : Checking security check request\n",
      "2020-11-29 08:55:37,729 : INFO : Security check is not required\n",
      "2020-11-29 08:55:37,903 : INFO : access_token from config is valid\n",
      "\n",
      "Loading the model...\n",
      "Processing input...\n"
     ]
    },
    {
     "name": "stdout",
     "output_type": "stream",
     "text": [
      "text \n"
     ]
    },
    {
     "name": "stderr",
     "output_type": "stream",
     "text": [
      "2020-11-29 08:55:49,701 : INFO : Warming up ELMo on 10 sentences...\n",
      "2020-11-29 08:56:18,344 : INFO : Warming up finished.\n",
      "2020-11-29 08:56:18,357 : INFO : Texts in the current batch: 10\n",
      "2020-11-29 08:56:46,718 : INFO : Auth with login: +79221341105\n",
      "2020-11-29 08:56:46,719 : INFO : Checking remixsid...\n",
      "2020-11-29 08:56:46,904 : INFO : remixsid is valid\n",
      "2020-11-29 08:56:46,905 : INFO : Checking security check request\n"
     ]
    },
    {
     "name": "stdout",
     "output_type": "stream",
     "text": [
      "92\n"
     ]
    },
    {
     "name": "stderr",
     "output_type": "stream",
     "text": [
      "2020-11-29 08:56:47,126 : INFO : Security check is not required\n",
      "2020-11-29 08:56:47,315 : INFO : access_token from config is valid\n",
      "2020-11-29 08:56:47,727 : INFO : Auth with login: +79221341105\n",
      "2020-11-29 08:56:47,729 : INFO : Checking remixsid...\n",
      "2020-11-29 08:56:47,908 : INFO : remixsid is valid\n",
      "2020-11-29 08:56:47,910 : INFO : Checking security check request\n"
     ]
    },
    {
     "name": "stdout",
     "output_type": "stream",
     "text": [
      "93\n"
     ]
    },
    {
     "name": "stderr",
     "output_type": "stream",
     "text": [
      "2020-11-29 08:56:48,124 : INFO : Security check is not required\n",
      "2020-11-29 08:56:48,313 : INFO : access_token from config is valid\n",
      "2020-11-29 08:56:48,723 : INFO : Auth with login: +79221341105\n",
      "2020-11-29 08:56:48,725 : INFO : Checking remixsid...\n",
      "2020-11-29 08:56:48,908 : INFO : remixsid is valid\n",
      "2020-11-29 08:56:48,910 : INFO : Checking security check request\n"
     ]
    },
    {
     "name": "stdout",
     "output_type": "stream",
     "text": [
      "94\n"
     ]
    },
    {
     "name": "stderr",
     "output_type": "stream",
     "text": [
      "2020-11-29 08:56:49,121 : INFO : Security check is not required\n",
      "2020-11-29 08:56:49,307 : INFO : access_token from config is valid\n",
      "2020-11-29 08:56:49,717 : INFO : Auth with login: +79221341105\n",
      "2020-11-29 08:56:49,719 : INFO : Checking remixsid...\n",
      "2020-11-29 08:56:49,892 : INFO : remixsid is valid\n",
      "2020-11-29 08:56:49,893 : INFO : Checking security check request\n"
     ]
    },
    {
     "name": "stdout",
     "output_type": "stream",
     "text": [
      "95\n"
     ]
    },
    {
     "name": "stderr",
     "output_type": "stream",
     "text": [
      "2020-11-29 08:56:50,113 : INFO : Security check is not required\n",
      "2020-11-29 08:56:50,302 : INFO : access_token from config is valid\n"
     ]
    },
    {
     "name": "stdout",
     "output_type": "stream",
     "text": [
      "Приватный паблик\n"
     ]
    },
    {
     "name": "stderr",
     "output_type": "stream",
     "text": [
      "\n",
      "Loading the model...\n",
      "Processing input...\n"
     ]
    },
    {
     "name": "stdout",
     "output_type": "stream",
     "text": [
      "text безумие_NOUN единственный_ADJ выход_NOUN окружать_VERB безумие_PROPN\n"
     ]
    },
    {
     "name": "stderr",
     "output_type": "stream",
     "text": [
      "2020-11-29 08:57:03,019 : INFO : Warming up ELMo on 9 sentences...\n",
      "2020-11-29 08:57:17,186 : INFO : Warming up finished.\n",
      "2020-11-29 08:57:17,193 : INFO : Texts in the current batch: 9\n",
      "2020-11-29 08:57:31,908 : INFO : Auth with login: +79221341105\n",
      "2020-11-29 08:57:31,909 : INFO : Checking remixsid...\n",
      "2020-11-29 08:57:32,086 : INFO : remixsid is valid\n",
      "2020-11-29 08:57:32,088 : INFO : Checking security check request\n"
     ]
    },
    {
     "name": "stdout",
     "output_type": "stream",
     "text": [
      "96\n"
     ]
    },
    {
     "name": "stderr",
     "output_type": "stream",
     "text": [
      "2020-11-29 08:57:32,336 : INFO : Security check is not required\n",
      "2020-11-29 08:57:32,521 : INFO : access_token from config is valid\n",
      "2020-11-29 08:57:32,930 : INFO : Auth with login: +79221341105\n",
      "2020-11-29 08:57:32,932 : INFO : Checking remixsid...\n",
      "2020-11-29 08:57:33,114 : INFO : remixsid is valid\n",
      "2020-11-29 08:57:33,116 : INFO : Checking security check request\n"
     ]
    },
    {
     "name": "stdout",
     "output_type": "stream",
     "text": [
      "97\n"
     ]
    },
    {
     "name": "stderr",
     "output_type": "stream",
     "text": [
      "2020-11-29 08:57:33,331 : INFO : Security check is not required\n",
      "2020-11-29 08:57:33,500 : INFO : access_token from config is valid\n",
      "2020-11-29 08:57:33,914 : INFO : Auth with login: +79221341105\n",
      "2020-11-29 08:57:33,929 : INFO : Checking remixsid...\n",
      "2020-11-29 08:57:34,103 : INFO : remixsid is valid\n",
      "2020-11-29 08:57:34,106 : INFO : Checking security check request\n"
     ]
    },
    {
     "name": "stdout",
     "output_type": "stream",
     "text": [
      "98\n"
     ]
    },
    {
     "name": "stderr",
     "output_type": "stream",
     "text": [
      "2020-11-29 08:57:34,346 : INFO : Security check is not required\n",
      "2020-11-29 08:57:34,541 : INFO : access_token from config is valid\n"
     ]
    },
    {
     "name": "stdout",
     "output_type": "stream",
     "text": [
      "Приватный паблик\n"
     ]
    },
    {
     "name": "stderr",
     "output_type": "stream",
     "text": [
      "\n",
      "Loading the model...\n",
      "Processing input...\n"
     ]
    },
    {
     "name": "stdout",
     "output_type": "stream",
     "text": [
      "text если_SCONJ цель_NOUN заработок_NOUN большой_ADJ заработок_NOUN лучший_ADJ мочь_VERB делать_VERB присоединяться_VERB наш_DET команда_NOUN начинать_VERB зарабатывать_VERB все_PRON ознакомляться_VERB первоначальный_ADJ информация_NOUN прослушать_VERB голосовой_ADJ видео_NOUN сообщение_NOUN смотреть_VERB ролик_NOUN стратегия_NOUN работать_VERB решать_VERB подходить_VERB метод_NOUN заработок_NOUN писать_VERB в_ADP чат_PROPN хотеть_PROPN в_ADP команда_PROPN ылка_NOUN на_ADP чат_NOUN в_ADP комментарий_NOUN с_ADP связаться_VERB лидер_PROPN команда_NOUN давать_VERB порядковый_ADJ номер_NOUN последующий_ADJ информация_NOUN выкладывать_VERB чат_PART так_ADV живой_ADJ очередь_NOUN присоединяться_VERB рад_NOUN быть_AUX видеть_VERB вас_PROPN в_ADP себя_PRON в_ADP команда_PROPN\n"
     ]
    },
    {
     "name": "stderr",
     "output_type": "stream",
     "text": [
      "2020-11-29 08:57:45,620 : INFO : Warming up ELMo on 9 sentences...\n",
      "2020-11-29 08:58:16,075 : INFO : Warming up finished.\n",
      "2020-11-29 08:58:16,101 : INFO : Texts in the current batch: 9\n",
      "2020-11-29 08:58:48,357 : INFO : Auth with login: +79221341105\n",
      "2020-11-29 08:58:48,358 : INFO : Checking remixsid...\n",
      "2020-11-29 08:58:48,541 : INFO : remixsid is valid\n",
      "2020-11-29 08:58:48,542 : INFO : Checking security check request\n"
     ]
    },
    {
     "name": "stdout",
     "output_type": "stream",
     "text": [
      "99\n"
     ]
    },
    {
     "name": "stderr",
     "output_type": "stream",
     "text": [
      "2020-11-29 08:58:48,747 : INFO : Security check is not required\n",
      "2020-11-29 08:58:48,931 : INFO : access_token from config is valid\n",
      "2020-11-29 08:58:49,340 : INFO : Auth with login: +79221341105\n",
      "2020-11-29 08:58:49,341 : INFO : Checking remixsid...\n",
      "2020-11-29 08:58:49,516 : INFO : remixsid is valid\n",
      "2020-11-29 08:58:49,517 : INFO : Checking security check request\n"
     ]
    },
    {
     "name": "stdout",
     "output_type": "stream",
     "text": [
      "100\n"
     ]
    },
    {
     "name": "stderr",
     "output_type": "stream",
     "text": [
      "2020-11-29 08:58:49,740 : INFO : Security check is not required\n",
      "2020-11-29 08:58:49,939 : INFO : access_token from config is valid\n",
      "2020-11-29 08:58:50,356 : INFO : Auth with login: +79221341105\n",
      "2020-11-29 08:58:50,370 : INFO : Checking remixsid...\n",
      "2020-11-29 08:58:50,550 : INFO : remixsid is valid\n",
      "2020-11-29 08:58:50,552 : INFO : Checking security check request\n"
     ]
    },
    {
     "name": "stdout",
     "output_type": "stream",
     "text": [
      "101\n"
     ]
    },
    {
     "name": "stderr",
     "output_type": "stream",
     "text": [
      "2020-11-29 08:58:50,763 : INFO : Security check is not required\n",
      "2020-11-29 08:58:50,932 : INFO : access_token from config is valid\n",
      "\n",
      "Loading the model...\n",
      "Processing input...\n"
     ]
    },
    {
     "name": "stdout",
     "output_type": "stream",
     "text": [
      "text главное_NOUN такой_DET равный_ADJ оставаться_VERB кроха_NOUN\n"
     ]
    },
    {
     "name": "stderr",
     "output_type": "stream",
     "text": [
      "2020-11-29 08:59:01,713 : INFO : Warming up ELMo on 10 sentences...\n",
      "2020-11-29 08:59:39,394 : INFO : Warming up finished.\n",
      "2020-11-29 08:59:39,415 : INFO : Texts in the current batch: 10\n",
      "2020-11-29 09:00:23,058 : INFO : Auth with login: +79221341105\n",
      "2020-11-29 09:00:23,058 : INFO : Checking remixsid...\n"
     ]
    },
    {
     "name": "stdout",
     "output_type": "stream",
     "text": [
      "102\n"
     ]
    },
    {
     "name": "stderr",
     "output_type": "stream",
     "text": [
      "2020-11-29 09:00:23,260 : INFO : remixsid is valid\n",
      "2020-11-29 09:00:23,262 : INFO : Checking security check request\n",
      "2020-11-29 09:00:23,471 : INFO : Security check is not required\n",
      "2020-11-29 09:00:23,671 : INFO : access_token from config is valid\n",
      "\n",
      "Loading the model...\n",
      "Processing input...\n"
     ]
    },
    {
     "name": "stdout",
     "output_type": "stream",
     "text": [
      "text \n"
     ]
    },
    {
     "name": "stderr",
     "output_type": "stream",
     "text": [
      "2020-11-29 09:00:35,960 : INFO : Warming up ELMo on 10 sentences...\n",
      "2020-11-29 09:01:16,722 : INFO : Warming up finished.\n",
      "2020-11-29 09:01:16,756 : INFO : Texts in the current batch: 10\n",
      "2020-11-29 09:01:58,422 : INFO : Auth with login: +79221341105\n",
      "2020-11-29 09:01:58,423 : INFO : Checking remixsid...\n"
     ]
    },
    {
     "name": "stdout",
     "output_type": "stream",
     "text": [
      "103\n"
     ]
    },
    {
     "name": "stderr",
     "output_type": "stream",
     "text": [
      "2020-11-29 09:01:58,623 : INFO : remixsid is valid\n",
      "2020-11-29 09:01:58,624 : INFO : Checking security check request\n",
      "2020-11-29 09:01:58,829 : INFO : Security check is not required\n",
      "2020-11-29 09:01:59,005 : INFO : access_token from config is valid\n",
      "2020-11-29 09:01:59,420 : INFO : Auth with login: +79221341105\n",
      "2020-11-29 09:01:59,425 : INFO : Checking remixsid...\n"
     ]
    },
    {
     "name": "stdout",
     "output_type": "stream",
     "text": [
      "104\n"
     ]
    },
    {
     "name": "stderr",
     "output_type": "stream",
     "text": [
      "2020-11-29 09:01:59,638 : INFO : remixsid is valid\n",
      "2020-11-29 09:01:59,640 : INFO : Checking security check request\n",
      "2020-11-29 09:01:59,850 : INFO : Security check is not required\n",
      "2020-11-29 09:02:00,065 : INFO : access_token from config is valid\n",
      "2020-11-29 09:02:00,479 : INFO : Auth with login: +79221341105\n",
      "2020-11-29 09:02:00,507 : INFO : Checking remixsid...\n"
     ]
    },
    {
     "name": "stdout",
     "output_type": "stream",
     "text": [
      "105\n"
     ]
    },
    {
     "name": "stderr",
     "output_type": "stream",
     "text": [
      "2020-11-29 09:02:00,701 : INFO : remixsid is valid\n",
      "2020-11-29 09:02:00,704 : INFO : Checking security check request\n",
      "2020-11-29 09:02:00,921 : INFO : Security check is not required\n",
      "2020-11-29 09:02:01,109 : INFO : access_token from config is valid\n",
      "\n",
      "Loading the model...\n",
      "Processing input...\n"
     ]
    },
    {
     "name": "stdout",
     "output_type": "stream",
     "text": [
      "text уже_ADV чарт_NOUN раствориться_VERB\n"
     ]
    },
    {
     "name": "stderr",
     "output_type": "stream",
     "text": [
      "2020-11-29 09:02:18,421 : INFO : Warming up ELMo on 10 sentences...\n",
      "2020-11-29 09:03:06,752 : INFO : Warming up finished.\n",
      "2020-11-29 09:03:06,773 : INFO : Texts in the current batch: 10\n",
      "2020-11-29 09:03:57,778 : INFO : Auth with login: +79221341105\n",
      "2020-11-29 09:03:57,779 : INFO : Checking remixsid...\n",
      "2020-11-29 09:03:57,961 : INFO : remixsid is valid\n",
      "2020-11-29 09:03:57,963 : INFO : Checking security check request\n"
     ]
    },
    {
     "name": "stdout",
     "output_type": "stream",
     "text": [
      "106\n"
     ]
    },
    {
     "name": "stderr",
     "output_type": "stream",
     "text": [
      "2020-11-29 09:03:58,198 : INFO : Security check is not required\n",
      "2020-11-29 09:03:58,402 : INFO : access_token from config is valid\n",
      "2020-11-29 09:03:58,886 : INFO : Auth with login: +79221341105\n",
      "2020-11-29 09:03:58,890 : INFO : Checking remixsid...\n"
     ]
    },
    {
     "name": "stdout",
     "output_type": "stream",
     "text": [
      "107\n"
     ]
    },
    {
     "name": "stderr",
     "output_type": "stream",
     "text": [
      "2020-11-29 09:03:59,097 : INFO : remixsid is valid\n",
      "2020-11-29 09:03:59,100 : INFO : Checking security check request\n",
      "2020-11-29 09:03:59,326 : INFO : Security check is not required\n",
      "2020-11-29 09:03:59,562 : INFO : access_token from config is valid\n",
      "2020-11-29 09:03:59,977 : INFO : Auth with login: +79221341105\n",
      "2020-11-29 09:03:59,980 : INFO : Checking remixsid...\n"
     ]
    },
    {
     "name": "stdout",
     "output_type": "stream",
     "text": [
      "108\n"
     ]
    },
    {
     "name": "stderr",
     "output_type": "stream",
     "text": [
      "2020-11-29 09:04:00,187 : INFO : remixsid is valid\n",
      "2020-11-29 09:04:00,190 : INFO : Checking security check request\n",
      "2020-11-29 09:04:00,412 : INFO : Security check is not required\n",
      "2020-11-29 09:04:00,600 : INFO : access_token from config is valid\n"
     ]
    },
    {
     "name": "stdout",
     "output_type": "stream",
     "text": [
      "Приватный паблик\n"
     ]
    },
    {
     "name": "stderr",
     "output_type": "stream",
     "text": [
      "\n",
      "Loading the model...\n",
      "Processing input...\n"
     ]
    },
    {
     "name": "stdout",
     "output_type": "stream",
     "text": [
      "text реальный_ADJ знакомство_NOUN твой_DET город_NOUN группа_PROPN знакомство_NOUN минск::брест_PROPN гродин_NUM могилев_NOUN витебск::гомель_PROPN\n"
     ]
    },
    {
     "name": "stderr",
     "output_type": "stream",
     "text": [
      "2020-11-29 09:04:11,859 : INFO : Warming up ELMo on 9 sentences...\n",
      "2020-11-29 09:04:24,765 : INFO : Warming up finished.\n",
      "2020-11-29 09:04:24,776 : INFO : Texts in the current batch: 9\n",
      "2020-11-29 09:04:37,909 : INFO : Auth with login: +79221341105\n",
      "2020-11-29 09:04:37,910 : INFO : Checking remixsid...\n"
     ]
    },
    {
     "name": "stdout",
     "output_type": "stream",
     "text": [
      "109\n"
     ]
    },
    {
     "name": "stderr",
     "output_type": "stream",
     "text": [
      "2020-11-29 09:04:38,113 : INFO : remixsid is valid\n",
      "2020-11-29 09:04:38,115 : INFO : Checking security check request\n",
      "2020-11-29 09:04:38,398 : INFO : Security check is not required\n",
      "2020-11-29 09:04:38,595 : INFO : access_token from config is valid\n"
     ]
    },
    {
     "name": "stdout",
     "output_type": "stream",
     "text": [
      "Приватный паблик\n"
     ]
    },
    {
     "name": "stderr",
     "output_type": "stream",
     "text": [
      "\n",
      "Loading the model...\n",
      "Processing input...\n"
     ]
    },
    {
     "name": "stdout",
     "output_type": "stream",
     "text": [
      "text \n"
     ]
    },
    {
     "name": "stderr",
     "output_type": "stream",
     "text": [
      "2020-11-29 09:04:50,496 : INFO : Warming up ELMo on 9 sentences...\n",
      "2020-11-29 09:05:53,329 : INFO : Warming up finished.\n",
      "2020-11-29 09:05:53,366 : INFO : Texts in the current batch: 9\n",
      "2020-11-29 09:06:59,940 : INFO : Auth with login: +79221341105\n",
      "2020-11-29 09:06:59,943 : INFO : Checking remixsid...\n",
      "2020-11-29 09:07:00,135 : INFO : remixsid is valid\n",
      "2020-11-29 09:07:00,136 : INFO : Checking security check request\n"
     ]
    },
    {
     "name": "stdout",
     "output_type": "stream",
     "text": [
      "110\n"
     ]
    },
    {
     "name": "stderr",
     "output_type": "stream",
     "text": [
      "2020-11-29 09:07:00,354 : INFO : Security check is not required\n",
      "2020-11-29 09:07:00,530 : INFO : access_token from config is valid\n"
     ]
    },
    {
     "name": "stdout",
     "output_type": "stream",
     "text": [
      "Приватный паблик\n"
     ]
    },
    {
     "name": "stderr",
     "output_type": "stream",
     "text": [
      "\n",
      "Loading the model...\n",
      "Processing input...\n"
     ]
    },
    {
     "name": "stdout",
     "output_type": "stream",
     "text": [
      "text \n"
     ]
    },
    {
     "name": "stderr",
     "output_type": "stream",
     "text": [
      "2020-11-29 09:07:12,947 : INFO : Warming up ELMo on 9 sentences...\n",
      "2020-11-29 09:08:08,550 : INFO : Warming up finished.\n",
      "2020-11-29 09:08:08,596 : INFO : Texts in the current batch: 9\n",
      "2020-11-29 09:09:07,452 : INFO : Auth with login: +79221341105\n",
      "2020-11-29 09:09:07,457 : INFO : Checking remixsid...\n",
      "2020-11-29 09:09:07,644 : INFO : remixsid is valid\n",
      "2020-11-29 09:09:07,646 : INFO : Checking security check request\n"
     ]
    },
    {
     "name": "stdout",
     "output_type": "stream",
     "text": [
      "111\n"
     ]
    },
    {
     "name": "stderr",
     "output_type": "stream",
     "text": [
      "2020-11-29 09:09:07,855 : INFO : Security check is not required\n",
      "2020-11-29 09:09:08,077 : INFO : access_token from config is valid\n",
      "2020-11-29 09:09:08,480 : INFO : Auth with login: +79221341105\n",
      "2020-11-29 09:09:08,484 : INFO : Checking remixsid...\n",
      "2020-11-29 09:09:08,656 : INFO : remixsid is valid\n",
      "2020-11-29 09:09:08,661 : INFO : Checking security check request\n"
     ]
    },
    {
     "name": "stdout",
     "output_type": "stream",
     "text": [
      "112\n"
     ]
    },
    {
     "name": "stderr",
     "output_type": "stream",
     "text": [
      "2020-11-29 09:09:08,891 : INFO : Security check is not required\n",
      "2020-11-29 09:09:09,061 : INFO : access_token from config is valid\n",
      "2020-11-29 09:09:09,469 : INFO : Auth with login: +79221341105\n",
      "2020-11-29 09:09:09,480 : INFO : Checking remixsid...\n"
     ]
    },
    {
     "name": "stdout",
     "output_type": "stream",
     "text": [
      "113\n"
     ]
    },
    {
     "name": "stderr",
     "output_type": "stream",
     "text": [
      "2020-11-29 09:09:09,672 : INFO : remixsid is valid\n",
      "2020-11-29 09:09:09,674 : INFO : Checking security check request\n",
      "2020-11-29 09:09:09,883 : INFO : Security check is not required\n",
      "2020-11-29 09:09:10,054 : INFO : access_token from config is valid\n",
      "2020-11-29 09:09:10,463 : INFO : Auth with login: +79221341105\n",
      "2020-11-29 09:09:10,470 : INFO : Checking remixsid...\n"
     ]
    },
    {
     "name": "stdout",
     "output_type": "stream",
     "text": [
      "114\n"
     ]
    },
    {
     "name": "stderr",
     "output_type": "stream",
     "text": [
      "2020-11-29 09:09:10,670 : INFO : remixsid is valid\n",
      "2020-11-29 09:09:10,671 : INFO : Checking security check request\n",
      "2020-11-29 09:09:10,890 : INFO : Security check is not required\n",
      "2020-11-29 09:09:11,076 : INFO : access_token from config is valid\n",
      "2020-11-29 09:09:11,489 : INFO : Auth with login: +79221341105\n",
      "2020-11-29 09:09:11,490 : INFO : Checking remixsid...\n"
     ]
    },
    {
     "name": "stdout",
     "output_type": "stream",
     "text": [
      "115\n"
     ]
    },
    {
     "name": "stderr",
     "output_type": "stream",
     "text": [
      "2020-11-29 09:09:11,693 : INFO : remixsid is valid\n",
      "2020-11-29 09:09:11,696 : INFO : Checking security check request\n",
      "2020-11-29 09:09:11,929 : INFO : Security check is not required\n",
      "2020-11-29 09:09:12,179 : INFO : access_token from config is valid\n",
      "2020-11-29 09:09:12,627 : INFO : Auth with login: +79221341105\n",
      "2020-11-29 09:09:12,634 : INFO : Checking remixsid...\n"
     ]
    },
    {
     "name": "stdout",
     "output_type": "stream",
     "text": [
      "116\n"
     ]
    },
    {
     "name": "stderr",
     "output_type": "stream",
     "text": [
      "2020-11-29 09:09:12,853 : INFO : remixsid is valid\n",
      "2020-11-29 09:09:12,854 : INFO : Checking security check request\n",
      "2020-11-29 09:09:13,092 : INFO : Security check is not required\n",
      "2020-11-29 09:09:13,337 : INFO : access_token from config is valid\n",
      "2020-11-29 09:09:13,775 : INFO : Auth with login: +79221341105\n",
      "2020-11-29 09:09:13,779 : INFO : Checking remixsid...\n",
      "2020-11-29 09:09:13,962 : INFO : remixsid is valid\n",
      "2020-11-29 09:09:13,966 : INFO : Checking security check request\n"
     ]
    },
    {
     "name": "stdout",
     "output_type": "stream",
     "text": [
      "117\n"
     ]
    },
    {
     "name": "stderr",
     "output_type": "stream",
     "text": [
      "2020-11-29 09:09:14,187 : INFO : Security check is not required\n",
      "2020-11-29 09:09:14,426 : INFO : access_token from config is valid\n",
      "2020-11-29 09:09:14,846 : INFO : Auth with login: +79221341105\n",
      "2020-11-29 09:09:14,849 : INFO : Checking remixsid...\n"
     ]
    },
    {
     "name": "stdout",
     "output_type": "stream",
     "text": [
      "118\n"
     ]
    },
    {
     "name": "stderr",
     "output_type": "stream",
     "text": [
      "2020-11-29 09:09:15,051 : INFO : remixsid is valid\n",
      "2020-11-29 09:09:15,054 : INFO : Checking security check request\n",
      "2020-11-29 09:09:15,291 : INFO : Security check is not required\n",
      "2020-11-29 09:09:15,512 : INFO : access_token from config is valid\n",
      "2020-11-29 09:09:15,926 : INFO : Auth with login: +79221341105\n",
      "2020-11-29 09:09:15,930 : INFO : Checking remixsid...\n"
     ]
    },
    {
     "name": "stdout",
     "output_type": "stream",
     "text": [
      "119\n"
     ]
    },
    {
     "name": "stderr",
     "output_type": "stream",
     "text": [
      "2020-11-29 09:09:16,131 : INFO : remixsid is valid\n",
      "2020-11-29 09:09:16,134 : INFO : Checking security check request\n",
      "2020-11-29 09:09:16,360 : INFO : Security check is not required\n",
      "2020-11-29 09:09:16,531 : INFO : access_token from config is valid\n",
      "\n",
      "Loading the model...\n",
      "Processing input...\n"
     ]
    },
    {
     "name": "stdout",
     "output_type": "stream",
     "text": [
      "text оригинально_ADV придумать_VERB\n"
     ]
    },
    {
     "name": "stderr",
     "output_type": "stream",
     "text": [
      "2020-11-29 09:09:28,846 : INFO : Warming up ELMo on 10 sentences...\n",
      "2020-11-29 09:10:02,481 : INFO : Warming up finished.\n",
      "2020-11-29 09:10:02,498 : INFO : Texts in the current batch: 10\n",
      "2020-11-29 09:10:34,135 : INFO : Auth with login: +79221341105\n",
      "2020-11-29 09:10:34,136 : INFO : Checking remixsid...\n",
      "2020-11-29 09:10:34,307 : INFO : remixsid is valid\n",
      "2020-11-29 09:10:34,309 : INFO : Checking security check request\n"
     ]
    },
    {
     "name": "stdout",
     "output_type": "stream",
     "text": [
      "120\n"
     ]
    },
    {
     "name": "stderr",
     "output_type": "stream",
     "text": [
      "2020-11-29 09:10:34,523 : INFO : Security check is not required\n",
      "2020-11-29 09:10:34,737 : INFO : access_token from config is valid\n"
     ]
    },
    {
     "name": "stdout",
     "output_type": "stream",
     "text": [
      "Приватный паблик\n"
     ]
    },
    {
     "name": "stderr",
     "output_type": "stream",
     "text": [
      "\n",
      "Loading the model...\n",
      "Processing input...\n"
     ]
    },
    {
     "name": "stdout",
     "output_type": "stream",
     "text": [
      "text \n"
     ]
    },
    {
     "name": "stderr",
     "output_type": "stream",
     "text": [
      "2020-11-29 09:10:49,555 : INFO : Warming up ELMo on 9 sentences...\n",
      "2020-11-29 09:11:08,922 : INFO : Warming up finished.\n",
      "2020-11-29 09:11:08,931 : INFO : Texts in the current batch: 9\n",
      "2020-11-29 09:11:30,030 : INFO : Auth with login: +79221341105\n",
      "2020-11-29 09:11:30,031 : INFO : Checking remixsid...\n",
      "2020-11-29 09:11:30,203 : INFO : remixsid is valid\n",
      "2020-11-29 09:11:30,205 : INFO : Checking security check request\n"
     ]
    },
    {
     "name": "stdout",
     "output_type": "stream",
     "text": [
      "121\n"
     ]
    },
    {
     "name": "stderr",
     "output_type": "stream",
     "text": [
      "2020-11-29 09:11:30,420 : INFO : Security check is not required\n",
      "2020-11-29 09:11:30,593 : INFO : access_token from config is valid\n",
      "2020-11-29 09:11:30,997 : INFO : Auth with login: +79221341105\n",
      "2020-11-29 09:11:31,001 : INFO : Checking remixsid...\n",
      "2020-11-29 09:11:31,191 : INFO : remixsid is valid\n",
      "2020-11-29 09:11:31,193 : INFO : Checking security check request\n"
     ]
    },
    {
     "name": "stdout",
     "output_type": "stream",
     "text": [
      "122\n"
     ]
    },
    {
     "name": "stderr",
     "output_type": "stream",
     "text": [
      "2020-11-29 09:11:31,414 : INFO : Security check is not required\n",
      "2020-11-29 09:11:31,580 : INFO : access_token from config is valid\n",
      "2020-11-29 09:11:31,990 : INFO : Auth with login: +79221341105\n",
      "2020-11-29 09:11:31,993 : INFO : Checking remixsid...\n"
     ]
    },
    {
     "name": "stdout",
     "output_type": "stream",
     "text": [
      "123\n"
     ]
    },
    {
     "name": "stderr",
     "output_type": "stream",
     "text": [
      "2020-11-29 09:11:32,221 : INFO : remixsid is valid\n",
      "2020-11-29 09:11:32,223 : INFO : Checking security check request\n",
      "2020-11-29 09:11:32,436 : INFO : Security check is not required\n",
      "2020-11-29 09:11:32,608 : INFO : access_token from config is valid\n",
      "2020-11-29 09:11:33,023 : INFO : Auth with login: +79221341105\n",
      "2020-11-29 09:11:33,025 : INFO : Checking remixsid...\n"
     ]
    },
    {
     "name": "stdout",
     "output_type": "stream",
     "text": [
      "124\n"
     ]
    },
    {
     "name": "stderr",
     "output_type": "stream",
     "text": [
      "2020-11-29 09:11:33,225 : INFO : remixsid is valid\n",
      "2020-11-29 09:11:33,226 : INFO : Checking security check request\n",
      "2020-11-29 09:11:33,440 : INFO : Security check is not required\n",
      "2020-11-29 09:11:33,638 : INFO : access_token from config is valid\n",
      "2020-11-29 09:11:34,057 : INFO : Auth with login: +79221341105\n",
      "2020-11-29 09:11:34,059 : INFO : Checking remixsid...\n",
      "2020-11-29 09:11:34,244 : INFO : remixsid is valid\n",
      "2020-11-29 09:11:34,246 : INFO : Checking security check request\n"
     ]
    },
    {
     "name": "stdout",
     "output_type": "stream",
     "text": [
      "125\n"
     ]
    },
    {
     "name": "stderr",
     "output_type": "stream",
     "text": [
      "2020-11-29 09:11:34,483 : INFO : Security check is not required\n",
      "2020-11-29 09:11:34,711 : INFO : access_token from config is valid\n",
      "2020-11-29 09:11:35,132 : INFO : Auth with login: +79221341105\n",
      "2020-11-29 09:11:35,135 : INFO : Checking remixsid...\n"
     ]
    },
    {
     "name": "stdout",
     "output_type": "stream",
     "text": [
      "126\n"
     ]
    },
    {
     "name": "stderr",
     "output_type": "stream",
     "text": [
      "2020-11-29 09:11:35,354 : INFO : remixsid is valid\n",
      "2020-11-29 09:11:35,357 : INFO : Checking security check request\n",
      "2020-11-29 09:11:35,584 : INFO : Security check is not required\n",
      "2020-11-29 09:11:35,799 : INFO : access_token from config is valid\n",
      "2020-11-29 09:11:36,213 : INFO : Auth with login: +79221341105\n",
      "2020-11-29 09:11:36,221 : INFO : Checking remixsid...\n",
      "2020-11-29 09:11:36,387 : INFO : remixsid is valid\n",
      "2020-11-29 09:11:36,389 : INFO : Checking security check request\n"
     ]
    },
    {
     "name": "stdout",
     "output_type": "stream",
     "text": [
      "127\n"
     ]
    },
    {
     "name": "stderr",
     "output_type": "stream",
     "text": [
      "2020-11-29 09:11:36,600 : INFO : Security check is not required\n",
      "2020-11-29 09:11:36,775 : INFO : access_token from config is valid\n",
      "\n",
      "Loading the model...\n",
      "Processing input...\n"
     ]
    },
    {
     "name": "stdout",
     "output_type": "stream",
     "text": [
      "text добро_NOUN пожаловать_VERB группа_NOUN если_SCONJ вопрос_NOUN работа_NOUN приложение_NOUN читать_VERB список_NOUN задавать_VERB вопрос_NOUN скорее_ADV ответ_NOUN если_SCONJ предложение_NOUN улучшение_NOUN приложение_NOUN опубликовывать_VERB так_ADV просто_ADV следить_VERB если_SCONJ вопрос_NOUN мочь_VERB задавать_VERB обсуждение_NOUN стараться_VERB отвечать_VERB\n"
     ]
    },
    {
     "name": "stderr",
     "output_type": "stream",
     "text": [
      "2020-11-29 09:11:49,539 : INFO : Warming up ELMo on 10 sentences...\n",
      "2020-11-29 09:12:10,792 : INFO : Warming up finished.\n",
      "2020-11-29 09:12:10,809 : INFO : Texts in the current batch: 10\n",
      "2020-11-29 09:12:32,059 : INFO : Auth with login: +79221341105\n",
      "2020-11-29 09:12:32,060 : INFO : Checking remixsid...\n",
      "2020-11-29 09:12:32,238 : INFO : remixsid is valid\n",
      "2020-11-29 09:12:32,239 : INFO : Checking security check request\n"
     ]
    },
    {
     "name": "stdout",
     "output_type": "stream",
     "text": [
      "128\n"
     ]
    },
    {
     "name": "stderr",
     "output_type": "stream",
     "text": [
      "2020-11-29 09:12:32,461 : INFO : Security check is not required\n",
      "2020-11-29 09:12:32,651 : INFO : access_token from config is valid\n",
      "2020-11-29 09:12:33,065 : INFO : Auth with login: +79221341105\n",
      "2020-11-29 09:12:33,068 : INFO : Checking remixsid...\n",
      "2020-11-29 09:12:33,253 : INFO : remixsid is valid\n",
      "2020-11-29 09:12:33,254 : INFO : Checking security check request\n"
     ]
    },
    {
     "name": "stdout",
     "output_type": "stream",
     "text": [
      "129\n"
     ]
    },
    {
     "name": "stderr",
     "output_type": "stream",
     "text": [
      "2020-11-29 09:12:33,460 : INFO : Security check is not required\n",
      "2020-11-29 09:12:33,654 : INFO : access_token from config is valid\n",
      "2020-11-29 09:12:34,066 : INFO : Auth with login: +79221341105\n",
      "2020-11-29 09:12:34,067 : INFO : Checking remixsid...\n",
      "2020-11-29 09:12:34,239 : INFO : remixsid is valid\n",
      "2020-11-29 09:12:34,241 : INFO : Checking security check request\n"
     ]
    },
    {
     "name": "stdout",
     "output_type": "stream",
     "text": [
      "130\n"
     ]
    },
    {
     "name": "stderr",
     "output_type": "stream",
     "text": [
      "2020-11-29 09:12:34,476 : INFO : Security check is not required\n",
      "2020-11-29 09:12:34,703 : INFO : access_token from config is valid\n",
      "2020-11-29 09:12:35,115 : INFO : Auth with login: +79221341105\n",
      "2020-11-29 09:12:35,118 : INFO : Checking remixsid...\n",
      "2020-11-29 09:12:35,296 : INFO : remixsid is valid\n",
      "2020-11-29 09:12:35,301 : INFO : Checking security check request\n"
     ]
    },
    {
     "name": "stdout",
     "output_type": "stream",
     "text": [
      "131\n"
     ]
    },
    {
     "name": "stderr",
     "output_type": "stream",
     "text": [
      "2020-11-29 09:12:35,590 : INFO : Security check is not required\n",
      "2020-11-29 09:12:35,792 : INFO : access_token from config is valid\n",
      "\n",
      "Loading the model...\n",
      "Processing input...\n"
     ]
    },
    {
     "name": "stdout",
     "output_type": "stream",
     "text": [
      "text а_CCONJ слышать_VERB песня_NOUN\n"
     ]
    },
    {
     "name": "stderr",
     "output_type": "stream",
     "text": [
      "2020-11-29 09:12:51,753 : INFO : Warming up ELMo on 10 sentences...\n",
      "2020-11-29 09:13:28,444 : INFO : Warming up finished.\n",
      "2020-11-29 09:13:28,462 : INFO : Texts in the current batch: 10\n",
      "2020-11-29 09:14:05,165 : INFO : Auth with login: +79221341105\n",
      "2020-11-29 09:14:05,165 : INFO : Checking remixsid...\n",
      "2020-11-29 09:14:05,336 : INFO : remixsid is valid\n",
      "2020-11-29 09:14:05,338 : INFO : Checking security check request\n"
     ]
    },
    {
     "name": "stdout",
     "output_type": "stream",
     "text": [
      "132\n"
     ]
    },
    {
     "name": "stderr",
     "output_type": "stream",
     "text": [
      "2020-11-29 09:14:05,563 : INFO : Security check is not required\n",
      "2020-11-29 09:14:05,761 : INFO : access_token from config is valid\n"
     ]
    },
    {
     "name": "stdout",
     "output_type": "stream",
     "text": [
      "Приватный паблик\n",
      "text написать_VERB наш_DET бота_NOUN комикс_PROPN\n"
     ]
    },
    {
     "name": "stderr",
     "output_type": "stream",
     "text": [
      "\n",
      "Loading the model...\n",
      "Processing input...\n",
      "2020-11-29 09:14:19,709 : INFO : Warming up ELMo on 9 sentences...\n",
      "2020-11-29 09:14:56,898 : INFO : Warming up finished.\n",
      "2020-11-29 09:14:56,912 : INFO : Texts in the current batch: 9\n",
      "2020-11-29 09:15:30,877 : INFO : Auth with login: +79221341105\n",
      "2020-11-29 09:15:30,878 : INFO : Checking remixsid...\n",
      "2020-11-29 09:15:31,061 : INFO : remixsid is valid\n",
      "2020-11-29 09:15:31,064 : INFO : Checking security check request\n"
     ]
    },
    {
     "name": "stdout",
     "output_type": "stream",
     "text": [
      "133\n"
     ]
    },
    {
     "name": "stderr",
     "output_type": "stream",
     "text": [
      "2020-11-29 09:15:31,295 : INFO : Security check is not required\n",
      "2020-11-29 09:15:31,469 : INFO : access_token from config is valid\n",
      "\n",
      "Loading the model...\n",
      "Processing input...\n"
     ]
    },
    {
     "name": "stdout",
     "output_type": "stream",
     "text": [
      "text новый_ADJ видео_NOUN канал_NOUN\n"
     ]
    },
    {
     "name": "stderr",
     "output_type": "stream",
     "text": [
      "2020-11-29 09:15:44,513 : INFO : Warming up ELMo on 10 sentences...\n",
      "2020-11-29 09:16:40,375 : INFO : Warming up finished.\n",
      "2020-11-29 09:16:40,403 : INFO : Texts in the current batch: 10\n",
      "2020-11-29 09:17:45,704 : INFO : Auth with login: +79221341105\n",
      "2020-11-29 09:17:45,705 : INFO : Checking remixsid...\n"
     ]
    },
    {
     "name": "stdout",
     "output_type": "stream",
     "text": [
      "134\n"
     ]
    },
    {
     "name": "stderr",
     "output_type": "stream",
     "text": [
      "2020-11-29 09:17:45,906 : INFO : remixsid is valid\n",
      "2020-11-29 09:17:45,909 : INFO : Checking security check request\n",
      "2020-11-29 09:17:46,129 : INFO : Security check is not required\n",
      "2020-11-29 09:17:46,342 : INFO : access_token from config is valid\n",
      "2020-11-29 09:17:46,778 : INFO : Auth with login: +79221341105\n",
      "2020-11-29 09:17:46,780 : INFO : Checking remixsid...\n",
      "2020-11-29 09:17:46,969 : INFO : remixsid is valid\n",
      "2020-11-29 09:17:46,972 : INFO : Checking security check request\n"
     ]
    },
    {
     "name": "stdout",
     "output_type": "stream",
     "text": [
      "135\n"
     ]
    },
    {
     "name": "stderr",
     "output_type": "stream",
     "text": [
      "2020-11-29 09:17:47,197 : INFO : Security check is not required\n",
      "2020-11-29 09:17:47,361 : INFO : access_token from config is valid\n",
      "\n",
      "Loading the model...\n",
      "Processing input...\n"
     ]
    },
    {
     "name": "stdout",
     "output_type": "stream",
     "text": [
      "text работа_NOUN проживать_VERB москвесрочный_ADJ набортребования_NOUN паспорт_PROPN гражданство_PROPN рф_PROPN мжвозвраст_PROPN летсотрудничество_NOUN совмещать_VERB ваш_DET основной_ADJ работа_NOUN учебойз_PROPN один_ADJ банк::оплата_PROPN рубль_NOUN рука_PROPN проходав_VERB день_PROPN проходить_VERB банкапый_PROPN вопрос_NOUN трудоустройство_PROPN писать_VERB воцап_PROPN\n"
     ]
    },
    {
     "name": "stderr",
     "output_type": "stream",
     "text": [
      "2020-11-29 09:17:59,394 : INFO : Warming up ELMo on 10 sentences...\n",
      "2020-11-29 09:18:17,260 : INFO : Warming up finished.\n",
      "2020-11-29 09:18:17,269 : INFO : Texts in the current batch: 10\n",
      "2020-11-29 09:18:35,639 : INFO : Auth with login: +79221341105\n",
      "2020-11-29 09:18:35,640 : INFO : Checking remixsid...\n",
      "2020-11-29 09:18:35,822 : INFO : remixsid is valid\n",
      "2020-11-29 09:18:35,826 : INFO : Checking security check request\n"
     ]
    },
    {
     "name": "stdout",
     "output_type": "stream",
     "text": [
      "136\n"
     ]
    },
    {
     "name": "stderr",
     "output_type": "stream",
     "text": [
      "2020-11-29 09:18:36,258 : INFO : Security check is not required\n",
      "2020-11-29 09:18:36,474 : INFO : access_token from config is valid\n"
     ]
    },
    {
     "name": "stdout",
     "output_type": "stream",
     "text": [
      "Приватный паблик\n"
     ]
    },
    {
     "name": "stderr",
     "output_type": "stream",
     "text": [
      "\n",
      "Loading the model...\n",
      "Processing input...\n"
     ]
    },
    {
     "name": "stdout",
     "output_type": "stream",
     "text": [
      "text \n"
     ]
    },
    {
     "name": "stderr",
     "output_type": "stream",
     "text": [
      "2020-11-29 09:18:48,874 : INFO : Warming up ELMo on 9 sentences...\n",
      "2020-11-29 09:19:15,514 : INFO : Warming up finished.\n",
      "2020-11-29 09:19:15,522 : INFO : Texts in the current batch: 9\n",
      "2020-11-29 09:19:43,180 : INFO : Auth with login: +79221341105\n",
      "2020-11-29 09:19:43,181 : INFO : Checking remixsid...\n",
      "2020-11-29 09:19:43,380 : INFO : remixsid is valid\n"
     ]
    },
    {
     "name": "stdout",
     "output_type": "stream",
     "text": [
      "137\n"
     ]
    },
    {
     "name": "stderr",
     "output_type": "stream",
     "text": [
      "2020-11-29 09:19:43,382 : INFO : Checking security check request\n",
      "2020-11-29 09:19:43,630 : INFO : Security check is not required\n",
      "2020-11-29 09:19:43,811 : INFO : access_token from config is valid\n",
      "\n",
      "Loading the model...\n",
      "Processing input...\n"
     ]
    },
    {
     "name": "stdout",
     "output_type": "stream",
     "text": [
      "text диплом_NOUN дипломный_ADJ заказатьдипл_NOUN курсовой_ADJ диссертация_NOUN отчет_VERB практика_NOUN помощь_PROPN студент_NOUN консультация_NOUN дипломный_ADJ курсовый_ADJ контрольный_ADJ реферат_NOUN эссе_NOUN лабораторный_ADJ тест_NOUN другой_ADJ работа_NOUN обращаться_VERB пщь_VERB удентам_NOUN диплма_PROPN курсвый_NOUN диссертция_PROPN\n"
     ]
    },
    {
     "name": "stderr",
     "output_type": "stream",
     "text": [
      "2020-11-29 09:19:59,507 : INFO : Warming up ELMo on 10 sentences...\n",
      "2020-11-29 09:20:26,557 : INFO : Warming up finished.\n",
      "2020-11-29 09:20:26,581 : INFO : Texts in the current batch: 10\n",
      "2020-11-29 09:21:03,703 : INFO : Auth with login: +79221341105\n",
      "2020-11-29 09:21:03,705 : INFO : Checking remixsid...\n",
      "2020-11-29 09:21:03,901 : INFO : remixsid is valid\n",
      "2020-11-29 09:21:03,902 : INFO : Checking security check request\n"
     ]
    },
    {
     "name": "stdout",
     "output_type": "stream",
     "text": [
      "138\n"
     ]
    },
    {
     "name": "stderr",
     "output_type": "stream",
     "text": [
      "2020-11-29 09:21:04,162 : INFO : Security check is not required\n",
      "2020-11-29 09:21:04,354 : INFO : access_token from config is valid\n",
      "2020-11-29 09:21:04,764 : INFO : Auth with login: +79221341105\n",
      "2020-11-29 09:21:04,765 : INFO : Checking remixsid...\n",
      "2020-11-29 09:21:04,941 : INFO : remixsid is valid\n",
      "2020-11-29 09:21:04,943 : INFO : Checking security check request\n"
     ]
    },
    {
     "name": "stdout",
     "output_type": "stream",
     "text": [
      "139\n"
     ]
    },
    {
     "name": "stderr",
     "output_type": "stream",
     "text": [
      "2020-11-29 09:21:05,171 : INFO : Security check is not required\n",
      "2020-11-29 09:21:05,359 : INFO : access_token from config is valid\n",
      "2020-11-29 09:21:05,773 : INFO : Auth with login: +79221341105\n",
      "2020-11-29 09:21:05,776 : INFO : Checking remixsid...\n"
     ]
    },
    {
     "name": "stdout",
     "output_type": "stream",
     "text": [
      "140\n"
     ]
    },
    {
     "name": "stderr",
     "output_type": "stream",
     "text": [
      "2020-11-29 09:21:06,006 : INFO : remixsid is valid\n",
      "2020-11-29 09:21:06,008 : INFO : Checking security check request\n",
      "2020-11-29 09:21:06,225 : INFO : Security check is not required\n",
      "2020-11-29 09:21:06,402 : INFO : access_token from config is valid\n",
      "2020-11-29 09:21:06,813 : INFO : Auth with login: +79221341105\n",
      "2020-11-29 09:21:06,814 : INFO : Checking remixsid...\n",
      "2020-11-29 09:21:06,984 : INFO : remixsid is valid\n",
      "2020-11-29 09:21:06,985 : INFO : Checking security check request\n"
     ]
    },
    {
     "name": "stdout",
     "output_type": "stream",
     "text": [
      "141\n"
     ]
    },
    {
     "name": "stderr",
     "output_type": "stream",
     "text": [
      "2020-11-29 09:21:07,206 : INFO : Security check is not required\n",
      "2020-11-29 09:21:07,381 : INFO : access_token from config is valid\n",
      "2020-11-29 09:21:07,795 : INFO : Auth with login: +79221341105\n",
      "2020-11-29 09:21:07,799 : INFO : Checking remixsid...\n",
      "2020-11-29 09:21:07,979 : INFO : remixsid is valid\n",
      "2020-11-29 09:21:07,981 : INFO : Checking security check request\n"
     ]
    },
    {
     "name": "stdout",
     "output_type": "stream",
     "text": [
      "142\n"
     ]
    },
    {
     "name": "stderr",
     "output_type": "stream",
     "text": [
      "2020-11-29 09:21:08,196 : INFO : Security check is not required\n",
      "2020-11-29 09:21:08,390 : INFO : access_token from config is valid\n",
      "2020-11-29 09:21:08,816 : INFO : Auth with login: +79221341105\n",
      "2020-11-29 09:21:08,819 : INFO : Checking remixsid...\n"
     ]
    },
    {
     "name": "stdout",
     "output_type": "stream",
     "text": [
      "143\n"
     ]
    },
    {
     "name": "stderr",
     "output_type": "stream",
     "text": [
      "2020-11-29 09:21:09,017 : INFO : remixsid is valid\n",
      "2020-11-29 09:21:09,021 : INFO : Checking security check request\n",
      "2020-11-29 09:21:09,246 : INFO : Security check is not required\n",
      "2020-11-29 09:21:09,470 : INFO : access_token from config is valid\n",
      "\n",
      "Loading the model...\n",
      "Processing input...\n"
     ]
    },
    {
     "name": "stdout",
     "output_type": "stream",
     "text": [
      "text мть_NOUN юмор_NOUN прикол_NOUN шутка_NOUN веселье_NOUN\n"
     ]
    },
    {
     "name": "stderr",
     "output_type": "stream",
     "text": [
      "2020-11-29 09:21:21,665 : INFO : Warming up ELMo on 10 sentences...\n",
      "2020-11-29 09:21:56,076 : INFO : Warming up finished.\n",
      "2020-11-29 09:21:56,126 : INFO : Texts in the current batch: 10\n",
      "2020-11-29 09:22:34,472 : INFO : Auth with login: +79221341105\n",
      "2020-11-29 09:22:34,473 : INFO : Checking remixsid...\n",
      "2020-11-29 09:22:34,664 : INFO : remixsid is valid\n",
      "2020-11-29 09:22:34,665 : INFO : Checking security check request\n"
     ]
    },
    {
     "name": "stdout",
     "output_type": "stream",
     "text": [
      "144\n"
     ]
    },
    {
     "name": "stderr",
     "output_type": "stream",
     "text": [
      "2020-11-29 09:22:34,883 : INFO : Security check is not required\n",
      "2020-11-29 09:22:35,072 : INFO : access_token from config is valid\n"
     ]
    },
    {
     "name": "stdout",
     "output_type": "stream",
     "text": [
      "Приватный паблик\n"
     ]
    },
    {
     "name": "stderr",
     "output_type": "stream",
     "text": [
      "\n",
      "Loading the model...\n",
      "Processing input...\n"
     ]
    },
    {
     "name": "stdout",
     "output_type": "stream",
     "text": [
      "text новый_ADJ видео_NOUN канал_NOUN\n"
     ]
    },
    {
     "name": "stderr",
     "output_type": "stream",
     "text": [
      "2020-11-29 09:22:46,708 : INFO : Warming up ELMo on 9 sentences...\n",
      "2020-11-29 09:23:25,256 : INFO : Warming up finished.\n",
      "2020-11-29 09:23:25,291 : INFO : Texts in the current batch: 9\n",
      "2020-11-29 09:24:08,693 : INFO : Auth with login: +79221341105\n",
      "2020-11-29 09:24:08,693 : INFO : Checking remixsid...\n"
     ]
    },
    {
     "name": "stdout",
     "output_type": "stream",
     "text": [
      "145\n"
     ]
    },
    {
     "name": "stderr",
     "output_type": "stream",
     "text": [
      "2020-11-29 09:24:08,896 : INFO : remixsid is valid\n",
      "2020-11-29 09:24:08,898 : INFO : Checking security check request\n",
      "2020-11-29 09:24:09,116 : INFO : Security check is not required\n",
      "2020-11-29 09:24:09,330 : INFO : access_token from config is valid\n",
      "2020-11-29 09:24:09,741 : INFO : Auth with login: +79221341105\n",
      "2020-11-29 09:24:09,744 : INFO : Checking remixsid...\n",
      "2020-11-29 09:24:09,927 : INFO : remixsid is valid\n",
      "2020-11-29 09:24:09,929 : INFO : Checking security check request\n"
     ]
    },
    {
     "name": "stdout",
     "output_type": "stream",
     "text": [
      "146\n"
     ]
    },
    {
     "name": "stderr",
     "output_type": "stream",
     "text": [
      "2020-11-29 09:24:10,148 : INFO : Security check is not required\n",
      "2020-11-29 09:24:10,328 : INFO : access_token from config is valid\n",
      "2020-11-29 09:24:10,747 : INFO : Auth with login: +79221341105\n",
      "2020-11-29 09:24:10,749 : INFO : Checking remixsid...\n",
      "2020-11-29 09:24:10,944 : INFO : remixsid is valid\n",
      "2020-11-29 09:24:10,945 : INFO : Checking security check request\n"
     ]
    },
    {
     "name": "stdout",
     "output_type": "stream",
     "text": [
      "147\n"
     ]
    },
    {
     "name": "stderr",
     "output_type": "stream",
     "text": [
      "2020-11-29 09:24:11,149 : INFO : Security check is not required\n",
      "2020-11-29 09:24:11,362 : INFO : access_token from config is valid\n",
      "2020-11-29 09:24:11,771 : INFO : Auth with login: +79221341105\n",
      "2020-11-29 09:24:11,774 : INFO : Checking remixsid...\n",
      "2020-11-29 09:24:11,961 : INFO : remixsid is valid\n",
      "2020-11-29 09:24:11,963 : INFO : Checking security check request\n"
     ]
    },
    {
     "name": "stdout",
     "output_type": "stream",
     "text": [
      "148\n"
     ]
    },
    {
     "name": "stderr",
     "output_type": "stream",
     "text": [
      "2020-11-29 09:24:12,186 : INFO : Security check is not required\n",
      "2020-11-29 09:24:12,384 : INFO : access_token from config is valid\n"
     ]
    },
    {
     "name": "stdout",
     "output_type": "stream",
     "text": [
      "Приватный паблик\n"
     ]
    },
    {
     "name": "stderr",
     "output_type": "stream",
     "text": [
      "\n",
      "Loading the model...\n",
      "Processing input...\n"
     ]
    },
    {
     "name": "stdout",
     "output_type": "stream",
     "text": [
      "text финал_PROPN конкурс_NOUN цифровой_ADJ прорыв_ADJ онлайнтрансляция_PROPN\n"
     ]
    },
    {
     "name": "stderr",
     "output_type": "stream",
     "text": [
      "2020-11-29 09:24:24,141 : INFO : Warming up ELMo on 9 sentences...\n",
      "2020-11-29 09:24:57,395 : INFO : Warming up finished.\n",
      "2020-11-29 09:24:57,408 : INFO : Texts in the current batch: 9\n",
      "2020-11-29 09:25:32,614 : INFO : Auth with login: +79221341105\n",
      "2020-11-29 09:25:32,614 : INFO : Checking remixsid...\n",
      "2020-11-29 09:25:32,791 : INFO : remixsid is valid\n",
      "2020-11-29 09:25:32,794 : INFO : Checking security check request\n"
     ]
    },
    {
     "name": "stdout",
     "output_type": "stream",
     "text": [
      "149\n"
     ]
    },
    {
     "name": "stderr",
     "output_type": "stream",
     "text": [
      "2020-11-29 09:25:33,029 : INFO : Security check is not required\n",
      "2020-11-29 09:25:33,212 : INFO : access_token from config is valid\n",
      "2020-11-29 09:25:33,616 : INFO : Auth with login: +79221341105\n",
      "2020-11-29 09:25:33,617 : INFO : Checking remixsid...\n",
      "2020-11-29 09:25:33,792 : INFO : remixsid is valid\n",
      "2020-11-29 09:25:33,793 : INFO : Checking security check request\n"
     ]
    },
    {
     "name": "stdout",
     "output_type": "stream",
     "text": [
      "150\n"
     ]
    },
    {
     "name": "stderr",
     "output_type": "stream",
     "text": [
      "2020-11-29 09:25:34,019 : INFO : Security check is not required\n",
      "2020-11-29 09:25:34,207 : INFO : access_token from config is valid\n",
      "2020-11-29 09:25:34,638 : INFO : Auth with login: +79221341105\n",
      "2020-11-29 09:25:34,651 : INFO : Checking remixsid...\n"
     ]
    },
    {
     "name": "stdout",
     "output_type": "stream",
     "text": [
      "151\n"
     ]
    },
    {
     "name": "stderr",
     "output_type": "stream",
     "text": [
      "2020-11-29 09:25:34,842 : INFO : remixsid is valid\n",
      "2020-11-29 09:25:34,845 : INFO : Checking security check request\n",
      "2020-11-29 09:25:35,073 : INFO : Security check is not required\n",
      "2020-11-29 09:25:35,249 : INFO : access_token from config is valid\n",
      "2020-11-29 09:25:35,671 : INFO : Auth with login: +79221341105\n",
      "2020-11-29 09:25:35,673 : INFO : Checking remixsid...\n",
      "2020-11-29 09:25:35,848 : INFO : remixsid is valid\n",
      "2020-11-29 09:25:35,850 : INFO : Checking security check request\n"
     ]
    },
    {
     "name": "stdout",
     "output_type": "stream",
     "text": [
      "152\n"
     ]
    },
    {
     "name": "stderr",
     "output_type": "stream",
     "text": [
      "2020-11-29 09:25:36,064 : INFO : Security check is not required\n",
      "2020-11-29 09:25:36,253 : INFO : access_token from config is valid\n",
      "2020-11-29 09:25:36,663 : INFO : Auth with login: +79221341105\n",
      "2020-11-29 09:25:36,665 : INFO : Checking remixsid...\n",
      "2020-11-29 09:25:36,859 : INFO : remixsid is valid\n",
      "2020-11-29 09:25:36,861 : INFO : Checking security check request\n"
     ]
    },
    {
     "name": "stdout",
     "output_type": "stream",
     "text": [
      "153\n"
     ]
    },
    {
     "name": "stderr",
     "output_type": "stream",
     "text": [
      "2020-11-29 09:25:37,076 : INFO : Security check is not required\n",
      "2020-11-29 09:25:37,266 : INFO : access_token from config is valid\n",
      "2020-11-29 09:25:37,677 : INFO : Auth with login: +79221341105\n",
      "2020-11-29 09:25:37,679 : INFO : Checking remixsid...\n"
     ]
    },
    {
     "name": "stdout",
     "output_type": "stream",
     "text": [
      "154\n"
     ]
    },
    {
     "name": "stderr",
     "output_type": "stream",
     "text": [
      "2020-11-29 09:25:37,880 : INFO : remixsid is valid\n",
      "2020-11-29 09:25:37,884 : INFO : Checking security check request\n",
      "2020-11-29 09:25:38,116 : INFO : Security check is not required\n",
      "2020-11-29 09:25:38,309 : INFO : access_token from config is valid\n",
      "\n",
      "Loading the model...\n",
      "Processing input...\n"
     ]
    },
    {
     "name": "stdout",
     "output_type": "stream",
     "text": [
      "text страшный_ADJ красивый_ADJ история_NOUN\n"
     ]
    },
    {
     "name": "stderr",
     "output_type": "stream",
     "text": [
      "2020-11-29 09:25:54,422 : INFO : Warming up ELMo on 10 sentences...\n",
      "2020-11-29 09:26:35,324 : INFO : Warming up finished.\n",
      "2020-11-29 09:26:35,341 : INFO : Texts in the current batch: 10\n",
      "2020-11-29 09:27:18,921 : INFO : Auth with login: +79221341105\n",
      "2020-11-29 09:27:18,921 : INFO : Checking remixsid...\n",
      "2020-11-29 09:27:19,096 : INFO : remixsid is valid\n",
      "2020-11-29 09:27:19,098 : INFO : Checking security check request\n"
     ]
    },
    {
     "name": "stdout",
     "output_type": "stream",
     "text": [
      "155\n"
     ]
    },
    {
     "name": "stderr",
     "output_type": "stream",
     "text": [
      "2020-11-29 09:27:19,331 : INFO : Security check is not required\n",
      "2020-11-29 09:27:19,544 : INFO : access_token from config is valid\n",
      "2020-11-29 09:27:19,960 : INFO : Auth with login: +79221341105\n",
      "2020-11-29 09:27:19,962 : INFO : Checking remixsid...\n"
     ]
    },
    {
     "name": "stdout",
     "output_type": "stream",
     "text": [
      "156\n"
     ]
    },
    {
     "name": "stderr",
     "output_type": "stream",
     "text": [
      "2020-11-29 09:27:20,161 : INFO : remixsid is valid\n",
      "2020-11-29 09:27:20,163 : INFO : Checking security check request\n",
      "2020-11-29 09:27:20,428 : INFO : Security check is not required\n",
      "2020-11-29 09:27:20,658 : INFO : access_token from config is valid\n"
     ]
    },
    {
     "name": "stdout",
     "output_type": "stream",
     "text": [
      "Приватный паблик\n"
     ]
    },
    {
     "name": "stderr",
     "output_type": "stream",
     "text": [
      "\n",
      "Loading the model...\n",
      "Processing input...\n"
     ]
    },
    {
     "name": "stdout",
     "output_type": "stream",
     "text": [
      "text \n"
     ]
    },
    {
     "name": "stderr",
     "output_type": "stream",
     "text": [
      "2020-11-29 09:27:32,344 : INFO : Warming up ELMo on 9 sentences...\n",
      "2020-11-29 09:27:47,270 : INFO : Warming up finished.\n",
      "2020-11-29 09:27:47,278 : INFO : Texts in the current batch: 9\n",
      "2020-11-29 09:28:01,359 : INFO : Auth with login: +79221341105\n",
      "2020-11-29 09:28:01,360 : INFO : Checking remixsid...\n",
      "2020-11-29 09:28:01,544 : INFO : remixsid is valid\n",
      "2020-11-29 09:28:01,546 : INFO : Checking security check request\n"
     ]
    },
    {
     "name": "stdout",
     "output_type": "stream",
     "text": [
      "157\n"
     ]
    },
    {
     "name": "stderr",
     "output_type": "stream",
     "text": [
      "2020-11-29 09:28:01,766 : INFO : Security check is not required\n",
      "2020-11-29 09:28:01,936 : INFO : access_token from config is valid\n",
      "\n",
      "Loading the model...\n",
      "Processing input...\n"
     ]
    },
    {
     "name": "stdout",
     "output_type": "stream",
     "text": [
      "text \n"
     ]
    },
    {
     "name": "stderr",
     "output_type": "stream",
     "text": [
      "2020-11-29 09:28:13,107 : INFO : Warming up ELMo on 10 sentences...\n",
      "2020-11-29 09:28:45,538 : INFO : Warming up finished.\n",
      "2020-11-29 09:28:45,550 : INFO : Texts in the current batch: 10\n",
      "2020-11-29 09:29:19,563 : INFO : Auth with login: +79221341105\n",
      "2020-11-29 09:29:19,563 : INFO : Checking remixsid...\n",
      "2020-11-29 09:29:19,732 : INFO : remixsid is valid\n",
      "2020-11-29 09:29:19,734 : INFO : Checking security check request\n"
     ]
    },
    {
     "name": "stdout",
     "output_type": "stream",
     "text": [
      "158\n"
     ]
    },
    {
     "name": "stderr",
     "output_type": "stream",
     "text": [
      "2020-11-29 09:29:19,946 : INFO : Security check is not required\n",
      "2020-11-29 09:29:20,134 : INFO : access_token from config is valid\n",
      "2020-11-29 09:29:20,543 : INFO : Auth with login: +79221341105\n",
      "2020-11-29 09:29:20,547 : INFO : Checking remixsid...\n",
      "2020-11-29 09:29:20,729 : INFO : remixsid is valid\n",
      "2020-11-29 09:29:20,731 : INFO : Checking security check request\n"
     ]
    },
    {
     "name": "stdout",
     "output_type": "stream",
     "text": [
      "159\n"
     ]
    },
    {
     "name": "stderr",
     "output_type": "stream",
     "text": [
      "2020-11-29 09:29:20,956 : INFO : Security check is not required\n",
      "2020-11-29 09:29:21,142 : INFO : access_token from config is valid\n",
      "2020-11-29 09:29:21,556 : INFO : Auth with login: +79221341105\n",
      "2020-11-29 09:29:21,558 : INFO : Checking remixsid...\n"
     ]
    },
    {
     "name": "stdout",
     "output_type": "stream",
     "text": [
      "160\n"
     ]
    },
    {
     "name": "stderr",
     "output_type": "stream",
     "text": [
      "2020-11-29 09:29:21,763 : INFO : remixsid is valid\n",
      "2020-11-29 09:29:21,765 : INFO : Checking security check request\n",
      "2020-11-29 09:29:21,981 : INFO : Security check is not required\n",
      "2020-11-29 09:29:22,182 : INFO : access_token from config is valid\n",
      "2020-11-29 09:29:22,601 : INFO : Auth with login: +79221341105\n",
      "2020-11-29 09:29:22,603 : INFO : Checking remixsid...\n",
      "2020-11-29 09:29:22,783 : INFO : remixsid is valid\n",
      "2020-11-29 09:29:22,786 : INFO : Checking security check request\n"
     ]
    },
    {
     "name": "stdout",
     "output_type": "stream",
     "text": [
      "161\n"
     ]
    },
    {
     "name": "stderr",
     "output_type": "stream",
     "text": [
      "2020-11-29 09:29:23,022 : INFO : Security check is not required\n",
      "2020-11-29 09:29:23,220 : INFO : access_token from config is valid\n",
      "2020-11-29 09:29:23,636 : INFO : Auth with login: +79221341105\n",
      "2020-11-29 09:29:23,639 : INFO : Checking remixsid...\n",
      "2020-11-29 09:29:23,829 : INFO : remixsid is valid\n",
      "2020-11-29 09:29:23,832 : INFO : Checking security check request\n"
     ]
    },
    {
     "name": "stdout",
     "output_type": "stream",
     "text": [
      "162\n"
     ]
    },
    {
     "name": "stderr",
     "output_type": "stream",
     "text": [
      "2020-11-29 09:29:24,048 : INFO : Security check is not required\n",
      "2020-11-29 09:29:24,227 : INFO : access_token from config is valid\n",
      "2020-11-29 09:29:24,635 : INFO : Auth with login: +79221341105\n",
      "2020-11-29 09:29:24,637 : INFO : Checking remixsid...\n",
      "2020-11-29 09:29:24,819 : INFO : remixsid is valid\n",
      "2020-11-29 09:29:24,821 : INFO : Checking security check request\n"
     ]
    },
    {
     "name": "stdout",
     "output_type": "stream",
     "text": [
      "163\n"
     ]
    },
    {
     "name": "stderr",
     "output_type": "stream",
     "text": [
      "2020-11-29 09:29:25,048 : INFO : Security check is not required\n",
      "2020-11-29 09:29:25,233 : INFO : access_token from config is valid\n",
      "\n",
      "Loading the model...\n",
      "Processing input...\n"
     ]
    },
    {
     "name": "stdout",
     "output_type": "stream",
     "text": [
      "text подработка_NOUN мастер_PROPN ремонт_NOUN разнорабочий_ADJ отделка_PROPN малярка_NOUN электрик_NOUN работа_NOUN строительство_NOUN мелкий_ADJ ремонт_NOUN муж_NOUN час_NOUN разовый_ADJ заказ_NOUN ежедневный_ADJ оплата_NOUN регистрируться_VERB выбирать_VERB подходящий_VERB заказ_NOUN приступать_VERB работа_NOUN\n"
     ]
    },
    {
     "name": "stderr",
     "output_type": "stream",
     "text": [
      "2020-11-29 09:29:36,747 : INFO : Warming up ELMo on 10 sentences...\n",
      "2020-11-29 09:29:57,148 : INFO : Warming up finished.\n",
      "2020-11-29 09:29:57,166 : INFO : Texts in the current batch: 10\n",
      "2020-11-29 09:30:17,800 : INFO : Auth with login: +79221341105\n",
      "2020-11-29 09:30:17,801 : INFO : Checking remixsid...\n",
      "2020-11-29 09:30:17,981 : INFO : remixsid is valid\n",
      "2020-11-29 09:30:17,983 : INFO : Checking security check request\n"
     ]
    },
    {
     "name": "stdout",
     "output_type": "stream",
     "text": [
      "164\n"
     ]
    },
    {
     "name": "stderr",
     "output_type": "stream",
     "text": [
      "2020-11-29 09:30:18,211 : INFO : Security check is not required\n",
      "2020-11-29 09:30:18,391 : INFO : access_token from config is valid\n",
      "\n",
      "Loading the model...\n",
      "Processing input...\n"
     ]
    },
    {
     "name": "stdout",
     "output_type": "stream",
     "text": [
      "text новый_ADJ видео_NOUN канал_NOUN\n"
     ]
    },
    {
     "name": "stderr",
     "output_type": "stream",
     "text": [
      "2020-11-29 09:30:29,072 : INFO : Warming up ELMo on 10 sentences...\n",
      "2020-11-29 09:30:39,574 : INFO : Warming up finished.\n",
      "2020-11-29 09:30:39,589 : INFO : Texts in the current batch: 10\n",
      "2020-11-29 09:30:49,842 : INFO : Auth with login: +79221341105\n",
      "2020-11-29 09:30:49,843 : INFO : Checking remixsid...\n",
      "2020-11-29 09:30:49,999 : INFO : remixsid is valid\n",
      "2020-11-29 09:30:50,001 : INFO : Checking security check request\n"
     ]
    },
    {
     "name": "stdout",
     "output_type": "stream",
     "text": [
      "165\n"
     ]
    },
    {
     "name": "stderr",
     "output_type": "stream",
     "text": [
      "2020-11-29 09:30:50,222 : INFO : Security check is not required\n",
      "2020-11-29 09:30:50,414 : INFO : access_token from config is valid\n",
      "\n",
      "Loading the model...\n",
      "Processing input...\n"
     ]
    },
    {
     "name": "stdout",
     "output_type": "stream",
     "text": [
      "text \n"
     ]
    },
    {
     "name": "stderr",
     "output_type": "stream",
     "text": [
      "2020-11-29 09:31:01,825 : INFO : Warming up ELMo on 10 sentences...\n",
      "2020-11-29 09:31:18,176 : INFO : Warming up finished.\n",
      "2020-11-29 09:31:18,183 : INFO : Texts in the current batch: 10\n",
      "2020-11-29 09:31:33,606 : INFO : Auth with login: +79221341105\n",
      "2020-11-29 09:31:33,607 : INFO : Checking remixsid...\n",
      "2020-11-29 09:31:33,781 : INFO : remixsid is valid\n",
      "2020-11-29 09:31:33,783 : INFO : Checking security check request\n"
     ]
    },
    {
     "name": "stdout",
     "output_type": "stream",
     "text": [
      "166\n"
     ]
    },
    {
     "name": "stderr",
     "output_type": "stream",
     "text": [
      "2020-11-29 09:31:34,011 : INFO : Security check is not required\n",
      "2020-11-29 09:31:34,221 : INFO : access_token from config is valid\n",
      "2020-11-29 09:31:34,639 : INFO : Auth with login: +79221341105\n",
      "2020-11-29 09:31:34,641 : INFO : Checking remixsid...\n"
     ]
    },
    {
     "name": "stdout",
     "output_type": "stream",
     "text": [
      "167\n"
     ]
    },
    {
     "name": "stderr",
     "output_type": "stream",
     "text": [
      "2020-11-29 09:31:34,844 : INFO : remixsid is valid\n",
      "2020-11-29 09:31:34,847 : INFO : Checking security check request\n",
      "2020-11-29 09:31:35,055 : INFO : Security check is not required\n",
      "2020-11-29 09:31:35,243 : INFO : access_token from config is valid\n",
      "2020-11-29 09:31:35,660 : INFO : Auth with login: +79221341105\n",
      "2020-11-29 09:31:35,661 : INFO : Checking remixsid...\n",
      "2020-11-29 09:31:35,852 : INFO : remixsid is valid\n",
      "2020-11-29 09:31:35,854 : INFO : Checking security check request\n"
     ]
    },
    {
     "name": "stdout",
     "output_type": "stream",
     "text": [
      "168\n"
     ]
    },
    {
     "name": "stderr",
     "output_type": "stream",
     "text": [
      "2020-11-29 09:31:36,085 : INFO : Security check is not required\n",
      "2020-11-29 09:31:36,324 : INFO : access_token from config is valid\n",
      "2020-11-29 09:31:36,748 : INFO : Auth with login: +79221341105\n",
      "2020-11-29 09:31:36,750 : INFO : Checking remixsid...\n",
      "2020-11-29 09:31:36,919 : INFO : remixsid is valid\n",
      "2020-11-29 09:31:36,920 : INFO : Checking security check request\n"
     ]
    },
    {
     "name": "stdout",
     "output_type": "stream",
     "text": [
      "169\n"
     ]
    },
    {
     "name": "stderr",
     "output_type": "stream",
     "text": [
      "2020-11-29 09:31:37,131 : INFO : Security check is not required\n",
      "2020-11-29 09:31:37,299 : INFO : access_token from config is valid\n",
      "2020-11-29 09:31:37,704 : INFO : Auth with login: +79221341105\n",
      "2020-11-29 09:31:37,705 : INFO : Checking remixsid...\n",
      "2020-11-29 09:31:37,871 : INFO : remixsid is valid\n",
      "2020-11-29 09:31:37,872 : INFO : Checking security check request\n"
     ]
    },
    {
     "name": "stdout",
     "output_type": "stream",
     "text": [
      "170\n"
     ]
    },
    {
     "name": "stderr",
     "output_type": "stream",
     "text": [
      "2020-11-29 09:31:38,076 : INFO : Security check is not required\n",
      "2020-11-29 09:31:38,250 : INFO : access_token from config is valid\n"
     ]
    },
    {
     "name": "stdout",
     "output_type": "stream",
     "text": [
      "Приватный паблик\n"
     ]
    },
    {
     "name": "stderr",
     "output_type": "stream",
     "text": [
      "\n",
      "Loading the model...\n",
      "Processing input...\n"
     ]
    },
    {
     "name": "stdout",
     "output_type": "stream",
     "text": [
      "text \n"
     ]
    },
    {
     "name": "stderr",
     "output_type": "stream",
     "text": [
      "2020-11-29 09:31:50,128 : INFO : Warming up ELMo on 9 sentences...\n",
      "2020-11-29 09:31:53,430 : INFO : Warming up finished.\n",
      "2020-11-29 09:31:53,437 : INFO : Texts in the current batch: 9\n",
      "2020-11-29 09:31:57,192 : INFO : Auth with login: +79221341105\n",
      "2020-11-29 09:31:57,193 : INFO : Checking remixsid...\n",
      "2020-11-29 09:31:57,362 : INFO : remixsid is valid\n",
      "2020-11-29 09:31:57,363 : INFO : Checking security check request\n"
     ]
    },
    {
     "name": "stdout",
     "output_type": "stream",
     "text": [
      "171\n"
     ]
    },
    {
     "name": "stderr",
     "output_type": "stream",
     "text": [
      "2020-11-29 09:31:57,582 : INFO : Security check is not required\n",
      "2020-11-29 09:31:57,774 : INFO : access_token from config is valid\n",
      "2020-11-29 09:31:58,189 : INFO : Auth with login: +79221341105\n",
      "2020-11-29 09:31:58,190 : INFO : Checking remixsid...\n",
      "2020-11-29 09:31:58,345 : INFO : remixsid is valid\n",
      "2020-11-29 09:31:58,346 : INFO : Checking security check request\n"
     ]
    },
    {
     "name": "stdout",
     "output_type": "stream",
     "text": [
      "172\n"
     ]
    },
    {
     "name": "stderr",
     "output_type": "stream",
     "text": [
      "2020-11-29 09:31:58,556 : INFO : Security check is not required\n",
      "2020-11-29 09:31:58,738 : INFO : access_token from config is valid\n",
      "\n",
      "Loading the model...\n",
      "Processing input...\n"
     ]
    },
    {
     "name": "stdout",
     "output_type": "stream",
     "text": [
      "text работа_NOUN наш_DET мастер_NOUN\n"
     ]
    },
    {
     "name": "stderr",
     "output_type": "stream",
     "text": [
      "2020-11-29 09:32:09,623 : INFO : Warming up ELMo on 10 sentences...\n",
      "2020-11-29 09:32:16,891 : INFO : Warming up finished.\n",
      "2020-11-29 09:32:16,898 : INFO : Texts in the current batch: 10\n",
      "2020-11-29 09:32:24,085 : INFO : Auth with login: +79221341105\n",
      "2020-11-29 09:32:24,086 : INFO : Checking remixsid...\n",
      "2020-11-29 09:32:24,245 : INFO : remixsid is valid\n",
      "2020-11-29 09:32:24,247 : INFO : Checking security check request\n"
     ]
    },
    {
     "name": "stdout",
     "output_type": "stream",
     "text": [
      "173\n"
     ]
    },
    {
     "name": "stderr",
     "output_type": "stream",
     "text": [
      "2020-11-29 09:32:24,454 : INFO : Security check is not required\n",
      "2020-11-29 09:32:24,646 : INFO : access_token from config is valid\n",
      "2020-11-29 09:32:25,060 : INFO : Auth with login: +79221341105\n",
      "2020-11-29 09:32:25,063 : INFO : Checking remixsid...\n",
      "2020-11-29 09:32:25,233 : INFO : remixsid is valid\n",
      "2020-11-29 09:32:25,235 : INFO : Checking security check request\n"
     ]
    },
    {
     "name": "stdout",
     "output_type": "stream",
     "text": [
      "174\n"
     ]
    },
    {
     "name": "stderr",
     "output_type": "stream",
     "text": [
      "2020-11-29 09:32:25,467 : INFO : Security check is not required\n",
      "2020-11-29 09:32:25,659 : INFO : access_token from config is valid\n",
      "2020-11-29 09:32:26,070 : INFO : Auth with login: +79221341105\n",
      "2020-11-29 09:32:26,073 : INFO : Checking remixsid...\n",
      "2020-11-29 09:32:26,261 : INFO : remixsid is valid\n",
      "2020-11-29 09:32:26,264 : INFO : Checking security check request\n"
     ]
    },
    {
     "name": "stdout",
     "output_type": "stream",
     "text": [
      "175\n"
     ]
    },
    {
     "name": "stderr",
     "output_type": "stream",
     "text": [
      "2020-11-29 09:32:26,484 : INFO : Security check is not required\n",
      "2020-11-29 09:32:26,655 : INFO : access_token from config is valid\n",
      "2020-11-29 09:32:27,069 : INFO : Auth with login: +79221341105\n",
      "2020-11-29 09:32:27,071 : INFO : Checking remixsid...\n",
      "2020-11-29 09:32:27,261 : INFO : remixsid is valid\n",
      "2020-11-29 09:32:27,263 : INFO : Checking security check request\n"
     ]
    },
    {
     "name": "stdout",
     "output_type": "stream",
     "text": [
      "176\n"
     ]
    },
    {
     "name": "stderr",
     "output_type": "stream",
     "text": [
      "2020-11-29 09:32:27,503 : INFO : Security check is not required\n",
      "2020-11-29 09:32:27,705 : INFO : access_token from config is valid\n",
      "2020-11-29 09:32:28,120 : INFO : Auth with login: +79221341105\n",
      "2020-11-29 09:32:28,122 : INFO : Checking remixsid...\n",
      "2020-11-29 09:32:28,289 : INFO : remixsid is valid\n",
      "2020-11-29 09:32:28,291 : INFO : Checking security check request\n"
     ]
    },
    {
     "name": "stdout",
     "output_type": "stream",
     "text": [
      "177\n"
     ]
    },
    {
     "name": "stderr",
     "output_type": "stream",
     "text": [
      "2020-11-29 09:32:28,527 : INFO : Security check is not required\n",
      "2020-11-29 09:32:28,953 : INFO : access_token from config is valid\n"
     ]
    },
    {
     "name": "stdout",
     "output_type": "stream",
     "text": [
      "Приватный паблик\n"
     ]
    },
    {
     "name": "stderr",
     "output_type": "stream",
     "text": [
      "\n",
      "Loading the model...\n",
      "Processing input...\n"
     ]
    },
    {
     "name": "stdout",
     "output_type": "stream",
     "text": [
      "text \n"
     ]
    },
    {
     "name": "stderr",
     "output_type": "stream",
     "text": [
      "2020-11-29 09:32:45,127 : INFO : Warming up ELMo on 9 sentences...\n",
      "2020-11-29 09:33:12,650 : INFO : Warming up finished.\n",
      "2020-11-29 09:33:12,663 : INFO : Texts in the current batch: 9\n",
      "2020-11-29 09:33:43,514 : INFO : Auth with login: +79221341105\n",
      "2020-11-29 09:33:43,515 : INFO : Checking remixsid...\n",
      "2020-11-29 09:33:43,685 : INFO : remixsid is valid\n",
      "2020-11-29 09:33:43,686 : INFO : Checking security check request\n"
     ]
    },
    {
     "name": "stdout",
     "output_type": "stream",
     "text": [
      "178\n"
     ]
    },
    {
     "name": "stderr",
     "output_type": "stream",
     "text": [
      "2020-11-29 09:33:43,891 : INFO : Security check is not required\n",
      "2020-11-29 09:33:44,076 : INFO : access_token from config is valid\n"
     ]
    },
    {
     "name": "stdout",
     "output_type": "stream",
     "text": [
      "Приватный паблик\n"
     ]
    },
    {
     "name": "stderr",
     "output_type": "stream",
     "text": [
      "\n",
      "Loading the model...\n",
      "Processing input...\n"
     ]
    },
    {
     "name": "stdout",
     "output_type": "stream",
     "text": [
      "text весь_PRON умный_ADJ это_PRON изз_NOUN сдаваться_VERB решение_NOUN задача_NOUN альберт::эйнштейн_PROPN\n"
     ]
    },
    {
     "name": "stderr",
     "output_type": "stream",
     "text": [
      "2020-11-29 09:33:58,670 : INFO : Warming up ELMo on 9 sentences...\n",
      "2020-11-29 09:34:12,902 : INFO : Warming up finished.\n",
      "2020-11-29 09:34:12,908 : INFO : Texts in the current batch: 9\n",
      "2020-11-29 09:34:27,638 : INFO : Auth with login: +79221341105\n",
      "2020-11-29 09:34:27,639 : INFO : Checking remixsid...\n",
      "2020-11-29 09:34:27,803 : INFO : remixsid is valid\n",
      "2020-11-29 09:34:27,804 : INFO : Checking security check request\n"
     ]
    },
    {
     "name": "stdout",
     "output_type": "stream",
     "text": [
      "179\n"
     ]
    },
    {
     "name": "stderr",
     "output_type": "stream",
     "text": [
      "2020-11-29 09:34:28,012 : INFO : Security check is not required\n",
      "2020-11-29 09:34:28,181 : INFO : access_token from config is valid\n"
     ]
    },
    {
     "name": "stdout",
     "output_type": "stream",
     "text": [
      "Приватный паблик\n"
     ]
    },
    {
     "name": "stderr",
     "output_type": "stream",
     "text": [
      "\n",
      "Loading the model...\n",
      "Processing input...\n"
     ]
    },
    {
     "name": "stdout",
     "output_type": "stream",
     "text": [
      "text \n"
     ]
    },
    {
     "name": "stderr",
     "output_type": "stream",
     "text": [
      "2020-11-29 09:34:41,550 : INFO : Warming up ELMo on 9 sentences...\n",
      "2020-11-29 09:34:45,209 : INFO : Warming up finished.\n",
      "2020-11-29 09:34:45,215 : INFO : Texts in the current batch: 9\n",
      "2020-11-29 09:34:49,013 : INFO : Auth with login: +79221341105\n",
      "2020-11-29 09:34:49,014 : INFO : Checking remixsid...\n",
      "2020-11-29 09:34:49,197 : INFO : remixsid is valid\n",
      "2020-11-29 09:34:49,199 : INFO : Checking security check request\n"
     ]
    },
    {
     "name": "stdout",
     "output_type": "stream",
     "text": [
      "180\n"
     ]
    },
    {
     "name": "stderr",
     "output_type": "stream",
     "text": [
      "2020-11-29 09:34:49,494 : INFO : Security check is not required\n",
      "2020-11-29 09:34:49,681 : INFO : access_token from config is valid\n"
     ]
    },
    {
     "name": "stdout",
     "output_type": "stream",
     "text": [
      "Приватный паблик\n"
     ]
    },
    {
     "name": "stderr",
     "output_type": "stream",
     "text": [
      "\n",
      "Loading the model...\n",
      "Processing input...\n"
     ]
    },
    {
     "name": "stdout",
     "output_type": "stream",
     "text": [
      "text итог_PROPN 1-й_ADJ тур_NOUN лига_PROPN чемпион_NOUN бавария::манчестер_PROPN сити_PROPN челси::севилья_PROPN барселона_PROPN ювентус_PROPN досрочно_ADV выходить_VERB плейофф_NOUN кто_PRON составлять_VERB компания_NOUN следующий_ADJ неделя_NOUN ваш_DET прогноз_NOUN\n"
     ]
    },
    {
     "name": "stderr",
     "output_type": "stream",
     "text": [
      "2020-11-29 09:35:03,608 : INFO : Warming up ELMo on 9 sentences...\n",
      "2020-11-29 09:35:16,273 : INFO : Warming up finished.\n",
      "2020-11-29 09:35:16,280 : INFO : Texts in the current batch: 9\n",
      "2020-11-29 09:35:29,353 : INFO : Auth with login: +79221341105\n",
      "2020-11-29 09:35:29,354 : INFO : Checking remixsid...\n",
      "2020-11-29 09:35:29,524 : INFO : remixsid is valid\n",
      "2020-11-29 09:35:29,526 : INFO : Checking security check request\n"
     ]
    },
    {
     "name": "stdout",
     "output_type": "stream",
     "text": [
      "181\n"
     ]
    },
    {
     "name": "stderr",
     "output_type": "stream",
     "text": [
      "2020-11-29 09:35:29,753 : INFO : Security check is not required\n",
      "2020-11-29 09:35:29,945 : INFO : access_token from config is valid\n",
      "2020-11-29 09:35:30,358 : INFO : Auth with login: +79221341105\n",
      "2020-11-29 09:35:30,360 : INFO : Checking remixsid...\n"
     ]
    },
    {
     "name": "stdout",
     "output_type": "stream",
     "text": [
      "182\n"
     ]
    },
    {
     "name": "stderr",
     "output_type": "stream",
     "text": [
      "2020-11-29 09:35:30,561 : INFO : remixsid is valid\n",
      "2020-11-29 09:35:30,564 : INFO : Checking security check request\n",
      "2020-11-29 09:35:30,799 : INFO : Security check is not required\n",
      "2020-11-29 09:35:30,991 : INFO : access_token from config is valid\n"
     ]
    },
    {
     "name": "stdout",
     "output_type": "stream",
     "text": [
      "Приватный паблик\n"
     ]
    },
    {
     "name": "stderr",
     "output_type": "stream",
     "text": [
      "\n",
      "Loading the model...\n",
      "Processing input...\n"
     ]
    },
    {
     "name": "stdout",
     "output_type": "stream",
     "text": [
      "text \n"
     ]
    },
    {
     "name": "stderr",
     "output_type": "stream",
     "text": [
      "2020-11-29 09:35:43,081 : INFO : Warming up ELMo on 9 sentences...\n",
      "2020-11-29 09:36:13,875 : INFO : Warming up finished.\n",
      "2020-11-29 09:36:13,886 : INFO : Texts in the current batch: 9\n",
      "2020-11-29 09:36:43,836 : INFO : Auth with login: +79221341105\n",
      "2020-11-29 09:36:43,837 : INFO : Checking remixsid...\n"
     ]
    },
    {
     "name": "stdout",
     "output_type": "stream",
     "text": [
      "183\n"
     ]
    },
    {
     "name": "stderr",
     "output_type": "stream",
     "text": [
      "2020-11-29 09:36:44,049 : INFO : remixsid is valid\n",
      "2020-11-29 09:36:44,051 : INFO : Checking security check request\n",
      "2020-11-29 09:36:44,259 : INFO : Security check is not required\n",
      "2020-11-29 09:36:44,432 : INFO : access_token from config is valid\n"
     ]
    },
    {
     "name": "stdout",
     "output_type": "stream",
     "text": [
      "Приватный паблик\n"
     ]
    },
    {
     "name": "stderr",
     "output_type": "stream",
     "text": [
      "\n",
      "Loading the model...\n",
      "Processing input...\n"
     ]
    },
    {
     "name": "stdout",
     "output_type": "stream",
     "text": [
      "text \n"
     ]
    },
    {
     "name": "stderr",
     "output_type": "stream",
     "text": [
      "2020-11-29 09:36:57,663 : INFO : Warming up ELMo on 9 sentences...\n",
      "2020-11-29 09:37:00,582 : INFO : Warming up finished.\n",
      "2020-11-29 09:37:00,588 : INFO : Texts in the current batch: 9\n",
      "2020-11-29 09:37:03,244 : INFO : Auth with login: +79221341105\n",
      "2020-11-29 09:37:03,245 : INFO : Checking remixsid...\n",
      "2020-11-29 09:37:03,422 : INFO : remixsid is valid\n",
      "2020-11-29 09:37:03,424 : INFO : Checking security check request\n"
     ]
    },
    {
     "name": "stdout",
     "output_type": "stream",
     "text": [
      "184\n"
     ]
    },
    {
     "name": "stderr",
     "output_type": "stream",
     "text": [
      "2020-11-29 09:37:03,654 : INFO : Security check is not required\n",
      "2020-11-29 09:37:03,868 : INFO : access_token from config is valid\n",
      "2020-11-29 09:37:04,283 : INFO : Auth with login: +79221341105\n",
      "2020-11-29 09:37:04,285 : INFO : Checking remixsid...\n",
      "2020-11-29 09:37:04,467 : INFO : remixsid is valid\n",
      "2020-11-29 09:37:04,469 : INFO : Checking security check request\n"
     ]
    },
    {
     "name": "stdout",
     "output_type": "stream",
     "text": [
      "185\n"
     ]
    },
    {
     "name": "stderr",
     "output_type": "stream",
     "text": [
      "2020-11-29 09:37:04,718 : INFO : Security check is not required\n",
      "2020-11-29 09:37:04,906 : INFO : access_token from config is valid\n"
     ]
    },
    {
     "name": "stdout",
     "output_type": "stream",
     "text": [
      "Приватный паблик\n"
     ]
    },
    {
     "name": "stderr",
     "output_type": "stream",
     "text": [
      "\n",
      "Loading the model...\n",
      "Processing input...\n"
     ]
    },
    {
     "name": "stdout",
     "output_type": "stream",
     "text": [
      "text \n"
     ]
    },
    {
     "name": "stderr",
     "output_type": "stream",
     "text": [
      "2020-11-29 09:37:18,661 : INFO : Warming up ELMo on 9 sentences...\n",
      "2020-11-29 09:37:21,414 : INFO : Warming up finished.\n",
      "2020-11-29 09:37:21,417 : INFO : Texts in the current batch: 9\n",
      "2020-11-29 09:37:23,900 : INFO : Auth with login: +79221341105\n",
      "2020-11-29 09:37:23,901 : INFO : Checking remixsid...\n",
      "2020-11-29 09:37:24,077 : INFO : remixsid is valid\n",
      "2020-11-29 09:37:24,079 : INFO : Checking security check request\n"
     ]
    },
    {
     "name": "stdout",
     "output_type": "stream",
     "text": [
      "186\n"
     ]
    },
    {
     "name": "stderr",
     "output_type": "stream",
     "text": [
      "2020-11-29 09:37:24,310 : INFO : Security check is not required\n",
      "2020-11-29 09:37:24,512 : INFO : access_token from config is valid\n",
      "2020-11-29 09:37:24,926 : INFO : Auth with login: +79221341105\n",
      "2020-11-29 09:37:24,927 : INFO : Checking remixsid...\n",
      "2020-11-29 09:37:25,116 : INFO : remixsid is valid\n",
      "2020-11-29 09:37:25,118 : INFO : Checking security check request\n"
     ]
    },
    {
     "name": "stdout",
     "output_type": "stream",
     "text": [
      "187\n"
     ]
    },
    {
     "name": "stderr",
     "output_type": "stream",
     "text": [
      "2020-11-29 09:37:25,522 : INFO : Security check is not required\n",
      "2020-11-29 09:37:25,705 : INFO : access_token from config is valid\n",
      "2020-11-29 09:37:26,126 : INFO : Auth with login: +79221341105\n",
      "2020-11-29 09:37:26,139 : INFO : Checking remixsid...\n"
     ]
    },
    {
     "name": "stdout",
     "output_type": "stream",
     "text": [
      "188\n"
     ]
    },
    {
     "name": "stderr",
     "output_type": "stream",
     "text": [
      "2020-11-29 09:37:26,376 : INFO : remixsid is valid\n",
      "2020-11-29 09:37:26,377 : INFO : Checking security check request\n",
      "2020-11-29 09:37:26,680 : INFO : Security check is not required\n",
      "2020-11-29 09:37:26,885 : INFO : access_token from config is valid\n",
      "2020-11-29 09:37:27,302 : INFO : Auth with login: +79221341105\n",
      "2020-11-29 09:37:27,305 : INFO : Checking remixsid...\n",
      "2020-11-29 09:37:27,487 : INFO : remixsid is valid\n",
      "2020-11-29 09:37:27,489 : INFO : Checking security check request\n"
     ]
    },
    {
     "name": "stdout",
     "output_type": "stream",
     "text": [
      "189\n"
     ]
    },
    {
     "name": "stderr",
     "output_type": "stream",
     "text": [
      "2020-11-29 09:37:27,712 : INFO : Security check is not required\n",
      "2020-11-29 09:37:27,915 : INFO : access_token from config is valid\n",
      "2020-11-29 09:37:28,326 : INFO : Auth with login: +79221341105\n",
      "2020-11-29 09:37:28,328 : INFO : Checking remixsid...\n",
      "2020-11-29 09:37:28,508 : INFO : remixsid is valid\n",
      "2020-11-29 09:37:28,510 : INFO : Checking security check request\n"
     ]
    },
    {
     "name": "stdout",
     "output_type": "stream",
     "text": [
      "190\n"
     ]
    },
    {
     "name": "stderr",
     "output_type": "stream",
     "text": [
      "2020-11-29 09:37:28,742 : INFO : Security check is not required\n",
      "2020-11-29 09:37:28,935 : INFO : access_token from config is valid\n",
      "2020-11-29 09:37:29,344 : INFO : Auth with login: +79221341105\n",
      "2020-11-29 09:37:29,345 : INFO : Checking remixsid...\n"
     ]
    },
    {
     "name": "stdout",
     "output_type": "stream",
     "text": [
      "191\n"
     ]
    },
    {
     "name": "stderr",
     "output_type": "stream",
     "text": [
      "2020-11-29 09:37:29,554 : INFO : remixsid is valid\n",
      "2020-11-29 09:37:29,556 : INFO : Checking security check request\n",
      "2020-11-29 09:37:29,782 : INFO : Security check is not required\n",
      "2020-11-29 09:37:29,972 : INFO : access_token from config is valid\n"
     ]
    },
    {
     "name": "stdout",
     "output_type": "stream",
     "text": [
      "Приватный паблик\n"
     ]
    },
    {
     "name": "stderr",
     "output_type": "stream",
     "text": [
      "\n",
      "Loading the model...\n",
      "Processing input...\n"
     ]
    },
    {
     "name": "stdout",
     "output_type": "stream",
     "text": [
      "text \n"
     ]
    },
    {
     "name": "stderr",
     "output_type": "stream",
     "text": [
      "2020-11-29 09:37:42,954 : INFO : Warming up ELMo on 9 sentences...\n",
      "2020-11-29 09:38:00,348 : INFO : Warming up finished.\n",
      "2020-11-29 09:38:00,356 : INFO : Texts in the current batch: 9\n",
      "2020-11-29 09:38:18,865 : INFO : Auth with login: +79221341105\n",
      "2020-11-29 09:38:18,865 : INFO : Checking remixsid...\n",
      "2020-11-29 09:38:19,053 : INFO : remixsid is valid\n",
      "2020-11-29 09:38:19,055 : INFO : Checking security check request\n"
     ]
    },
    {
     "name": "stdout",
     "output_type": "stream",
     "text": [
      "192\n"
     ]
    },
    {
     "name": "stderr",
     "output_type": "stream",
     "text": [
      "2020-11-29 09:38:19,279 : INFO : Security check is not required\n",
      "2020-11-29 09:38:19,463 : INFO : access_token from config is valid\n",
      "2020-11-29 09:38:19,877 : INFO : Auth with login: +79221341105\n",
      "2020-11-29 09:38:19,879 : INFO : Checking remixsid...\n",
      "2020-11-29 09:38:20,075 : INFO : remixsid is valid\n"
     ]
    },
    {
     "name": "stdout",
     "output_type": "stream",
     "text": [
      "193\n"
     ]
    },
    {
     "name": "stderr",
     "output_type": "stream",
     "text": [
      "2020-11-29 09:38:20,078 : INFO : Checking security check request\n",
      "2020-11-29 09:38:20,302 : INFO : Security check is not required\n",
      "2020-11-29 09:38:20,493 : INFO : access_token from config is valid\n",
      "2020-11-29 09:38:20,906 : INFO : Auth with login: +79221341105\n",
      "2020-11-29 09:38:20,908 : INFO : Checking remixsid...\n",
      "2020-11-29 09:38:21,089 : INFO : remixsid is valid\n",
      "2020-11-29 09:38:21,091 : INFO : Checking security check request\n"
     ]
    },
    {
     "name": "stdout",
     "output_type": "stream",
     "text": [
      "194\n"
     ]
    },
    {
     "name": "stderr",
     "output_type": "stream",
     "text": [
      "2020-11-29 09:38:21,307 : INFO : Security check is not required\n",
      "2020-11-29 09:38:21,503 : INFO : access_token from config is valid\n",
      "\n",
      "Loading the model...\n",
      "Processing input...\n"
     ]
    },
    {
     "name": "stdout",
     "output_type": "stream",
     "text": [
      "text ждать_NOUN\n"
     ]
    },
    {
     "name": "stderr",
     "output_type": "stream",
     "text": [
      "2020-11-29 09:38:32,251 : INFO : Warming up ELMo on 10 sentences...\n",
      "2020-11-29 09:39:11,696 : INFO : Warming up finished.\n",
      "2020-11-29 09:39:11,716 : INFO : Texts in the current batch: 10\n",
      "2020-11-29 09:39:53,279 : INFO : Auth with login: +79221341105\n",
      "2020-11-29 09:39:53,280 : INFO : Checking remixsid...\n",
      "2020-11-29 09:39:53,466 : INFO : remixsid is valid\n",
      "2020-11-29 09:39:53,467 : INFO : Checking security check request\n"
     ]
    },
    {
     "name": "stdout",
     "output_type": "stream",
     "text": [
      "195\n"
     ]
    },
    {
     "name": "stderr",
     "output_type": "stream",
     "text": [
      "2020-11-29 09:39:53,693 : INFO : Security check is not required\n",
      "2020-11-29 09:39:53,897 : INFO : access_token from config is valid\n",
      "2020-11-29 09:39:54,315 : INFO : Auth with login: +79221341105\n",
      "2020-11-29 09:39:54,316 : INFO : Checking remixsid...\n",
      "2020-11-29 09:39:54,491 : INFO : remixsid is valid\n",
      "2020-11-29 09:39:54,492 : INFO : Checking security check request\n"
     ]
    },
    {
     "name": "stdout",
     "output_type": "stream",
     "text": [
      "196\n"
     ]
    },
    {
     "name": "stderr",
     "output_type": "stream",
     "text": [
      "2020-11-29 09:39:54,725 : INFO : Security check is not required\n",
      "2020-11-29 09:39:54,920 : INFO : access_token from config is valid\n",
      "\n",
      "Loading the model...\n",
      "Processing input...\n"
     ]
    },
    {
     "name": "stdout",
     "output_type": "stream",
     "text": [
      "text кивиконкурс_NOUN как_ADV грустный_ADV стать_VERB жить_VERB карантин_NOUN что_PRON поднимать_VERB настроение_NOUN делать_VERB розыгрыш_NOUN рубль_NOUN сервер_NOUN условие_PROPN крайне_ADV простой_ADJ быть_AUX подписаный_ADJ сообщество_NOUN подслушано_VERB делать_VERB реповать_NOUN данный_ADJ запись_NOUN быть_AUX подписаный_ADJ наш_DET спонсор_NOUN продажа_PROPN вирт_NOUN оставлять_VERB комментарий_NOUN оба_NUM пост_NOUN я_PRON участвовать_VERB быть_AUX подписаный_ADJ канал_NOUN чупа_PROPN список_PROPN приз_NOUN место_NOUN рубль_NOUN место_NOUN рубль_NOUN место_NOUN рубль_NOUN место_NOUN рубль_NOUN место_NOUN рубль_NOUN итог_PROPN\n"
     ]
    },
    {
     "name": "stderr",
     "output_type": "stream",
     "text": [
      "2020-11-29 09:40:06,003 : INFO : Warming up ELMo on 10 sentences...\n",
      "2020-11-29 09:40:47,674 : INFO : Warming up finished.\n",
      "2020-11-29 09:40:47,690 : INFO : Texts in the current batch: 10\n",
      "2020-11-29 09:41:30,778 : INFO : Auth with login: +79221341105\n",
      "2020-11-29 09:41:30,779 : INFO : Checking remixsid...\n"
     ]
    },
    {
     "name": "stdout",
     "output_type": "stream",
     "text": [
      "197\n"
     ]
    },
    {
     "name": "stderr",
     "output_type": "stream",
     "text": [
      "2020-11-29 09:41:30,981 : INFO : remixsid is valid\n",
      "2020-11-29 09:41:30,984 : INFO : Checking security check request\n",
      "2020-11-29 09:41:31,217 : INFO : Security check is not required\n",
      "2020-11-29 09:41:31,400 : INFO : access_token from config is valid\n",
      "2020-11-29 09:41:31,831 : INFO : Auth with login: +79221341105\n",
      "2020-11-29 09:41:31,834 : INFO : Checking remixsid...\n",
      "2020-11-29 09:41:32,025 : INFO : remixsid is valid\n",
      "2020-11-29 09:41:32,027 : INFO : Checking security check request\n"
     ]
    },
    {
     "name": "stdout",
     "output_type": "stream",
     "text": [
      "198\n"
     ]
    },
    {
     "name": "stderr",
     "output_type": "stream",
     "text": [
      "2020-11-29 09:41:32,255 : INFO : Security check is not required\n",
      "2020-11-29 09:41:32,449 : INFO : access_token from config is valid\n",
      "2020-11-29 09:41:32,857 : INFO : Auth with login: +79221341105\n",
      "2020-11-29 09:41:32,861 : INFO : Checking remixsid...\n"
     ]
    },
    {
     "name": "stdout",
     "output_type": "stream",
     "text": [
      "199\n"
     ]
    },
    {
     "name": "stderr",
     "output_type": "stream",
     "text": [
      "2020-11-29 09:41:33,067 : INFO : remixsid is valid\n",
      "2020-11-29 09:41:33,069 : INFO : Checking security check request\n",
      "2020-11-29 09:41:33,293 : INFO : Security check is not required\n",
      "2020-11-29 09:41:33,492 : INFO : access_token from config is valid\n",
      "2020-11-29 09:41:33,911 : INFO : Auth with login: +79221341105\n",
      "2020-11-29 09:41:33,914 : INFO : Checking remixsid...\n",
      "2020-11-29 09:41:34,100 : INFO : remixsid is valid\n",
      "2020-11-29 09:41:34,102 : INFO : Checking security check request\n"
     ]
    },
    {
     "name": "stdout",
     "output_type": "stream",
     "text": [
      "200\n"
     ]
    },
    {
     "name": "stderr",
     "output_type": "stream",
     "text": [
      "2020-11-29 09:41:34,318 : INFO : Security check is not required\n",
      "2020-11-29 09:41:34,514 : INFO : access_token from config is valid\n",
      "2020-11-29 09:41:34,926 : INFO : Auth with login: +79221341105\n",
      "2020-11-29 09:41:34,929 : INFO : Checking remixsid...\n",
      "2020-11-29 09:41:35,089 : INFO : remixsid is valid\n",
      "2020-11-29 09:41:35,091 : INFO : Checking security check request\n"
     ]
    },
    {
     "name": "stdout",
     "output_type": "stream",
     "text": [
      "201\n"
     ]
    },
    {
     "name": "stderr",
     "output_type": "stream",
     "text": [
      "2020-11-29 09:41:35,344 : INFO : Security check is not required\n",
      "2020-11-29 09:41:35,557 : INFO : access_token from config is valid\n"
     ]
    },
    {
     "name": "stdout",
     "output_type": "stream",
     "text": [
      "Приватный паблик\n"
     ]
    },
    {
     "name": "stderr",
     "output_type": "stream",
     "text": [
      "\n",
      "Loading the model...\n",
      "Processing input...\n"
     ]
    },
    {
     "name": "stdout",
     "output_type": "stream",
     "text": [
      "text джизус_NOUN премьерарелиза_PROPN джизус_ADJ музыкант_NOUN трек_NOUN закладывать_VERB многогранный_ADJ мысль_NOUN бытие_NOUN государственный_ADJ протест_NOUN путь_NOUN собственный_ADJ познание_NOUN музыкант_PROPN затягивать_VERB мир_NOUN протестный_ADJ рокнролл_NOUN слово_NOUN понастоящему_VERB выражать_VERB мысль_NOUN рэп_PROPN игра_NOUN духовно_ADV интеллектуально_ADV бедный_ADJ человек_NOUN высказываться_VERB музыкант_NOUN последний_ADJ трансляция_NOUN новый_ADJ альбом_NOUN музыка_NOUN джизус_PROPN пообещать_VERB честный_ADJ свой_DET слушатель_NOUN этот_PRON высказывание_NOUN внутренний_ADJ протест_NOUN несогласие_NOUN происходить_VERB мир_NOUN частность_NOUN россия_PROPN посредством_ADP работа_NOUN хотеть_VERB открывать_VERB глаз_NOUN подрастать_VERB поколение_NOUN помогать_VERB любовь_PROPN спасти_VERB мир_NOUN крылатый_ADJ фраза_NOUN ложиться_VERB концепция_NOUN альбом_NOUN сам_ADJ альбом_NOUN являться_VERB полностью_ADV сольный_ADJ включать_VERB треков_NOUN рокнроллар_NOUN стилистика_NOUN\n"
     ]
    },
    {
     "name": "stderr",
     "output_type": "stream",
     "text": [
      "2020-11-29 09:41:49,856 : INFO : Warming up ELMo on 9 sentences...\n",
      "2020-11-29 09:42:24,458 : INFO : Warming up finished.\n",
      "2020-11-29 09:42:24,494 : INFO : Texts in the current batch: 9\n",
      "2020-11-29 09:43:01,404 : INFO : Auth with login: +79221341105\n",
      "2020-11-29 09:43:01,405 : INFO : Checking remixsid...\n",
      "2020-11-29 09:43:01,589 : INFO : remixsid is valid\n",
      "2020-11-29 09:43:01,591 : INFO : Checking security check request\n"
     ]
    },
    {
     "name": "stdout",
     "output_type": "stream",
     "text": [
      "202\n"
     ]
    },
    {
     "name": "stderr",
     "output_type": "stream",
     "text": [
      "2020-11-29 09:43:01,817 : INFO : Security check is not required\n",
      "2020-11-29 09:43:02,025 : INFO : access_token from config is valid\n",
      "2020-11-29 09:43:02,434 : INFO : Auth with login: +79221341105\n",
      "2020-11-29 09:43:02,435 : INFO : Checking remixsid...\n",
      "2020-11-29 09:43:02,615 : INFO : remixsid is valid\n",
      "2020-11-29 09:43:02,617 : INFO : Checking security check request\n"
     ]
    },
    {
     "name": "stdout",
     "output_type": "stream",
     "text": [
      "203\n"
     ]
    },
    {
     "name": "stderr",
     "output_type": "stream",
     "text": [
      "2020-11-29 09:43:02,861 : INFO : Security check is not required\n",
      "2020-11-29 09:43:03,040 : INFO : access_token from config is valid\n",
      "\n",
      "Loading the model...\n",
      "Processing input...\n"
     ]
    },
    {
     "name": "stdout",
     "output_type": "stream",
     "text": [
      "text роскомнадзор_PROPN обращаться_VERB ведущий_ADJ интернеткомпание_NOUN россия_PROPN просьба_NOUN создавать_VERB популяризировать_VERB отечественный_ADJ видеохостинг_NOUN ранее_ADV госдума_PROPN вносить_VERB законопроект_NOUN санкция_NOUN цензура_NOUN отношение_NOUN российский_ADJ сми_NOUN\n"
     ]
    },
    {
     "name": "stderr",
     "output_type": "stream",
     "text": [
      "2020-11-29 09:43:15,252 : INFO : Warming up ELMo on 10 sentences...\n",
      "2020-11-29 09:43:50,310 : INFO : Warming up finished.\n",
      "2020-11-29 09:43:50,341 : INFO : Texts in the current batch: 10\n",
      "2020-11-29 09:44:26,232 : INFO : Auth with login: +79221341105\n",
      "2020-11-29 09:44:26,233 : INFO : Checking remixsid...\n",
      "2020-11-29 09:44:26,416 : INFO : remixsid is valid\n",
      "2020-11-29 09:44:26,418 : INFO : Checking security check request\n"
     ]
    },
    {
     "name": "stdout",
     "output_type": "stream",
     "text": [
      "204\n"
     ]
    },
    {
     "name": "stderr",
     "output_type": "stream",
     "text": [
      "2020-11-29 09:44:26,650 : INFO : Security check is not required\n",
      "2020-11-29 09:44:26,839 : INFO : access_token from config is valid\n",
      "2020-11-29 09:44:27,256 : INFO : Auth with login: +79221341105\n",
      "2020-11-29 09:44:27,257 : INFO : Checking remixsid...\n",
      "2020-11-29 09:44:27,450 : INFO : remixsid is valid\n",
      "2020-11-29 09:44:27,452 : INFO : Checking security check request\n"
     ]
    },
    {
     "name": "stdout",
     "output_type": "stream",
     "text": [
      "205\n"
     ]
    },
    {
     "name": "stderr",
     "output_type": "stream",
     "text": [
      "2020-11-29 09:44:27,695 : INFO : Security check is not required\n",
      "2020-11-29 09:44:27,883 : INFO : access_token from config is valid\n"
     ]
    },
    {
     "name": "stdout",
     "output_type": "stream",
     "text": [
      "Приватный паблик\n"
     ]
    },
    {
     "name": "stderr",
     "output_type": "stream",
     "text": [
      "\n",
      "Loading the model...\n",
      "Processing input...\n"
     ]
    },
    {
     "name": "stdout",
     "output_type": "stream",
     "text": [
      "text \n"
     ]
    },
    {
     "name": "stderr",
     "output_type": "stream",
     "text": [
      "2020-11-29 09:44:40,818 : INFO : Warming up ELMo on 9 sentences...\n",
      "2020-11-29 09:44:43,692 : INFO : Warming up finished.\n",
      "2020-11-29 09:44:43,697 : INFO : Texts in the current batch: 9\n",
      "2020-11-29 09:44:46,347 : INFO : Auth with login: +79221341105\n",
      "2020-11-29 09:44:46,348 : INFO : Checking remixsid...\n",
      "2020-11-29 09:44:46,518 : INFO : remixsid is valid\n",
      "2020-11-29 09:44:46,520 : INFO : Checking security check request\n"
     ]
    },
    {
     "name": "stdout",
     "output_type": "stream",
     "text": [
      "206\n"
     ]
    },
    {
     "name": "stderr",
     "output_type": "stream",
     "text": [
      "2020-11-29 09:44:46,757 : INFO : Security check is not required\n",
      "2020-11-29 09:44:46,954 : INFO : access_token from config is valid\n",
      "2020-11-29 09:44:47,361 : INFO : Auth with login: +79221341105\n",
      "2020-11-29 09:44:47,364 : INFO : Checking remixsid...\n"
     ]
    },
    {
     "name": "stdout",
     "output_type": "stream",
     "text": [
      "207\n"
     ]
    },
    {
     "name": "stderr",
     "output_type": "stream",
     "text": [
      "2020-11-29 09:44:47,567 : INFO : remixsid is valid\n",
      "2020-11-29 09:44:47,569 : INFO : Checking security check request\n",
      "2020-11-29 09:44:47,807 : INFO : Security check is not required\n",
      "2020-11-29 09:44:48,046 : INFO : access_token from config is valid\n",
      "\n",
      "Loading the model...\n",
      "Processing input...\n"
     ]
    },
    {
     "name": "stdout",
     "output_type": "stream",
     "text": [
      "text \n"
     ]
    },
    {
     "name": "stderr",
     "output_type": "stream",
     "text": [
      "2020-11-29 09:45:00,185 : INFO : Warming up ELMo on 10 sentences...\n",
      "2020-11-29 09:45:12,145 : INFO : Warming up finished.\n",
      "2020-11-29 09:45:12,152 : INFO : Texts in the current batch: 10\n",
      "2020-11-29 09:45:24,619 : INFO : Auth with login: +79221341105\n",
      "2020-11-29 09:45:24,620 : INFO : Checking remixsid...\n",
      "2020-11-29 09:45:24,806 : INFO : remixsid is valid\n",
      "2020-11-29 09:45:24,807 : INFO : Checking security check request\n"
     ]
    },
    {
     "name": "stdout",
     "output_type": "stream",
     "text": [
      "208\n"
     ]
    },
    {
     "name": "stderr",
     "output_type": "stream",
     "text": [
      "2020-11-29 09:45:25,019 : INFO : Security check is not required\n",
      "2020-11-29 09:45:25,206 : INFO : access_token from config is valid\n",
      "2020-11-29 09:45:25,620 : INFO : Auth with login: +79221341105\n",
      "2020-11-29 09:45:25,622 : INFO : Checking remixsid...\n",
      "2020-11-29 09:45:25,808 : INFO : remixsid is valid\n",
      "2020-11-29 09:45:25,810 : INFO : Checking security check request\n"
     ]
    },
    {
     "name": "stdout",
     "output_type": "stream",
     "text": [
      "209\n"
     ]
    },
    {
     "name": "stderr",
     "output_type": "stream",
     "text": [
      "2020-11-29 09:45:26,061 : INFO : Security check is not required\n",
      "2020-11-29 09:45:26,246 : INFO : access_token from config is valid\n",
      "\n",
      "Loading the model...\n",
      "Processing input...\n"
     ]
    },
    {
     "name": "stdout",
     "output_type": "stream",
     "text": [
      "text минутка_PROPN удивительный_ADJ история_NOUN\n"
     ]
    },
    {
     "name": "stderr",
     "output_type": "stream",
     "text": [
      "2020-11-29 09:45:36,787 : INFO : Warming up ELMo on 10 sentences...\n",
      "2020-11-29 09:45:52,178 : INFO : Warming up finished.\n",
      "2020-11-29 09:45:52,183 : INFO : Texts in the current batch: 10\n",
      "2020-11-29 09:46:07,676 : INFO : Auth with login: +79221341105\n",
      "2020-11-29 09:46:07,677 : INFO : Checking remixsid...\n",
      "2020-11-29 09:46:07,851 : INFO : remixsid is valid\n",
      "2020-11-29 09:46:07,852 : INFO : Checking security check request\n"
     ]
    },
    {
     "name": "stdout",
     "output_type": "stream",
     "text": [
      "210\n"
     ]
    },
    {
     "name": "stderr",
     "output_type": "stream",
     "text": [
      "2020-11-29 09:46:08,083 : INFO : Security check is not required\n",
      "2020-11-29 09:46:08,289 : INFO : access_token from config is valid\n",
      "\n",
      "Loading the model...\n",
      "Processing input...\n"
     ]
    },
    {
     "name": "stdout",
     "output_type": "stream",
     "text": [
      "text \n"
     ]
    },
    {
     "name": "stderr",
     "output_type": "stream",
     "text": [
      "2020-11-29 09:46:19,927 : INFO : Warming up ELMo on 10 sentences...\n",
      "2020-11-29 09:47:00,102 : INFO : Warming up finished.\n",
      "2020-11-29 09:47:00,118 : INFO : Texts in the current batch: 10\n",
      "2020-11-29 09:47:42,108 : INFO : Auth with login: +79221341105\n",
      "2020-11-29 09:47:42,109 : INFO : Checking remixsid...\n",
      "2020-11-29 09:47:42,292 : INFO : remixsid is valid\n",
      "2020-11-29 09:47:42,294 : INFO : Checking security check request\n"
     ]
    },
    {
     "name": "stdout",
     "output_type": "stream",
     "text": [
      "211\n"
     ]
    },
    {
     "name": "stderr",
     "output_type": "stream",
     "text": [
      "2020-11-29 09:47:42,517 : INFO : Security check is not required\n",
      "2020-11-29 09:47:42,713 : INFO : access_token from config is valid\n",
      "\n",
      "Loading the model...\n",
      "Processing input...\n"
     ]
    },
    {
     "name": "stdout",
     "output_type": "stream",
     "text": [
      "text \n"
     ]
    },
    {
     "name": "stderr",
     "output_type": "stream",
     "text": [
      "2020-11-29 09:47:53,794 : INFO : Warming up ELMo on 10 sentences...\n",
      "2020-11-29 09:48:42,975 : INFO : Warming up finished.\n",
      "2020-11-29 09:48:42,997 : INFO : Texts in the current batch: 10\n",
      "2020-11-29 09:49:33,261 : INFO : Auth with login: +79221341105\n",
      "2020-11-29 09:49:33,262 : INFO : Checking remixsid...\n",
      "2020-11-29 09:49:33,448 : INFO : remixsid is valid\n",
      "2020-11-29 09:49:33,450 : INFO : Checking security check request\n"
     ]
    },
    {
     "name": "stdout",
     "output_type": "stream",
     "text": [
      "212\n"
     ]
    },
    {
     "name": "stderr",
     "output_type": "stream",
     "text": [
      "2020-11-29 09:49:33,680 : INFO : Security check is not required\n",
      "2020-11-29 09:49:33,880 : INFO : access_token from config is valid\n",
      "2020-11-29 09:49:34,291 : INFO : Auth with login: +79221341105\n",
      "2020-11-29 09:49:34,294 : INFO : Checking remixsid...\n",
      "2020-11-29 09:49:34,480 : INFO : remixsid is valid\n",
      "2020-11-29 09:49:34,482 : INFO : Checking security check request\n"
     ]
    },
    {
     "name": "stdout",
     "output_type": "stream",
     "text": [
      "213\n"
     ]
    },
    {
     "name": "stderr",
     "output_type": "stream",
     "text": [
      "2020-11-29 09:49:34,718 : INFO : Security check is not required\n",
      "2020-11-29 09:49:34,916 : INFO : access_token from config is valid\n",
      "2020-11-29 09:49:35,334 : INFO : Auth with login: +79221341105\n",
      "2020-11-29 09:49:35,349 : INFO : Checking remixsid...\n",
      "2020-11-29 09:49:35,532 : INFO : remixsid is valid\n"
     ]
    },
    {
     "name": "stdout",
     "output_type": "stream",
     "text": [
      "214\n"
     ]
    },
    {
     "name": "stderr",
     "output_type": "stream",
     "text": [
      "2020-11-29 09:49:35,533 : INFO : Checking security check request\n",
      "2020-11-29 09:49:35,772 : INFO : Security check is not required\n",
      "2020-11-29 09:49:35,961 : INFO : access_token from config is valid\n",
      "2020-11-29 09:49:36,372 : INFO : Auth with login: +79221341105\n",
      "2020-11-29 09:49:36,374 : INFO : Checking remixsid...\n",
      "2020-11-29 09:49:36,554 : INFO : remixsid is valid\n",
      "2020-11-29 09:49:36,557 : INFO : Checking security check request\n"
     ]
    },
    {
     "name": "stdout",
     "output_type": "stream",
     "text": [
      "215\n"
     ]
    },
    {
     "name": "stderr",
     "output_type": "stream",
     "text": [
      "2020-11-29 09:49:36,776 : INFO : Security check is not required\n",
      "2020-11-29 09:49:36,971 : INFO : access_token from config is valid\n",
      "\n",
      "Loading the model...\n",
      "Processing input...\n"
     ]
    },
    {
     "name": "stdout",
     "output_type": "stream",
     "text": [
      "text \n"
     ]
    },
    {
     "name": "stderr",
     "output_type": "stream",
     "text": [
      "2020-11-29 09:49:49,440 : INFO : Warming up ELMo on 10 sentences...\n",
      "2020-11-29 09:50:13,871 : INFO : Warming up finished.\n",
      "2020-11-29 09:50:13,883 : INFO : Texts in the current batch: 10\n",
      "2020-11-29 09:50:38,751 : INFO : Auth with login: +79221341105\n",
      "2020-11-29 09:50:38,752 : INFO : Checking remixsid...\n",
      "2020-11-29 09:50:38,935 : INFO : remixsid is valid\n",
      "2020-11-29 09:50:38,937 : INFO : Checking security check request\n"
     ]
    },
    {
     "name": "stdout",
     "output_type": "stream",
     "text": [
      "216\n"
     ]
    },
    {
     "name": "stderr",
     "output_type": "stream",
     "text": [
      "2020-11-29 09:50:39,152 : INFO : Security check is not required\n",
      "2020-11-29 09:50:39,345 : INFO : access_token from config is valid\n"
     ]
    },
    {
     "name": "stdout",
     "output_type": "stream",
     "text": [
      "Приватный паблик\n"
     ]
    },
    {
     "name": "stderr",
     "output_type": "stream",
     "text": [
      "\n",
      "Loading the model...\n",
      "Processing input...\n"
     ]
    },
    {
     "name": "stdout",
     "output_type": "stream",
     "text": [
      "text \n"
     ]
    },
    {
     "name": "stderr",
     "output_type": "stream",
     "text": [
      "2020-11-29 09:50:51,031 : INFO : Warming up ELMo on 9 sentences...\n",
      "2020-11-29 09:51:10,054 : INFO : Warming up finished.\n",
      "2020-11-29 09:51:10,061 : INFO : Texts in the current batch: 9\n",
      "2020-11-29 09:51:29,783 : INFO : Auth with login: +79221341105\n",
      "2020-11-29 09:51:29,784 : INFO : Checking remixsid...\n",
      "2020-11-29 09:51:29,956 : INFO : remixsid is valid\n",
      "2020-11-29 09:51:29,959 : INFO : Checking security check request\n"
     ]
    },
    {
     "name": "stdout",
     "output_type": "stream",
     "text": [
      "217\n"
     ]
    },
    {
     "name": "stderr",
     "output_type": "stream",
     "text": [
      "2020-11-29 09:51:30,192 : INFO : Security check is not required\n",
      "2020-11-29 09:51:30,381 : INFO : access_token from config is valid\n",
      "2020-11-29 09:51:30,794 : INFO : Auth with login: +79221341105\n",
      "2020-11-29 09:51:30,795 : INFO : Checking remixsid...\n",
      "2020-11-29 09:51:30,973 : INFO : remixsid is valid\n",
      "2020-11-29 09:51:30,975 : INFO : Checking security check request\n"
     ]
    },
    {
     "name": "stdout",
     "output_type": "stream",
     "text": [
      "218\n"
     ]
    },
    {
     "name": "stderr",
     "output_type": "stream",
     "text": [
      "2020-11-29 09:51:31,188 : INFO : Security check is not required\n",
      "2020-11-29 09:51:31,385 : INFO : access_token from config is valid\n",
      "2020-11-29 09:51:31,793 : INFO : Auth with login: +79221341105\n",
      "2020-11-29 09:51:31,795 : INFO : Checking remixsid...\n"
     ]
    },
    {
     "name": "stdout",
     "output_type": "stream",
     "text": [
      "219\n"
     ]
    },
    {
     "name": "stderr",
     "output_type": "stream",
     "text": [
      "2020-11-29 09:51:31,998 : INFO : remixsid is valid\n",
      "2020-11-29 09:51:32,000 : INFO : Checking security check request\n",
      "2020-11-29 09:51:32,232 : INFO : Security check is not required\n",
      "2020-11-29 09:51:32,398 : INFO : access_token from config is valid\n",
      "2020-11-29 09:51:32,809 : INFO : Auth with login: +79221341105\n",
      "2020-11-29 09:51:32,811 : INFO : Checking remixsid...\n",
      "2020-11-29 09:51:32,996 : INFO : remixsid is valid\n",
      "2020-11-29 09:51:32,998 : INFO : Checking security check request\n"
     ]
    },
    {
     "name": "stdout",
     "output_type": "stream",
     "text": [
      "220\n"
     ]
    },
    {
     "name": "stderr",
     "output_type": "stream",
     "text": [
      "2020-11-29 09:51:33,213 : INFO : Security check is not required\n",
      "2020-11-29 09:51:33,411 : INFO : access_token from config is valid\n",
      "2020-11-29 09:51:33,828 : INFO : Auth with login: +79221341105\n",
      "2020-11-29 09:51:33,831 : INFO : Checking remixsid...\n",
      "2020-11-29 09:51:34,025 : INFO : remixsid is valid\n"
     ]
    },
    {
     "name": "stdout",
     "output_type": "stream",
     "text": [
      "221\n"
     ]
    },
    {
     "name": "stderr",
     "output_type": "stream",
     "text": [
      "2020-11-29 09:51:34,027 : INFO : Checking security check request\n",
      "2020-11-29 09:51:34,267 : INFO : Security check is not required\n",
      "2020-11-29 09:51:34,460 : INFO : access_token from config is valid\n",
      "\n",
      "Loading the model...\n",
      "Processing input...\n"
     ]
    },
    {
     "name": "stdout",
     "output_type": "stream",
     "text": [
      "text думать_VERB подсовывать_VERB начальниц_NOUN мужик_PROPN в_ADP стрингах_PROPN но_CCONJ она_PRON мы_PRON превосходить_VERB знать_VERB такой_DET коллега_NOUN начальница_NOUN в_ADP гдето_PROPN одеваться_VERB невзрачно_ADV фигура_NOUN муж_PROPN развестись_VERB взрослый_NOUN ребенок_NOUN куча_NOUN работа_NOUN личный_ADJ жизнь_NOUN нет_VERB мужчина_NOUN подруга_ADV особо_ADV предел_NOUN офис_NOUN развлечение_PROPN отдых_NOUN смотреть_VERB сериал_NOUN дом_ADV порядок_NOUN наводить_VERB все_PRON остальной_ADJ занимать_VERB работа_NOUN и_CCONJ смотреть_VERB какихнибудь_ADV невзрачный_ADJ поносить_ADJ брюки_NOUN кофточка_NOUN нелепый_ADJ бабкин_ADJ расцветка_NOUN каждый_ADJ голова_NOUN один_NUM мысль_NOUN хоть_ADV превращаться_VERB и_CCONJ вроде_ADV женщина_NOUN симпатичный_ADJ неглупый_ADJ забывать_VERB предел_NOUN офисный_ADJ компьютер_NOUN куча_NOUN бумажка_NOUN минимальный_ADJ общение_NOUN обеденный_VERB перерыв_NOUN в_ADP работа_NOUN глава_NOUN мой_DET отдел_NOUN марина_PROPN все_DET вежливо_ADV улыбаться_VERB работа_NOUN никакой_DET претензия_NOUN пообщаться_VERB удовольствие_NOUN но_CCONJ глаз_NOUN коллега_NOUN подруга_ADV молодой_ADV видеть_VERB страх_NOUN не_PART хотеть_VERB заканчивать_VERB както_PRON\n"
     ]
    },
    {
     "name": "stderr",
     "output_type": "stream",
     "text": [
      "2020-11-29 09:51:50,609 : INFO : Warming up ELMo on 10 sentences...\n",
      "2020-11-29 09:52:28,015 : INFO : Warming up finished.\n",
      "2020-11-29 09:52:28,034 : INFO : Texts in the current batch: 10\n",
      "2020-11-29 09:53:07,553 : INFO : Auth with login: +79221341105\n",
      "2020-11-29 09:53:07,554 : INFO : Checking remixsid...\n",
      "2020-11-29 09:53:07,741 : INFO : remixsid is valid\n",
      "2020-11-29 09:53:07,743 : INFO : Checking security check request\n"
     ]
    },
    {
     "name": "stdout",
     "output_type": "stream",
     "text": [
      "222\n"
     ]
    },
    {
     "name": "stderr",
     "output_type": "stream",
     "text": [
      "2020-11-29 09:53:07,976 : INFO : Security check is not required\n",
      "2020-11-29 09:53:08,173 : INFO : access_token from config is valid\n",
      "2020-11-29 09:53:08,590 : INFO : Auth with login: +79221341105\n",
      "2020-11-29 09:53:08,592 : INFO : Checking remixsid...\n",
      "2020-11-29 09:53:08,770 : INFO : remixsid is valid\n",
      "2020-11-29 09:53:08,772 : INFO : Checking security check request\n"
     ]
    },
    {
     "name": "stdout",
     "output_type": "stream",
     "text": [
      "223\n"
     ]
    },
    {
     "name": "stderr",
     "output_type": "stream",
     "text": [
      "2020-11-29 09:53:09,000 : INFO : Security check is not required\n",
      "2020-11-29 09:53:09,191 : INFO : access_token from config is valid\n",
      "2020-11-29 09:53:09,605 : INFO : Auth with login: +79221341105\n",
      "2020-11-29 09:53:09,622 : INFO : Checking remixsid...\n",
      "2020-11-29 09:53:09,798 : INFO : remixsid is valid\n",
      "2020-11-29 09:53:09,799 : INFO : Checking security check request\n"
     ]
    },
    {
     "name": "stdout",
     "output_type": "stream",
     "text": [
      "224\n"
     ]
    },
    {
     "name": "stderr",
     "output_type": "stream",
     "text": [
      "2020-11-29 09:53:10,021 : INFO : Security check is not required\n",
      "2020-11-29 09:53:10,215 : INFO : access_token from config is valid\n",
      "2020-11-29 09:53:10,625 : INFO : Auth with login: +79221341105\n",
      "2020-11-29 09:53:10,627 : INFO : Checking remixsid...\n",
      "2020-11-29 09:53:10,816 : INFO : remixsid is valid\n",
      "2020-11-29 09:53:10,818 : INFO : Checking security check request\n"
     ]
    },
    {
     "name": "stdout",
     "output_type": "stream",
     "text": [
      "225\n"
     ]
    },
    {
     "name": "stderr",
     "output_type": "stream",
     "text": [
      "2020-11-29 09:53:11,048 : INFO : Security check is not required\n",
      "2020-11-29 09:53:11,241 : INFO : access_token from config is valid\n",
      "\n",
      "Loading the model...\n",
      "Processing input...\n"
     ]
    },
    {
     "name": "stdout",
     "output_type": "stream",
     "text": [
      "text \n"
     ]
    },
    {
     "name": "stderr",
     "output_type": "stream",
     "text": [
      "2020-11-29 09:53:23,708 : INFO : Warming up ELMo on 10 sentences...\n",
      "2020-11-29 09:54:07,296 : INFO : Warming up finished.\n",
      "2020-11-29 09:54:07,319 : INFO : Texts in the current batch: 10\n",
      "2020-11-29 09:54:52,243 : INFO : Auth with login: +79221341105\n",
      "2020-11-29 09:54:52,244 : INFO : Checking remixsid...\n"
     ]
    },
    {
     "name": "stdout",
     "output_type": "stream",
     "text": [
      "226\n"
     ]
    },
    {
     "name": "stderr",
     "output_type": "stream",
     "text": [
      "2020-11-29 09:54:52,450 : INFO : remixsid is valid\n",
      "2020-11-29 09:54:52,451 : INFO : Checking security check request\n",
      "2020-11-29 09:54:52,683 : INFO : Security check is not required\n",
      "2020-11-29 09:54:52,878 : INFO : access_token from config is valid\n"
     ]
    },
    {
     "name": "stdout",
     "output_type": "stream",
     "text": [
      "Приватный паблик\n"
     ]
    },
    {
     "name": "stderr",
     "output_type": "stream",
     "text": [
      "\n",
      "Loading the model...\n",
      "Processing input...\n"
     ]
    },
    {
     "name": "stdout",
     "output_type": "stream",
     "text": [
      "text \n"
     ]
    },
    {
     "name": "stderr",
     "output_type": "stream",
     "text": [
      "2020-11-29 09:55:07,263 : INFO : Warming up ELMo on 9 sentences...\n",
      "2020-11-29 09:55:22,226 : INFO : Warming up finished.\n",
      "2020-11-29 09:55:22,232 : INFO : Texts in the current batch: 9\n",
      "2020-11-29 09:55:37,490 : INFO : Auth with login: +79221341105\n",
      "2020-11-29 09:55:37,491 : INFO : Checking remixsid...\n",
      "2020-11-29 09:55:37,674 : INFO : remixsid is valid\n",
      "2020-11-29 09:55:37,676 : INFO : Checking security check request\n"
     ]
    },
    {
     "name": "stdout",
     "output_type": "stream",
     "text": [
      "227\n"
     ]
    },
    {
     "name": "stderr",
     "output_type": "stream",
     "text": [
      "2020-11-29 09:55:37,908 : INFO : Security check is not required\n",
      "2020-11-29 09:55:38,112 : INFO : access_token from config is valid\n",
      "2020-11-29 09:55:38,527 : INFO : Auth with login: +79221341105\n",
      "2020-11-29 09:55:38,527 : INFO : Checking remixsid...\n",
      "2020-11-29 09:55:38,689 : INFO : remixsid is valid\n",
      "2020-11-29 09:55:38,691 : INFO : Checking security check request\n"
     ]
    },
    {
     "name": "stdout",
     "output_type": "stream",
     "text": [
      "228\n"
     ]
    },
    {
     "name": "stderr",
     "output_type": "stream",
     "text": [
      "2020-11-29 09:55:38,912 : INFO : Security check is not required\n",
      "2020-11-29 09:55:39,095 : INFO : access_token from config is valid\n"
     ]
    },
    {
     "name": "stdout",
     "output_type": "stream",
     "text": [
      "Приватный паблик\n"
     ]
    },
    {
     "name": "stderr",
     "output_type": "stream",
     "text": [
      "\n",
      "Loading the model...\n",
      "Processing input...\n"
     ]
    },
    {
     "name": "stdout",
     "output_type": "stream",
     "text": [
      "text резать_VERB цена_NOUN черный_ADJ ведь_SCONJ черный_ADJ пятница_PROPN скидка_ADJ весь_DET категория_NOUN переходить_VERB ссылка_NOUN\n"
     ]
    },
    {
     "name": "stderr",
     "output_type": "stream",
     "text": [
      "2020-11-29 09:55:54,584 : INFO : Warming up ELMo on 9 sentences...\n",
      "2020-11-29 09:56:31,814 : INFO : Warming up finished.\n",
      "2020-11-29 09:56:31,833 : INFO : Texts in the current batch: 9\n",
      "2020-11-29 09:57:11,107 : INFO : Auth with login: +79221341105\n",
      "2020-11-29 09:57:11,108 : INFO : Checking remixsid...\n",
      "2020-11-29 09:57:11,304 : INFO : remixsid is valid\n",
      "2020-11-29 09:57:11,306 : INFO : Checking security check request\n"
     ]
    },
    {
     "name": "stdout",
     "output_type": "stream",
     "text": [
      "229\n"
     ]
    },
    {
     "name": "stderr",
     "output_type": "stream",
     "text": [
      "2020-11-29 09:57:11,543 : INFO : Security check is not required\n",
      "2020-11-29 09:57:11,728 : INFO : access_token from config is valid\n",
      "2020-11-29 09:57:12,134 : INFO : Auth with login: +79221341105\n",
      "2020-11-29 09:57:12,136 : INFO : Checking remixsid...\n",
      "2020-11-29 09:57:12,309 : INFO : remixsid is valid\n",
      "2020-11-29 09:57:12,311 : INFO : Checking security check request\n"
     ]
    },
    {
     "name": "stdout",
     "output_type": "stream",
     "text": [
      "230\n"
     ]
    },
    {
     "name": "stderr",
     "output_type": "stream",
     "text": [
      "2020-11-29 09:57:12,532 : INFO : Security check is not required\n",
      "2020-11-29 09:57:12,721 : INFO : access_token from config is valid\n",
      "2020-11-29 09:57:13,131 : INFO : Auth with login: +79221341105\n",
      "2020-11-29 09:57:13,132 : INFO : Checking remixsid...\n",
      "2020-11-29 09:57:13,301 : INFO : remixsid is valid\n",
      "2020-11-29 09:57:13,303 : INFO : Checking security check request\n"
     ]
    },
    {
     "name": "stdout",
     "output_type": "stream",
     "text": [
      "231\n"
     ]
    },
    {
     "name": "stderr",
     "output_type": "stream",
     "text": [
      "2020-11-29 09:57:13,551 : INFO : Security check is not required\n",
      "2020-11-29 09:57:13,749 : INFO : access_token from config is valid\n",
      "2020-11-29 09:57:14,157 : INFO : Auth with login: +79221341105\n",
      "2020-11-29 09:57:14,160 : INFO : Checking remixsid...\n",
      "2020-11-29 09:57:14,353 : INFO : remixsid is valid\n",
      "2020-11-29 09:57:14,355 : INFO : Checking security check request\n"
     ]
    },
    {
     "name": "stdout",
     "output_type": "stream",
     "text": [
      "232\n"
     ]
    },
    {
     "name": "stderr",
     "output_type": "stream",
     "text": [
      "2020-11-29 09:57:14,597 : INFO : Security check is not required\n",
      "2020-11-29 09:57:14,789 : INFO : access_token from config is valid\n",
      "2020-11-29 09:57:15,201 : INFO : Auth with login: +79221341105\n",
      "2020-11-29 09:57:15,203 : INFO : Checking remixsid...\n",
      "2020-11-29 09:57:15,388 : INFO : remixsid is valid\n",
      "2020-11-29 09:57:15,390 : INFO : Checking security check request\n"
     ]
    },
    {
     "name": "stdout",
     "output_type": "stream",
     "text": [
      "233\n"
     ]
    },
    {
     "name": "stderr",
     "output_type": "stream",
     "text": [
      "2020-11-29 09:57:15,614 : INFO : Security check is not required\n",
      "2020-11-29 09:57:15,799 : INFO : access_token from config is valid\n",
      "2020-11-29 09:57:16,206 : INFO : Auth with login: +79221341105\n",
      "2020-11-29 09:57:16,208 : INFO : Checking remixsid...\n",
      "2020-11-29 09:57:16,375 : INFO : remixsid is valid\n",
      "2020-11-29 09:57:16,377 : INFO : Checking security check request\n"
     ]
    },
    {
     "name": "stdout",
     "output_type": "stream",
     "text": [
      "234\n"
     ]
    },
    {
     "name": "stderr",
     "output_type": "stream",
     "text": [
      "2020-11-29 09:57:16,625 : INFO : Security check is not required\n",
      "2020-11-29 09:57:16,835 : INFO : access_token from config is valid\n",
      "\n",
      "Loading the model...\n",
      "Processing input...\n"
     ]
    },
    {
     "name": "stdout",
     "output_type": "stream",
     "text": [
      "text новый_ADJ адрес_NOUN\n"
     ]
    },
    {
     "name": "stderr",
     "output_type": "stream",
     "text": [
      "2020-11-29 09:57:28,800 : INFO : Warming up ELMo on 10 sentences...\n",
      "2020-11-29 09:58:15,083 : INFO : Warming up finished.\n",
      "2020-11-29 09:58:15,111 : INFO : Texts in the current batch: 10\n",
      "2020-11-29 09:59:03,601 : INFO : Auth with login: +79221341105\n",
      "2020-11-29 09:59:03,602 : INFO : Checking remixsid...\n"
     ]
    },
    {
     "name": "stdout",
     "output_type": "stream",
     "text": [
      "235\n"
     ]
    },
    {
     "name": "stderr",
     "output_type": "stream",
     "text": [
      "2020-11-29 09:59:03,810 : INFO : remixsid is valid\n",
      "2020-11-29 09:59:03,812 : INFO : Checking security check request\n",
      "2020-11-29 09:59:04,044 : INFO : Security check is not required\n",
      "2020-11-29 09:59:04,248 : INFO : access_token from config is valid\n",
      "2020-11-29 09:59:04,663 : INFO : Auth with login: +79221341105\n",
      "2020-11-29 09:59:04,666 : INFO : Checking remixsid...\n",
      "2020-11-29 09:59:04,848 : INFO : remixsid is valid\n",
      "2020-11-29 09:59:04,850 : INFO : Checking security check request\n"
     ]
    },
    {
     "name": "stdout",
     "output_type": "stream",
     "text": [
      "236\n"
     ]
    },
    {
     "name": "stderr",
     "output_type": "stream",
     "text": [
      "2020-11-29 09:59:05,073 : INFO : Security check is not required\n",
      "2020-11-29 09:59:05,244 : INFO : access_token from config is valid\n"
     ]
    },
    {
     "name": "stdout",
     "output_type": "stream",
     "text": [
      "Приватный паблик\n"
     ]
    },
    {
     "name": "stderr",
     "output_type": "stream",
     "text": [
      "\n",
      "Loading the model...\n",
      "Processing input...\n"
     ]
    },
    {
     "name": "stdout",
     "output_type": "stream",
     "text": [
      "text правдивый_ADJ факт_NOUN\n"
     ]
    },
    {
     "name": "stderr",
     "output_type": "stream",
     "text": [
      "2020-11-29 09:59:18,277 : INFO : Warming up ELMo on 9 sentences...\n",
      "2020-11-29 09:59:27,529 : INFO : Warming up finished.\n",
      "2020-11-29 09:59:27,536 : INFO : Texts in the current batch: 9\n",
      "2020-11-29 09:59:36,861 : INFO : Auth with login: +79221341105\n",
      "2020-11-29 09:59:36,862 : INFO : Checking remixsid...\n",
      "2020-11-29 09:59:37,033 : INFO : remixsid is valid\n",
      "2020-11-29 09:59:37,035 : INFO : Checking security check request\n"
     ]
    },
    {
     "name": "stdout",
     "output_type": "stream",
     "text": [
      "237\n"
     ]
    },
    {
     "name": "stderr",
     "output_type": "stream",
     "text": [
      "2020-11-29 09:59:37,265 : INFO : Security check is not required\n",
      "2020-11-29 09:59:37,460 : INFO : access_token from config is valid\n",
      "2020-11-29 09:59:37,876 : INFO : Auth with login: +79221341105\n",
      "2020-11-29 09:59:37,878 : INFO : Checking remixsid...\n",
      "2020-11-29 09:59:38,054 : INFO : remixsid is valid\n",
      "2020-11-29 09:59:38,056 : INFO : Checking security check request\n"
     ]
    },
    {
     "name": "stdout",
     "output_type": "stream",
     "text": [
      "238\n"
     ]
    },
    {
     "name": "stderr",
     "output_type": "stream",
     "text": [
      "2020-11-29 09:59:38,293 : INFO : Security check is not required\n",
      "2020-11-29 09:59:38,491 : INFO : access_token from config is valid\n",
      "2020-11-29 09:59:38,908 : INFO : Auth with login: +79221341105\n",
      "2020-11-29 09:59:38,932 : INFO : Checking remixsid...\n",
      "2020-11-29 09:59:39,099 : INFO : remixsid is valid\n",
      "2020-11-29 09:59:39,101 : INFO : Checking security check request\n"
     ]
    },
    {
     "name": "stdout",
     "output_type": "stream",
     "text": [
      "239\n"
     ]
    },
    {
     "name": "stderr",
     "output_type": "stream",
     "text": [
      "2020-11-29 09:59:39,438 : INFO : Security check is not required\n",
      "2020-11-29 09:59:39,630 : INFO : access_token from config is valid\n"
     ]
    },
    {
     "name": "stdout",
     "output_type": "stream",
     "text": [
      "Приватный паблик\n",
      "Приватный паблик\n"
     ]
    },
    {
     "name": "stderr",
     "output_type": "stream",
     "text": [
      "\n",
      "Loading the model...\n",
      "Processing input...\n"
     ]
    },
    {
     "name": "stdout",
     "output_type": "stream",
     "text": [
      "text минутка_PROPN удивительный_ADJ история_NOUN\n"
     ]
    },
    {
     "name": "stderr",
     "output_type": "stream",
     "text": [
      "2020-11-29 09:59:51,459 : INFO : Warming up ELMo on 8 sentences...\n",
      "2020-11-29 09:59:54,119 : INFO : Warming up finished.\n",
      "2020-11-29 09:59:54,122 : INFO : Texts in the current batch: 8\n",
      "2020-11-29 09:59:56,594 : INFO : Auth with login: +79221341105\n",
      "2020-11-29 09:59:56,595 : INFO : Checking remixsid...\n",
      "2020-11-29 09:59:56,759 : INFO : remixsid is valid\n",
      "2020-11-29 09:59:56,761 : INFO : Checking security check request\n"
     ]
    },
    {
     "name": "stdout",
     "output_type": "stream",
     "text": [
      "240\n"
     ]
    },
    {
     "name": "stderr",
     "output_type": "stream",
     "text": [
      "2020-11-29 09:59:56,995 : INFO : Security check is not required\n",
      "2020-11-29 09:59:57,188 : INFO : access_token from config is valid\n",
      "2020-11-29 09:59:57,600 : INFO : Auth with login: +79221341105\n",
      "2020-11-29 09:59:57,602 : INFO : Checking remixsid...\n",
      "2020-11-29 09:59:57,784 : INFO : remixsid is valid\n",
      "2020-11-29 09:59:57,785 : INFO : Checking security check request\n"
     ]
    },
    {
     "name": "stdout",
     "output_type": "stream",
     "text": [
      "241\n"
     ]
    },
    {
     "name": "stderr",
     "output_type": "stream",
     "text": [
      "2020-11-29 09:59:58,018 : INFO : Security check is not required\n",
      "2020-11-29 09:59:58,220 : INFO : access_token from config is valid\n",
      "2020-11-29 09:59:58,636 : INFO : Auth with login: +79221341105\n",
      "2020-11-29 09:59:58,640 : INFO : Checking remixsid...\n",
      "2020-11-29 09:59:58,828 : INFO : remixsid is valid\n",
      "2020-11-29 09:59:58,830 : INFO : Checking security check request\n"
     ]
    },
    {
     "name": "stdout",
     "output_type": "stream",
     "text": [
      "242\n"
     ]
    },
    {
     "name": "stderr",
     "output_type": "stream",
     "text": [
      "2020-11-29 09:59:59,061 : INFO : Security check is not required\n",
      "2020-11-29 09:59:59,310 : INFO : access_token from config is valid\n"
     ]
    },
    {
     "name": "stdout",
     "output_type": "stream",
     "text": [
      "Приватный паблик\n"
     ]
    },
    {
     "name": "stderr",
     "output_type": "stream",
     "text": [
      "\n",
      "Loading the model...\n",
      "Processing input...\n"
     ]
    },
    {
     "name": "stdout",
     "output_type": "stream",
     "text": [
      "text \n"
     ]
    },
    {
     "name": "stderr",
     "output_type": "stream",
     "text": [
      "2020-11-29 10:00:14,555 : INFO : Warming up ELMo on 9 sentences...\n",
      "2020-11-29 10:00:47,615 : INFO : Warming up finished.\n",
      "2020-11-29 10:00:47,628 : INFO : Texts in the current batch: 9\n",
      "2020-11-29 10:01:23,591 : INFO : Auth with login: +79221341105\n",
      "2020-11-29 10:01:23,591 : INFO : Checking remixsid...\n",
      "2020-11-29 10:01:23,769 : INFO : remixsid is valid\n",
      "2020-11-29 10:01:23,771 : INFO : Checking security check request\n"
     ]
    },
    {
     "name": "stdout",
     "output_type": "stream",
     "text": [
      "243\n"
     ]
    },
    {
     "name": "stderr",
     "output_type": "stream",
     "text": [
      "2020-11-29 10:01:24,000 : INFO : Security check is not required\n",
      "2020-11-29 10:01:24,193 : INFO : access_token from config is valid\n",
      "2020-11-29 10:01:24,610 : INFO : Auth with login: +79221341105\n",
      "2020-11-29 10:01:24,612 : INFO : Checking remixsid...\n"
     ]
    },
    {
     "name": "stdout",
     "output_type": "stream",
     "text": [
      "244\n"
     ]
    },
    {
     "name": "stderr",
     "output_type": "stream",
     "text": [
      "2020-11-29 10:01:24,838 : INFO : remixsid is valid\n",
      "2020-11-29 10:01:24,839 : INFO : Checking security check request\n",
      "2020-11-29 10:01:25,081 : INFO : Security check is not required\n",
      "2020-11-29 10:01:25,278 : INFO : access_token from config is valid\n",
      "2020-11-29 10:01:25,690 : INFO : Auth with login: +79221341105\n",
      "2020-11-29 10:01:25,717 : INFO : Checking remixsid...\n"
     ]
    },
    {
     "name": "stdout",
     "output_type": "stream",
     "text": [
      "245\n"
     ]
    },
    {
     "name": "stderr",
     "output_type": "stream",
     "text": [
      "2020-11-29 10:01:25,897 : INFO : remixsid is valid\n",
      "2020-11-29 10:01:25,899 : INFO : Checking security check request\n",
      "2020-11-29 10:01:26,129 : INFO : Security check is not required\n",
      "2020-11-29 10:01:26,323 : INFO : access_token from config is valid\n",
      "2020-11-29 10:01:26,755 : INFO : Auth with login: +79221341105\n",
      "2020-11-29 10:01:26,758 : INFO : Checking remixsid...\n",
      "2020-11-29 10:01:26,946 : INFO : remixsid is valid\n",
      "2020-11-29 10:01:26,948 : INFO : Checking security check request\n"
     ]
    },
    {
     "name": "stdout",
     "output_type": "stream",
     "text": [
      "246\n"
     ]
    },
    {
     "name": "stderr",
     "output_type": "stream",
     "text": [
      "2020-11-29 10:01:27,200 : INFO : Security check is not required\n",
      "2020-11-29 10:01:27,396 : INFO : access_token from config is valid\n"
     ]
    },
    {
     "name": "stdout",
     "output_type": "stream",
     "text": [
      "Приватный паблик\n"
     ]
    },
    {
     "name": "stderr",
     "output_type": "stream",
     "text": [
      "\n",
      "Loading the model...\n",
      "Processing input...\n"
     ]
    },
    {
     "name": "stdout",
     "output_type": "stream",
     "text": [
      "text встречать_VERB музыкальный_ADJ куратор_NOUN погружаться_VERB стиль_NOUN хипхопый_NOUN классика_NOUN авторский_ADJ плейлист_NOUN чтобы_SCONJ открывать_VERB что-то_ADP необычный_ADJ самостоятельно_ADV искать_VERB паблик_NOUN хороший_ADJ музыка_NOUN успевать_VERB зарекомендовать_VERB весь_DET блок_NOUN куратор_NOUN размещаться_VERB обзор_PROPN музыкальный_ADJ раздел_NOUN подборка_NOUN сообществаэкспервать_NOUN делиться_VERB собственный_ADJ карточка_NOUN кнопка_NOUN подписываться_VERB после_ADP попадать_VERB карточка_NOUN понравиться_VERB куратор_NOUN прямо_ADV вкладки_ADJ мой_DET музыка_NOUN присоединяться_VERB куратор_NOUN сообщество_NOUN создатель_NOUN знать_VERB свой_DET направление_NOUN рассказывать_VERB релиз_NOUN рекомендовать_VERB слушатель_NOUN интересный_ADJ трек_NOUN отбирать_VERB паблик_NOUN музыкальный_ADJ редакция_NOUN первый_ADJ становиться_VERB родной_ADJ звук_NOUN рифма_ADJ панчи_PROPN другой_ADJ музыка_NOUN тихий_ADJ место_PROPN и_CCONJ начало_NOUN\n"
     ]
    },
    {
     "name": "stderr",
     "output_type": "stream",
     "text": [
      "2020-11-29 10:01:42,879 : INFO : Warming up ELMo on 9 sentences...\n",
      "2020-11-29 10:02:14,209 : INFO : Warming up finished.\n",
      "2020-11-29 10:02:14,223 : INFO : Texts in the current batch: 9\n",
      "2020-11-29 10:02:46,881 : INFO : Auth with login: +79221341105\n",
      "2020-11-29 10:02:46,882 : INFO : Checking remixsid...\n",
      "2020-11-29 10:02:47,062 : INFO : remixsid is valid\n",
      "2020-11-29 10:02:47,064 : INFO : Checking security check request\n"
     ]
    },
    {
     "name": "stdout",
     "output_type": "stream",
     "text": [
      "247\n"
     ]
    },
    {
     "name": "stderr",
     "output_type": "stream",
     "text": [
      "2020-11-29 10:02:47,312 : INFO : Security check is not required\n",
      "2020-11-29 10:02:47,504 : INFO : access_token from config is valid\n",
      "2020-11-29 10:02:47,917 : INFO : Auth with login: +79221341105\n",
      "2020-11-29 10:02:47,919 : INFO : Checking remixsid...\n",
      "2020-11-29 10:02:48,096 : INFO : remixsid is valid\n",
      "2020-11-29 10:02:48,097 : INFO : Checking security check request\n"
     ]
    },
    {
     "name": "stdout",
     "output_type": "stream",
     "text": [
      "248\n"
     ]
    },
    {
     "name": "stderr",
     "output_type": "stream",
     "text": [
      "2020-11-29 10:02:48,466 : INFO : Security check is not required\n",
      "2020-11-29 10:02:48,653 : INFO : access_token from config is valid\n",
      "2020-11-29 10:02:49,069 : INFO : Auth with login: +79221341105\n",
      "2020-11-29 10:02:49,071 : INFO : Checking remixsid...\n",
      "2020-11-29 10:02:49,265 : INFO : remixsid is valid\n"
     ]
    },
    {
     "name": "stdout",
     "output_type": "stream",
     "text": [
      "249\n"
     ]
    },
    {
     "name": "stderr",
     "output_type": "stream",
     "text": [
      "2020-11-29 10:02:49,268 : INFO : Checking security check request\n",
      "2020-11-29 10:02:49,499 : INFO : Security check is not required\n",
      "2020-11-29 10:02:49,756 : INFO : access_token from config is valid\n",
      "2020-11-29 10:02:50,182 : INFO : Auth with login: +79221341105\n",
      "2020-11-29 10:02:50,184 : INFO : Checking remixsid...\n",
      "2020-11-29 10:02:50,373 : INFO : remixsid is valid\n",
      "2020-11-29 10:02:50,375 : INFO : Checking security check request\n"
     ]
    },
    {
     "name": "stdout",
     "output_type": "stream",
     "text": [
      "250\n"
     ]
    },
    {
     "name": "stderr",
     "output_type": "stream",
     "text": [
      "2020-11-29 10:02:50,721 : INFO : Security check is not required\n",
      "2020-11-29 10:02:50,917 : INFO : access_token from config is valid\n",
      "2020-11-29 10:02:51,341 : INFO : Auth with login: +79221341105\n",
      "2020-11-29 10:02:51,344 : INFO : Checking remixsid...\n",
      "2020-11-29 10:02:51,535 : INFO : remixsid is valid\n",
      "2020-11-29 10:02:51,538 : INFO : Checking security check request\n"
     ]
    },
    {
     "name": "stdout",
     "output_type": "stream",
     "text": [
      "251\n"
     ]
    },
    {
     "name": "stderr",
     "output_type": "stream",
     "text": [
      "2020-11-29 10:02:51,756 : INFO : Security check is not required\n",
      "2020-11-29 10:02:51,946 : INFO : access_token from config is valid\n",
      "2020-11-29 10:02:52,356 : INFO : Auth with login: +79221341105\n",
      "2020-11-29 10:02:52,358 : INFO : Checking remixsid...\n",
      "2020-11-29 10:02:52,545 : INFO : remixsid is valid\n",
      "2020-11-29 10:02:52,548 : INFO : Checking security check request\n"
     ]
    },
    {
     "name": "stdout",
     "output_type": "stream",
     "text": [
      "252\n"
     ]
    },
    {
     "name": "stderr",
     "output_type": "stream",
     "text": [
      "2020-11-29 10:02:52,777 : INFO : Security check is not required\n",
      "2020-11-29 10:02:52,971 : INFO : access_token from config is valid\n",
      "2020-11-29 10:02:53,396 : INFO : Auth with login: +79221341105\n",
      "2020-11-29 10:02:53,398 : INFO : Checking remixsid...\n",
      "2020-11-29 10:02:53,582 : INFO : remixsid is valid\n",
      "2020-11-29 10:02:53,584 : INFO : Checking security check request\n"
     ]
    },
    {
     "name": "stdout",
     "output_type": "stream",
     "text": [
      "253\n"
     ]
    },
    {
     "name": "stderr",
     "output_type": "stream",
     "text": [
      "2020-11-29 10:02:54,102 : INFO : Security check is not required\n",
      "2020-11-29 10:02:54,283 : INFO : access_token from config is valid\n",
      "2020-11-29 10:02:54,690 : INFO : Auth with login: +79221341105\n",
      "2020-11-29 10:02:54,693 : INFO : Checking remixsid...\n",
      "2020-11-29 10:02:54,878 : INFO : remixsid is valid\n",
      "2020-11-29 10:02:54,880 : INFO : Checking security check request\n"
     ]
    },
    {
     "name": "stdout",
     "output_type": "stream",
     "text": [
      "254\n"
     ]
    },
    {
     "name": "stderr",
     "output_type": "stream",
     "text": [
      "2020-11-29 10:02:55,112 : INFO : Security check is not required\n",
      "2020-11-29 10:02:55,309 : INFO : access_token from config is valid\n",
      "2020-11-29 10:02:55,716 : INFO : Auth with login: +79221341105\n",
      "2020-11-29 10:02:55,717 : INFO : Checking remixsid...\n",
      "2020-11-29 10:02:55,877 : INFO : remixsid is valid\n",
      "2020-11-29 10:02:55,879 : INFO : Checking security check request\n"
     ]
    },
    {
     "name": "stdout",
     "output_type": "stream",
     "text": [
      "255\n"
     ]
    },
    {
     "name": "stderr",
     "output_type": "stream",
     "text": [
      "2020-11-29 10:02:56,159 : INFO : Security check is not required\n",
      "2020-11-29 10:02:56,369 : INFO : access_token from config is valid\n",
      "2020-11-29 10:02:56,783 : INFO : Auth with login: +79221341105\n",
      "2020-11-29 10:02:56,785 : INFO : Checking remixsid...\n",
      "2020-11-29 10:02:56,968 : INFO : remixsid is valid\n",
      "2020-11-29 10:02:56,970 : INFO : Checking security check request\n"
     ]
    },
    {
     "name": "stdout",
     "output_type": "stream",
     "text": [
      "256\n"
     ]
    },
    {
     "name": "stderr",
     "output_type": "stream",
     "text": [
      "2020-11-29 10:02:57,285 : INFO : Security check is not required\n",
      "2020-11-29 10:02:57,478 : INFO : access_token from config is valid\n",
      "2020-11-29 10:02:57,917 : INFO : Auth with login: +79221341105\n",
      "2020-11-29 10:02:57,919 : INFO : Checking remixsid...\n",
      "2020-11-29 10:02:58,108 : INFO : remixsid is valid\n",
      "2020-11-29 10:02:58,110 : INFO : Checking security check request\n"
     ]
    },
    {
     "name": "stdout",
     "output_type": "stream",
     "text": [
      "257\n"
     ]
    },
    {
     "name": "stderr",
     "output_type": "stream",
     "text": [
      "2020-11-29 10:02:58,335 : INFO : Security check is not required\n",
      "2020-11-29 10:02:58,533 : INFO : access_token from config is valid\n"
     ]
    },
    {
     "name": "stdout",
     "output_type": "stream",
     "text": [
      "Приватный паблик\n"
     ]
    },
    {
     "name": "stderr",
     "output_type": "stream",
     "text": [
      "\n",
      "Loading the model...\n",
      "Processing input...\n"
     ]
    },
    {
     "name": "stdout",
     "output_type": "stream",
     "text": [
      "text эксперимент_NOUN за_ADP стекло_PROPN ужас_NOUN восемь_NUM интернетзнаменитость_NOUN участвовать_VERB онлайншоу_NOUN зритель_NOUN решать_VERB судьба_NOUN скоро_ADV становиться_VERB понятный_ADJ обычный_ADJ игра_NOUN изощрять_ADJ эксперимент_NOUN таинственный_ADJ организатор_NOUN предлагать_VERB изобретательный_ADJ зрелищный_ADJ рискованный_ADJ опасный_ADJ участник_NOUN испытание_NOUN когда_SCONJ стекло_NOUN смотреть_VERB мир_NOUN заходить_VERB оказываться_VERB рейтинг_NOUN сохранять_VERB\n"
     ]
    },
    {
     "name": "stderr",
     "output_type": "stream",
     "text": [
      "2020-11-29 10:03:14,190 : INFO : Warming up ELMo on 9 sentences...\n",
      "2020-11-29 10:03:28,406 : INFO : Warming up finished.\n",
      "2020-11-29 10:03:28,414 : INFO : Texts in the current batch: 9\n",
      "2020-11-29 10:03:44,082 : INFO : Auth with login: +79221341105\n",
      "2020-11-29 10:03:44,083 : INFO : Checking remixsid...\n",
      "2020-11-29 10:03:44,265 : INFO : remixsid is valid\n",
      "2020-11-29 10:03:44,267 : INFO : Checking security check request\n"
     ]
    },
    {
     "name": "stdout",
     "output_type": "stream",
     "text": [
      "258\n"
     ]
    },
    {
     "name": "stderr",
     "output_type": "stream",
     "text": [
      "2020-11-29 10:03:44,580 : INFO : Security check is not required\n",
      "2020-11-29 10:03:44,784 : INFO : access_token from config is valid\n",
      "\n",
      "Loading the model...\n",
      "Processing input...\n"
     ]
    },
    {
     "name": "stdout",
     "output_type": "stream",
     "text": [
      "text безумие_NOUN единственный_ADJ выход_NOUN окружать_VERB безумие_PROPN\n"
     ]
    },
    {
     "name": "stderr",
     "output_type": "stream",
     "text": [
      "2020-11-29 10:04:01,867 : INFO : Warming up ELMo on 10 sentences...\n",
      "2020-11-29 10:04:42,626 : INFO : Warming up finished.\n",
      "2020-11-29 10:04:42,646 : INFO : Texts in the current batch: 10\n",
      "2020-11-29 10:05:25,845 : INFO : Auth with login: +79221341105\n",
      "2020-11-29 10:05:25,846 : INFO : Checking remixsid...\n"
     ]
    },
    {
     "name": "stdout",
     "output_type": "stream",
     "text": [
      "259\n"
     ]
    },
    {
     "name": "stderr",
     "output_type": "stream",
     "text": [
      "2020-11-29 10:05:26,052 : INFO : remixsid is valid\n",
      "2020-11-29 10:05:26,053 : INFO : Checking security check request\n",
      "2020-11-29 10:05:26,308 : INFO : Security check is not required\n",
      "2020-11-29 10:05:26,552 : INFO : access_token from config is valid\n"
     ]
    },
    {
     "name": "stdout",
     "output_type": "stream",
     "text": [
      "Приватный паблик\n"
     ]
    },
    {
     "name": "stderr",
     "output_type": "stream",
     "text": [
      "\n",
      "Loading the model...\n",
      "Processing input...\n"
     ]
    },
    {
     "name": "stdout",
     "output_type": "stream",
     "text": [
      "text \n"
     ]
    },
    {
     "name": "stderr",
     "output_type": "stream",
     "text": [
      "2020-11-29 10:05:38,283 : INFO : Warming up ELMo on 9 sentences...\n",
      "2020-11-29 10:05:50,301 : INFO : Warming up finished.\n",
      "2020-11-29 10:05:50,307 : INFO : Texts in the current batch: 9\n",
      "2020-11-29 10:06:02,539 : INFO : Auth with login: +79221341105\n",
      "2020-11-29 10:06:02,540 : INFO : Checking remixsid...\n",
      "2020-11-29 10:06:02,713 : INFO : remixsid is valid\n",
      "2020-11-29 10:06:02,714 : INFO : Checking security check request\n"
     ]
    },
    {
     "name": "stdout",
     "output_type": "stream",
     "text": [
      "260\n"
     ]
    },
    {
     "name": "stderr",
     "output_type": "stream",
     "text": [
      "2020-11-29 10:06:02,942 : INFO : Security check is not required\n",
      "2020-11-29 10:06:03,141 : INFO : access_token from config is valid\n",
      "2020-11-29 10:06:03,559 : INFO : Auth with login: +79221341105\n",
      "2020-11-29 10:06:03,560 : INFO : Checking remixsid...\n",
      "2020-11-29 10:06:03,731 : INFO : remixsid is valid\n",
      "2020-11-29 10:06:03,733 : INFO : Checking security check request\n"
     ]
    },
    {
     "name": "stdout",
     "output_type": "stream",
     "text": [
      "261\n"
     ]
    },
    {
     "name": "stderr",
     "output_type": "stream",
     "text": [
      "2020-11-29 10:06:03,956 : INFO : Security check is not required\n",
      "2020-11-29 10:06:04,142 : INFO : access_token from config is valid\n",
      "2020-11-29 10:06:04,558 : INFO : Auth with login: +79221341105\n",
      "2020-11-29 10:06:04,561 : INFO : Checking remixsid...\n"
     ]
    },
    {
     "name": "stdout",
     "output_type": "stream",
     "text": [
      "262\n"
     ]
    },
    {
     "name": "stderr",
     "output_type": "stream",
     "text": [
      "2020-11-29 10:06:04,761 : INFO : remixsid is valid\n",
      "2020-11-29 10:06:04,764 : INFO : Checking security check request\n",
      "2020-11-29 10:06:05,002 : INFO : Security check is not required\n",
      "2020-11-29 10:06:05,184 : INFO : access_token from config is valid\n",
      "2020-11-29 10:06:05,597 : INFO : Auth with login: +79221341105\n",
      "2020-11-29 10:06:05,599 : INFO : Checking remixsid...\n",
      "2020-11-29 10:06:05,776 : INFO : remixsid is valid\n",
      "2020-11-29 10:06:05,778 : INFO : Checking security check request\n"
     ]
    },
    {
     "name": "stdout",
     "output_type": "stream",
     "text": [
      "263\n"
     ]
    },
    {
     "name": "stderr",
     "output_type": "stream",
     "text": [
      "2020-11-29 10:06:06,008 : INFO : Security check is not required\n",
      "2020-11-29 10:06:06,175 : INFO : access_token from config is valid\n",
      "2020-11-29 10:06:06,579 : INFO : Auth with login: +79221341105\n",
      "2020-11-29 10:06:06,580 : INFO : Checking remixsid...\n",
      "2020-11-29 10:06:06,732 : INFO : remixsid is valid\n",
      "2020-11-29 10:06:06,733 : INFO : Checking security check request\n"
     ]
    },
    {
     "name": "stdout",
     "output_type": "stream",
     "text": [
      "264\n"
     ]
    },
    {
     "name": "stderr",
     "output_type": "stream",
     "text": [
      "2020-11-29 10:06:06,958 : INFO : Security check is not required\n",
      "2020-11-29 10:06:07,141 : INFO : access_token from config is valid\n"
     ]
    },
    {
     "name": "stdout",
     "output_type": "stream",
     "text": [
      "Приватный паблик\n"
     ]
    },
    {
     "name": "stderr",
     "output_type": "stream",
     "text": [
      "\n",
      "Loading the model...\n",
      "Processing input...\n"
     ]
    },
    {
     "name": "stdout",
     "output_type": "stream",
     "text": [
      "text \n"
     ]
    },
    {
     "name": "stderr",
     "output_type": "stream",
     "text": [
      "2020-11-29 10:06:22,416 : INFO : Warming up ELMo on 9 sentences...\n",
      "2020-11-29 10:06:36,937 : INFO : Warming up finished.\n",
      "2020-11-29 10:06:36,947 : INFO : Texts in the current batch: 9\n",
      "2020-11-29 10:06:51,763 : INFO : Auth with login: +79221341105\n",
      "2020-11-29 10:06:51,764 : INFO : Checking remixsid...\n",
      "2020-11-29 10:06:51,933 : INFO : remixsid is valid\n",
      "2020-11-29 10:06:51,935 : INFO : Checking security check request\n"
     ]
    },
    {
     "name": "stdout",
     "output_type": "stream",
     "text": [
      "265\n"
     ]
    },
    {
     "name": "stderr",
     "output_type": "stream",
     "text": [
      "2020-11-29 10:06:52,191 : INFO : Security check is not required\n",
      "2020-11-29 10:06:52,376 : INFO : access_token from config is valid\n",
      "2020-11-29 10:06:52,791 : INFO : Auth with login: +79221341105\n",
      "2020-11-29 10:06:52,792 : INFO : Checking remixsid...\n",
      "2020-11-29 10:06:52,961 : INFO : remixsid is valid\n",
      "2020-11-29 10:06:52,963 : INFO : Checking security check request\n"
     ]
    },
    {
     "name": "stdout",
     "output_type": "stream",
     "text": [
      "266\n"
     ]
    },
    {
     "name": "stderr",
     "output_type": "stream",
     "text": [
      "2020-11-29 10:06:53,176 : INFO : Security check is not required\n",
      "2020-11-29 10:06:53,358 : INFO : access_token from config is valid\n",
      "2020-11-29 10:06:53,772 : INFO : Auth with login: +79221341105\n",
      "2020-11-29 10:06:53,776 : INFO : Checking remixsid...\n",
      "2020-11-29 10:06:53,958 : INFO : remixsid is valid\n",
      "2020-11-29 10:06:53,960 : INFO : Checking security check request\n"
     ]
    },
    {
     "name": "stdout",
     "output_type": "stream",
     "text": [
      "267\n"
     ]
    },
    {
     "name": "stderr",
     "output_type": "stream",
     "text": [
      "2020-11-29 10:06:54,185 : INFO : Security check is not required\n",
      "2020-11-29 10:06:54,380 : INFO : access_token from config is valid\n"
     ]
    },
    {
     "name": "stdout",
     "output_type": "stream",
     "text": [
      "Приватный паблик\n",
      "Приватный паблик\n"
     ]
    },
    {
     "name": "stderr",
     "output_type": "stream",
     "text": [
      "\n",
      "Loading the model...\n",
      "Processing input...\n"
     ]
    },
    {
     "name": "stdout",
     "output_type": "stream",
     "text": [
      "text \n"
     ]
    },
    {
     "name": "stderr",
     "output_type": "stream",
     "text": [
      "2020-11-29 10:07:04,952 : INFO : Warming up ELMo on 8 sentences...\n",
      "2020-11-29 10:07:28,900 : INFO : Warming up finished.\n",
      "2020-11-29 10:07:28,912 : INFO : Texts in the current batch: 8\n",
      "2020-11-29 10:07:54,064 : INFO : Auth with login: +79221341105\n",
      "2020-11-29 10:07:54,065 : INFO : Checking remixsid...\n"
     ]
    },
    {
     "name": "stdout",
     "output_type": "stream",
     "text": [
      "268\n"
     ]
    },
    {
     "name": "stderr",
     "output_type": "stream",
     "text": [
      "2020-11-29 10:07:54,271 : INFO : remixsid is valid\n",
      "2020-11-29 10:07:54,273 : INFO : Checking security check request\n",
      "2020-11-29 10:07:54,514 : INFO : Security check is not required\n",
      "2020-11-29 10:07:54,716 : INFO : access_token from config is valid\n",
      "2020-11-29 10:07:55,172 : INFO : Auth with login: +79221341105\n",
      "2020-11-29 10:07:55,175 : INFO : Checking remixsid...\n",
      "2020-11-29 10:07:55,360 : INFO : remixsid is valid\n",
      "2020-11-29 10:07:55,362 : INFO : Checking security check request\n"
     ]
    },
    {
     "name": "stdout",
     "output_type": "stream",
     "text": [
      "269\n"
     ]
    },
    {
     "name": "stderr",
     "output_type": "stream",
     "text": [
      "2020-11-29 10:07:55,669 : INFO : Security check is not required\n",
      "2020-11-29 10:07:55,861 : INFO : access_token from config is valid\n"
     ]
    },
    {
     "name": "stdout",
     "output_type": "stream",
     "text": [
      "Приватный паблик\n"
     ]
    },
    {
     "name": "stderr",
     "output_type": "stream",
     "text": [
      "\n",
      "Loading the model...\n",
      "Processing input...\n"
     ]
    },
    {
     "name": "stdout",
     "output_type": "stream",
     "text": [
      "text \n"
     ]
    },
    {
     "name": "stderr",
     "output_type": "stream",
     "text": [
      "2020-11-29 10:08:11,232 : INFO : Warming up ELMo on 9 sentences...\n",
      "2020-11-29 10:08:25,290 : INFO : Warming up finished.\n",
      "2020-11-29 10:08:25,295 : INFO : Texts in the current batch: 9\n",
      "2020-11-29 10:08:39,744 : INFO : Auth with login: +79221341105\n",
      "2020-11-29 10:08:39,745 : INFO : Checking remixsid...\n",
      "2020-11-29 10:08:39,917 : INFO : remixsid is valid\n",
      "2020-11-29 10:08:39,919 : INFO : Checking security check request\n"
     ]
    },
    {
     "name": "stdout",
     "output_type": "stream",
     "text": [
      "270\n"
     ]
    },
    {
     "name": "stderr",
     "output_type": "stream",
     "text": [
      "2020-11-29 10:08:40,213 : INFO : Security check is not required\n",
      "2020-11-29 10:08:40,408 : INFO : access_token from config is valid\n",
      "\n",
      "Loading the model...\n",
      "Processing input...\n"
     ]
    },
    {
     "name": "stdout",
     "output_type": "stream",
     "text": [
      "text эксперимент_NOUN за_ADP стекло_PROPN ужас_NOUN восемь_NUM интернетзнаменитость_NOUN участвовать_VERB онлайншоу_NOUN зритель_NOUN решать_VERB судьба_NOUN скоро_ADV становиться_VERB понятный_ADJ обычный_ADJ игра_NOUN изощрять_ADJ эксперимент_NOUN таинственный_ADJ организатор_NOUN предлагать_VERB изобретательный_ADJ зрелищный_ADJ рискованный_ADJ опасный_ADJ участник_NOUN испытание_NOUN когда_SCONJ стекло_NOUN смотреть_VERB мир_NOUN заходить_VERB оказываться_VERB рейтинг_NOUN сохранять_VERB\n"
     ]
    },
    {
     "name": "stderr",
     "output_type": "stream",
     "text": [
      "2020-11-29 10:08:52,031 : INFO : Warming up ELMo on 10 sentences...\n",
      "2020-11-29 10:09:36,477 : INFO : Warming up finished.\n",
      "2020-11-29 10:09:36,498 : INFO : Texts in the current batch: 10\n",
      "2020-11-29 10:10:22,983 : INFO : Auth with login: +79221341105\n",
      "2020-11-29 10:10:22,984 : INFO : Checking remixsid...\n"
     ]
    },
    {
     "name": "stdout",
     "output_type": "stream",
     "text": [
      "271\n"
     ]
    },
    {
     "name": "stderr",
     "output_type": "stream",
     "text": [
      "2020-11-29 10:10:23,212 : INFO : remixsid is valid\n",
      "2020-11-29 10:10:23,214 : INFO : Checking security check request\n",
      "2020-11-29 10:10:23,530 : INFO : Security check is not required\n",
      "2020-11-29 10:10:23,728 : INFO : access_token from config is valid\n",
      "2020-11-29 10:10:24,140 : INFO : Auth with login: +79221341105\n",
      "2020-11-29 10:10:24,142 : INFO : Checking remixsid...\n",
      "2020-11-29 10:10:24,305 : INFO : remixsid is valid\n",
      "2020-11-29 10:10:24,308 : INFO : Checking security check request\n"
     ]
    },
    {
     "name": "stdout",
     "output_type": "stream",
     "text": [
      "272\n"
     ]
    },
    {
     "name": "stderr",
     "output_type": "stream",
     "text": [
      "2020-11-29 10:10:24,523 : INFO : Security check is not required\n",
      "2020-11-29 10:10:24,713 : INFO : access_token from config is valid\n",
      "2020-11-29 10:10:25,124 : INFO : Auth with login: +79221341105\n",
      "2020-11-29 10:10:25,127 : INFO : Checking remixsid...\n"
     ]
    },
    {
     "name": "stdout",
     "output_type": "stream",
     "text": [
      "273\n"
     ]
    },
    {
     "name": "stderr",
     "output_type": "stream",
     "text": [
      "2020-11-29 10:10:25,326 : INFO : remixsid is valid\n",
      "2020-11-29 10:10:25,330 : INFO : Checking security check request\n",
      "2020-11-29 10:10:25,564 : INFO : Security check is not required\n",
      "2020-11-29 10:10:25,800 : INFO : access_token from config is valid\n",
      "2020-11-29 10:10:26,214 : INFO : Auth with login: +79221341105\n",
      "2020-11-29 10:10:26,216 : INFO : Checking remixsid...\n",
      "2020-11-29 10:10:26,402 : INFO : remixsid is valid\n",
      "2020-11-29 10:10:26,404 : INFO : Checking security check request\n"
     ]
    },
    {
     "name": "stdout",
     "output_type": "stream",
     "text": [
      "274\n"
     ]
    },
    {
     "name": "stderr",
     "output_type": "stream",
     "text": [
      "2020-11-29 10:10:26,811 : INFO : Security check is not required\n",
      "2020-11-29 10:10:27,007 : INFO : access_token from config is valid\n",
      "\n",
      "Loading the model...\n",
      "Processing input...\n"
     ]
    },
    {
     "name": "stdout",
     "output_type": "stream",
     "text": [
      "text \n"
     ]
    },
    {
     "name": "stderr",
     "output_type": "stream",
     "text": [
      "2020-11-29 10:10:37,678 : INFO : Warming up ELMo on 10 sentences...\n",
      "2020-11-29 10:10:52,857 : INFO : Warming up finished.\n",
      "2020-11-29 10:10:52,867 : INFO : Texts in the current batch: 10\n",
      "2020-11-29 10:11:08,470 : INFO : Auth with login: +79221341105\n",
      "2020-11-29 10:11:08,471 : INFO : Checking remixsid...\n",
      "2020-11-29 10:11:08,643 : INFO : remixsid is valid\n",
      "2020-11-29 10:11:08,645 : INFO : Checking security check request\n"
     ]
    },
    {
     "name": "stdout",
     "output_type": "stream",
     "text": [
      "275\n"
     ]
    },
    {
     "name": "stderr",
     "output_type": "stream",
     "text": [
      "2020-11-29 10:11:08,881 : INFO : Security check is not required\n",
      "2020-11-29 10:11:09,091 : INFO : access_token from config is valid\n",
      "2020-11-29 10:11:09,508 : INFO : Auth with login: +79221341105\n",
      "2020-11-29 10:11:09,510 : INFO : Checking remixsid...\n",
      "2020-11-29 10:11:09,699 : INFO : remixsid is valid\n",
      "2020-11-29 10:11:09,700 : INFO : Checking security check request\n"
     ]
    },
    {
     "name": "stdout",
     "output_type": "stream",
     "text": [
      "276\n"
     ]
    },
    {
     "name": "stderr",
     "output_type": "stream",
     "text": [
      "2020-11-29 10:11:09,946 : INFO : Security check is not required\n",
      "2020-11-29 10:11:10,143 : INFO : access_token from config is valid\n"
     ]
    },
    {
     "name": "stdout",
     "output_type": "stream",
     "text": [
      "Приватный паблик\n"
     ]
    },
    {
     "name": "stderr",
     "output_type": "stream",
     "text": [
      "\n",
      "Loading the model...\n",
      "Processing input...\n"
     ]
    },
    {
     "name": "stdout",
     "output_type": "stream",
     "text": [
      "text требоваться_VERB администратор_PROPN выходной_ADJ день_NOUN кассир_PROPN выходной_ADJ день_NOUN официант_PROPN выходной_ADJ день_NOUN график_PROPN работа_NOUN праздничный_ADJ выходной_ADJ день_NOUN работа::трц_PROPN сити_PROPN молл_PROPN зпый_NOUN рубль_NOUN писать_VERB лс_PROPN\n"
     ]
    },
    {
     "name": "stderr",
     "output_type": "stream",
     "text": [
      "2020-11-29 10:11:24,030 : INFO : Warming up ELMo on 9 sentences...\n",
      "2020-11-29 10:12:11,045 : INFO : Warming up finished.\n",
      "2020-11-29 10:12:11,080 : INFO : Texts in the current batch: 9\n",
      "2020-11-29 10:13:00,635 : INFO : Auth with login: +79221341105\n",
      "2020-11-29 10:13:00,636 : INFO : Checking remixsid...\n",
      "2020-11-29 10:13:00,829 : INFO : remixsid is valid\n",
      "2020-11-29 10:13:00,831 : INFO : Checking security check request\n"
     ]
    },
    {
     "name": "stdout",
     "output_type": "stream",
     "text": [
      "277\n"
     ]
    },
    {
     "name": "stderr",
     "output_type": "stream",
     "text": [
      "2020-11-29 10:13:01,072 : INFO : Security check is not required\n",
      "2020-11-29 10:13:01,276 : INFO : access_token from config is valid\n",
      "2020-11-29 10:13:01,706 : INFO : Auth with login: +79221341105\n",
      "2020-11-29 10:13:01,708 : INFO : Checking remixsid...\n",
      "2020-11-29 10:13:01,875 : INFO : remixsid is valid\n",
      "2020-11-29 10:13:01,877 : INFO : Checking security check request\n"
     ]
    },
    {
     "name": "stdout",
     "output_type": "stream",
     "text": [
      "278\n"
     ]
    },
    {
     "name": "stderr",
     "output_type": "stream",
     "text": [
      "2020-11-29 10:13:02,114 : INFO : Security check is not required\n",
      "2020-11-29 10:13:02,352 : INFO : access_token from config is valid\n",
      "2020-11-29 10:13:02,773 : INFO : Auth with login: +79221341105\n",
      "2020-11-29 10:13:02,786 : INFO : Checking remixsid...\n",
      "2020-11-29 10:13:02,968 : INFO : remixsid is valid\n",
      "2020-11-29 10:13:02,971 : INFO : Checking security check request\n"
     ]
    },
    {
     "name": "stdout",
     "output_type": "stream",
     "text": [
      "279\n"
     ]
    },
    {
     "name": "stderr",
     "output_type": "stream",
     "text": [
      "2020-11-29 10:13:03,200 : INFO : Security check is not required\n",
      "2020-11-29 10:13:03,396 : INFO : access_token from config is valid\n"
     ]
    },
    {
     "name": "stdout",
     "output_type": "stream",
     "text": [
      "Приватный паблик\n"
     ]
    },
    {
     "name": "stderr",
     "output_type": "stream",
     "text": [
      "\n",
      "Loading the model...\n",
      "Processing input...\n"
     ]
    },
    {
     "name": "stdout",
     "output_type": "stream",
     "text": [
      "text игрушка_PROPN листать_VERB наш_DET карусель_NOUN знакомиться_VERB самый_ADJ классный_ADJ новинка_NOUN магазин_NOUN кораблик_PROPN еще_ADV больший_ADJ интересный_ADJ игрушка_NOUN находить_VERB ссылка_NOUN кораблик_PROPN корабликдетскиймагазин_PROPN корабликпомогаетродитель_NOUN товарыдлядетий_NOUN детскиетовар_NOUN детскиймагазин_NOUN\n"
     ]
    },
    {
     "name": "stderr",
     "output_type": "stream",
     "text": [
      "2020-11-29 10:13:16,273 : INFO : Warming up ELMo on 9 sentences...\n",
      "2020-11-29 10:13:50,613 : INFO : Warming up finished.\n",
      "2020-11-29 10:13:50,624 : INFO : Texts in the current batch: 9\n",
      "2020-11-29 10:14:26,627 : INFO : Auth with login: +79221341105\n",
      "2020-11-29 10:14:26,628 : INFO : Checking remixsid...\n",
      "2020-11-29 10:14:26,810 : INFO : remixsid is valid\n",
      "2020-11-29 10:14:26,812 : INFO : Checking security check request\n"
     ]
    },
    {
     "name": "stdout",
     "output_type": "stream",
     "text": [
      "280\n"
     ]
    },
    {
     "name": "stderr",
     "output_type": "stream",
     "text": [
      "2020-11-29 10:14:27,048 : INFO : Security check is not required\n",
      "2020-11-29 10:14:27,247 : INFO : access_token from config is valid\n",
      "2020-11-29 10:14:27,655 : INFO : Auth with login: +79221341105\n",
      "2020-11-29 10:14:27,657 : INFO : Checking remixsid...\n"
     ]
    },
    {
     "name": "stdout",
     "output_type": "stream",
     "text": [
      "281\n"
     ]
    },
    {
     "name": "stderr",
     "output_type": "stream",
     "text": [
      "2020-11-29 10:14:27,876 : INFO : remixsid is valid\n",
      "2020-11-29 10:14:27,879 : INFO : Checking security check request\n",
      "2020-11-29 10:14:28,105 : INFO : Security check is not required\n",
      "2020-11-29 10:14:28,300 : INFO : access_token from config is valid\n",
      "2020-11-29 10:14:28,715 : INFO : Auth with login: +79221341105\n",
      "2020-11-29 10:14:28,718 : INFO : Checking remixsid...\n",
      "2020-11-29 10:14:28,912 : INFO : remixsid is valid\n"
     ]
    },
    {
     "name": "stdout",
     "output_type": "stream",
     "text": [
      "282\n"
     ]
    },
    {
     "name": "stderr",
     "output_type": "stream",
     "text": [
      "2020-11-29 10:14:28,916 : INFO : Checking security check request\n",
      "2020-11-29 10:14:29,146 : INFO : Security check is not required\n",
      "2020-11-29 10:14:29,346 : INFO : access_token from config is valid\n",
      "2020-11-29 10:14:29,759 : INFO : Auth with login: +79221341105\n",
      "2020-11-29 10:14:29,761 : INFO : Checking remixsid...\n",
      "2020-11-29 10:14:29,941 : INFO : remixsid is valid\n",
      "2020-11-29 10:14:29,943 : INFO : Checking security check request\n"
     ]
    },
    {
     "name": "stdout",
     "output_type": "stream",
     "text": [
      "283\n"
     ]
    },
    {
     "name": "stderr",
     "output_type": "stream",
     "text": [
      "2020-11-29 10:14:30,190 : INFO : Security check is not required\n",
      "2020-11-29 10:14:30,384 : INFO : access_token from config is valid\n",
      "2020-11-29 10:14:30,805 : INFO : Auth with login: +79221341105\n",
      "2020-11-29 10:14:30,807 : INFO : Checking remixsid...\n",
      "2020-11-29 10:14:30,988 : INFO : remixsid is valid\n",
      "2020-11-29 10:14:30,990 : INFO : Checking security check request\n"
     ]
    },
    {
     "name": "stdout",
     "output_type": "stream",
     "text": [
      "284\n"
     ]
    },
    {
     "name": "stderr",
     "output_type": "stream",
     "text": [
      "2020-11-29 10:14:31,223 : INFO : Security check is not required\n",
      "2020-11-29 10:14:31,408 : INFO : access_token from config is valid\n",
      "2020-11-29 10:14:31,824 : INFO : Auth with login: +79221341105\n",
      "2020-11-29 10:14:31,827 : INFO : Checking remixsid...\n",
      "2020-11-29 10:14:32,016 : INFO : remixsid is valid\n",
      "2020-11-29 10:14:32,018 : INFO : Checking security check request\n"
     ]
    },
    {
     "name": "stdout",
     "output_type": "stream",
     "text": [
      "285\n"
     ]
    },
    {
     "name": "stderr",
     "output_type": "stream",
     "text": [
      "2020-11-29 10:14:32,244 : INFO : Security check is not required\n",
      "2020-11-29 10:14:32,441 : INFO : access_token from config is valid\n",
      "2020-11-29 10:14:32,851 : INFO : Auth with login: +79221341105\n",
      "2020-11-29 10:14:32,852 : INFO : Checking remixsid...\n",
      "2020-11-29 10:14:33,031 : INFO : remixsid is valid\n",
      "2020-11-29 10:14:33,033 : INFO : Checking security check request\n"
     ]
    },
    {
     "name": "stdout",
     "output_type": "stream",
     "text": [
      "286\n"
     ]
    },
    {
     "name": "stderr",
     "output_type": "stream",
     "text": [
      "2020-11-29 10:14:33,250 : INFO : Security check is not required\n",
      "2020-11-29 10:14:33,446 : INFO : access_token from config is valid\n",
      "\n",
      "Loading the model...\n",
      "Processing input...\n"
     ]
    },
    {
     "name": "stdout",
     "output_type": "stream",
     "text": [
      "text \n"
     ]
    },
    {
     "name": "stderr",
     "output_type": "stream",
     "text": [
      "2020-11-29 10:14:44,943 : INFO : Warming up ELMo on 10 sentences...\n",
      "2020-11-29 10:15:15,835 : INFO : Warming up finished.\n",
      "2020-11-29 10:15:15,850 : INFO : Texts in the current batch: 10\n",
      "2020-11-29 10:15:53,000 : INFO : Auth with login: +79221341105\n",
      "2020-11-29 10:15:53,002 : INFO : Checking remixsid...\n",
      "2020-11-29 10:15:53,183 : INFO : remixsid is valid\n",
      "2020-11-29 10:15:53,185 : INFO : Checking security check request\n"
     ]
    },
    {
     "name": "stdout",
     "output_type": "stream",
     "text": [
      "287\n"
     ]
    },
    {
     "name": "stderr",
     "output_type": "stream",
     "text": [
      "2020-11-29 10:15:53,447 : INFO : Security check is not required\n",
      "2020-11-29 10:15:53,647 : INFO : access_token from config is valid\n",
      "2020-11-29 10:15:54,057 : INFO : Auth with login: +79221341105\n",
      "2020-11-29 10:15:54,060 : INFO : Checking remixsid...\n",
      "2020-11-29 10:15:54,238 : INFO : remixsid is valid\n",
      "2020-11-29 10:15:54,239 : INFO : Checking security check request\n"
     ]
    },
    {
     "name": "stdout",
     "output_type": "stream",
     "text": [
      "288\n"
     ]
    },
    {
     "name": "stderr",
     "output_type": "stream",
     "text": [
      "2020-11-29 10:15:54,480 : INFO : Security check is not required\n",
      "2020-11-29 10:15:54,678 : INFO : access_token from config is valid\n",
      "2020-11-29 10:15:55,096 : INFO : Auth with login: +79221341105\n",
      "2020-11-29 10:15:55,098 : INFO : Checking remixsid...\n"
     ]
    },
    {
     "name": "stdout",
     "output_type": "stream",
     "text": [
      "289\n"
     ]
    },
    {
     "name": "stderr",
     "output_type": "stream",
     "text": [
      "2020-11-29 10:15:55,308 : INFO : remixsid is valid\n",
      "2020-11-29 10:15:55,310 : INFO : Checking security check request\n",
      "2020-11-29 10:15:55,635 : INFO : Security check is not required\n",
      "2020-11-29 10:15:55,834 : INFO : access_token from config is valid\n",
      "2020-11-29 10:15:56,248 : INFO : Auth with login: +79221341105\n",
      "2020-11-29 10:15:56,249 : INFO : Checking remixsid...\n",
      "2020-11-29 10:15:56,422 : INFO : remixsid is valid\n",
      "2020-11-29 10:15:56,424 : INFO : Checking security check request\n"
     ]
    },
    {
     "name": "stdout",
     "output_type": "stream",
     "text": [
      "290\n"
     ]
    },
    {
     "name": "stderr",
     "output_type": "stream",
     "text": [
      "2020-11-29 10:15:56,644 : INFO : Security check is not required\n",
      "2020-11-29 10:15:56,863 : INFO : access_token from config is valid\n",
      "\n",
      "Loading the model...\n",
      "Processing input...\n"
     ]
    },
    {
     "name": "stdout",
     "output_type": "stream",
     "text": [
      "text \n"
     ]
    },
    {
     "name": "stderr",
     "output_type": "stream",
     "text": [
      "2020-11-29 10:16:08,339 : INFO : Warming up ELMo on 10 sentences...\n"
     ]
    },
    {
     "ename": "KeyboardInterrupt",
     "evalue": "",
     "output_type": "error",
     "traceback": [
      "\u001b[0;31m---------------------------------------------------------------------------\u001b[0m",
      "\u001b[0;31mKeyboardInterrupt\u001b[0m                         Traceback (most recent call last)",
      "\u001b[0;32m<ipython-input-6-8e123941d98a>\u001b[0m in \u001b[0;36m<module>\u001b[0;34m\u001b[0m\n\u001b[1;32m      3\u001b[0m \u001b[0;32mfor\u001b[0m \u001b[0midx\u001b[0m\u001b[0;34m,\u001b[0m \u001b[0muser_id\u001b[0m \u001b[0;32min\u001b[0m \u001b[0menumerate\u001b[0m\u001b[0;34m(\u001b[0m\u001b[0mgroup_members\u001b[0m\u001b[0;34m[\u001b[0m\u001b[0;36m300\u001b[0m\u001b[0;34m:\u001b[0m\u001b[0;34m]\u001b[0m\u001b[0;34m)\u001b[0m\u001b[0;34m:\u001b[0m  \u001b[0;31m# 300 because we are shifting from already loaded data\u001b[0m\u001b[0;34m\u001b[0m\u001b[0;34m\u001b[0m\u001b[0m\n\u001b[1;32m      4\u001b[0m     \u001b[0mprint\u001b[0m\u001b[0;34m(\u001b[0m\u001b[0midx\u001b[0m\u001b[0;34m)\u001b[0m\u001b[0;34m\u001b[0m\u001b[0;34m\u001b[0m\u001b[0m\n\u001b[0;32m----> 5\u001b[0;31m     \u001b[0muser_embed\u001b[0m \u001b[0;34m=\u001b[0m \u001b[0membedding\u001b[0m\u001b[0;34m.\u001b[0m\u001b[0mbuild_embeddings\u001b[0m\u001b[0;34m(\u001b[0m\u001b[0muser_id\u001b[0m\u001b[0;34m,\u001b[0m \u001b[0;34m\"+79221341105\"\u001b[0m\u001b[0;34m,\u001b[0m \u001b[0;34m\"QeRas02&R\"\u001b[0m\u001b[0;34m,\u001b[0m \u001b[0mmodel\u001b[0m\u001b[0;34m,\u001b[0m \u001b[0mused_groups_limit\u001b[0m\u001b[0;34m,\u001b[0m \u001b[0mused_posts_num\u001b[0m\u001b[0;34m=\u001b[0m\u001b[0mUSED_POSTS_NUM\u001b[0m\u001b[0;34m)\u001b[0m\u001b[0;34m\u001b[0m\u001b[0;34m\u001b[0m\u001b[0m\n\u001b[0m\u001b[1;32m      6\u001b[0m     \u001b[0mbad_embeddings2\u001b[0m\u001b[0;34m.\u001b[0m\u001b[0mappend\u001b[0m\u001b[0;34m(\u001b[0m\u001b[0muser_embed\u001b[0m\u001b[0;34m)\u001b[0m\u001b[0;34m\u001b[0m\u001b[0;34m\u001b[0m\u001b[0m\n",
      "\u001b[0;32m~/Projects/innohack-citadel/embedding.py\u001b[0m in \u001b[0;36mbuild_embeddings\u001b[0;34m(user_id, vk_login, vk_password, elmo_model, used_groups_limit, used_posts_num, words_num_thr)\u001b[0m\n\u001b[1;32m    105\u001b[0m         \u001b[0;32mfor\u001b[0m \u001b[0mtext_start_idx\u001b[0m \u001b[0;32min\u001b[0m \u001b[0mrange\u001b[0m\u001b[0;34m(\u001b[0m\u001b[0;36m0\u001b[0m\u001b[0;34m,\u001b[0m \u001b[0mlen\u001b[0m\u001b[0;34m(\u001b[0m\u001b[0mgroups_texts\u001b[0m\u001b[0;34m)\u001b[0m\u001b[0;34m,\u001b[0m \u001b[0mstep\u001b[0m\u001b[0;34m)\u001b[0m\u001b[0;34m:\u001b[0m\u001b[0;34m\u001b[0m\u001b[0;34m\u001b[0m\u001b[0m\n\u001b[1;32m    106\u001b[0m             \u001b[0mtext_end_idx\u001b[0m \u001b[0;34m=\u001b[0m \u001b[0mtext_start_idx\u001b[0m \u001b[0;34m+\u001b[0m \u001b[0mstep\u001b[0m\u001b[0;34m\u001b[0m\u001b[0;34m\u001b[0m\u001b[0m\n\u001b[0;32m--> 107\u001b[0;31m             \u001b[0membeddings\u001b[0m \u001b[0;34m=\u001b[0m \u001b[0melmo_model\u001b[0m\u001b[0;34m.\u001b[0m\u001b[0mget_elmo_vector_average\u001b[0m\u001b[0;34m(\u001b[0m\u001b[0mgroups_texts\u001b[0m\u001b[0;34m[\u001b[0m\u001b[0mtext_start_idx\u001b[0m\u001b[0;34m:\u001b[0m \u001b[0mtext_end_idx\u001b[0m\u001b[0;34m]\u001b[0m\u001b[0;34m)\u001b[0m\u001b[0;34m\u001b[0m\u001b[0;34m\u001b[0m\u001b[0m\n\u001b[0m\u001b[1;32m    108\u001b[0m             \u001b[0mmean_embedding\u001b[0m \u001b[0;34m=\u001b[0m \u001b[0membeddings\u001b[0m\u001b[0;34m.\u001b[0m\u001b[0mmean\u001b[0m\u001b[0;34m(\u001b[0m\u001b[0maxis\u001b[0m\u001b[0;34m=\u001b[0m\u001b[0;36m0\u001b[0m\u001b[0;34m)\u001b[0m\u001b[0;34m\u001b[0m\u001b[0;34m\u001b[0m\u001b[0m\n\u001b[1;32m    109\u001b[0m             \u001b[0mgroups_embedding\u001b[0m \u001b[0;34m+=\u001b[0m \u001b[0mmean_embedding\u001b[0m\u001b[0;34m\u001b[0m\u001b[0;34m\u001b[0m\u001b[0m\n",
      "\u001b[0;32m~/.local/share/virtualenvs/innohack-citadel-YNBG4hQA/lib/python3.8/site-packages/simple_elmo/elmo_helpers.py\u001b[0m in \u001b[0;36mget_elmo_vector_average\u001b[0;34m(self, texts, warmup, layers)\u001b[0m\n\u001b[1;32m    207\u001b[0m \u001b[0;34m\u001b[0m\u001b[0m\n\u001b[1;32m    208\u001b[0m             \u001b[0;32mif\u001b[0m \u001b[0mwarmup\u001b[0m\u001b[0;34m:\u001b[0m\u001b[0;34m\u001b[0m\u001b[0;34m\u001b[0m\u001b[0m\n\u001b[0;32m--> 209\u001b[0;31m                 \u001b[0mself\u001b[0m\u001b[0;34m.\u001b[0m\u001b[0mwarmup\u001b[0m\u001b[0;34m(\u001b[0m\u001b[0msess\u001b[0m\u001b[0;34m,\u001b[0m \u001b[0mtexts\u001b[0m\u001b[0;34m)\u001b[0m\u001b[0;34m\u001b[0m\u001b[0;34m\u001b[0m\u001b[0m\n\u001b[0m\u001b[1;32m    210\u001b[0m \u001b[0;34m\u001b[0m\u001b[0m\n\u001b[1;32m    211\u001b[0m             \u001b[0;31m# Running batches:\u001b[0m\u001b[0;34m\u001b[0m\u001b[0;34m\u001b[0m\u001b[0;34m\u001b[0m\u001b[0m\n",
      "\u001b[0;32m~/.local/share/virtualenvs/innohack-citadel-YNBG4hQA/lib/python3.8/site-packages/simple_elmo/elmo_helpers.py\u001b[0m in \u001b[0;36mwarmup\u001b[0;34m(self, sess, texts)\u001b[0m\n\u001b[1;32m    251\u001b[0m             \u001b[0mself\u001b[0m\u001b[0;34m.\u001b[0m\u001b[0mlogger\u001b[0m\u001b[0;34m.\u001b[0m\u001b[0minfo\u001b[0m\u001b[0;34m(\u001b[0m\u001b[0;34mf\"Warming up ELMo on {len(chunk0)} sentences...\"\u001b[0m\u001b[0;34m)\u001b[0m\u001b[0;34m\u001b[0m\u001b[0;34m\u001b[0m\u001b[0m\n\u001b[1;32m    252\u001b[0m             \u001b[0msentence_ids\u001b[0m \u001b[0;34m=\u001b[0m \u001b[0mself\u001b[0m\u001b[0;34m.\u001b[0m\u001b[0mbatcher\u001b[0m\u001b[0;34m.\u001b[0m\u001b[0mbatch_sentences\u001b[0m\u001b[0;34m(\u001b[0m\u001b[0mchunk0\u001b[0m\u001b[0;34m)\u001b[0m\u001b[0;34m\u001b[0m\u001b[0;34m\u001b[0m\u001b[0m\n\u001b[0;32m--> 253\u001b[0;31m             _ = sess.run(\n\u001b[0m\u001b[1;32m    254\u001b[0m                 \u001b[0mself\u001b[0m\u001b[0;34m.\u001b[0m\u001b[0melmo_sentence_input\u001b[0m\u001b[0;34m[\u001b[0m\u001b[0;34m\"weighted_op\"\u001b[0m\u001b[0;34m]\u001b[0m\u001b[0;34m,\u001b[0m\u001b[0;34m\u001b[0m\u001b[0;34m\u001b[0m\u001b[0m\n\u001b[1;32m    255\u001b[0m                 \u001b[0mfeed_dict\u001b[0m\u001b[0;34m=\u001b[0m\u001b[0;34m{\u001b[0m\u001b[0mself\u001b[0m\u001b[0;34m.\u001b[0m\u001b[0msentence_character_ids\u001b[0m\u001b[0;34m:\u001b[0m \u001b[0msentence_ids\u001b[0m\u001b[0;34m}\u001b[0m\u001b[0;34m,\u001b[0m\u001b[0;34m\u001b[0m\u001b[0;34m\u001b[0m\u001b[0m\n",
      "\u001b[0;32m~/.local/share/virtualenvs/innohack-citadel-YNBG4hQA/lib/python3.8/site-packages/tensorflow/python/client/session.py\u001b[0m in \u001b[0;36mrun\u001b[0;34m(self, fetches, feed_dict, options, run_metadata)\u001b[0m\n\u001b[1;32m    955\u001b[0m \u001b[0;34m\u001b[0m\u001b[0m\n\u001b[1;32m    956\u001b[0m     \u001b[0;32mtry\u001b[0m\u001b[0;34m:\u001b[0m\u001b[0;34m\u001b[0m\u001b[0;34m\u001b[0m\u001b[0m\n\u001b[0;32m--> 957\u001b[0;31m       result = self._run(None, fetches, feed_dict, options_ptr,\n\u001b[0m\u001b[1;32m    958\u001b[0m                          run_metadata_ptr)\n\u001b[1;32m    959\u001b[0m       \u001b[0;32mif\u001b[0m \u001b[0mrun_metadata\u001b[0m\u001b[0;34m:\u001b[0m\u001b[0;34m\u001b[0m\u001b[0;34m\u001b[0m\u001b[0m\n",
      "\u001b[0;32m~/.local/share/virtualenvs/innohack-citadel-YNBG4hQA/lib/python3.8/site-packages/tensorflow/python/client/session.py\u001b[0m in \u001b[0;36m_run\u001b[0;34m(self, handle, fetches, feed_dict, options, run_metadata)\u001b[0m\n\u001b[1;32m   1178\u001b[0m     \u001b[0;31m# or if the call is a partial run that specifies feeds.\u001b[0m\u001b[0;34m\u001b[0m\u001b[0;34m\u001b[0m\u001b[0;34m\u001b[0m\u001b[0m\n\u001b[1;32m   1179\u001b[0m     \u001b[0;32mif\u001b[0m \u001b[0mfinal_fetches\u001b[0m \u001b[0;32mor\u001b[0m \u001b[0mfinal_targets\u001b[0m \u001b[0;32mor\u001b[0m \u001b[0;34m(\u001b[0m\u001b[0mhandle\u001b[0m \u001b[0;32mand\u001b[0m \u001b[0mfeed_dict_tensor\u001b[0m\u001b[0;34m)\u001b[0m\u001b[0;34m:\u001b[0m\u001b[0;34m\u001b[0m\u001b[0;34m\u001b[0m\u001b[0m\n\u001b[0;32m-> 1180\u001b[0;31m       results = self._do_run(handle, final_targets, final_fetches,\n\u001b[0m\u001b[1;32m   1181\u001b[0m                              feed_dict_tensor, options, run_metadata)\n\u001b[1;32m   1182\u001b[0m     \u001b[0;32melse\u001b[0m\u001b[0;34m:\u001b[0m\u001b[0;34m\u001b[0m\u001b[0;34m\u001b[0m\u001b[0m\n",
      "\u001b[0;32m~/.local/share/virtualenvs/innohack-citadel-YNBG4hQA/lib/python3.8/site-packages/tensorflow/python/client/session.py\u001b[0m in \u001b[0;36m_do_run\u001b[0;34m(self, handle, target_list, fetch_list, feed_dict, options, run_metadata)\u001b[0m\n\u001b[1;32m   1356\u001b[0m \u001b[0;34m\u001b[0m\u001b[0m\n\u001b[1;32m   1357\u001b[0m     \u001b[0;32mif\u001b[0m \u001b[0mhandle\u001b[0m \u001b[0;32mis\u001b[0m \u001b[0;32mNone\u001b[0m\u001b[0;34m:\u001b[0m\u001b[0;34m\u001b[0m\u001b[0;34m\u001b[0m\u001b[0m\n\u001b[0;32m-> 1358\u001b[0;31m       return self._do_call(_run_fn, feeds, fetches, targets, options,\n\u001b[0m\u001b[1;32m   1359\u001b[0m                            run_metadata)\n\u001b[1;32m   1360\u001b[0m     \u001b[0;32melse\u001b[0m\u001b[0;34m:\u001b[0m\u001b[0;34m\u001b[0m\u001b[0;34m\u001b[0m\u001b[0m\n",
      "\u001b[0;32m~/.local/share/virtualenvs/innohack-citadel-YNBG4hQA/lib/python3.8/site-packages/tensorflow/python/client/session.py\u001b[0m in \u001b[0;36m_do_call\u001b[0;34m(self, fn, *args)\u001b[0m\n\u001b[1;32m   1363\u001b[0m   \u001b[0;32mdef\u001b[0m \u001b[0m_do_call\u001b[0m\u001b[0;34m(\u001b[0m\u001b[0mself\u001b[0m\u001b[0;34m,\u001b[0m \u001b[0mfn\u001b[0m\u001b[0;34m,\u001b[0m \u001b[0;34m*\u001b[0m\u001b[0margs\u001b[0m\u001b[0;34m)\u001b[0m\u001b[0;34m:\u001b[0m\u001b[0;34m\u001b[0m\u001b[0;34m\u001b[0m\u001b[0m\n\u001b[1;32m   1364\u001b[0m     \u001b[0;32mtry\u001b[0m\u001b[0;34m:\u001b[0m\u001b[0;34m\u001b[0m\u001b[0;34m\u001b[0m\u001b[0m\n\u001b[0;32m-> 1365\u001b[0;31m       \u001b[0;32mreturn\u001b[0m \u001b[0mfn\u001b[0m\u001b[0;34m(\u001b[0m\u001b[0;34m*\u001b[0m\u001b[0margs\u001b[0m\u001b[0;34m)\u001b[0m\u001b[0;34m\u001b[0m\u001b[0;34m\u001b[0m\u001b[0m\n\u001b[0m\u001b[1;32m   1366\u001b[0m     \u001b[0;32mexcept\u001b[0m \u001b[0merrors\u001b[0m\u001b[0;34m.\u001b[0m\u001b[0mOpError\u001b[0m \u001b[0;32mas\u001b[0m \u001b[0me\u001b[0m\u001b[0;34m:\u001b[0m\u001b[0;34m\u001b[0m\u001b[0;34m\u001b[0m\u001b[0m\n\u001b[1;32m   1367\u001b[0m       \u001b[0mmessage\u001b[0m \u001b[0;34m=\u001b[0m \u001b[0mcompat\u001b[0m\u001b[0;34m.\u001b[0m\u001b[0mas_text\u001b[0m\u001b[0;34m(\u001b[0m\u001b[0me\u001b[0m\u001b[0;34m.\u001b[0m\u001b[0mmessage\u001b[0m\u001b[0;34m)\u001b[0m\u001b[0;34m\u001b[0m\u001b[0;34m\u001b[0m\u001b[0m\n",
      "\u001b[0;32m~/.local/share/virtualenvs/innohack-citadel-YNBG4hQA/lib/python3.8/site-packages/tensorflow/python/client/session.py\u001b[0m in \u001b[0;36m_run_fn\u001b[0;34m(feed_dict, fetch_list, target_list, options, run_metadata)\u001b[0m\n\u001b[1;32m   1347\u001b[0m       \u001b[0;31m# Ensure any changes to the graph are reflected in the runtime.\u001b[0m\u001b[0;34m\u001b[0m\u001b[0;34m\u001b[0m\u001b[0;34m\u001b[0m\u001b[0m\n\u001b[1;32m   1348\u001b[0m       \u001b[0mself\u001b[0m\u001b[0;34m.\u001b[0m\u001b[0m_extend_graph\u001b[0m\u001b[0;34m(\u001b[0m\u001b[0;34m)\u001b[0m\u001b[0;34m\u001b[0m\u001b[0;34m\u001b[0m\u001b[0m\n\u001b[0;32m-> 1349\u001b[0;31m       return self._call_tf_sessionrun(options, feed_dict, fetch_list,\n\u001b[0m\u001b[1;32m   1350\u001b[0m                                       target_list, run_metadata)\n\u001b[1;32m   1351\u001b[0m \u001b[0;34m\u001b[0m\u001b[0m\n",
      "\u001b[0;32m~/.local/share/virtualenvs/innohack-citadel-YNBG4hQA/lib/python3.8/site-packages/tensorflow/python/client/session.py\u001b[0m in \u001b[0;36m_call_tf_sessionrun\u001b[0;34m(self, options, feed_dict, fetch_list, target_list, run_metadata)\u001b[0m\n\u001b[1;32m   1439\u001b[0m   def _call_tf_sessionrun(self, options, feed_dict, fetch_list, target_list,\n\u001b[1;32m   1440\u001b[0m                           run_metadata):\n\u001b[0;32m-> 1441\u001b[0;31m     return tf_session.TF_SessionRun_wrapper(self._session, options, feed_dict,\n\u001b[0m\u001b[1;32m   1442\u001b[0m                                             \u001b[0mfetch_list\u001b[0m\u001b[0;34m,\u001b[0m \u001b[0mtarget_list\u001b[0m\u001b[0;34m,\u001b[0m\u001b[0;34m\u001b[0m\u001b[0;34m\u001b[0m\u001b[0m\n\u001b[1;32m   1443\u001b[0m                                             run_metadata)\n",
      "\u001b[0;31mKeyboardInterrupt\u001b[0m: "
     ]
    }
   ],
   "source": [
    "bad_embeddings2 = []\n",
    "\n",
    "for idx, user_id in enumerate(group_members[300:]):  # 300 because we are shifting from already loaded data\n",
    "    print(idx)\n",
    "    user_embed = embedding.build_embeddings(user_id, \"+79221341105\", \"QeRas02&R\", model, used_groups_limit, used_posts_num=USED_POSTS_NUM)\n",
    "    bad_embeddings2.append(user_embed)"
   ]
  },
  {
   "cell_type": "code",
   "execution_count": 8,
   "metadata": {},
   "outputs": [],
   "source": [
    "# with open(\"bad_embeddings2.pkl\", \"wb\") as f:\n",
    "#     pickle.dump(bad_embeddings2, f)"
   ]
  },
  {
   "cell_type": "code",
   "execution_count": 9,
   "metadata": {},
   "outputs": [
    {
     "data": {
      "text/plain": [
       "290"
      ]
     },
     "execution_count": 9,
     "metadata": {},
     "output_type": "execute_result"
    }
   ],
   "source": [
    "idx"
   ]
  },
  {
   "cell_type": "markdown",
   "metadata": {},
   "source": [
    "### good embeddings"
   ]
  },
  {
   "cell_type": "code",
   "execution_count": 7,
   "metadata": {
    "collapsed": true,
    "jupyter": {
     "outputs_hidden": true
    }
   },
   "outputs": [
    {
     "name": "stderr",
     "output_type": "stream",
     "text": [
      "2020-11-29 10:49:34,219 : INFO : Loading model from 196.zip...\n",
      "2020-11-29 10:49:34,223 : INFO : \n",
      "            Assuming the model is a ZIP archive downloaded from the NLPL vector repository.\n",
      "            Loading a model from a ZIP archive directly is slower than from the extracted files,\n",
      "            but does not require additional disk space\n",
      "            and allows to load from directories without write permissions.\n",
      "            \n",
      "2020-11-29 10:49:34,230 : INFO : We will cache the vocabulary of 100 tokens.\n"
     ]
    },
    {
     "name": "stdout",
     "output_type": "stream",
     "text": [
      "WARNING:tensorflow:From /home/gldsn/.local/share/virtualenvs/innohack-citadel-YNBG4hQA/lib/python3.8/site-packages/simple_elmo/model.py:529: LSTMCell.__init__ (from tensorflow.python.keras.layers.legacy_rnn.rnn_cell_impl) is deprecated and will be removed in a future version.\n",
      "Instructions for updating:\n",
      "This class is equivalent as tf.keras.layers.LSTMCell, and will be replaced by that in Tensorflow 2.0.\n"
     ]
    },
    {
     "name": "stderr",
     "output_type": "stream",
     "text": [
      "2020-11-29 10:51:16,265 : WARNING : From /home/gldsn/.local/share/virtualenvs/innohack-citadel-YNBG4hQA/lib/python3.8/site-packages/simple_elmo/model.py:529: LSTMCell.__init__ (from tensorflow.python.keras.layers.legacy_rnn.rnn_cell_impl) is deprecated and will be removed in a future version.\n",
      "Instructions for updating:\n",
      "This class is equivalent as tf.keras.layers.LSTMCell, and will be replaced by that in Tensorflow 2.0.\n"
     ]
    },
    {
     "name": "stdout",
     "output_type": "stream",
     "text": [
      "WARNING:tensorflow:From /home/gldsn/.local/share/virtualenvs/innohack-citadel-YNBG4hQA/lib/python3.8/site-packages/simple_elmo/model.py:570: dynamic_rnn (from tensorflow.python.ops.rnn) is deprecated and will be removed in a future version.\n",
      "Instructions for updating:\n",
      "Please use `keras.layers.RNN(cell)`, which is equivalent to this API\n"
     ]
    },
    {
     "name": "stderr",
     "output_type": "stream",
     "text": [
      "2020-11-29 10:51:16,289 : WARNING : From /home/gldsn/.local/share/virtualenvs/innohack-citadel-YNBG4hQA/lib/python3.8/site-packages/simple_elmo/model.py:570: dynamic_rnn (from tensorflow.python.ops.rnn) is deprecated and will be removed in a future version.\n",
      "Instructions for updating:\n",
      "Please use `keras.layers.RNN(cell)`, which is equivalent to this API\n"
     ]
    },
    {
     "name": "stdout",
     "output_type": "stream",
     "text": [
      "WARNING:tensorflow:From /home/gldsn/.local/share/virtualenvs/innohack-citadel-YNBG4hQA/lib/python3.8/site-packages/tensorflow/python/keras/layers/legacy_rnn/rnn_cell_impl.py:962: Layer.add_variable (from tensorflow.python.keras.engine.base_layer_v1) is deprecated and will be removed in a future version.\n",
      "Instructions for updating:\n",
      "Please use `layer.add_weight` method instead.\n"
     ]
    },
    {
     "name": "stderr",
     "output_type": "stream",
     "text": [
      "2020-11-29 10:51:16,341 : WARNING : From /home/gldsn/.local/share/virtualenvs/innohack-citadel-YNBG4hQA/lib/python3.8/site-packages/tensorflow/python/keras/layers/legacy_rnn/rnn_cell_impl.py:962: Layer.add_variable (from tensorflow.python.keras.engine.base_layer_v1) is deprecated and will be removed in a future version.\n",
      "Instructions for updating:\n",
      "Please use `layer.add_weight` method instead.\n"
     ]
    },
    {
     "name": "stdout",
     "output_type": "stream",
     "text": [
      "WARNING:tensorflow:From /home/gldsn/.local/share/virtualenvs/innohack-citadel-YNBG4hQA/lib/python3.8/site-packages/tensorflow/python/keras/layers/legacy_rnn/rnn_cell_impl.py:970: calling Zeros.__init__ (from tensorflow.python.ops.init_ops) with dtype is deprecated and will be removed in a future version.\n",
      "Instructions for updating:\n",
      "Call initializer instance with the dtype argument instead of passing it to the constructor\n"
     ]
    },
    {
     "name": "stderr",
     "output_type": "stream",
     "text": [
      "2020-11-29 10:51:25,020 : WARNING : From /home/gldsn/.local/share/virtualenvs/innohack-citadel-YNBG4hQA/lib/python3.8/site-packages/tensorflow/python/keras/layers/legacy_rnn/rnn_cell_impl.py:970: calling Zeros.__init__ (from tensorflow.python.ops.init_ops) with dtype is deprecated and will be removed in a future version.\n",
      "Instructions for updating:\n",
      "Call initializer instance with the dtype argument instead of passing it to the constructor\n"
     ]
    }
   ],
   "source": [
    "group_members = get_group_members(vk_session, \"gorkigolf\")  #moscowgolfclub\n",
    "elmo_path = \"196.zip\"\n",
    "elmo_batch = 10\n",
    "USED_POSTS_NUM = 1\n",
    "used_groups_limit = 10\n",
    "model = embedding.create_elmo(elmo_path, elmo_batch)"
   ]
  },
  {
   "cell_type": "code",
   "execution_count": null,
   "metadata": {
    "collapsed": true,
    "jupyter": {
     "outputs_hidden": true
    }
   },
   "outputs": [
    {
     "name": "stderr",
     "output_type": "stream",
     "text": [
      "2020-11-29 10:52:49,300 : INFO : Auth with login: +79221341105\n",
      "2020-11-29 10:52:49,301 : INFO : Checking remixsid...\n",
      "2020-11-29 10:52:49,467 : INFO : remixsid is valid\n",
      "2020-11-29 10:52:49,468 : INFO : Checking security check request\n"
     ]
    },
    {
     "name": "stdout",
     "output_type": "stream",
     "text": [
      "0\n"
     ]
    },
    {
     "name": "stderr",
     "output_type": "stream",
     "text": [
      "2020-11-29 10:52:49,744 : INFO : Security check is not required\n",
      "2020-11-29 10:52:49,947 : INFO : access_token from config is valid\n",
      "UDPipe model not found. Downloading...\n",
      "\n",
      "Loading the model...\n",
      "Processing input...\n"
     ]
    },
    {
     "name": "stdout",
     "output_type": "stream",
     "text": [
      "text дорогой_ADJ родитель_NOUN нешкол_ADV стартовать_VERB набор_NOUN начальный_ADJ школа_NOUN классы_NOUN господин_NOUN запись_NOUN вести_VERB класс_NOUN поэтому_ADV место_NOUN ограничивать_VERB приходить_VERB экскурсия_NOUN вместе_ADV ребенок_NOUN красносельский_ADJ район_NOUN улпионерстрой_NOUN б_PROPN если_SCONJ искать_VERB альтернатива_NOUN стандартный_ADJ государственный_ADJ образование_NOUN место_NOUN ребенок_NOUN психологически_ADV комфортно_ADV интересный_ADJ получать_VERB знание_NOUN предлагать_VERB семейный_ADJ обучение_NOUN нешкол_PROPN в_ADP наш_DET начальный_ADJ школа_NOUN элемент_NOUN реджио_PROPN подход_NOUN ребята_NOUN ждать_VERB проектный_ADJ деятельность_NOUN индивидуальный_ADJ образовательный_ADJ маршрут_NOUN опытный_ADJ наставникипедагогой_NOUN профессионал_NOUN дело_NOUN классы_NOUN творческий_ADJ уютный_ADJ атмосфера_NOUN собственный_ADJ кухня_NOUN кафе_NOUN в_ADP нешкол_PROPN ребенок_NOUN учиться_VERB сам_ADJ желание_NOUN интерес_NOUN нырять_VERB образовательный_ADJ материал_NOUN увлекательный_ADJ научный_ADJ знание_NOUN практика_NOUN теория_NOUN путешествовать_VERB страна_NOUN континент_NOUN осваивать_VERB английский_ADJ немецкий_ADJ язык_NOUN доказать_VERB собственный_ADJ пример_NOUN отставать_VERB многое_NOUN превосходить_VERB знание_NOUN сверстник_NOUN обучаться_VERB государственный_ADJ общеобразовательный_ADJ школа_NOUN перегрузка_NOUN\n"
     ]
    },
    {
     "name": "stderr",
     "output_type": "stream",
     "text": [
      "2020-11-29 10:53:57,231 : INFO : Warming up ELMo on 10 sentences...\n",
      "2020-11-29 10:54:49,209 : INFO : Warming up finished.\n",
      "2020-11-29 10:54:49,257 : INFO : Texts in the current batch: 10\n",
      "2020-11-29 10:55:38,424 : INFO : Auth with login: +79221341105\n",
      "2020-11-29 10:55:38,424 : INFO : Checking remixsid...\n"
     ]
    },
    {
     "name": "stdout",
     "output_type": "stream",
     "text": [
      "1\n"
     ]
    },
    {
     "name": "stderr",
     "output_type": "stream",
     "text": [
      "2020-11-29 10:55:38,628 : INFO : remixsid is valid\n",
      "2020-11-29 10:55:38,630 : INFO : Checking security check request\n",
      "2020-11-29 10:55:38,860 : INFO : Security check is not required\n",
      "2020-11-29 10:55:39,064 : INFO : access_token from config is valid\n",
      "\n",
      "Loading the model...\n",
      "Processing input...\n"
     ]
    },
    {
     "name": "stdout",
     "output_type": "stream",
     "text": [
      "text как_SCONJ бесить_VERB самолет_NOUN пускать_VERB ножницы_NOUN\n"
     ]
    },
    {
     "name": "stderr",
     "output_type": "stream",
     "text": [
      "2020-11-29 10:55:50,835 : INFO : Warming up ELMo on 10 sentences...\n",
      "2020-11-29 10:56:13,171 : INFO : Warming up finished.\n",
      "2020-11-29 10:56:13,179 : INFO : Texts in the current batch: 10\n",
      "2020-11-29 10:56:37,431 : INFO : Auth with login: +79221341105\n",
      "2020-11-29 10:56:37,432 : INFO : Checking remixsid...\n",
      "2020-11-29 10:56:37,606 : INFO : remixsid is valid\n",
      "2020-11-29 10:56:37,608 : INFO : Checking security check request\n"
     ]
    },
    {
     "name": "stdout",
     "output_type": "stream",
     "text": [
      "2\n"
     ]
    },
    {
     "name": "stderr",
     "output_type": "stream",
     "text": [
      "2020-11-29 10:56:37,829 : INFO : Security check is not required\n",
      "2020-11-29 10:56:38,037 : INFO : access_token from config is valid\n",
      "\n",
      "Loading the model...\n",
      "Processing input...\n"
     ]
    },
    {
     "name": "stdout",
     "output_type": "stream",
     "text": [
      "text большой_ADJ бизнес::марафон::день_PROPN сегодня_ADV вебинар_NOUN стратегический_ADJ планирование_NOUN вести_VERB виктор::соловьев_PROPN основатель_NOUN маркетинговый_ADJ агенство_NOUN о_ADP строить_VERB видение_NOUN компания_NOUN становиться_VERB номер_NOUN о_ADP планировать_VERB доход_NOUN компания_NOUN показатель_NOUN а_CCONJ главное_ADV реализовать_VERB как_ADV увеличивать_VERB доход_NOUN новый_ADJ как_ADV работать_VERB команда_NOUN планирование_PROPN инструмент_NOUN рост_NOUN ускорение_NOUN компания_NOUN вход_PROPN вебинар_NOUN ссылка_PROPN обязательно_ADV вводить_VERB правильный_ADJ данные_NOUN вход_ADP вебинар_PROPN с_ADP цель_NOUN задача_NOUN вопрос_NOUN хороший_ADJ настроение_PROPN на_ADP случай_NOUN компьютер_NOUN телефон_NOUN мочь_VERB заходить_VERB скачивать_VERB приложение_NOUN телефон_NOUN андроид_PROPN быть_VERB вовремя_ADV мы_PRON находиться_VERB вносить_VERB свой_DET вклад_NOUN мир_NOUN иначе_ADJ стив::джобз_PROPN\n"
     ]
    },
    {
     "name": "stderr",
     "output_type": "stream",
     "text": [
      "2020-11-29 10:56:49,919 : INFO : Warming up ELMo on 10 sentences...\n",
      "2020-11-29 10:57:44,147 : INFO : Warming up finished.\n",
      "2020-11-29 10:57:44,248 : INFO : Texts in the current batch: 10\n",
      "2020-11-29 10:58:39,559 : INFO : Auth with login: +79221341105\n",
      "2020-11-29 10:58:39,561 : INFO : Checking remixsid...\n",
      "2020-11-29 10:58:39,743 : INFO : remixsid is valid\n",
      "2020-11-29 10:58:39,744 : INFO : Checking security check request\n"
     ]
    },
    {
     "name": "stdout",
     "output_type": "stream",
     "text": [
      "3\n"
     ]
    },
    {
     "name": "stderr",
     "output_type": "stream",
     "text": [
      "2020-11-29 10:58:39,963 : INFO : Security check is not required\n",
      "2020-11-29 10:58:40,155 : INFO : access_token from config is valid\n",
      "\n",
      "Loading the model...\n",
      "Processing input...\n"
     ]
    },
    {
     "name": "stdout",
     "output_type": "stream",
     "text": [
      "text \n"
     ]
    },
    {
     "name": "stderr",
     "output_type": "stream",
     "text": [
      "2020-11-29 10:58:51,827 : INFO : Warming up ELMo on 10 sentences...\n",
      "2020-11-29 10:59:24,099 : INFO : Warming up finished.\n",
      "2020-11-29 10:59:24,121 : INFO : Texts in the current batch: 10\n",
      "2020-11-29 10:59:56,226 : INFO : Auth with login: +79221341105\n",
      "2020-11-29 10:59:56,227 : INFO : Checking remixsid...\n",
      "2020-11-29 10:59:56,405 : INFO : remixsid is valid\n",
      "2020-11-29 10:59:56,408 : INFO : Checking security check request\n"
     ]
    },
    {
     "name": "stdout",
     "output_type": "stream",
     "text": [
      "4\n"
     ]
    },
    {
     "name": "stderr",
     "output_type": "stream",
     "text": [
      "2020-11-29 10:59:56,629 : INFO : Security check is not required\n",
      "2020-11-29 10:59:56,813 : INFO : access_token from config is valid\n",
      "\n",
      "Loading the model...\n",
      "Processing input...\n"
     ]
    },
    {
     "name": "stdout",
     "output_type": "stream",
     "text": [
      "text ичард_NOUN гир_PROPN жизнь_NOUN мама_PROPN мой_DET дг_NOUN вю_NOUN пидерживаться_VERB здовый_ADJ питние_NOUN никогд_PROPN новый_NOUN употбляло_VERB алкоголь_NOUN какуювать_PRON плохой_ADJ пища_NOUN заниматься_VERB физический_ADJ упражнение_NOUN подвижной_ADJ активный_ADJ принимать_VERB добавка_NOUN прописывать_VERB врач_NOUN выходить_VERB солнце_NOUN солнцезащитный_ADJ средства_NOUN выходить_VERB ненадолго_ADV возможно_ADV общий_ADJ оберегать_VERB свой_DET здоровье_NOUN делать_VERB сейчас_ADV рак_NOUN кожа_NOUN рака_NOUN костный_ADJ мозг_NOUN остеопороз_NOUN тяжелый_ADJ стадия_NOUN отец_PROPN мой_DET друг_NOUN быть_VERB бекон_NOUN поверх_ADP бекон_NOUN масло_NOUN поверх_ADP масло_NOUN жир_NOUN поверх_ADP жир_NOUN буквально_ADV заниматься_VERB спорт_NOUN лето_NOUN сгорать_VERB солнце_NOUN хрустеть_VERB корочка_NOUN фактически_ADV жить_VERB полный_ADJ катушка_NOUN советовать_VERB окружать_VERB он_PRON доктор_NOUN говорить_VERB здоровье_NOUN молодой_ADJ человек_NOUN человек_PROPN мочь_VERB прятаться_VERB яд_ADV он_PRON находить_VERB мать_NOUN мой_DET друг_NOUN если_SCONJ знать_VERB заканчиваться_VERB проживать_VERB полный_ADJ наслаждаться_VERB говорить_VERB делать_VERB никто_PRON выбираться_VERB живой_ADJ\n"
     ]
    },
    {
     "name": "stderr",
     "output_type": "stream",
     "text": [
      "2020-11-29 11:00:09,203 : INFO : Warming up ELMo on 10 sentences...\n",
      "2020-11-29 11:00:50,830 : INFO : Warming up finished.\n",
      "2020-11-29 11:00:50,873 : INFO : Texts in the current batch: 10\n",
      "2020-11-29 11:01:34,617 : INFO : Auth with login: +79221341105\n",
      "2020-11-29 11:01:34,617 : INFO : Checking remixsid...\n",
      "2020-11-29 11:01:34,814 : INFO : remixsid is valid\n",
      "2020-11-29 11:01:34,816 : INFO : Checking security check request\n"
     ]
    },
    {
     "name": "stdout",
     "output_type": "stream",
     "text": [
      "5\n"
     ]
    },
    {
     "name": "stderr",
     "output_type": "stream",
     "text": [
      "2020-11-29 11:01:35,172 : INFO : Security check is not required\n",
      "2020-11-29 11:01:35,364 : INFO : access_token from config is valid\n",
      "\n",
      "Loading the model...\n",
      "Processing input...\n"
     ]
    },
    {
     "name": "stdout",
     "output_type": "stream",
     "text": [
      "text что_PRON смотреть_VERB тот_NOUN новый_ADJ минисериал_NOUN\n"
     ]
    },
    {
     "name": "stderr",
     "output_type": "stream",
     "text": [
      "2020-11-29 11:01:47,045 : INFO : Warming up ELMo on 10 sentences...\n",
      "2020-11-29 11:02:25,941 : INFO : Warming up finished.\n",
      "2020-11-29 11:02:25,955 : INFO : Texts in the current batch: 10\n",
      "2020-11-29 11:03:06,522 : INFO : Auth with login: +79221341105\n",
      "2020-11-29 11:03:06,523 : INFO : Checking remixsid...\n",
      "2020-11-29 11:03:06,703 : INFO : remixsid is valid\n",
      "2020-11-29 11:03:06,704 : INFO : Checking security check request\n"
     ]
    },
    {
     "name": "stdout",
     "output_type": "stream",
     "text": [
      "6\n"
     ]
    },
    {
     "name": "stderr",
     "output_type": "stream",
     "text": [
      "2020-11-29 11:03:06,967 : INFO : Security check is not required\n",
      "2020-11-29 11:03:07,148 : INFO : access_token from config is valid\n",
      "\n",
      "Loading the model...\n",
      "Processing input...\n"
     ]
    },
    {
     "name": "stdout",
     "output_type": "stream",
     "text": [
      "text черный_ADJ пятница_NOUN только_PART ноябрь_NOUN скидка_NOUN весь_DET товар_NOUN участвовать_VERB акция_NOUN отмечать_VERB красный_ADJ флажок_NOUN наш_DET сайт_NOUN раздел_NOUN акция_PROPN а_CCONJ совершать_VERB покупка_NOUN сумма_NOUN рубль_NOUN день_NOUN проведение_NOUN черный_ADJ пятница_NOUN наш_DET бутик_NOUN становиться_VERB участник_NOUN розыгрыш_NOUN подарок_NOUN сумма_NOUN рубль_NOUN а_CCONJ разбор_NOUN ваш_DET гардероб_NOUN основательница_NOUN сеть_NOUN бутик_NOUN стилист_NOUN александра_PROPN фед_ADP подарочный_ADJ сертификат_NOUN покупка_NOUN бижутерия_NOUN итог_PROPN розыгрыш_NOUN подвести_ADP ноябрь_NOUN прямой_ADJ эфир_NOUN инстаграмм_PROPN аккаунвать_NOUN не_PART упустить_VERB уникальный_ADJ возможность_NOUN приобретать_VERB оригинальный_ADJ брендовый_ADJ вещь_NOUN невероятно_ADV низкий_ADJ цена_NOUN попытать_VERB удача_NOUN розыгрыш_ADP приз_NOUN такой_DET\n"
     ]
    },
    {
     "name": "stderr",
     "output_type": "stream",
     "text": [
      "2020-11-29 11:03:14,158 : INFO : Warming up ELMo on 2 sentences...\n",
      "2020-11-29 11:03:29,940 : INFO : Warming up finished.\n",
      "2020-11-29 11:03:29,948 : INFO : Texts in the current batch: 2\n",
      "2020-11-29 11:03:47,050 : INFO : Auth with login: +79221341105\n",
      "2020-11-29 11:03:47,051 : INFO : Checking remixsid...\n",
      "2020-11-29 11:03:47,217 : INFO : remixsid is valid\n",
      "2020-11-29 11:03:47,219 : INFO : Checking security check request\n"
     ]
    },
    {
     "name": "stdout",
     "output_type": "stream",
     "text": [
      "7\n"
     ]
    },
    {
     "name": "stderr",
     "output_type": "stream",
     "text": [
      "2020-11-29 11:03:47,458 : INFO : Security check is not required\n",
      "2020-11-29 11:03:47,660 : INFO : access_token from config is valid\n",
      "\n",
      "Loading the model...\n",
      "Processing input...\n"
     ]
    },
    {
     "name": "stdout",
     "output_type": "stream",
     "text": [
      "text нет_VERB сила_NOUN насыщенный_VERB интересный_ADJ событие_NOUN каждый_ADJ похожий_ADJ предыдущий_ADJ рутина_NOUN затягивать_VERB глубоко_ADV то_PRON просыпаться_VERB устать_VERB знать_VERB брать_VERB энергия_NOUN успевать_VERB в_ADP голова_NOUN каша_NOUN непобедимый_ADJ бардак_NOUN забирать_VERB куча_NOUN твой_DET банальный_ADJ поиск_NOUN нужный_ADJ вещь_NOUN если_SCONJ узнавать_VERB информация_NOUN точно_ADV я_PRON знать_VERB делать_VERB так_ADV проходить_VERB путь_NOUN и_CCONJ хотеть_VERB все_PART в_ADP порядок_PROPN в_ADP порядок_NOUN дом_NOUN время_NOUN семья_NOUN деятельность_NOUN сфера_NOUN я_PRON оля::челак_PROPN профессиональный_ADJ организатор_NOUN пространство_NOUN в_ADP мой_DET день_NOUN твой_DET час_NOUN мама_NOUN свой_DET дело_NOUN приносить_VERB стабильный_ADJ доход_NOUN и_CCONJ успевать_VERB не_PART спешить_VERB приводить_VERB утро_NOUN порядок_NOUN опрятно_ADV одеваться_VERB удовольствие_NOUN заниматься_VERB любимый_ADJ дело_NOUN а_CCONJ воспитывать_VERB дочь_NOUN видеться_VERB друг_NOUN забывать_VERB увлечение_NOUN ходить_VERB тренировка_NOUN поразный_ADV отдыхать_VERB в_ADP общий_ADJ интересный_ADJ прекрасный_ADJ мир_NOUN а_CCONJ тратить_NOUN уборка_NOUN\n"
     ]
    },
    {
     "name": "stderr",
     "output_type": "stream",
     "text": [
      "2020-11-29 11:04:00,372 : INFO : Warming up ELMo on 10 sentences...\n",
      "2020-11-29 11:04:40,173 : INFO : Warming up finished.\n",
      "2020-11-29 11:04:40,222 : INFO : Texts in the current batch: 10\n",
      "2020-11-29 11:05:21,184 : INFO : Auth with login: +79221341105\n",
      "2020-11-29 11:05:21,185 : INFO : Checking remixsid...\n",
      "2020-11-29 11:05:21,358 : INFO : remixsid is valid\n",
      "2020-11-29 11:05:21,360 : INFO : Checking security check request\n"
     ]
    },
    {
     "name": "stdout",
     "output_type": "stream",
     "text": [
      "8\n"
     ]
    },
    {
     "name": "stderr",
     "output_type": "stream",
     "text": [
      "2020-11-29 11:05:21,582 : INFO : Security check is not required\n",
      "2020-11-29 11:05:21,768 : INFO : access_token from config is valid\n",
      "\n",
      "Loading the model...\n",
      "Processing input...\n"
     ]
    },
    {
     "name": "stdout",
     "output_type": "stream",
     "text": [
      "text эпидемиологический_ADJ ситуация_NOUN страна_NOUN вносить_VERB корректив_NOUN поэтому_ADV высший_ADJ школа_NOUN режиссер_NOUN сценарист_NOUN вовсю_ADV идти_VERB подготовка_NOUN прямой_ADJ онлайнтрансляция_NOUN важный_ADJ мероприятие_NOUN защита_NOUN диплом_NOUN обычно_ADV праздник_NOUN собираться_VERB полный_ADJ зал_NOUN зритель_NOUN но_CCONJ надеяться_VERB удаваться_VERB сохранять_VERB непередаваемый_ADJ дух_NOUN творчество_NOUN трепетный_ADJ волнение_NOUN желать_VERB присоединяться_VERB завтра_ADV заходить_VERB ссылка_NOUN список_PROPN дипломник_NOUN работа_NOUN борисов::леван::борисович::д::макаров::нв_PROPN быть_VERB место_NOUN чудо_AUX мир_NOUN документальный_ADJ мина_NOUN дружинин::светлана::валерьевть::д::макаров::нв::шум::винт_PROPN документальный_ADJ мина_NOUN маркабаев::асель::дюсеновна::д::макаров::нв::станция::ленинград_PROPN документальный_ADJ минута_NOUN маслов::дарья::равиловна::д::макаров::нв_PROPN не_PART самый_ADJ миллер_PROPN документальный_ADJ минута_NOUN воронин::диана::александровна_PROPN р_PROPN фетинг::юный::раскол_PROPN игровой_ADJ мина_NOUN нестратенко::павел::владимирович::р::фетинг::юный_PROPN темный_ADJ сделка_NOUN игровой_ADJ мина_NOUN р_PROPN родионов::анастасия::викторовна::фетинг::юный::осколок_PROPN юность_NOUN игровой_ADJ мина_NOUN р_PROPN кунгуров::наталья::александровна::фетинг::юный_PROPN всегото_ADP навсего_ADV игровой_ADJ минута_NOUN клявлин::инна::данатовна_PROPN а_CCONJ зиновьев_PROPN ва_PROPN пленный_VERB минута_NOUN бойко_PROPN ольга_PROPN александровна::р::фетинг::юный::марат_PROPN игровой_ADJ мина_NOUN зотова::анастасия::игоревна_PROPN а_CCONJ зиновьев::ва::марат_PROPN игровой_ADJ мина_NOUN\n"
     ]
    },
    {
     "name": "stderr",
     "output_type": "stream",
     "text": [
      "2020-11-29 11:05:33,378 : INFO : Warming up ELMo on 10 sentences...\n",
      "2020-11-29 11:06:30,195 : INFO : Warming up finished.\n",
      "2020-11-29 11:06:30,231 : INFO : Texts in the current batch: 10\n",
      "2020-11-29 11:07:29,553 : INFO : Auth with login: +79221341105\n",
      "2020-11-29 11:07:29,553 : INFO : Checking remixsid...\n",
      "2020-11-29 11:07:29,724 : INFO : remixsid is valid\n",
      "2020-11-29 11:07:29,726 : INFO : Checking security check request\n"
     ]
    },
    {
     "name": "stdout",
     "output_type": "stream",
     "text": [
      "9\n"
     ]
    },
    {
     "name": "stderr",
     "output_type": "stream",
     "text": [
      "2020-11-29 11:07:29,959 : INFO : Security check is not required\n",
      "2020-11-29 11:07:30,155 : INFO : access_token from config is valid\n",
      "\n",
      "Loading the model...\n",
      "Processing input...\n"
     ]
    },
    {
     "name": "stdout",
     "output_type": "stream",
     "text": [
      "text представлять_VERB порог_NOUN декабрь_NOUN значить_VERB прислушиваться_VERB звенеть_VERB колокольчик_NOUN сани_NOUN значить_VERB стараться_VERB долго_ADV засыпать_VERB слипаться_VERB глаз_NOUN видеть_VERB забеирать_VERB твой_DET письмо_PROPN дед_PROPN мороз_PROPN значить_VERB вечер_NOUN включать_VERB ярко_ADV иллюминаций_NOUN громко_ADV френк::синатра_PROPN праздничный_ADJ атмосфера_NOUN вырезать_VERB снежинка_NOUN белый_ADJ бумага_NOUN клеить_VERB окно_NOUN пора_PROPN строить_VERB рождественский_ADJ вертеп_NOUN читать_VERB вслух_ADV волшебный_ADJ сказка_NOUN утро_NOUN искать_VERB сюрприз_NOUN приготовить_VERB кармашек_NOUN календарь_ADP поэтому_ADV примерно_ADV день_NOUN поехать_VERB тосненский_ADJ приют_NOUN писать_VERB письмо_NOUN дед::мороз_PROPN\n"
     ]
    },
    {
     "name": "stderr",
     "output_type": "stream",
     "text": [
      "2020-11-29 11:07:41,959 : INFO : Warming up ELMo on 10 sentences...\n",
      "2020-11-29 11:08:12,553 : INFO : Warming up finished.\n",
      "2020-11-29 11:08:12,591 : INFO : Texts in the current batch: 10\n",
      "2020-11-29 11:08:44,563 : INFO : Auth with login: +79221341105\n",
      "2020-11-29 11:08:44,564 : INFO : Checking remixsid...\n",
      "2020-11-29 11:08:44,739 : INFO : remixsid is valid\n",
      "2020-11-29 11:08:44,741 : INFO : Checking security check request\n"
     ]
    },
    {
     "name": "stdout",
     "output_type": "stream",
     "text": [
      "10\n"
     ]
    },
    {
     "name": "stderr",
     "output_type": "stream",
     "text": [
      "2020-11-29 11:08:44,970 : INFO : Security check is not required\n",
      "2020-11-29 11:08:45,172 : INFO : access_token from config is valid\n",
      "\n",
      "Loading the model...\n",
      "Processing input...\n"
     ]
    },
    {
     "name": "stdout",
     "output_type": "stream",
     "text": [
      "text что_PRON смотреть_VERB вечер_NOUN новый_ADJ миня_NOUN сериал_NOUN\n"
     ]
    },
    {
     "name": "stderr",
     "output_type": "stream",
     "text": [
      "2020-11-29 11:08:56,757 : INFO : Warming up ELMo on 10 sentences...\n",
      "2020-11-29 11:09:26,876 : INFO : Warming up finished.\n",
      "2020-11-29 11:09:26,887 : INFO : Texts in the current batch: 10\n",
      "2020-11-29 11:09:57,723 : INFO : Auth with login: +79221341105\n",
      "2020-11-29 11:09:57,724 : INFO : Checking remixsid...\n",
      "2020-11-29 11:09:57,914 : INFO : remixsid is valid\n",
      "2020-11-29 11:09:57,916 : INFO : Checking security check request\n"
     ]
    },
    {
     "name": "stdout",
     "output_type": "stream",
     "text": [
      "11\n"
     ]
    },
    {
     "name": "stderr",
     "output_type": "stream",
     "text": [
      "2020-11-29 11:09:58,154 : INFO : Security check is not required\n",
      "2020-11-29 11:09:58,337 : INFO : access_token from config is valid\n",
      "\n",
      "Loading the model...\n",
      "Processing input...\n"
     ]
    },
    {
     "name": "stdout",
     "output_type": "stream",
     "text": [
      "text сейчас_ADV человек_NOUN знать_VERB система_NOUN занятие_NOUN восточный_ADJ боевой_ADJ искусство_NOUN влиять_VERB развитие_NOUN рукопашный_ADJ бой_NOUN россия_PROPN армия_NOUN полиция_NOUN гражданский_ADJ население_NOUN особенно_ADV направление_NOUN отметиться_VERB японский_ADJ джиуджитс_PROPN сейчас_ADV трудный_ADJ чей_DET имя_NOUN связывать_VERB появляться_VERB дзюдзюц_PROPN российский_ADJ империя_PROPN однако_ADV большинство_NOUN исследователь_NOUN придерживаться_VERB первый_ADJ упоминание_NOUN джиуджитс_PROPN появляться_VERB санктпетербург_PROPN в_ADP петербургский_ADJ газета_NOUN новый_ADJ время_PROPN поместить_VERB статья_NOUN лафкадио::херн_PROPN очерк_NOUN неизвестный_ADJ япония_PROPN в_ADP автор_NOUN познакомить_VERB российский_ADJ читатель_NOUN достоинство_NOUN японский_ADJ борьба_NOUN юютс_PROPN однако_ADV виктор::афанасьевич::спиридонов::василий::сергеевич::ощепков_PROPN считать_VERB преподавание_NOUN дзюдзюц_PROPN начинаться_VERB россия_PROPN в_ADP период_NOUN год_NOUN российский_ADJ империя_PROPN создаваться_VERB различный_ADJ спортивный_ADJ объединение_NOUN правило_VERB общественный_ADJ начало_NOUN пытаться_VERB преподавать_VERB джиуджитс_PROPN население_NOUN дореволюционный_ADJ россия_PROPN начинать_VERB знакомство_NOUN восточный_ADJ боевой_ADJ искусство_NOUN различный_ADJ книга_NOUN самоучителяй_NOUN изз_PROPN нехватка_NOUN компетентный_ADJ тренер_NOUN учитель_NOUN джиуджитс_PROPN другой_ADJ\n"
     ]
    },
    {
     "name": "stderr",
     "output_type": "stream",
     "text": [
      "2020-11-29 11:10:09,831 : INFO : Warming up ELMo on 10 sentences...\n",
      "2020-11-29 11:10:52,760 : INFO : Warming up finished.\n",
      "2020-11-29 11:10:52,800 : INFO : Texts in the current batch: 10\n",
      "2020-11-29 11:11:37,776 : INFO : Auth with login: +79221341105\n",
      "2020-11-29 11:11:37,777 : INFO : Checking remixsid...\n",
      "2020-11-29 11:11:37,975 : INFO : remixsid is valid\n"
     ]
    },
    {
     "name": "stdout",
     "output_type": "stream",
     "text": [
      "12\n"
     ]
    },
    {
     "name": "stderr",
     "output_type": "stream",
     "text": [
      "2020-11-29 11:11:37,976 : INFO : Checking security check request\n",
      "2020-11-29 11:11:38,218 : INFO : Security check is not required\n",
      "2020-11-29 11:11:38,407 : INFO : access_token from config is valid\n",
      "\n",
      "Loading the model...\n",
      "Processing input...\n"
     ]
    },
    {
     "name": "stdout",
     "output_type": "stream",
     "text": [
      "text наш_DET мерч_NOUN тяжелый_ADJ находить_VERB невозможный_ADJ разбивать_VERB терять_VERB такой_DET маркетинг_NOUN делать_VERB молчать_ADJ дело_PROPN лето_NOUN паудера_PROPN прекрасный_ADJ футболка_NOUN и_CCONJ отсылка_NOUN невозможный_ADJ сомневаться_VERB качество_NOUN проверять_VERB зря_ADV молчать_VERB столько_ADV возможно_ADV ктото_NOUN видеть_VERB наш_DET гид_NOUN нарядно_ADV фланируть_VERB окрестный_ADJ гора_NOUN кстати_ADV угадать_VERB дерево_NOUN футболка_NOUN получать_VERB скидка_NOUN ждать_ADP ответ_NOUN личка_NOUN потом_ADV кружка_NOUN что-то_ADP вкусный_ADJ кружка_NOUN нам_PRON интересно_ADV поддерживать_VERB местный_ADJ маленький_ADJ бизнес_NOUN поэтому_ADV делать_VERB купаж_NOUN местный_ADJ высокогорный_ADJ трава_NOUN рождаться_VERB название_NOUN краснополянский_ADJ горный_ADJ чай_PROPN вообще_ADV кружка_NOUN наливать_VERB краснополянский_ADJ горный_ADJ градус_NOUN продавать_VERB пробовать_VERB нектар_ADJ декабрь_NOUN вечеринка_NOUN запретить_VERB суммировать_VERB футболка_NOUN стоять_VERB рубль_NOUN померить_VERB клуб_PROPN размер_NOUN девушка_NOUN сидеть_VERB метр_NOUN например_ADV фотография_NOUN екатерина::коровин_PROPN кружка_PROPN стоять_VERB рубль_NOUN белый_ADJ зеленый_ADJ синий_ADJ чай_PROPN стоять_VERB рубль_NOUN ложка_NOUN\n"
     ]
    },
    {
     "name": "stderr",
     "output_type": "stream",
     "text": [
      "2020-11-29 11:11:50,020 : INFO : Warming up ELMo on 10 sentences...\n",
      "2020-11-29 11:12:29,963 : INFO : Warming up finished.\n",
      "2020-11-29 11:12:30,005 : INFO : Texts in the current batch: 10\n",
      "2020-11-29 11:13:11,408 : INFO : Auth with login: +79221341105\n",
      "2020-11-29 11:13:11,409 : INFO : Checking remixsid...\n",
      "2020-11-29 11:13:11,596 : INFO : remixsid is valid\n",
      "2020-11-29 11:13:11,598 : INFO : Checking security check request\n"
     ]
    },
    {
     "name": "stdout",
     "output_type": "stream",
     "text": [
      "13\n"
     ]
    },
    {
     "name": "stderr",
     "output_type": "stream",
     "text": [
      "2020-11-29 11:13:11,822 : INFO : Security check is not required\n",
      "2020-11-29 11:13:12,015 : INFO : access_token from config is valid\n",
      "2020-11-29 11:13:12,435 : INFO : Auth with login: +79221341105\n",
      "2020-11-29 11:13:12,437 : INFO : Checking remixsid...\n",
      "2020-11-29 11:13:12,602 : INFO : remixsid is valid\n",
      "2020-11-29 11:13:12,603 : INFO : Checking security check request\n"
     ]
    },
    {
     "name": "stdout",
     "output_type": "stream",
     "text": [
      "14\n"
     ]
    },
    {
     "name": "stderr",
     "output_type": "stream",
     "text": [
      "2020-11-29 11:13:12,817 : INFO : Security check is not required\n",
      "2020-11-29 11:13:13,026 : INFO : access_token from config is valid\n",
      "2020-11-29 11:13:13,448 : INFO : Auth with login: +79221341105\n",
      "2020-11-29 11:13:13,460 : INFO : Checking remixsid...\n",
      "2020-11-29 11:13:13,627 : INFO : remixsid is valid\n",
      "2020-11-29 11:13:13,629 : INFO : Checking security check request\n"
     ]
    },
    {
     "name": "stdout",
     "output_type": "stream",
     "text": [
      "15\n"
     ]
    },
    {
     "name": "stderr",
     "output_type": "stream",
     "text": [
      "2020-11-29 11:13:13,867 : INFO : Security check is not required\n",
      "2020-11-29 11:13:14,069 : INFO : access_token from config is valid\n",
      "\n",
      "Loading the model...\n",
      "Processing input...\n"
     ]
    },
    {
     "name": "stdout",
     "output_type": "stream",
     "text": [
      "text в_ADP море_NOUN один_NUM волна_NOUN быстротечная_ADJ в_ADP небо_NOUN один_NUM звезда_NOUN бесконечный_ADJ в_ADP мир_NOUN один_NUM душа_NOUN вечный_ADJ александр::блок_PROPN\n"
     ]
    },
    {
     "name": "stderr",
     "output_type": "stream",
     "text": [
      "2020-11-29 11:13:24,962 : INFO : Warming up ELMo on 10 sentences...\n",
      "2020-11-29 11:13:57,526 : INFO : Warming up finished.\n",
      "2020-11-29 11:13:57,535 : INFO : Texts in the current batch: 10\n",
      "2020-11-29 11:14:31,041 : INFO : Auth with login: +79221341105\n",
      "2020-11-29 11:14:31,042 : INFO : Checking remixsid...\n",
      "2020-11-29 11:14:31,228 : INFO : remixsid is valid\n",
      "2020-11-29 11:14:31,231 : INFO : Checking security check request\n"
     ]
    },
    {
     "name": "stdout",
     "output_type": "stream",
     "text": [
      "16\n"
     ]
    },
    {
     "name": "stderr",
     "output_type": "stream",
     "text": [
      "2020-11-29 11:14:31,472 : INFO : Security check is not required\n",
      "2020-11-29 11:14:31,653 : INFO : access_token from config is valid\n"
     ]
    },
    {
     "name": "stdout",
     "output_type": "stream",
     "text": [
      "Приватный паблик\n",
      "Приватный паблик\n"
     ]
    },
    {
     "name": "stderr",
     "output_type": "stream",
     "text": [
      "\n",
      "Loading the model...\n",
      "Processing input...\n"
     ]
    },
    {
     "name": "stdout",
     "output_type": "stream",
     "text": [
      "text ноябрь_NOUN исполняться_VERB день_NOUN рождение_NOUN александр::блок_PROPN музеюквартирокий_NOUN поэт_DET какой_DET любимый_ADJ стихотворение_NOUN блок_PROPN история_NOUN\n"
     ]
    },
    {
     "name": "stderr",
     "output_type": "stream",
     "text": [
      "2020-11-29 11:14:43,168 : INFO : Warming up ELMo on 8 sentences...\n",
      "2020-11-29 11:15:20,874 : INFO : Warming up finished.\n",
      "2020-11-29 11:15:20,888 : INFO : Texts in the current batch: 8\n",
      "2020-11-29 11:16:00,327 : INFO : Auth with login: +79221341105\n",
      "2020-11-29 11:16:00,328 : INFO : Checking remixsid...\n",
      "2020-11-29 11:16:00,523 : INFO : remixsid is valid\n",
      "2020-11-29 11:16:00,524 : INFO : Checking security check request\n"
     ]
    },
    {
     "name": "stdout",
     "output_type": "stream",
     "text": [
      "17\n"
     ]
    },
    {
     "name": "stderr",
     "output_type": "stream",
     "text": [
      "2020-11-29 11:16:00,757 : INFO : Security check is not required\n",
      "2020-11-29 11:16:00,980 : INFO : access_token from config is valid\n",
      "\n",
      "Loading the model...\n",
      "Processing input...\n"
     ]
    },
    {
     "name": "stdout",
     "output_type": "stream",
     "text": [
      "text каждый_ADJ работать_VERB отдыхать_NOUN развлекаться_VERB совершенствуться_VERB помощь_NOUN сервис_NOUN продукт_NOUN создавать_VERB предприниматель_NOUN этот_DET пост_NOUN признание_NOUN любовь_NOUN трое_DET герой_NOUN ноябрь_NOUN делиться_VERB история_NOUN знакомиться_VERB анастасия::федосов_PROPN запускать_VERB собственный_ADJ бренд_NOUN натуральный_ADJ косметика_NOUN выходить_VERB оборот_NOUN миллион_NOUN рубль_NOUN месяц_NOUN николай::юдин_PROPN разрабатывать_VERB самый_ADJ легкой_ADJ мир_NOUN электроприставку_NOUN инвалидный_ADJ коляска_NOUN запускать_VERB продажа_NOUN страна_NOUN олег::ряженовсимс_PROPN развивать_VERB бренд_NOUN совесть_NOUN продавать_VERB миллиард_NOUN рубль_NOUN\n"
     ]
    },
    {
     "name": "stderr",
     "output_type": "stream",
     "text": [
      "2020-11-29 11:16:12,472 : INFO : Warming up ELMo on 10 sentences...\n",
      "2020-11-29 11:16:33,351 : INFO : Warming up finished.\n",
      "2020-11-29 11:16:33,365 : INFO : Texts in the current batch: 10\n",
      "2020-11-29 11:16:55,141 : INFO : Auth with login: +79221341105\n",
      "2020-11-29 11:16:55,142 : INFO : Checking remixsid...\n",
      "2020-11-29 11:16:55,312 : INFO : remixsid is valid\n",
      "2020-11-29 11:16:55,313 : INFO : Checking security check request\n"
     ]
    },
    {
     "name": "stdout",
     "output_type": "stream",
     "text": [
      "18\n"
     ]
    },
    {
     "name": "stderr",
     "output_type": "stream",
     "text": [
      "2020-11-29 11:16:55,544 : INFO : Security check is not required\n",
      "2020-11-29 11:16:55,739 : INFO : access_token from config is valid\n",
      "\n",
      "Loading the model...\n",
      "Processing input...\n"
     ]
    },
    {
     "name": "stdout",
     "output_type": "stream",
     "text": [
      "text сегодня_ADV память_NOUN джордж::харрисон_PROPN тихий_ADJ бител_NOUN мистика_NOUN философ_NOUN оставить_VERB прекрасный_ADJ песня_NOUN\n"
     ]
    },
    {
     "name": "stderr",
     "output_type": "stream",
     "text": [
      "2020-11-29 11:17:07,994 : INFO : Warming up ELMo on 10 sentences...\n",
      "2020-11-29 11:17:53,667 : INFO : Warming up finished.\n",
      "2020-11-29 11:17:53,701 : INFO : Texts in the current batch: 10\n",
      "2020-11-29 11:18:41,087 : INFO : Auth with login: +79221341105\n",
      "2020-11-29 11:18:41,088 : INFO : Checking remixsid...\n",
      "2020-11-29 11:18:41,266 : INFO : remixsid is valid\n",
      "2020-11-29 11:18:41,267 : INFO : Checking security check request\n"
     ]
    },
    {
     "name": "stdout",
     "output_type": "stream",
     "text": [
      "19\n"
     ]
    },
    {
     "name": "stderr",
     "output_type": "stream",
     "text": [
      "2020-11-29 11:18:41,483 : INFO : Security check is not required\n",
      "2020-11-29 11:18:41,668 : INFO : access_token from config is valid\n",
      "\n",
      "Loading the model...\n",
      "Processing input...\n"
     ]
    },
    {
     "name": "stdout",
     "output_type": "stream",
     "text": [
      "text питерский_ADJ концерт_NOUN октябрь_NOUN рамка_NOUN тур_NOUN ваня::усович_PROPN\n"
     ]
    },
    {
     "name": "stderr",
     "output_type": "stream",
     "text": [
      "2020-11-29 11:18:53,394 : INFO : Warming up ELMo on 10 sentences...\n",
      "2020-11-29 11:19:39,828 : INFO : Warming up finished.\n",
      "2020-11-29 11:19:39,852 : INFO : Texts in the current batch: 10\n",
      "2020-11-29 11:20:30,135 : INFO : Auth with login: +79221341105\n",
      "2020-11-29 11:20:30,136 : INFO : Checking remixsid...\n",
      "2020-11-29 11:20:30,318 : INFO : remixsid is valid\n",
      "2020-11-29 11:20:30,320 : INFO : Checking security check request\n"
     ]
    },
    {
     "name": "stdout",
     "output_type": "stream",
     "text": [
      "20\n"
     ]
    },
    {
     "name": "stderr",
     "output_type": "stream",
     "text": [
      "2020-11-29 11:20:30,547 : INFO : Security check is not required\n",
      "2020-11-29 11:20:30,745 : INFO : access_token from config is valid\n",
      "\n",
      "Loading the model...\n",
      "Processing input...\n"
     ]
    },
    {
     "name": "stdout",
     "output_type": "stream",
     "text": [
      "text чтобы_SCONJ просто_ADJ ориентироваться_VERB конференция_NOUN держать_VERB ссылка_NOUN случай_NOUN жизнь_NOUN смотреть_VERB трансляция_NOUN программа::памятка_PROPN участник_NOUN канал_VERB конференция_NOUN чат_VERB конференция_NOUN если_SCONJ возникать_VERB трудность_NOUN вопрос_NOUN писать_VERB ждать_VERB конференция_NOUN\n"
     ]
    },
    {
     "name": "stderr",
     "output_type": "stream",
     "text": [
      "2020-11-29 11:20:42,116 : INFO : Warming up ELMo on 10 sentences...\n",
      "2020-11-29 11:21:20,643 : INFO : Warming up finished.\n",
      "2020-11-29 11:21:20,668 : INFO : Texts in the current batch: 10\n",
      "2020-11-29 11:22:01,029 : INFO : Auth with login: +79221341105\n",
      "2020-11-29 11:22:01,030 : INFO : Checking remixsid...\n",
      "2020-11-29 11:22:01,217 : INFO : remixsid is valid\n",
      "2020-11-29 11:22:01,219 : INFO : Checking security check request\n"
     ]
    },
    {
     "name": "stdout",
     "output_type": "stream",
     "text": [
      "21\n"
     ]
    },
    {
     "name": "stderr",
     "output_type": "stream",
     "text": [
      "2020-11-29 11:22:01,457 : INFO : Security check is not required\n",
      "2020-11-29 11:22:01,659 : INFO : access_token from config is valid\n",
      "2020-11-29 11:22:02,075 : INFO : Auth with login: +79221341105\n",
      "2020-11-29 11:22:02,077 : INFO : Checking remixsid...\n",
      "2020-11-29 11:22:02,248 : INFO : remixsid is valid\n",
      "2020-11-29 11:22:02,249 : INFO : Checking security check request\n"
     ]
    },
    {
     "name": "stdout",
     "output_type": "stream",
     "text": [
      "22\n"
     ]
    },
    {
     "name": "stderr",
     "output_type": "stream",
     "text": [
      "2020-11-29 11:22:02,484 : INFO : Security check is not required\n",
      "2020-11-29 11:22:02,682 : INFO : access_token from config is valid\n",
      "\n",
      "Loading the model...\n",
      "Processing input...\n"
     ]
    },
    {
     "name": "stdout",
     "output_type": "stream",
     "text": [
      "text мемчик_NOUN подписчицый_NOUN вы_PRON присылать_VERB чтонибудь_ADV кнопка_NOUN предлагать_VERB новость_NOUN лучший_ADJ запосщать_VERB\n"
     ]
    },
    {
     "name": "stderr",
     "output_type": "stream",
     "text": [
      "2020-11-29 11:22:15,072 : INFO : Warming up ELMo on 10 sentences...\n",
      "2020-11-29 11:22:48,761 : INFO : Warming up finished.\n",
      "2020-11-29 11:22:48,775 : INFO : Texts in the current batch: 10\n",
      "2020-11-29 11:23:23,107 : INFO : Auth with login: +79221341105\n",
      "2020-11-29 11:23:23,107 : INFO : Checking remixsid...\n",
      "2020-11-29 11:23:23,299 : INFO : remixsid is valid\n",
      "2020-11-29 11:23:23,300 : INFO : Checking security check request\n"
     ]
    },
    {
     "name": "stdout",
     "output_type": "stream",
     "text": [
      "23\n"
     ]
    },
    {
     "name": "stderr",
     "output_type": "stream",
     "text": [
      "2020-11-29 11:23:23,529 : INFO : Security check is not required\n",
      "2020-11-29 11:23:23,733 : INFO : access_token from config is valid\n",
      "2020-11-29 11:23:24,153 : INFO : Auth with login: +79221341105\n",
      "2020-11-29 11:23:24,154 : INFO : Checking remixsid...\n",
      "2020-11-29 11:23:24,324 : INFO : remixsid is valid\n",
      "2020-11-29 11:23:24,326 : INFO : Checking security check request\n"
     ]
    },
    {
     "name": "stdout",
     "output_type": "stream",
     "text": [
      "24\n"
     ]
    },
    {
     "name": "stderr",
     "output_type": "stream",
     "text": [
      "2020-11-29 11:23:24,676 : INFO : Security check is not required\n",
      "2020-11-29 11:23:24,866 : INFO : access_token from config is valid\n",
      "\n",
      "Loading the model...\n",
      "Processing input...\n"
     ]
    },
    {
     "name": "stdout",
     "output_type": "stream",
     "text": [
      "text выглядеть_VERB завязка_NOUN какой_DET фильм_NOUN\n"
     ]
    },
    {
     "name": "stderr",
     "output_type": "stream",
     "text": [
      "2020-11-29 11:23:36,169 : INFO : Warming up ELMo on 10 sentences...\n",
      "2020-11-29 11:24:18,298 : INFO : Warming up finished.\n",
      "2020-11-29 11:24:18,324 : INFO : Texts in the current batch: 10\n",
      "2020-11-29 11:25:01,345 : INFO : Auth with login: +79221341105\n",
      "2020-11-29 11:25:01,346 : INFO : Checking remixsid...\n",
      "2020-11-29 11:25:01,535 : INFO : remixsid is valid\n",
      "2020-11-29 11:25:01,536 : INFO : Checking security check request\n"
     ]
    },
    {
     "name": "stdout",
     "output_type": "stream",
     "text": [
      "25\n"
     ]
    },
    {
     "name": "stderr",
     "output_type": "stream",
     "text": [
      "2020-11-29 11:25:01,754 : INFO : Security check is not required\n",
      "2020-11-29 11:25:01,944 : INFO : access_token from config is valid\n",
      "\n",
      "Loading the model...\n",
      "Processing input...\n"
     ]
    },
    {
     "name": "stdout",
     "output_type": "stream",
     "text": [
      "text \n"
     ]
    },
    {
     "name": "stderr",
     "output_type": "stream",
     "text": [
      "2020-11-29 11:25:13,390 : INFO : Warming up ELMo on 10 sentences...\n",
      "2020-11-29 11:25:59,237 : INFO : Warming up finished.\n",
      "2020-11-29 11:25:59,264 : INFO : Texts in the current batch: 10\n",
      "2020-11-29 11:26:46,458 : INFO : Auth with login: +79221341105\n",
      "2020-11-29 11:26:46,459 : INFO : Checking remixsid...\n",
      "2020-11-29 11:26:46,644 : INFO : remixsid is valid\n",
      "2020-11-29 11:26:46,645 : INFO : Checking security check request\n"
     ]
    },
    {
     "name": "stdout",
     "output_type": "stream",
     "text": [
      "26\n"
     ]
    },
    {
     "name": "stderr",
     "output_type": "stream",
     "text": [
      "2020-11-29 11:26:46,881 : INFO : Security check is not required\n",
      "2020-11-29 11:26:47,077 : INFO : access_token from config is valid\n",
      "2020-11-29 11:26:47,494 : INFO : Auth with login: +79221341105\n",
      "2020-11-29 11:26:47,497 : INFO : Checking remixsid...\n",
      "2020-11-29 11:26:47,668 : INFO : remixsid is valid\n",
      "2020-11-29 11:26:47,670 : INFO : Checking security check request\n"
     ]
    },
    {
     "name": "stdout",
     "output_type": "stream",
     "text": [
      "27\n"
     ]
    },
    {
     "name": "stderr",
     "output_type": "stream",
     "text": [
      "2020-11-29 11:26:47,896 : INFO : Security check is not required\n",
      "2020-11-29 11:26:48,086 : INFO : access_token from config is valid\n",
      "\n",
      "Loading the model...\n",
      "Processing input...\n"
     ]
    },
    {
     "name": "stdout",
     "output_type": "stream",
     "text": [
      "text секрет_PROPN хранить_VERB конь_NOUN клодт_PROPN а_CCONJ замечать_VERB что-то_ADP необычный_ADJ конь_NOUN аничков_PROPN мост_NOUN обращать_VERB внимание_NOUN нога_NOUN обычный_ADJ конский_ADJ нога_NOUN не_PART если_SCONJ присмотреться_VERB жеребец_NOUN расположенный_ADJ один_NUM берег_NOUN река_NOUN фонтанка_PROPN бежать_VERB один_NUM сторона_NOUN а_CCONJ противоположный_ADJ смотреть_VERB нога_NOUN у_ADP один_ADJ иметься_VERB подкова_NOUN почему_ADV на_ADP литейный_ADJ проспект_NOUN располагаться_VERB литейный_ADJ мастерская_NOUN кузница_NOUN поэтому_ADV лошадка_NOUN бежать_VERB литейный_ADJ обзавестись_VERB подкова_NOUN направлять_VERB\n"
     ]
    },
    {
     "name": "stderr",
     "output_type": "stream",
     "text": [
      "2020-11-29 11:27:00,661 : INFO : Warming up ELMo on 10 sentences...\n",
      "2020-11-29 11:27:44,177 : INFO : Warming up finished.\n",
      "2020-11-29 11:27:44,250 : INFO : Texts in the current batch: 10\n",
      "2020-11-29 11:28:29,302 : INFO : Auth with login: +79221341105\n",
      "2020-11-29 11:28:29,303 : INFO : Checking remixsid...\n",
      "2020-11-29 11:28:29,476 : INFO : remixsid is valid\n",
      "2020-11-29 11:28:29,477 : INFO : Checking security check request\n"
     ]
    },
    {
     "name": "stdout",
     "output_type": "stream",
     "text": [
      "28\n"
     ]
    },
    {
     "name": "stderr",
     "output_type": "stream",
     "text": [
      "2020-11-29 11:28:29,695 : INFO : Security check is not required\n",
      "2020-11-29 11:28:29,893 : INFO : access_token from config is valid\n",
      "2020-11-29 11:28:30,315 : INFO : Auth with login: +79221341105\n",
      "2020-11-29 11:28:30,317 : INFO : Checking remixsid...\n",
      "2020-11-29 11:28:30,499 : INFO : remixsid is valid\n",
      "2020-11-29 11:28:30,500 : INFO : Checking security check request\n"
     ]
    },
    {
     "name": "stdout",
     "output_type": "stream",
     "text": [
      "29\n"
     ]
    },
    {
     "name": "stderr",
     "output_type": "stream",
     "text": [
      "2020-11-29 11:28:30,856 : INFO : Security check is not required\n",
      "2020-11-29 11:28:31,049 : INFO : access_token from config is valid\n",
      "2020-11-29 11:28:31,465 : INFO : Auth with login: +79221341105\n",
      "2020-11-29 11:28:31,467 : INFO : Checking remixsid...\n",
      "2020-11-29 11:28:31,664 : INFO : remixsid is valid\n"
     ]
    },
    {
     "name": "stdout",
     "output_type": "stream",
     "text": [
      "30\n"
     ]
    },
    {
     "name": "stderr",
     "output_type": "stream",
     "text": [
      "2020-11-29 11:28:31,666 : INFO : Checking security check request\n",
      "2020-11-29 11:28:32,043 : INFO : Security check is not required\n",
      "2020-11-29 11:28:32,611 : INFO : access_token from config is valid\n",
      "\n",
      "Loading the model...\n",
      "Processing input...\n"
     ]
    },
    {
     "name": "stdout",
     "output_type": "stream",
     "text": [
      "text внезапно_ADV соционику_NOUN очевидный_ADJ вещь_NOUN много_ADV неструктурировать_ADJ размышление_NOUN претендовать_VERB мой_DET размышление_NOUN соционик_PROPN иметь_VERB никакой_DET отношение_NOUN волшебство_NOUN то_SCONJ это_PRON означать_VERB происходить_VERB безусловно_ADV дуал_VERB прибегать_VERB объятие_NOUN дуать_VERB с_ADP он_PRON приходиться_VERB проделывать_VERB скучный_ADJ процедура_NOUN нормальный_ADJ человек_NOUN план_NOUN соблазнять_VERB хотеть_VERB любовник_NOUN заслуживать_VERB доверие_NOUN собираться_VERB он_PRON дружить_VERB налаживать_VERB рабочий_ADJ отношение_NOUN оговаривать_VERB условие_NOUN планировать_VERB он_PRON работать_VERB и_CCONJ подобный_ADJ человек_PROPN делать_VERB что-то_ADP сильный_ADJ сторона_NOUN он_PRON должен_ADJ комуто_ADV в_ADP точно_ADV дурной_ADJ настроение_NOUN неудачный_ADJ неприязнь_NOUN лично_ADV и_CCONJ возможный_ADV всётаки_PART пользоваться_VERB сильный_ADJ сторона_NOUN удобный_ADJ удобный_ADP кстати_NUM неприязнь_NOUN тот_SCONJ этика_NOUN совершенно_ADV испытывать_VERB добрый_ADJ дружеский_ADJ чувство_NOUN воперв_ADJ хамить_VERB хамить_VERB говорить_NOUN ни_PART открывать_VERB завуалированно_ADV остроумно_ADV никак_ADV то_PRON терпеть_VERB близкий_ADJ друг_NOUN означать_VERB любить_VERB такой_DET остальной_ADJ\n"
     ]
    },
    {
     "name": "stderr",
     "output_type": "stream",
     "text": [
      "2020-11-29 11:28:44,776 : INFO : Warming up ELMo on 10 sentences...\n",
      "2020-11-29 11:29:31,678 : INFO : Warming up finished.\n",
      "2020-11-29 11:29:31,716 : INFO : Texts in the current batch: 10\n",
      "2020-11-29 11:30:20,886 : INFO : Auth with login: +79221341105\n",
      "2020-11-29 11:30:20,887 : INFO : Checking remixsid...\n"
     ]
    },
    {
     "name": "stdout",
     "output_type": "stream",
     "text": [
      "31\n"
     ]
    },
    {
     "name": "stderr",
     "output_type": "stream",
     "text": [
      "2020-11-29 11:30:21,087 : INFO : remixsid is valid\n",
      "2020-11-29 11:30:21,089 : INFO : Checking security check request\n",
      "2020-11-29 11:30:21,342 : INFO : Security check is not required\n",
      "2020-11-29 11:30:21,541 : INFO : access_token from config is valid\n",
      "\n",
      "Loading the model...\n",
      "Processing input...\n"
     ]
    },
    {
     "name": "stdout",
     "output_type": "stream",
     "text": [
      "text в_ADP подслушано_VERB открывать_ADJ эксклюзивный_ADJ закрытый_VERB клуб_NOUN мы_PRON искать_VERB донов_PROPN стать_VERB дон_PROPN войти_VERB ряд_NOUN человек_NOUN супер_VERB способность_NOUN к_ADP пример_NOUN дона_PROPN комментировать_VERB секрет_NOUN читать_VERB закрывать_VERB посторонний_ADJ глаз_NOUN запись_NOUN подслушано_VERB добро_NOUN пожаловать_VERB подробность_NOUN блок_NOUN поддерживать_VERB автор_NOUN внутри_ADV наш_DET сообщество_NOUN\n"
     ]
    },
    {
     "name": "stderr",
     "output_type": "stream",
     "text": [
      "2020-11-29 11:30:32,284 : INFO : Warming up ELMo on 10 sentences...\n",
      "2020-11-29 11:31:19,123 : INFO : Warming up finished.\n",
      "2020-11-29 11:31:19,157 : INFO : Texts in the current batch: 10\n",
      "2020-11-29 11:32:06,484 : INFO : Auth with login: +79221341105\n",
      "2020-11-29 11:32:06,484 : INFO : Checking remixsid...\n",
      "2020-11-29 11:32:06,671 : INFO : remixsid is valid\n",
      "2020-11-29 11:32:06,673 : INFO : Checking security check request\n"
     ]
    },
    {
     "name": "stdout",
     "output_type": "stream",
     "text": [
      "32\n"
     ]
    },
    {
     "name": "stderr",
     "output_type": "stream",
     "text": [
      "2020-11-29 11:32:07,018 : INFO : Security check is not required\n",
      "2020-11-29 11:32:07,225 : INFO : access_token from config is valid\n",
      "2020-11-29 11:32:07,643 : INFO : Auth with login: +79221341105\n",
      "2020-11-29 11:32:07,645 : INFO : Checking remixsid...\n",
      "2020-11-29 11:32:07,810 : INFO : remixsid is valid\n",
      "2020-11-29 11:32:07,812 : INFO : Checking security check request\n"
     ]
    },
    {
     "name": "stdout",
     "output_type": "stream",
     "text": [
      "33\n"
     ]
    },
    {
     "name": "stderr",
     "output_type": "stream",
     "text": [
      "2020-11-29 11:32:08,032 : INFO : Security check is not required\n",
      "2020-11-29 11:32:08,211 : INFO : access_token from config is valid\n",
      "\n",
      "Loading the model...\n",
      "Processing input...\n"
     ]
    },
    {
     "name": "stdout",
     "output_type": "stream",
     "text": [
      "text здравствовать_VERB добавлять_VERB расписание_NOUN что_PRON писать_VERB лично_ADV комментарий_NOUN спасибо_PROPN\n"
     ]
    },
    {
     "name": "stderr",
     "output_type": "stream",
     "text": [
      "2020-11-29 11:32:19,509 : INFO : Warming up ELMo on 10 sentences...\n",
      "2020-11-29 11:33:00,354 : INFO : Warming up finished.\n",
      "2020-11-29 11:33:00,388 : INFO : Texts in the current batch: 10\n",
      "2020-11-29 11:33:43,244 : INFO : Auth with login: +79221341105\n",
      "2020-11-29 11:33:43,245 : INFO : Checking remixsid...\n"
     ]
    },
    {
     "name": "stdout",
     "output_type": "stream",
     "text": [
      "34\n"
     ]
    },
    {
     "name": "stderr",
     "output_type": "stream",
     "text": [
      "2020-11-29 11:33:43,476 : INFO : remixsid is valid\n",
      "2020-11-29 11:33:43,479 : INFO : Checking security check request\n",
      "2020-11-29 11:33:43,694 : INFO : Security check is not required\n",
      "2020-11-29 11:33:43,901 : INFO : access_token from config is valid\n",
      "\n",
      "Loading the model...\n",
      "Processing input...\n"
     ]
    },
    {
     "name": "stdout",
     "output_type": "stream",
     "text": [
      "text глеб_NOUN плавать_VERB график_NOUN порой_ADV приходиться_VERB нырять_VERB\n"
     ]
    },
    {
     "name": "stderr",
     "output_type": "stream",
     "text": [
      "2020-11-29 11:33:55,413 : INFO : Warming up ELMo on 10 sentences...\n",
      "2020-11-29 11:34:30,130 : INFO : Warming up finished.\n",
      "2020-11-29 11:34:30,153 : INFO : Texts in the current batch: 10\n",
      "2020-11-29 11:35:06,174 : INFO : Auth with login: +79221341105\n",
      "2020-11-29 11:35:06,175 : INFO : Checking remixsid...\n",
      "2020-11-29 11:35:06,356 : INFO : remixsid is valid\n",
      "2020-11-29 11:35:06,358 : INFO : Checking security check request\n"
     ]
    },
    {
     "name": "stdout",
     "output_type": "stream",
     "text": [
      "35\n"
     ]
    },
    {
     "name": "stderr",
     "output_type": "stream",
     "text": [
      "2020-11-29 11:35:06,607 : INFO : Security check is not required\n",
      "2020-11-29 11:35:06,808 : INFO : access_token from config is valid\n",
      "2020-11-29 11:35:07,227 : INFO : Auth with login: +79221341105\n",
      "2020-11-29 11:35:07,229 : INFO : Checking remixsid...\n",
      "2020-11-29 11:35:07,398 : INFO : remixsid is valid\n",
      "2020-11-29 11:35:07,399 : INFO : Checking security check request\n"
     ]
    },
    {
     "name": "stdout",
     "output_type": "stream",
     "text": [
      "36\n"
     ]
    },
    {
     "name": "stderr",
     "output_type": "stream",
     "text": [
      "2020-11-29 11:35:07,766 : INFO : Security check is not required\n",
      "2020-11-29 11:35:07,968 : INFO : access_token from config is valid\n",
      "\n",
      "Loading the model...\n",
      "Processing input...\n"
     ]
    },
    {
     "name": "stdout",
     "output_type": "stream",
     "text": [
      "text важный_ADJ новость_NOUN распланировать_VERB новогодний_ADJ каникулы_NOUN новый_ADJ ехать_VERB турция_PROPN зывать_VERB в_ADP турция_PROPN проводить_VERB лето_NOUN окончательно_ADV влюбиться_VERB страна_NOUN собираться_VERB проводить_VERB новогодний_ADJ каникулы_NOUN быть_AUX пришвартовываться_VERB берег_NOUN древний_ADJ город_NOUN природный_ADJ заповедник_NOUN изучать_VERB доисторический_ADJ развалина_NOUN гулять_VERB сосновый_ADJ леса_NOUN готовить_VERB камерный_ADJ ужин_NOUN лодка_NOUN греться_VERB костер_NOUN пляж_ADJ виза_PROPN попрежнему_ADV нужный_ADJ специальный_ADJ подготовка_NOUN яхтать_ADJ опыт_NOUN старт_PROPN ближайший_ADJ приключение_NOUN декабрь_NOUN подробность_NOUN\n"
     ]
    },
    {
     "name": "stderr",
     "output_type": "stream",
     "text": [
      "2020-11-29 11:35:19,935 : INFO : Warming up ELMo on 10 sentences...\n",
      "2020-11-29 11:36:07,178 : INFO : Warming up finished.\n",
      "2020-11-29 11:36:07,218 : INFO : Texts in the current batch: 10\n",
      "2020-11-29 11:37:01,382 : INFO : Auth with login: +79221341105\n",
      "2020-11-29 11:37:01,384 : INFO : Checking remixsid...\n",
      "2020-11-29 11:37:01,570 : INFO : remixsid is valid\n",
      "2020-11-29 11:37:01,573 : INFO : Checking security check request\n"
     ]
    },
    {
     "name": "stdout",
     "output_type": "stream",
     "text": [
      "37\n"
     ]
    },
    {
     "name": "stderr",
     "output_type": "stream",
     "text": [
      "2020-11-29 11:37:01,817 : INFO : Security check is not required\n",
      "2020-11-29 11:37:02,020 : INFO : access_token from config is valid\n",
      "\n",
      "Loading the model...\n",
      "Processing input...\n"
     ]
    },
    {
     "name": "stdout",
     "output_type": "stream",
     "text": [
      "text что_PRON знать_VERB мурманск_PROPN октябрь_NOUN апрель_NOUN видеть_VERB северный_ADJ сияние_NOUN самый_ADJ густонаселенный_ADJ город_NOUN полярный_ADJ ворота_NOUN россия_PROPN северный_ADJ ледовитый_ADJ океан_NOUN культовый_ADJ териберкий_PROPN качели_VERB океан_NOUN что_PRON знать_VERB мы_PRON надежный_ADJ проводник_NOUN край_NOUN суровый_ADJ красота_NOUN север_PROPN обеспечивать_VERB каждый_ADJ размещение_PROPN транспортный_ADJ услуга_NOUN услуга_PROPN гид_NOUN экскурсия_PROPN обзорный_ADJ пешеходный_ADJ тематический_ADJ необычный_ADJ авторский_ADJ мастеркласса_NOUN музей_NOUN тд_NOUN по_ADP вопрос_NOUN бронирование_NOUN сотрудничество_NOUN писать_VERB телефон_NOUN севернаяимперия_NOUN туризм_NOUN путешествиепороссия_NOUN мурманскать_NOUN россия_NOUN крайсвета_NOUN русскийсевирать_NOUN\n"
     ]
    },
    {
     "name": "stderr",
     "output_type": "stream",
     "text": [
      "2020-11-29 11:37:15,428 : INFO : Warming up ELMo on 10 sentences...\n",
      "2020-11-29 11:38:06,175 : INFO : Warming up finished.\n",
      "2020-11-29 11:38:06,215 : INFO : Texts in the current batch: 10\n",
      "2020-11-29 11:38:54,821 : INFO : Auth with login: +79221341105\n",
      "2020-11-29 11:38:54,822 : INFO : Checking remixsid...\n",
      "2020-11-29 11:38:54,999 : INFO : remixsid is valid\n",
      "2020-11-29 11:38:55,003 : INFO : Checking security check request\n"
     ]
    },
    {
     "name": "stdout",
     "output_type": "stream",
     "text": [
      "38\n"
     ]
    },
    {
     "name": "stderr",
     "output_type": "stream",
     "text": [
      "2020-11-29 11:38:55,499 : INFO : Security check is not required\n",
      "2020-11-29 11:38:55,679 : INFO : access_token from config is valid\n",
      "\n",
      "Loading the model...\n",
      "Processing input...\n"
     ]
    },
    {
     "name": "stdout",
     "output_type": "stream",
     "text": [
      "text когда_SCONJ закрываться_VERB граница_NOUN понимать_VERB любить_NOUN путешествовать_VERB мир_PROPN мир_PROPN открытый_VERB книга_NOUN бытие_PROPN все_PRON любить_VERB видеться_VERB расстояние_NOUN беречь_VERB яркий_ADJ момент_NOUN жизнь_NOUN любить_VERB целиком_ADV остаток_NOUN заполнять_VERB смысл_NOUN и_CCONJ духовный_ADJ практика_NOUN медитировать_VERB радость_NOUN счастье_ADJ процветание_NOUN целостность_NOUN свобода_NOUN да_PART прибывать_VERB свет_NOUN осознаннодать_NOUN планета_VERB ладини_PROPN\n"
     ]
    },
    {
     "name": "stderr",
     "output_type": "stream",
     "text": [
      "2020-11-29 11:39:08,075 : INFO : Warming up ELMo on 10 sentences...\n",
      "2020-11-29 11:39:55,566 : INFO : Warming up finished.\n",
      "2020-11-29 11:39:55,605 : INFO : Texts in the current batch: 10\n",
      "2020-11-29 11:40:44,980 : INFO : Auth with login: +79221341105\n",
      "2020-11-29 11:40:44,981 : INFO : Checking remixsid...\n",
      "2020-11-29 11:40:45,160 : INFO : remixsid is valid\n",
      "2020-11-29 11:40:45,162 : INFO : Checking security check request\n"
     ]
    },
    {
     "name": "stdout",
     "output_type": "stream",
     "text": [
      "39\n"
     ]
    },
    {
     "name": "stderr",
     "output_type": "stream",
     "text": [
      "2020-11-29 11:40:45,404 : INFO : Security check is not required\n",
      "2020-11-29 11:40:45,595 : INFO : access_token from config is valid\n",
      "\n",
      "Loading the model...\n",
      "Processing input...\n"
     ]
    },
    {
     "name": "stdout",
     "output_type": "stream",
     "text": [
      "text пт_VERB пчвтвй_ADJ эт_NOUN бы_PART вгать_NOUN вь_VERB ще_PRON впдить_ADP\n"
     ]
    },
    {
     "name": "stderr",
     "output_type": "stream",
     "text": [
      "2020-11-29 11:40:53,726 : INFO : Warming up ELMo on 3 sentences...\n",
      "2020-11-29 11:41:03,538 : INFO : Warming up finished.\n",
      "2020-11-29 11:41:03,543 : INFO : Texts in the current batch: 3\n",
      "2020-11-29 11:41:12,845 : INFO : Auth with login: +79221341105\n",
      "2020-11-29 11:41:12,846 : INFO : Checking remixsid...\n",
      "2020-11-29 11:41:13,020 : INFO : remixsid is valid\n",
      "2020-11-29 11:41:13,026 : INFO : Checking security check request\n"
     ]
    },
    {
     "name": "stdout",
     "output_type": "stream",
     "text": [
      "40\n"
     ]
    },
    {
     "name": "stderr",
     "output_type": "stream",
     "text": [
      "2020-11-29 11:41:13,259 : INFO : Security check is not required\n",
      "2020-11-29 11:41:13,457 : INFO : access_token from config is valid\n",
      "\n",
      "Loading the model...\n",
      "Processing input...\n"
     ]
    },
    {
     "name": "stdout",
     "output_type": "stream",
     "text": [
      "text приходить_VERB наш_DET театральный_ADJ студия_NOUN кукольный_ADJ театр_NOUN яркий_ADJ развивать_VERB среда_NOUN участие_NOUN ребенок_NOUN спектакль_NOUN способствовать_VERB развитие_NOUN связной_ADJ речь_NOUN кукольный_ADJ театр_NOUN хороший_ADJ повод_NOUN занятие_NOUN прикладной_ADJ творчество_NOUN создание_NOUN кукла_NOUN костюм_NOUN декорация_NOUN публичный_ADJ выступление_NOUN помогать_VERB робкий_ADJ ребенок_NOUN справляться_VERB застенчивость_ADV постановка_PROPN любимый_ADJ сказка_NOUN заучивание_NOUN пересказ_NOUN текст_NOUN отличный_ADJ тренировка_NOUN память_NOUN кроме_ADP результат_NOUN такой_DET занятие_NOUN ребенок_NOUN появляться_VERB интерес_NOUN чтение_NOUN малыш_PROPN получать_VERB возможность_NOUN высказываться_VERB получать_VERB недостающий_ADJ родительский_ADJ внимание_NOUN а_CCONJ мама_NOUN папа_NOUN советовать_VERB вдумчиво_ADV послушать_VERB говорить_VERB кукла_NOUN рука_NOUN малыш_NOUN можно_ADV разыгрывать_VERB конфликтный_ADJ ситуация_NOUN жизнь_NOUN ребенок_NOUN улица_NOUN детский_ADJ сад_NOUN чтобы_SCONJ пробовать_VERB роль_NOUN данные_ADJ событие_NOUN кукольный_ADJ театр_NOUN использовать_VERB психотерапия_NOUN детский_ADJ страх_NOUN если_SCONJ ребенок_NOUN соглашаться_VERB побыть_VERB роль_NOUN бояться_VERB возможный_ADV получаться_VERB побеждать_VERB свой_DET страх_NOUN\n"
     ]
    },
    {
     "name": "stderr",
     "output_type": "stream",
     "text": [
      "2020-11-29 11:41:25,784 : INFO : Warming up ELMo on 10 sentences...\n",
      "2020-11-29 11:42:35,260 : INFO : Warming up finished.\n",
      "2020-11-29 11:42:35,286 : INFO : Texts in the current batch: 10\n",
      "2020-11-29 11:43:37,483 : INFO : Auth with login: +79221341105\n",
      "2020-11-29 11:43:37,484 : INFO : Checking remixsid...\n"
     ]
    },
    {
     "name": "stdout",
     "output_type": "stream",
     "text": [
      "41\n"
     ]
    },
    {
     "name": "stderr",
     "output_type": "stream",
     "text": [
      "2020-11-29 11:43:37,684 : INFO : remixsid is valid\n",
      "2020-11-29 11:43:37,685 : INFO : Checking security check request\n",
      "2020-11-29 11:43:37,907 : INFO : Security check is not required\n",
      "2020-11-29 11:43:38,111 : INFO : access_token from config is valid\n",
      "\n",
      "Loading the model...\n",
      "Processing input...\n"
     ]
    },
    {
     "name": "stdout",
     "output_type": "stream",
     "text": [
      "text стартовать_VERB бесплатный_ADJ хдневный_ADJ марафон_NOUN счастье_PROPN деньги_NOUN предназначение_NOUN женщина_NOUN хотеть_VERB становиться_VERB счастливый_ADJ богатый_ADJ то_PRON узнать_VERB предназначение_NOUN женщина_NOUN какой_DET состояние_NOUN легкий_ADJ большой_ADJ деньги_NOUN как_ADV магнетизировать_VERB хобби_NOUN кайф_NOUN вдоха_PROPN новый_ADJ мужчина_NOUN расти_VERB с_ADP начать_VERB внутренний_ADJ изменение_NOUN внешний_ADJ результат_NOUN как_ADV получать_VERB любовь_NOUN внимание_NOUN подарок_NOUN поездка_NOUN мужчина_NOUN определить_VERB препятствие_NOUN страх_NOUN получать_VERB родовой_ADJ поддержка_NOUN узнать_VERB притягивать_VERB мужчина_NOUN как_ADV заменять_VERB ум_NOUN мудрость_NOUN повысить_VERB самооценка_NOUN как_ADV делать_VERB мужчина_NOUN миллионер_NOUN закрыть_VERB энергетический_ADJ слива_NOUN необходимый_ADJ рост_NOUN а_CCONJ получать_VERB практический_ADJ шаг_NOUN наполнение_NOUN финансы_NOUN гармоничной_ADJ отношение_NOUN они_PRON регистрироваться_VERB ссылка_NOUN\n"
     ]
    },
    {
     "name": "stderr",
     "output_type": "stream",
     "text": [
      "2020-11-29 11:43:50,656 : INFO : Warming up ELMo on 10 sentences...\n",
      "2020-11-29 11:44:48,980 : INFO : Warming up finished.\n",
      "2020-11-29 11:44:49,021 : INFO : Texts in the current batch: 10\n",
      "2020-11-29 11:45:32,564 : INFO : Auth with login: +79221341105\n",
      "2020-11-29 11:45:32,565 : INFO : Checking remixsid...\n",
      "2020-11-29 11:45:32,752 : INFO : remixsid is valid\n",
      "2020-11-29 11:45:32,754 : INFO : Checking security check request\n"
     ]
    },
    {
     "name": "stdout",
     "output_type": "stream",
     "text": [
      "42\n"
     ]
    },
    {
     "name": "stderr",
     "output_type": "stream",
     "text": [
      "2020-11-29 11:45:32,991 : INFO : Security check is not required\n",
      "2020-11-29 11:45:33,182 : INFO : access_token from config is valid\n",
      "2020-11-29 11:45:33,613 : INFO : Auth with login: +79221341105\n",
      "2020-11-29 11:45:33,615 : INFO : Checking remixsid...\n",
      "2020-11-29 11:45:33,809 : INFO : remixsid is valid\n",
      "2020-11-29 11:45:33,812 : INFO : Checking security check request\n"
     ]
    },
    {
     "name": "stdout",
     "output_type": "stream",
     "text": [
      "43\n"
     ]
    },
    {
     "name": "stderr",
     "output_type": "stream",
     "text": [
      "2020-11-29 11:45:34,155 : INFO : Security check is not required\n",
      "2020-11-29 11:45:34,339 : INFO : access_token from config is valid\n",
      "\n",
      "Loading the model...\n",
      "Processing input...\n"
     ]
    },
    {
     "name": "stdout",
     "output_type": "stream",
     "text": [
      "text все_PRON готовый_ADJ полноценный_ADJ старт_NOUN зимний_ADJ лига_NOUN х_ADP свободный_ADJ место_NOUN форвард_PROPN воскресенье_NOUN писать_VERB турнир_PROPN пройти_VERB групповой_ADJ этап_NOUN в_ADP первый_ADJ команда_NOUN играть_VERB круг_NOUN тур_NOUN группа_NOUN а_CCONJ без_PART тур_NOUN группа_NOUN в_ADP итог_NOUN занимать_VERB место_NOUN выходить_VERB групповой_ADJ этап_NOUN следующий_ADJ схема_NOUN итоговый_ADJ схема_NOUN проведение_NOUN турнир_NOUN первый_ADJ групповой_ADJ этап_NOUN команда_NOUN делить_VERB группа_NOUN выбирать_VERB манежа_NOUN играть_VERB каждый_ADJ круг_NOUN тур_NOUN группа_NOUN а_CCONJ без_PART тур_NOUN группа_NOUN в_ADP затем_DET итог_NOUN занимать_VERB место_NOUN выходить_VERB групповой_ADJ этап_NOUN второй_ADJ групповой_ADJ этап_NOUN группа_PROPN а_CCONJ бывший_PROPN место_NOUN верхний_ADJ группа_NOUN сохранение_NOUN очко_NOUN играть_VERB тур_NOUN итог_NOUN место_NOUN верхний_ADJ группа_NOUN выходить_VERB золотой_ADJ плейофф_NOUN место_NOUN серебряный_ADJ место_NOUN нижний_ADJ группа_NOUN сохранение_NOUN очко_NOUN играть_VERB тур_NOUN итог_NOUN место_NOUN выходить_VERB золотой_ADJ плейофф_NOUN место_NOUN\n"
     ]
    },
    {
     "name": "stderr",
     "output_type": "stream",
     "text": [
      "2020-11-29 11:45:46,565 : INFO : Warming up ELMo on 10 sentences...\n",
      "2020-11-29 11:46:43,993 : INFO : Warming up finished.\n",
      "2020-11-29 11:46:44,041 : INFO : Texts in the current batch: 10\n",
      "2020-11-29 11:47:44,131 : INFO : Auth with login: +79221341105\n",
      "2020-11-29 11:47:44,132 : INFO : Checking remixsid...\n",
      "2020-11-29 11:47:44,307 : INFO : remixsid is valid\n",
      "2020-11-29 11:47:44,308 : INFO : Checking security check request\n"
     ]
    },
    {
     "name": "stdout",
     "output_type": "stream",
     "text": [
      "44\n"
     ]
    },
    {
     "name": "stderr",
     "output_type": "stream",
     "text": [
      "2020-11-29 11:47:44,560 : INFO : Security check is not required\n",
      "2020-11-29 11:47:44,749 : INFO : access_token from config is valid\n",
      "2020-11-29 11:47:45,167 : INFO : Auth with login: +79221341105\n",
      "2020-11-29 11:47:45,169 : INFO : Checking remixsid...\n",
      "2020-11-29 11:47:45,350 : INFO : remixsid is valid\n",
      "2020-11-29 11:47:45,352 : INFO : Checking security check request\n"
     ]
    },
    {
     "name": "stdout",
     "output_type": "stream",
     "text": [
      "45\n"
     ]
    },
    {
     "name": "stderr",
     "output_type": "stream",
     "text": [
      "2020-11-29 11:47:45,631 : INFO : Security check is not required\n",
      "2020-11-29 11:47:45,832 : INFO : access_token from config is valid\n",
      "\n",
      "Loading the model...\n",
      "Processing input...\n"
     ]
    },
    {
     "name": "stdout",
     "output_type": "stream",
     "text": [
      "text танец_NOUN тнт_PROPN сезон_NOUN выпуск_NOUN второй_ADJ отборочный_ADJ концерт_NOUN второй_ADJ отборочный_ADJ концерт_NOUN определять_VERB участник_NOUN команда_NOUN танцынатнть_NOUN танцытнть_NOUN танцысезон_PART танец_NOUN\n"
     ]
    },
    {
     "name": "stderr",
     "output_type": "stream",
     "text": [
      "2020-11-29 11:47:57,297 : INFO : Warming up ELMo on 10 sentences...\n",
      "2020-11-29 11:48:37,788 : INFO : Warming up finished.\n",
      "2020-11-29 11:48:37,809 : INFO : Texts in the current batch: 10\n",
      "2020-11-29 11:49:19,632 : INFO : Auth with login: +79221341105\n",
      "2020-11-29 11:49:19,633 : INFO : Checking remixsid...\n",
      "2020-11-29 11:49:19,809 : INFO : remixsid is valid\n",
      "2020-11-29 11:49:19,810 : INFO : Checking security check request\n"
     ]
    },
    {
     "name": "stdout",
     "output_type": "stream",
     "text": [
      "46\n"
     ]
    },
    {
     "name": "stderr",
     "output_type": "stream",
     "text": [
      "2020-11-29 11:49:20,024 : INFO : Security check is not required\n",
      "2020-11-29 11:49:20,213 : INFO : access_token from config is valid\n",
      "\n",
      "Loading the model...\n",
      "Processing input...\n"
     ]
    },
    {
     "name": "stdout",
     "output_type": "stream",
     "text": [
      "text в_ADP море_NOUN один_NUM волна_NOUN быстротечная_ADJ в_ADP небо_NOUN один_NUM звезда_NOUN бесконечный_ADJ в_ADP мир_NOUN один_NUM душа_NOUN вечный_ADJ александр::блок_PROPN\n"
     ]
    },
    {
     "name": "stderr",
     "output_type": "stream",
     "text": [
      "2020-11-29 11:49:31,909 : INFO : Warming up ELMo on 10 sentences...\n",
      "2020-11-29 11:50:12,416 : INFO : Warming up finished.\n",
      "2020-11-29 11:50:12,454 : INFO : Texts in the current batch: 10\n",
      "2020-11-29 11:50:58,502 : INFO : Auth with login: +79221341105\n",
      "2020-11-29 11:50:58,503 : INFO : Checking remixsid...\n",
      "2020-11-29 11:50:58,679 : INFO : remixsid is valid\n",
      "2020-11-29 11:50:58,681 : INFO : Checking security check request\n"
     ]
    },
    {
     "name": "stdout",
     "output_type": "stream",
     "text": [
      "47\n"
     ]
    },
    {
     "name": "stderr",
     "output_type": "stream",
     "text": [
      "2020-11-29 11:50:58,909 : INFO : Security check is not required\n",
      "2020-11-29 11:50:59,102 : INFO : access_token from config is valid\n",
      "\n",
      "Loading the model...\n",
      "Processing input...\n"
     ]
    },
    {
     "name": "stdout",
     "output_type": "stream",
     "text": [
      "text \n"
     ]
    },
    {
     "name": "stderr",
     "output_type": "stream",
     "text": [
      "2020-11-29 11:51:10,557 : INFO : Warming up ELMo on 10 sentences...\n",
      "2020-11-29 11:51:30,836 : INFO : Warming up finished.\n",
      "2020-11-29 11:51:30,847 : INFO : Texts in the current batch: 10\n",
      "2020-11-29 11:51:54,925 : INFO : Auth with login: +79221341105\n",
      "2020-11-29 11:51:54,926 : INFO : Checking remixsid...\n",
      "2020-11-29 11:51:55,108 : INFO : remixsid is valid\n",
      "2020-11-29 11:51:55,109 : INFO : Checking security check request\n"
     ]
    },
    {
     "name": "stdout",
     "output_type": "stream",
     "text": [
      "48\n"
     ]
    },
    {
     "name": "stderr",
     "output_type": "stream",
     "text": [
      "2020-11-29 11:51:55,335 : INFO : Security check is not required\n",
      "2020-11-29 11:51:55,552 : INFO : access_token from config is valid\n",
      "\n",
      "Loading the model...\n",
      "Processing input...\n"
     ]
    },
    {
     "name": "stdout",
     "output_type": "stream",
     "text": [
      "text звдить_VERB бь_PRON чдывать_NOUN ший_ADJ быче_ADJ нчинть_VERB зкнчивть_NOUN ддывать_NOUN зцние_NOUN квать_NOUN йдить_VERB щтить_VERB кт_NOUN вкг_NOUN сти_VERB бы_PART кт_NOUN дыние_NOUN кт_NOUN звквадратный_ADJ вкг_NOUN кт_NOUN нчть_VERB день_NOUN кнчние_NOUN кт_NOUN мыля_VERB кт_NOUN пид_NOUN кт_NOUN людить_VERB вкгать_NOUN бь_VERB кт_NOUN жизнь_NOUN кт_NOUN бытие::этот_PROPN чнь_NOUN ший_ADJ быче_ADJ пктичкть_VERB пилгия_NOUN\n"
     ]
    },
    {
     "name": "stderr",
     "output_type": "stream",
     "text": [
      "2020-11-29 11:52:07,423 : INFO : Warming up ELMo on 10 sentences...\n",
      "2020-11-29 11:52:52,431 : INFO : Warming up finished.\n",
      "2020-11-29 11:52:52,481 : INFO : Texts in the current batch: 10\n",
      "2020-11-29 11:53:39,128 : INFO : Auth with login: +79221341105\n",
      "2020-11-29 11:53:39,129 : INFO : Checking remixsid...\n"
     ]
    },
    {
     "name": "stdout",
     "output_type": "stream",
     "text": [
      "49\n"
     ]
    },
    {
     "name": "stderr",
     "output_type": "stream",
     "text": [
      "2020-11-29 11:53:39,365 : INFO : remixsid is valid\n",
      "2020-11-29 11:53:39,368 : INFO : Checking security check request\n",
      "2020-11-29 11:53:39,605 : INFO : Security check is not required\n",
      "2020-11-29 11:53:39,819 : INFO : access_token from config is valid\n",
      "\n",
      "Loading the model...\n",
      "Processing input...\n"
     ]
    },
    {
     "name": "stdout",
     "output_type": "stream",
     "text": [
      "text куда_SCONJ уже_ADV можно_ADV спрашивать_VERB отвечать_VERB актуальный_ADJ список_NOUN открытый_ADJ страна_NOUN способ_NOUN добираться_VERB правило_NOUN въезд_NOUN\n"
     ]
    },
    {
     "name": "stderr",
     "output_type": "stream",
     "text": [
      "2020-11-29 11:53:47,701 : INFO : Warming up ELMo on 3 sentences...\n",
      "2020-11-29 11:54:22,555 : INFO : Warming up finished.\n",
      "2020-11-29 11:54:22,596 : INFO : Texts in the current batch: 3\n",
      "2020-11-29 11:54:54,791 : INFO : Auth with login: +79221341105\n",
      "2020-11-29 11:54:54,793 : INFO : Checking remixsid...\n",
      "2020-11-29 11:54:54,975 : INFO : remixsid is valid\n",
      "2020-11-29 11:54:54,978 : INFO : Checking security check request\n"
     ]
    },
    {
     "name": "stdout",
     "output_type": "stream",
     "text": [
      "50\n"
     ]
    },
    {
     "name": "stderr",
     "output_type": "stream",
     "text": [
      "2020-11-29 11:54:55,293 : INFO : Security check is not required\n",
      "2020-11-29 11:54:55,498 : INFO : access_token from config is valid\n",
      "2020-11-29 11:54:55,918 : INFO : Auth with login: +79221341105\n",
      "2020-11-29 11:54:55,920 : INFO : Checking remixsid...\n",
      "2020-11-29 11:54:56,085 : INFO : remixsid is valid\n",
      "2020-11-29 11:54:56,089 : INFO : Checking security check request\n"
     ]
    },
    {
     "name": "stdout",
     "output_type": "stream",
     "text": [
      "51\n"
     ]
    },
    {
     "name": "stderr",
     "output_type": "stream",
     "text": [
      "2020-11-29 11:54:56,328 : INFO : Security check is not required\n",
      "2020-11-29 11:54:56,520 : INFO : access_token from config is valid\n",
      "2020-11-29 11:54:56,947 : INFO : Auth with login: +79221341105\n",
      "2020-11-29 11:54:56,966 : INFO : Checking remixsid...\n"
     ]
    },
    {
     "name": "stdout",
     "output_type": "stream",
     "text": [
      "52\n"
     ]
    },
    {
     "name": "stderr",
     "output_type": "stream",
     "text": [
      "2020-11-29 11:54:57,162 : INFO : remixsid is valid\n",
      "2020-11-29 11:54:57,163 : INFO : Checking security check request\n",
      "2020-11-29 11:54:57,398 : INFO : Security check is not required\n",
      "2020-11-29 11:54:57,628 : INFO : access_token from config is valid\n",
      "\n",
      "Loading the model...\n",
      "Processing input...\n"
     ]
    },
    {
     "name": "stdout",
     "output_type": "stream",
     "text": [
      "text помагай_VERB информационноспбло_NOUN срочно_PART нужный_ADJ помощь_NOUN бросать_VERB собака_NOUN он_PRON сажать_VERB привязь_ADP коробкустроений_NOUN вид_NOUN будка_NOUN делать_VERB тонкий_ADJ фанерыбез_ADP еда_NOUN вода_NOUN охранять_VERB стоянка_NOUN рабочий_NOUN техникисделал_VERB хозяинкоторый_ADJ появляться_VERB максимум_NOUN неделюсобакий_NOUN день_NOUN сидеть_VERB голоднаяохранник_NOUN совершенно_ADV равнодушный_ADJ данный_ADJ ситуациичто_PRON касаться_VERB хозяина_NOUN касаться_VERB собака_NOUN отказываться_VERB принимать_VERB корм_NOUN давать_VERB собаке_NOUN запрещать_VERB проходить_VERB территория_NOUN кормить_VERB егоотвать_NOUN одинхотит_VERB забирайтать_VERB ходить_VERB кормить_VERB пускать_ADJ пожилой_ADJ мужчина_NOUN узнать_VERB этомходить_VERB кидать_VERB еда_NOUN забор_NOUN дыркуный_ADV охрана_NOUN присекать_VERB пес_PROPN молодойгодой_ADJ метис_NOUN гончейкастрированочедывать_NOUN добрыйручная_ADJ ласковый_ADJ мочь_VERB ктото_NOUN готовый_ADJ спасать_VERB собака_NOUN человеческий_ADJ условие_NOUN возможность_NOUN находить_VERB какойлибо_ADV едыий_NOUN согретьсянуть_VERB шерстиквадрать_NOUN тонкий_ADJ фанера_NOUN греетсобака_NOUN лежать_VERB трястись_VERB пожалуйстау_PROPN возможностьпомогить_VERB собака_NOUN пишитезвоинать_VERB\n"
     ]
    },
    {
     "name": "stderr",
     "output_type": "stream",
     "text": [
      "2020-11-29 11:55:10,054 : INFO : Warming up ELMo on 10 sentences...\n",
      "2020-11-29 11:55:59,831 : INFO : Warming up finished.\n",
      "2020-11-29 11:55:59,864 : INFO : Texts in the current batch: 10\n",
      "2020-11-29 11:56:52,244 : INFO : Auth with login: +79221341105\n",
      "2020-11-29 11:56:52,245 : INFO : Checking remixsid...\n",
      "2020-11-29 11:56:52,429 : INFO : remixsid is valid\n",
      "2020-11-29 11:56:52,431 : INFO : Checking security check request\n"
     ]
    },
    {
     "name": "stdout",
     "output_type": "stream",
     "text": [
      "53\n"
     ]
    },
    {
     "name": "stderr",
     "output_type": "stream",
     "text": [
      "2020-11-29 11:56:52,672 : INFO : Security check is not required\n",
      "2020-11-29 11:56:52,880 : INFO : access_token from config is valid\n",
      "\n",
      "Loading the model...\n",
      "Processing input...\n"
     ]
    },
    {
     "name": "stdout",
     "output_type": "stream",
     "text": [
      "text лйфхка_NOUN хозяйка_NOUN кк_PROPN убирться_VERB дом_NOUN использовать_VERB химия_NOUN полезный_ADJ знть_VERB\n"
     ]
    },
    {
     "name": "stderr",
     "output_type": "stream",
     "text": [
      "2020-11-29 11:57:06,500 : INFO : Warming up ELMo on 10 sentences...\n",
      "2020-11-29 11:58:02,386 : INFO : Warming up finished.\n",
      "2020-11-29 11:58:02,444 : INFO : Texts in the current batch: 10\n",
      "2020-11-29 11:59:05,584 : INFO : Auth with login: +79221341105\n",
      "2020-11-29 11:59:05,585 : INFO : Checking remixsid...\n",
      "2020-11-29 11:59:05,764 : INFO : remixsid is valid\n",
      "2020-11-29 11:59:05,767 : INFO : Checking security check request\n"
     ]
    },
    {
     "name": "stdout",
     "output_type": "stream",
     "text": [
      "54\n"
     ]
    },
    {
     "name": "stderr",
     "output_type": "stream",
     "text": [
      "2020-11-29 11:59:06,016 : INFO : Security check is not required\n",
      "2020-11-29 11:59:06,272 : INFO : access_token from config is valid\n",
      "2020-11-29 11:59:06,753 : INFO : Auth with login: +79221341105\n",
      "2020-11-29 11:59:06,756 : INFO : Checking remixsid...\n"
     ]
    },
    {
     "name": "stdout",
     "output_type": "stream",
     "text": [
      "55\n"
     ]
    },
    {
     "name": "stderr",
     "output_type": "stream",
     "text": [
      "2020-11-29 11:59:06,974 : INFO : remixsid is valid\n",
      "2020-11-29 11:59:06,976 : INFO : Checking security check request\n",
      "2020-11-29 11:59:07,196 : INFO : Security check is not required\n",
      "2020-11-29 11:59:07,379 : INFO : access_token from config is valid\n",
      "\n",
      "Loading the model...\n",
      "Processing input...\n"
     ]
    },
    {
     "name": "stdout",
     "output_type": "stream",
     "text": [
      "text вы_PRON мечтать_VERB роскошный_ADJ свадьба_NOUN хотеть_VERB свадьба_NOUN мечта_NOUN проходить_VERB идеально_ADV вы_PRON отдыхать_VERB наслаждаться_VERB свой_DET праздник_NOUN приходить_VERB предварительный_ADJ консультация_NOUN на_ADP васильевич_PRON ожидать_VERB подробный_ADJ рассказ_NOUN наш_DET работа_NOUN выгода_NOUN вы_PRON получать_VERB подбор_PROPN несколько_NUM площадка_NOUN исходить_VERB ваш_DET пожелание_NOUN пример_VERB смета_NOUN ваш_DET количество_NOUN учет_NOUN хотелкий_NOUN ответ_PROPN вопрос_NOUN волновать_VERB вы_PRON приятный_ADJ общение_NOUN кружечка_NOUN вкуснейший_ADJ чай_ADJ запись_NOUN по_ADP телефон_NOUN или_CCONJ личный_ADJ сообщение_NOUN\n"
     ]
    },
    {
     "name": "stderr",
     "output_type": "stream",
     "text": [
      "2020-11-29 11:59:20,241 : INFO : Warming up ELMo on 10 sentences...\n",
      "2020-11-29 12:00:20,867 : INFO : Warming up finished.\n",
      "2020-11-29 12:00:20,969 : INFO : Texts in the current batch: 10\n",
      "2020-11-29 12:01:30,554 : INFO : Auth with login: +79221341105\n",
      "2020-11-29 12:01:30,555 : INFO : Checking remixsid...\n",
      "2020-11-29 12:01:30,753 : INFO : remixsid is valid\n"
     ]
    },
    {
     "name": "stdout",
     "output_type": "stream",
     "text": [
      "56\n"
     ]
    },
    {
     "name": "stderr",
     "output_type": "stream",
     "text": [
      "2020-11-29 12:01:30,753 : INFO : Checking security check request\n",
      "2020-11-29 12:01:30,994 : INFO : Security check is not required\n",
      "2020-11-29 12:01:31,218 : INFO : access_token from config is valid\n",
      "2020-11-29 12:01:31,635 : INFO : Auth with login: +79221341105\n",
      "2020-11-29 12:01:31,642 : INFO : Checking remixsid...\n",
      "2020-11-29 12:01:31,823 : INFO : remixsid is valid\n",
      "2020-11-29 12:01:31,824 : INFO : Checking security check request\n"
     ]
    },
    {
     "name": "stdout",
     "output_type": "stream",
     "text": [
      "57\n"
     ]
    },
    {
     "name": "stderr",
     "output_type": "stream",
     "text": [
      "2020-11-29 12:01:32,075 : INFO : Security check is not required\n",
      "2020-11-29 12:01:32,270 : INFO : access_token from config is valid\n",
      "\n",
      "Loading the model...\n",
      "Processing input...\n"
     ]
    },
    {
     "name": "stdout",
     "output_type": "stream",
     "text": [
      "text \n"
     ]
    },
    {
     "name": "stderr",
     "output_type": "stream",
     "text": [
      "2020-11-29 12:01:44,545 : INFO : Warming up ELMo on 10 sentences...\n",
      "2020-11-29 12:02:03,084 : INFO : Warming up finished.\n",
      "2020-11-29 12:02:03,103 : INFO : Texts in the current batch: 10\n",
      "2020-11-29 12:02:24,653 : INFO : Auth with login: +79221341105\n",
      "2020-11-29 12:02:24,655 : INFO : Checking remixsid...\n",
      "2020-11-29 12:02:24,826 : INFO : remixsid is valid\n",
      "2020-11-29 12:02:24,827 : INFO : Checking security check request\n"
     ]
    },
    {
     "name": "stdout",
     "output_type": "stream",
     "text": [
      "58\n"
     ]
    },
    {
     "name": "stderr",
     "output_type": "stream",
     "text": [
      "2020-11-29 12:02:25,057 : INFO : Security check is not required\n",
      "2020-11-29 12:02:25,256 : INFO : access_token from config is valid\n",
      "2020-11-29 12:02:25,676 : INFO : Auth with login: +79221341105\n",
      "2020-11-29 12:02:25,680 : INFO : Checking remixsid...\n",
      "2020-11-29 12:02:25,857 : INFO : remixsid is valid\n",
      "2020-11-29 12:02:25,858 : INFO : Checking security check request\n"
     ]
    },
    {
     "name": "stdout",
     "output_type": "stream",
     "text": [
      "59\n"
     ]
    },
    {
     "name": "stderr",
     "output_type": "stream",
     "text": [
      "2020-11-29 12:02:26,113 : INFO : Security check is not required\n",
      "2020-11-29 12:02:26,305 : INFO : access_token from config is valid\n",
      "\n",
      "Loading the model...\n",
      "Processing input...\n"
     ]
    },
    {
     "name": "stdout",
     "output_type": "stream",
     "text": [
      "text \n"
     ]
    },
    {
     "name": "stderr",
     "output_type": "stream",
     "text": [
      "2020-11-29 12:02:39,751 : INFO : Warming up ELMo on 10 sentences...\n",
      "2020-11-29 12:03:50,631 : INFO : Warming up finished.\n",
      "2020-11-29 12:03:50,708 : INFO : Texts in the current batch: 10\n",
      "2020-11-29 12:05:07,623 : INFO : Auth with login: +79221341105\n",
      "2020-11-29 12:05:07,624 : INFO : Checking remixsid...\n",
      "2020-11-29 12:05:07,801 : INFO : remixsid is valid\n",
      "2020-11-29 12:05:07,803 : INFO : Checking security check request\n"
     ]
    },
    {
     "name": "stdout",
     "output_type": "stream",
     "text": [
      "60\n"
     ]
    },
    {
     "name": "stderr",
     "output_type": "stream",
     "text": [
      "2020-11-29 12:05:08,026 : INFO : Security check is not required\n",
      "2020-11-29 12:05:08,420 : INFO : access_token from config is valid\n",
      "2020-11-29 12:05:08,862 : INFO : Auth with login: +79221341105\n",
      "2020-11-29 12:05:08,869 : INFO : Checking remixsid...\n"
     ]
    },
    {
     "name": "stdout",
     "output_type": "stream",
     "text": [
      "61\n"
     ]
    },
    {
     "name": "stderr",
     "output_type": "stream",
     "text": [
      "2020-11-29 12:05:09,084 : INFO : remixsid is valid\n",
      "2020-11-29 12:05:09,084 : INFO : Checking security check request\n",
      "2020-11-29 12:05:09,582 : INFO : Security check is not required\n",
      "2020-11-29 12:05:09,799 : INFO : access_token from config is valid\n",
      "2020-11-29 12:05:10,220 : INFO : Auth with login: +79221341105\n",
      "2020-11-29 12:05:10,224 : INFO : Checking remixsid...\n"
     ]
    },
    {
     "name": "stdout",
     "output_type": "stream",
     "text": [
      "62\n"
     ]
    },
    {
     "name": "stderr",
     "output_type": "stream",
     "text": [
      "2020-11-29 12:05:10,463 : INFO : remixsid is valid\n",
      "2020-11-29 12:05:10,464 : INFO : Checking security check request\n",
      "2020-11-29 12:05:10,700 : INFO : Security check is not required\n",
      "2020-11-29 12:05:11,008 : INFO : access_token from config is valid\n",
      "2020-11-29 12:05:11,435 : INFO : Auth with login: +79221341105\n",
      "2020-11-29 12:05:11,439 : INFO : Checking remixsid...\n"
     ]
    },
    {
     "name": "stdout",
     "output_type": "stream",
     "text": [
      "63\n"
     ]
    },
    {
     "name": "stderr",
     "output_type": "stream",
     "text": [
      "2020-11-29 12:05:11,644 : INFO : remixsid is valid\n",
      "2020-11-29 12:05:11,649 : INFO : Checking security check request\n",
      "2020-11-29 12:05:11,891 : INFO : Security check is not required\n",
      "2020-11-29 12:05:12,099 : INFO : access_token from config is valid\n",
      "\n",
      "Loading the model...\n",
      "Processing input...\n"
     ]
    },
    {
     "name": "stdout",
     "output_type": "stream",
     "text": [
      "text \n"
     ]
    },
    {
     "name": "stderr",
     "output_type": "stream",
     "text": [
      "2020-11-29 12:05:24,731 : INFO : Warming up ELMo on 10 sentences...\n",
      "2020-11-29 12:06:04,155 : INFO : Warming up finished.\n",
      "2020-11-29 12:06:04,167 : INFO : Texts in the current batch: 10\n",
      "2020-11-29 12:06:57,563 : INFO : Auth with login: +79221341105\n",
      "2020-11-29 12:06:57,565 : INFO : Checking remixsid...\n"
     ]
    },
    {
     "name": "stdout",
     "output_type": "stream",
     "text": [
      "64\n"
     ]
    },
    {
     "name": "stderr",
     "output_type": "stream",
     "text": [
      "2020-11-29 12:06:57,768 : INFO : remixsid is valid\n",
      "2020-11-29 12:06:57,770 : INFO : Checking security check request\n",
      "2020-11-29 12:06:58,014 : INFO : Security check is not required\n",
      "2020-11-29 12:06:58,213 : INFO : access_token from config is valid\n",
      "\n",
      "Loading the model...\n",
      "Processing input...\n"
     ]
    },
    {
     "name": "stdout",
     "output_type": "stream",
     "text": [
      "text мой_DET речь_NOUN митинг_NOUN удалять_VERB ютуб_PROPN мой_DET новый_ADJ канал_NOUN волосок_NOUN бан_NOUN они_PRON думать_VERB запрещать_VERB правда_NOUN останавливать_VERB пробуждение_NOUN человек_NOUN в_ADP плохой_ADJ новость_NOUN начинать_VERB и_PART такой_DET миллион_NOUN\n"
     ]
    },
    {
     "name": "stderr",
     "output_type": "stream",
     "text": [
      "2020-11-29 12:07:22,920 : INFO : Warming up ELMo on 10 sentences...\n",
      "2020-11-29 12:09:17,870 : INFO : Warming up finished.\n",
      "2020-11-29 12:09:17,981 : INFO : Texts in the current batch: 10\n",
      "2020-11-29 12:10:55,985 : INFO : Auth with login: +79221341105\n",
      "2020-11-29 12:10:55,987 : INFO : Checking remixsid...\n"
     ]
    },
    {
     "name": "stdout",
     "output_type": "stream",
     "text": [
      "65\n"
     ]
    },
    {
     "name": "stderr",
     "output_type": "stream",
     "text": [
      "2020-11-29 12:10:56,250 : INFO : remixsid is valid\n",
      "2020-11-29 12:10:56,251 : INFO : Checking security check request\n",
      "2020-11-29 12:10:56,494 : INFO : Security check is not required\n",
      "2020-11-29 12:10:56,698 : INFO : access_token from config is valid\n",
      "\n",
      "Loading the model...\n",
      "Processing input...\n"
     ]
    },
    {
     "name": "stdout",
     "output_type": "stream",
     "text": [
      "text нанометр_NOUN дть_NOUN взмжнть_VERB выбивать_VERB ыбивать_VERB чть_NOUN джзф::ёфи_PROPN пктичкть_VERB пилгия_NOUN\n"
     ]
    },
    {
     "name": "stderr",
     "output_type": "stream",
     "text": [
      "2020-11-29 12:11:18,615 : INFO : Warming up ELMo on 10 sentences...\n",
      "2020-11-29 12:12:39,758 : INFO : Warming up finished.\n",
      "2020-11-29 12:12:39,922 : INFO : Texts in the current batch: 10\n"
     ]
    }
   ],
   "source": [
    "good_embeddings = []\n",
    "\n",
    "for idx, user_id in enumerate(group_members):\n",
    "    print(idx)\n",
    "    user_embed = embedding.build_embeddings(user_id, \"+79221341105\", \"QeRas02&R\", model, used_groups_limit, used_posts_num=USED_POSTS_NUM)\n",
    "    good_embeddings.append(user_embed)"
   ]
  },
  {
   "cell_type": "code",
   "execution_count": null,
   "metadata": {},
   "outputs": [],
   "source": [
    "good_embeddings[:2]"
   ]
  },
  {
   "cell_type": "code",
   "execution_count": 9,
   "metadata": {},
   "outputs": [],
   "source": [
    "# with open(\"good_embeddings2.pkl\", \"wb\") as f:\n",
    "#     pickle.dump(good_embeddings, f)"
   ]
  },
  {
   "cell_type": "code",
   "execution_count": null,
   "metadata": {},
   "outputs": [],
   "source": []
  }
 ],
 "metadata": {
  "kernelspec": {
   "display_name": "Python 3",
   "language": "python",
   "name": "python3"
  },
  "language_info": {
   "codemirror_mode": {
    "name": "ipython",
    "version": 3
   },
   "file_extension": ".py",
   "mimetype": "text/x-python",
   "name": "python",
   "nbconvert_exporter": "python",
   "pygments_lexer": "ipython3",
   "version": "3.8.5"
  }
 },
 "nbformat": 4,
 "nbformat_minor": 4
}
