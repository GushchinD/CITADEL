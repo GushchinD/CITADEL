{
 "cells": [
  {
   "cell_type": "code",
   "execution_count": 14,
   "metadata": {},
   "outputs": [],
   "source": [
    "import pickle\n",
    "import pandas as pd\n",
    "import numpy as np\n",
    "\n",
    "from sklearn.metrics import accuracy_score, f1_score\n",
    "from sklearn.model_selection import KFold, StratifiedKFold\n",
    "\n",
    "import lightgbm as lgb"
   ]
  },
  {
   "cell_type": "markdown",
   "metadata": {},
   "source": [
    "### form dataset"
   ]
  },
  {
   "cell_type": "code",
   "execution_count": 2,
   "metadata": {},
   "outputs": [],
   "source": [
    "with open(\"bad_embeddings.pkl\", \"rb\") as f:\n",
    "    bad_embeddings = pickle.load(f)\n",
    "    \n",
    "with open(\"good_embeddings.pkl\", \"rb\") as f:\n",
    "    good_embeddings = pickle.load(f)"
   ]
  },
  {
   "cell_type": "code",
   "execution_count": 3,
   "metadata": {},
   "outputs": [],
   "source": [
    "def drop_nans(embed_list):\n",
    "    return [embedding for embedding in embed_list if embedding is not None]\n",
    "\n",
    "bad_embeddings = drop_nans(bad_embeddings)\n",
    "good_embeddings = drop_nans(good_embeddings)"
   ]
  },
  {
   "cell_type": "code",
   "execution_count": 4,
   "metadata": {},
   "outputs": [],
   "source": [
    "target_colname = \"reliability\""
   ]
  },
  {
   "cell_type": "code",
   "execution_count": 5,
   "metadata": {},
   "outputs": [],
   "source": [
    "good_embeds_df = pd.DataFrame(good_embeddings)\n",
    "good_embeds_df[target_colname] = 1\n",
    "\n",
    "bad_embeds_df = pd.DataFrame(bad_embeddings)\n",
    "bad_embeds_df[target_colname] = 0"
   ]
  },
  {
   "cell_type": "code",
   "execution_count": 6,
   "metadata": {},
   "outputs": [],
   "source": [
    "dataset = pd.concat([good_embeds_df, bad_embeds_df], axis=0)\n",
    "dataset = dataset.sample(frac=1).reset_index(drop=True)"
   ]
  },
  {
   "cell_type": "code",
   "execution_count": 7,
   "metadata": {},
   "outputs": [],
   "source": [
    "train = dataset.iloc[:200]\n",
    "test = dataset.iloc[200:]"
   ]
  },
  {
   "cell_type": "code",
   "execution_count": 9,
   "metadata": {},
   "outputs": [],
   "source": [
    "def split_train_test_x_y(dataset, train_idx, test_idx):\n",
    "    train = dataset.iloc[train_idx]\n",
    "    test = dataset.iloc[test_idx]\n",
    "    train_x = train[train.columns[:-1]]\n",
    "    train_y = train[target_colname]\n",
    "\n",
    "    test_x = test[test.columns[:-1]]\n",
    "    test_y = test[target_colname]\n",
    "    return train_x, test_x, train_y, test_y"
   ]
  },
  {
   "cell_type": "code",
   "execution_count": 15,
   "metadata": {},
   "outputs": [
    {
     "name": "stdout",
     "output_type": "stream",
     "text": [
      "Accuracy: 0.8823529411764706\n",
      "Accuracy: 0.7254901960784313\n",
      "Accuracy: 0.78\n",
      "Accuracy: 0.82\n",
      "Accuracy: 0.72\n",
      "0.7855686274509803\n"
     ]
    }
   ],
   "source": [
    "kfold = StratifiedKFold(5)\n",
    "accs = []\n",
    "\n",
    "target = dataset[target_colname]\n",
    "for train_idx, test_idx in kfold.split(dataset, target):\n",
    "    train_x, test_x, train_y, test_y = split_train_test_x_y(dataset, train_idx, test_idx)\n",
    "    train_data = lgb.Dataset(train_x, label=train_y)\n",
    "    \n",
    "    param = {'objective': 'binary', \"verbosity\": -1}\n",
    "    model = lgb.train(param, train_data)\n",
    "    preds = model.predict(test_x)\n",
    "    \n",
    "    preds[preds < 0.5] = 0\n",
    "    preds[preds >= 0.5] = 1\n",
    "    \n",
    "    acc = accuracy_score(preds, test_y)\n",
    "    print(f\"Accuracy: {acc}\")\n",
    "    accs.append(acc)\n",
    "print(np.mean(accs))"
   ]
  },
  {
   "cell_type": "code",
   "execution_count": 19,
   "metadata": {},
   "outputs": [],
   "source": [
    "all_data_train = lgb.Dataset(dataset[dataset.columns[:-1]], label=target)\n",
    "all_data_model = lgb.train(param, all_data_train)"
   ]
  },
  {
   "cell_type": "code",
   "execution_count": 24,
   "metadata": {},
   "outputs": [
    {
     "data": {
      "text/plain": [
       "<lightgbm.basic.Booster at 0x7f1ab62557c0>"
      ]
     },
     "execution_count": 24,
     "metadata": {},
     "output_type": "execute_result"
    }
   ],
   "source": [
    "# lgb.save(all_data_model, \"nlp_scoring.txt\")\n",
    "all_data_model.save_model(\"nlp_scoring.txt\")"
   ]
  },
  {
   "cell_type": "code",
   "execution_count": 25,
   "metadata": {},
   "outputs": [],
   "source": [
    "bst = lgb.Booster(model_file=\"nlp_scoring.txt\")\n",
    "    "
   ]
  },
  {
   "cell_type": "code",
   "execution_count": 26,
   "metadata": {},
   "outputs": [
    {
     "name": "stderr",
     "output_type": "stream",
     "text": [
      "/home/gldsn/.local/share/virtualenvs/innohack-citadel-YNBG4hQA/lib/python3.8/site-packages/lightgbm/basic.py:597: UserWarning: Converting data to scipy sparse matrix.\n",
      "  warnings.warn('Converting data to scipy sparse matrix.')\n"
     ]
    },
    {
     "data": {
      "text/plain": [
       "array([0.00230341])"
      ]
     },
     "execution_count": 26,
     "metadata": {},
     "output_type": "execute_result"
    }
   ],
   "source": [
    "bst.predict(dataset[dataset.columns[:-1]].iloc[0])"
   ]
  },
  {
   "cell_type": "code",
   "execution_count": null,
   "metadata": {},
   "outputs": [],
   "source": []
  }
 ],
 "metadata": {
  "kernelspec": {
   "display_name": "Python 3",
   "language": "python",
   "name": "python3"
  },
  "language_info": {
   "codemirror_mode": {
    "name": "ipython",
    "version": 3
   },
   "file_extension": ".py",
   "mimetype": "text/x-python",
   "name": "python",
   "nbconvert_exporter": "python",
   "pygments_lexer": "ipython3",
   "version": "3.8.5"
  }
 },
 "nbformat": 4,
 "nbformat_minor": 4
}
